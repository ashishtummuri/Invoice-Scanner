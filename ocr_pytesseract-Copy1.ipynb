{
 "cells": [
  {
   "cell_type": "code",
   "execution_count": 1,
   "id": "93871ab9",
   "metadata": {},
   "outputs": [],
   "source": [
    "import pytesseract\n",
    "\n",
    "pytesseract.pytesseract.tesseract_cmd='C:/Users/Mula Ram/AppData/Local/Programs/Tesseract-OCR/tesseract.exe'"
   ]
  },
  {
   "cell_type": "code",
   "execution_count": 2,
   "id": "85bd19d1",
   "metadata": {},
   "outputs": [],
   "source": [
    "import cv2\n",
    "# Import PyTorch Library\n",
    "import torch\n",
    "from torch import nn\n",
    "\n",
    "# Import external libraries\n",
    "import argparse\n",
    "import numpy as np\n",
    "#import opencv_wrapper as cvw\n",
    "from skimage.filters import threshold_local\n",
    "import json\n",
    "import random\n",
    "from string import ascii_uppercase, digits, punctuation\n",
    "import colorama\n",
    "import regex"
   ]
  },
  {
   "cell_type": "code",
   "execution_count": 3,
   "id": "9acb3da7",
   "metadata": {},
   "outputs": [
    {
     "data": {
      "text/plain": [
       "'ENSTO _sEnsto India Private Limited\\n\\nShipment ID\\n\\n489495\\n\\nInvoice Address\\n\\nS.P.UDYOG\\n\\n411/447, Bijoy Chandra Das Road,\\nSainpala, Basirhat, North 24 Pgs.\\n743411 ~ North 24 Pgs.\\n\\nTax invoice ORIGINAL\\n\\nInvoice Number\\nIN20200099\\n\\nInvoice Date\\n28.08.2020\\nCustomer Number\\n106033\\n\\nDelivery Address\\n$ .P. UDYOG\\n411/447, Bijoy Chandra Das Road,\\nSainpala, Basirhat, North 24 Pgs.\\nMr. U K Palit (9830705033)\\n\\nWest Bengal 743411 - North 24 Pgs.\\nIN - INDIA West Bengal\\n49AUKPP8322N1ZU\\nTerms of Payment Due Date Terms of Delivery Place of Supply\\nAdvance payment 28.8.2020 EXW Incoterms 2010\\nBank Account Ship Via Real Ship Date\\nSCBLINBB OM Logistics Limited 28.8.2020\\n0\\nSCB 52105066210,\\nSCBL0036033\\nWe accept payments from\\nall UPI Apps\\nSales\\nPos. PartNo Sales Oty UOM Unit Price Gross Amount\\nDescription INR\\nOrder Number PO Number Customer Reference\\n1 HOTX3.1710FCL 4PCS° 4,760:0000 6,800.06:\\n41kV, 95Sq.mm., 3CORE, XLPE CABLE\\nHEAT SHRINK OUTDOOR\\nTERMINATION\\nHSN Code: 85469010\\nM100229 003/20-21/ENSTO dated\\n27,08.2020-\\n2 HOTA1.110FCL 4PCS 490.0000 1,960.00\\n41kV, 95Sq.mm., SINGLE CORE, A.B\\nCABLE, HEAT SHRINK OUTDOOR\\nTERMINATION\\nHSNCode: 85469010\\nM100229 003/20-21/ENSTO dated\\n27.08.2020\\nCharge Line No Qty Unit Charge Price Charge % Tax % Charge Net Amount\\nDel No Charge % Basis\\nFreight Charges 1 pes 3,300.00 ee 3,300.00\\nTotal Exclusive Tax INR 12,060.00\\nTotal Tax INR 2,170.80\\ninvoice Amount to Pay 14,230.80\\naddress: GST Range-53, Range Code ~ 200804\\nEnsto India Private Limited Division- WEST-2 NEW\\nPlot No 241-242,Sector-6 Commissionerate: GURUGRAM NEW\\nIMT Manesar. Gurgaon CIN No : U31900D1.2009FTC194309\\n\\nHaryana-122050\\n\\n'"
      ]
     },
     "execution_count": 3,
     "metadata": {},
     "output_type": "execute_result"
    }
   ],
   "source": [
    "img1 = cv2.imread(\"C:/Users/Mula Ram/Downloads/fwdinvoicesample/ensto bill-1 001.jpg.jpg\")\n",
    "text1 = pytesseract.image_to_string(img1)\n",
    "text1"
   ]
  },
  {
   "cell_type": "code",
   "execution_count": 5,
   "id": "e906c1d9",
   "metadata": {},
   "outputs": [
    {
     "name": "stdout",
     "output_type": "stream",
     "text": [
      "ENSTO _sEnsto India Private Limited\n",
      "\n",
      "Shipment ID\n",
      "\n",
      "489495\n",
      "\n",
      "Invoice Address\n",
      "\n",
      "S.P.UDYOG\n",
      "\n",
      "411/447, Bijoy Chandra Das Road,\n",
      "Sainpala, Basirhat, North 24 Pgs.\n",
      "743411 ~ North 24 Pgs.\n",
      "\n",
      "Tax invoice ORIGINAL\n",
      "\n",
      "Invoice Number\n",
      "IN20200099\n",
      "\n",
      "Invoice Date\n",
      "28.08.2020\n",
      "Customer Number\n",
      "106033\n",
      "\n",
      "Delivery Address\n",
      "$ .P. UDYOG\n",
      "411/447, Bijoy Chandra Das Road,\n",
      "Sainpala, Basirhat, North 24 Pgs.\n",
      "Mr. U K Palit (9830705033)\n",
      "\n",
      "West Bengal 743411 - North 24 Pgs.\n",
      "IN - INDIA West Bengal\n",
      "49AUKPP8322N1ZU\n",
      "Terms of Payment Due Date Terms of Delivery Place of Supply\n",
      "Advance payment 28.8.2020 EXW Incoterms 2010\n",
      "Bank Account Ship Via Real Ship Date\n",
      "SCBLINBB OM Logistics Limited 28.8.2020\n",
      "0\n",
      "SCB 52105066210,\n",
      "SCBL0036033\n",
      "We accept payments from\n",
      "all UPI Apps\n",
      "Sales\n",
      "Pos. PartNo Sales Oty UOM Unit Price Gross Amount\n",
      "Description INR\n",
      "Order Number PO Number Customer Reference\n",
      "1 HOTX3.1710FCL 4PCS° 4,760:0000 6,800.06:\n",
      "41kV, 95Sq.mm., 3CORE, XLPE CABLE\n",
      "HEAT SHRINK OUTDOOR\n",
      "TERMINATION\n",
      "HSN Code: 85469010\n",
      "M100229 003/20-21/ENSTO dated\n",
      "27,08.2020-\n",
      "2 HOTA1.110FCL 4PCS 490.0000 1,960.00\n",
      "41kV, 95Sq.mm., SINGLE CORE, A.B\n",
      "CABLE, HEAT SHRINK OUTDOOR\n",
      "TERMINATION\n",
      "HSNCode: 85469010\n",
      "M100229 003/20-21/ENSTO dated\n",
      "27.08.2020\n",
      "Charge Line No Qty Unit Charge Price Charge % Tax % Charge Net Amount\n",
      "Del No Charge % Basis\n",
      "Freight Charges 1 pes 3,300.00 ee 3,300.00\n",
      "Total Exclusive Tax INR 12,060.00\n",
      "Total Tax INR 2,170.80\n",
      "invoice Amount to Pay 14,230.80\n",
      "address: GST Range-53, Range Code ~ 200804\n",
      "Ensto India Private Limited Division- WEST-2 NEW\n",
      "Plot No 241-242,Sector-6 Commissionerate: GURUGRAM NEW\n",
      "IMT Manesar. Gurgaon CIN No : U31900D1.2009FTC194309\n",
      "\n",
      "Haryana-122050\n",
      "\n",
      "\n"
     ]
    }
   ],
   "source": [
    "print(text1)"
   ]
  },
  {
   "cell_type": "code",
   "execution_count": null,
   "id": "3adb2f5b",
   "metadata": {},
   "outputs": [],
   "source": []
  },
  {
   "cell_type": "code",
   "execution_count": null,
   "id": "1f17e82e",
   "metadata": {},
   "outputs": [],
   "source": []
  },
  {
   "cell_type": "code",
   "execution_count": null,
   "id": "2c187e93",
   "metadata": {},
   "outputs": [],
   "source": []
  },
  {
   "cell_type": "code",
   "execution_count": null,
   "id": "2021ec08",
   "metadata": {},
   "outputs": [],
   "source": []
  },
  {
   "cell_type": "code",
   "execution_count": null,
   "id": "4841f7cf",
   "metadata": {},
   "outputs": [],
   "source": []
  },
  {
   "cell_type": "code",
   "execution_count": null,
   "id": "f790ff5f",
   "metadata": {},
   "outputs": [],
   "source": []
  },
  {
   "cell_type": "code",
   "execution_count": null,
   "id": "4ba83ccb",
   "metadata": {},
   "outputs": [],
   "source": []
  },
  {
   "cell_type": "code",
   "execution_count": null,
   "id": "4e850d37",
   "metadata": {},
   "outputs": [],
   "source": []
  },
  {
   "cell_type": "code",
   "execution_count": null,
   "id": "476fca3a",
   "metadata": {},
   "outputs": [],
   "source": []
  },
  {
   "cell_type": "code",
   "execution_count": null,
   "id": "ba330eca",
   "metadata": {},
   "outputs": [],
   "source": []
  },
  {
   "cell_type": "code",
   "execution_count": null,
   "id": "b7f2f45c",
   "metadata": {},
   "outputs": [],
   "source": []
  },
  {
   "cell_type": "code",
   "execution_count": null,
   "id": "44acb12f",
   "metadata": {},
   "outputs": [],
   "source": []
  },
  {
   "cell_type": "code",
   "execution_count": null,
   "id": "a8e716b1",
   "metadata": {},
   "outputs": [],
   "source": []
  },
  {
   "cell_type": "code",
   "execution_count": null,
   "id": "27f551d2",
   "metadata": {},
   "outputs": [],
   "source": []
  },
  {
   "cell_type": "code",
   "execution_count": null,
   "id": "f0c47447",
   "metadata": {},
   "outputs": [],
   "source": []
  },
  {
   "cell_type": "code",
   "execution_count": null,
   "id": "55b9dccb",
   "metadata": {},
   "outputs": [],
   "source": []
  },
  {
   "cell_type": "code",
   "execution_count": null,
   "id": "103c6b21",
   "metadata": {},
   "outputs": [],
   "source": []
  },
  {
   "cell_type": "code",
   "execution_count": null,
   "id": "e4c1e92b",
   "metadata": {},
   "outputs": [],
   "source": []
  },
  {
   "cell_type": "code",
   "execution_count": null,
   "id": "5ccf2c98",
   "metadata": {},
   "outputs": [],
   "source": []
  },
  {
   "cell_type": "code",
   "execution_count": null,
   "id": "bf4304d6",
   "metadata": {},
   "outputs": [],
   "source": []
  },
  {
   "cell_type": "code",
   "execution_count": null,
   "id": "3834bdd8",
   "metadata": {},
   "outputs": [],
   "source": []
  },
  {
   "cell_type": "code",
   "execution_count": null,
   "id": "3e091399",
   "metadata": {},
   "outputs": [],
   "source": []
  },
  {
   "cell_type": "markdown",
   "id": "9994d47e",
   "metadata": {},
   "source": [
    "##### print(text1)"
   ]
  },
  {
   "cell_type": "code",
   "execution_count": null,
   "id": "46079d3b",
   "metadata": {},
   "outputs": [],
   "source": []
  }
 ],
 "metadata": {
  "kernelspec": {
   "display_name": "Python 3 (ipykernel)",
   "language": "python",
   "name": "python3"
  },
  "language_info": {
   "codemirror_mode": {
    "name": "ipython",
    "version": 3
   },
   "file_extension": ".py",
   "mimetype": "text/x-python",
   "name": "python",
   "nbconvert_exporter": "python",
   "pygments_lexer": "ipython3",
   "version": "3.9.10"
  }
 },
 "nbformat": 4,
 "nbformat_minor": 5
}
