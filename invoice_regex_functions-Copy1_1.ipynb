{
 "cells": [
  {
   "cell_type": "code",
   "execution_count": 81,
   "id": "7a3df76d",
   "metadata": {},
   "outputs": [
    {
     "data": {
      "application/javascript": [
       "\n",
       "        if (window._pyforest_update_imports_cell) { window._pyforest_update_imports_cell('import re\\nimport os'); }\n",
       "    "
      ],
      "text/plain": [
       "<IPython.core.display.Javascript object>"
      ]
     },
     "metadata": {},
     "output_type": "display_data"
    }
   ],
   "source": [
    "os.chdir('C:/Users/Mula Ram/Downloads/fwdinvoicesample/invoices')"
   ]
  },
  {
   "cell_type": "code",
   "execution_count": 80,
   "id": "74d7c711",
   "metadata": {},
   "outputs": [],
   "source": [
    "import numpy as np\n",
    "import pandas as pd\n",
    "import string\n",
    "import matplotlib.pyplot as plt \n",
    "import seaborn as sns\n",
    "from io import StringIO\n",
    "\n",
    "from pdfminer.converter import TextConverter\n",
    "from pdfminer.layout import LAParams\n",
    "from pdfminer.pdfdocument import PDFDocument\n",
    "from pdfminer.pdfinterp import PDFResourceManager, PDFPageInterpreter\n",
    "from pdfminer.pdfpage import PDFPage\n",
    "from pdfminer.pdfparser import PDFParser"
   ]
  },
  {
   "cell_type": "code",
   "execution_count": 82,
   "id": "cf3b34dc",
   "metadata": {},
   "outputs": [],
   "source": [
    "import docx2txt\n",
    "import nltk"
   ]
  },
  {
   "cell_type": "code",
   "execution_count": 83,
   "id": "9f68837d",
   "metadata": {},
   "outputs": [],
   "source": [
    "import pytesseract\n",
    "\n",
    "pytesseract.pytesseract.tesseract_cmd='C:/Users/Mula Ram/AppData/Local/Programs/Tesseract-OCR/tesseract.exe'"
   ]
  },
  {
   "cell_type": "code",
   "execution_count": 84,
   "id": "ba541169",
   "metadata": {},
   "outputs": [
    {
     "data": {
      "application/javascript": [
       "\n",
       "        if (window._pyforest_update_imports_cell) { window._pyforest_update_imports_cell('import re\\nimport os'); }\n",
       "    "
      ],
      "text/plain": [
       "<IPython.core.display.Javascript object>"
      ]
     },
     "metadata": {},
     "output_type": "display_data"
    }
   ],
   "source": [
    "lst = os.listdir('C:/Users/Mula Ram/Downloads/fwdinvoicesample/invoices')\n",
    "text_data = []\n",
    "for file in lst:\n",
    "    text = pytesseract.image_to_string(file)\n",
    "    text_data.append(text)"
   ]
  },
  {
   "cell_type": "code",
   "execution_count": 85,
   "id": "c26b6df9",
   "metadata": {},
   "outputs": [
    {
     "data": {
      "text/plain": [
       "28"
      ]
     },
     "execution_count": 85,
     "metadata": {},
     "output_type": "execute_result"
    }
   ],
   "source": [
    "len(text_data)"
   ]
  },
  {
   "cell_type": "code",
   "execution_count": 41,
   "id": "8dffd9cc",
   "metadata": {},
   "outputs": [
    {
     "data": {
      "text/plain": [
       "28"
      ]
     },
     "execution_count": 41,
     "metadata": {},
     "output_type": "execute_result"
    }
   ],
   "source": [
    "len(lst)"
   ]
  },
  {
   "cell_type": "code",
   "execution_count": 86,
   "id": "856e5eab",
   "metadata": {},
   "outputs": [
    {
     "name": "stdout",
     "output_type": "stream",
     "text": [
      ". Email: dineshjaiswal1979@gmail.com\n",
      "Ph.: 2643-4958\n",
      "Mb.: 9836557024 a\n",
      "\n",
      "Te] HIRA\n",
      "\n",
      "a:\n",
      "\n",
      "CUM CHAL\n",
      "All Subject to Howrah Jurisdiction\n",
      "\n",
      "LAL JAISWAL & SONS\n",
      "\n",
      "ORIGINAL FOR RECEIPIENT [|\n",
      "DUPLICATE FOF TRANSPORTER [_]\n",
      "TRIPLICATE FOR SUPPLIER [_]\n",
      "ExTRACoPY [__]\n",
      "\n",
      "Dealers in : Stainless Steel Rod, Scrap, S.S., 304, 310, 316 & 41 0,M.S. Rod,\n",
      "Plates & Sheets, Pipes, Flanges etc. & General Order Suppliers\n",
      "\n",
      "207/29, Belilious Road, Howrah- 711101\n",
      "\n",
      "\\\n",
      "\n",
      "; ; . Transportation Mode :\n",
      "ina No. : HJS/ 23 2020-2) Vehicle No.\n",
      "Invoice Date 29-2020 Date of Supply\n",
      "State: West Bengal State Code 19 E. way Bill No.\n",
      "Details of Receiver/ Billed to : Details of Consignee/Shipped to :\n",
      "Name : _I-L ENGINEERING UNT_ —-—— {Name :——.._ _ a\n",
      "Address : Middle thoxthot ee cement eases Ulises mnie ne\n",
      "Sars lactose: ae ee\n",
      "State : UST BENGIL a Code _/ va — |Statte :-w Code_ _. _\n",
      "ostin : IZAIRPPS3IS L277 GSTIN :\n",
      "Purchase Order No.: Purchase Order Date :\n",
      "SI * HSN AMOUNT\n",
      "No. DESCRIPTION OF GOODS) SERVICE Code Quantity Rate Rs. Pp\n",
      "SS PIAL 7217 | 19 2-3o0| 220f| Y2 306 |ro\n",
      "Value Rs. 42306 |00\n",
      "ADD CGST @ %) 3SIS0F |SY\n",
      "GSTIN No. : 19AISPJ4698P1ZX ADD SGST @4Y % | 290 + |S y\n",
      "VAT No. : 19684998029 se C.S.T. No. : 19684998233 ADDIGST @ %\n",
      "Please pay by A/c. Payee Cheque / NEFT / RTGS Only TOTAL Y 9 G21 lok\n",
      "Rs. (InWords): FOUMS 112 nl thousand ny\\nt OF EE Ro) lax\n",
      "huadwed twenty ong ly. Grand TotalRs. 149 9>/ [og\n",
      "BANK DETAILS: Please sign & return with seal . E&OE\n",
      "NeNo. ‘seenznoosoe2n = Dineh Ta sok\n",
      "eo. ee For HIRALAL JAISWAL & SONS\n",
      "\n",
      "\n",
      "Tax Invoice\n",
      "\n",
      "| M/S UDIT\n",
      "MASHILA (WEST), MASHILA\n",
      "SANKRAIL\n",
      "\n",
      "HOWRAH-711302\n",
      "\n",
      "GSTIN/UIN: 19AHHPB5807A1ZT\n",
      "State Name: West Bengal, Code : 19\n",
      "E-Mail : udit40bh@gmail.com\n",
      "\n",
      "| Invoice No. | Dated\n",
      "02/05/20-21 _ 17-May-2020,\n",
      "Delivery Note | Mode/T: erms of Payment\n",
      "\n",
      "Supplier's Ref.\n",
      "02/05/20-21\n",
      "i:\n",
      "\n",
      "|\n",
      "4\n",
      "\n",
      "Other Reference(s)\n",
      "\n",
      "a\n",
      "Dated\n",
      "\n",
      "Bayer Buyers Order No, aD\n",
      "iL i i it =a\n",
      "| Made ai og 4g Despatch Document No. Delivery Note Date\n",
      "| Howrah\n",
      "| GSTIN/UIN : 19AJRPP8815E1ZM Despatched through Destination\n",
      "| State Name : West Bengal, Code : 19 |\n",
      "| Terms of Delivery\n",
      "|\n",
      "|\n",
      "SI Description of Goods HSN/SAC | Quantity | Rate | per | Amount |\n",
      "No.\n",
      "| ar ma a oi =o ETE ic ease ee\n",
      "1 Steel Round 7222 | 595.00 kg 50.00 kg 29,750.00\n",
      "2 FLAT (7211 | 180.00 kg 60.00, kg) 10,800.00\n",
      "| | | “40,550.00\n",
      "| CGST | 3,649.50\n",
      "SGST| | | 3,649.50\n",
      "| | | |\n",
      "in | | |\n",
      "| | | | |\n",
      "| | | | |\n",
      "| | | | |\n",
      "| | |\n",
      "ke = Total |775.00 kg) ; aE; 47,849.00.\n",
      "| Amount Chargeable (in words) E.&OE\n",
      "Indian Rupees Forty Seven Thousand Eight Hundred Forty Nine Only\n",
      "~ HSNSAC  ——~—~S Taxable | CentralTax | —_StateTax. | ‘Total\n",
      "Value Rate | Amount | Rate Amount _| Tax Amount\n",
      "7222 | 29,750.00) 9% | 2,677.50) 9% | 2,677.50 | 5,355.00\n",
      "7211 | _ 10,800.00 9% 972.00 | 9% 972.00 1,944.00\n",
      "ea ___ Total) 40,550.00 | _3,649.50° | 3,649.50, 7,299.00!\n",
      "\n",
      "‘Tax Amount (in words) : Indian Rupees\n",
      "\n",
      "|\n",
      "\n",
      "|\n",
      "| Declaration\n",
      "| We declare that this invoice shows the actual price of the\n",
      "\n",
      "goods described and that all particulars are true and\n",
      "[correct.\n",
      "\n",
      "Seven Thousand Two Hundred Ninety Nine Only\n",
      "\n",
      "This is a Computer Generated Invoice\n",
      "\n",
      "\n",
      "~\n",
      "\n",
      "TAX INVOICE CUM CHALLAN :\n",
      "— Phone No : 26438439\n",
      "\n",
      "Gram : \"STEELSTOCK\" - Original Buyer's Copy\n",
      "\n",
      "Shop : 158 /12, Belilious Road, Howrah-1\n",
      "Office : 4, Sahitya Parisad Street, Kolkata - 6\n",
      "E-mail : ispalghar2015@gmail.com\n",
      "\n",
      "Buyer's Name / = * 4\n",
      "\n",
      "Address : Z/1G0 2\n",
      "Bu r's GSTIN No. PAIR PP F§/S EI/ZM\n",
      "\n",
      "Yours Order No. Date _\n",
      "\n",
      "Despatched from to State code\n",
      "\n",
      "CREDIT FACILITY WILL BE WITHDRAWN IF BILLIS NOT PAID WITHIN DUE DATE.\n",
      "\n",
      "Quanti Weight VALUE\n",
      "ty DESCRIPTION H.S.N. Cod _Kg. Gms Rate Rs. p\n",
      "\n",
      "Naf Fl 79/4 9 voPO4 7 py) 8000\n",
      "\n",
      "Total YY) 80\\f0\n",
      "pilly aos ce sere T 9476/96\n",
      "Rupees in Words : Aiud sa ScsT@ 9] 3976|\\9\n",
      "nly sy iii IGST @ J.\n",
      "Total GST 799 \\AO\n",
      "Round Of —— | _ AO\n",
      "Pia etace Meresece MSDN cross vane [59/32/60\n",
      "An intimation pertaining to stortage & defects will have Received by : E48. 0. E.\n",
      "to send within 30 days on receipt of materials and there KX,\n",
      "after no approach of the sorts will be entertained.\n",
      "\n",
      "All matters are subject to Kolkata Jurisdiction. For ISPAT GHAR\n",
      "\n",
      ": R.K.TRADERS Invoice No. Dated\n",
      "NAYABAZ, G.U.P.COLONY,HOWRAH |04/05/20-21 18-May-2020\n",
      "| GST IN-19AOIPK1917Q1ZC Delivery Note Mode/Terms of Payment\n",
      "| Supplier's Ref. Other Reference(s)\n",
      "| 04/05/20-21 5\n",
      "| Consignes Buyer's Order No. Dated\n",
      "| L ENGINEERING UNIT = = 5\n",
      "JHOREHAT HOWRAH-711302 eee ae\n",
      "GSTIN - 19AJRPP8815E1ZM hh ce [ ; __|\n",
      "Despatched through | Destination\n",
      "— $$$ $$ Shel —$_——___ —E\n",
      "' Terms of Delivery\n",
      "| |\n",
      "| |\n",
      "| | |\n",
      "Description of Goods | Quantity Rate per Amount\n",
      "———— —— —\n",
      "| FLAT 410.00 KG 60.00; KG 24,600.00\n",
      "| HSN CODE - 7222 :\n",
      "‘Steel Round 330.00KG 50.00 KS «(46,500.00\n",
      "| HSN CODE - 7211\n",
      ",; 41,100.00\n",
      "OUTPUT CGST @ 9% 9\\% 3,699.00,\n",
      "OUTPUT SGST @ 9% 9\\% 3,699.00\n",
      "|\n",
      "| } | |\n",
      "| | |\n",
      " — °°» ° Total!740.00KG) | iF 48,498.00\n",
      "Amount Chargeable (in words) E&O€\n",
      "\n",
      "Rs. Forty Eight Thousand Four Hundred Ninety Eight Only\n",
      "\n",
      "—_\n",
      "\n",
      "| Declaration\n",
      "\n",
      "| We declare that this invoice shows the actual price of the goods\n",
      "\n",
      "described and that all particulars are true and correct.\n",
      "\n",
      "ea\n",
      "\n",
      "- SUBJECT TO HOWRAH JURISDICTION\n",
      "\n",
      "This is a Computer Generated Invoice\n",
      "\n",
      "\n",
      "ORIGINAL COPY TAX INVOICE\n",
      "CASH / CREDIT MEMO\n",
      "No. J} LY\n",
      "\n",
      "Mobile : 6290365442 / 8609250847\n",
      "\n",
      "Date ©, ] 22. 202.0\n",
      "\n",
      "M/S. SHIB SHAKTI ENGG. WORKS\n",
      "\n",
      "NYLON, PP HDPE, PVC, TEFLON, BACKLIGHT RODS AND SHEET / PLATE Available here\n",
      "Amta - Howrah Road, Shanpur Howrah 711105\n",
      "\n",
      "Buyer's GSTIN oud. Debs eb oP BBW SBD Pe I csrsstssttsitiinsintesenesen\n",
      "State's .....:.. des Finnkbrtrobptade. Peseemirinasiassavasakarseaksbecsecionasessexiots Code No. : ........ = siiespuccbacesedeatesuaneteboies\n",
      "\n",
      "Tax is Payable on Reserve Basis (Yes / No) :\n",
      "\n",
      "-| Si DESCRIPTION OF GOODS HSN | anty, “a Sciail RT\n",
      "M-™.\n",
      "\n",
      "er EN dd yee eae =|NET AMOUNT ¢\n",
      "\n",
      "Rupees in words ...... ¥ ae slhoaya ub Total < 2 VAD\" [0\n",
      "ate a Cf. d Jemttad sete O) % 252%\n",
      "LICGST@ Y % 252/79\n",
      "IGST@ = %\n",
      "Round Off\n",
      "BIOHia\n",
      "\n",
      "1. We are not responsible for any Breakage / Damage / Shortage / Leakage in transit\n",
      "2. Our responsibility ceases when the goods are delivered to the carrier\n",
      "\n",
      "3. Goods once sold will not be accepted back\n",
      "\n",
      "4. Subject to Howrah Jurisdiction\n",
      "\n",
      "Received by\n",
      "\n",
      "E.& 0.E.\n",
      "\n",
      "For M/S. SHIB SHAKTI ENGG. WORKS\n",
      "\n",
      "Rall Me).\n",
      "\n",
      "Authorised Signatory\n",
      "\n",
      "\n",
      "INVOICE\n",
      "\n",
      "‘SHREE BALAJI TRADERS Invoice No. Dated |\n",
      "| DHAMISA DAS PARA, PANCHLA 03/05/20-21 20-May-2020 |\n",
      "HOWRAH-711322 Delivery Note Mode/Terms of Payment |\n",
      "GSTIN - 19HEZPS5827H1ZB |\n",
      "| Supplier's Ref. | Other Reference(s) |\n",
      "03/05/20-21 | |\n",
      "\"Buyer Buyer's Order No. Dated\n",
      "LL Engineering Unit a\n",
      "D itch D it No. Dated\n",
      "‘Madhya Jhorehat ila —\n",
      "Sankrail, Howrah | =\n",
      "Despatched through Destination\n",
      "Terms of Delivery + com OF\n",
      "| |\n",
      "| |\n",
      "| |\n",
      "Sl | Description of Goods Quantity | Rate per Amount |\n",
      "fae nie - ia ne\n",
      "1 “ALLOY STEEL ROUND 620 ko 51.00| Kg _ 31,620.00\n",
      "| HSN CODE - 7228\n",
      "| | |\n",
      "OUTPUT CGST@9% | 91% 2,845.80\n",
      "OUTPUT SGST @ 9% 9'% 2,845.80\n",
      "ROUNDED OFF | 0.40.\n",
      "|\n",
      "da |\n",
      "| | | | |\n",
      "|\n",
      "|\n",
      "|\n",
      "| |\n",
      "| | | |\n",
      "| |\n",
      "a Total 620 Kg |) 37,312.00\n",
      "\n",
      "“Amount Chargeable (in words)\n",
      "\n",
      "| R\n",
      "|\n",
      "|\n",
      "|\n",
      "|\n",
      "|\n",
      "\n",
      "S. Thirty Seven Thousand Three Hundred Twelve Only\n",
      "\n",
      "Buyer's Local Sales Tax No. : 19AJRPP8815E1ZM\n",
      "Declaration\n",
      "We declare that this invoice shows the actual price of the\n",
      "| goods described and that all particulars are true and\n",
      "correct.\n",
      "\n",
      "|\n",
      "—= 1 ———\n",
      "\n",
      "This is a Computer Generated Invoice\n",
      "\n",
      "E. & a)\n",
      "\n",
      "|\n",
      "\n",
      "\n",
      "TAX INVOICE CUM CHALLAN\n",
      "Gram : \"STEELSTOCK”\n",
      "\n",
      "Phone No : 26438439\n",
      "Original Buyer's Copy\n",
      "\n",
      "et\n",
      "\n",
      "ISPA | : GH AR. SSTIN: t9acopcsss7P1zs\n",
      "\n",
      "pete 1)\n",
      "HOUSE OF TOOHAIALEON, STEEL Bill No. (2 L359\n",
      "\n",
      "Date [ke * Q- hMefp\n",
      "\n",
      "Shop : 158 /12, Belilious Road, Howrah-1\n",
      "Office : 4, Sahitya Parisad Street, Kolkata - 6\n",
      "E-mail : ispalghar2015@gmail.com\n",
      "\n",
      "Buyer's Name [ fhe i Ll i Zs\n",
      "Address AM dal . ts nah JM y2 |\n",
      "\n",
      "Bu “s GSTIN No. App &Els £/ZM\n",
      "\n",
      "Yours Order No. Date\n",
      "\n",
      "Despatched from to State code\n",
      "\n",
      "CREDIT FACILITY WILL BE WITHDRAWN IF BILL IS NOT PAID WITHIN DUE DATE.\n",
      "\n",
      "Quanti Weight VALUE\n",
      "uantity DESCRIPTION H.S.N. Cod _Kg. Gms Rate Rs. Pp\n",
      "\n",
      "7\n",
      "\n",
      "uf Fle!| 7k pop obe]| 45000}\n",
      "\n",
      "4\n",
      "\n",
      "Total 4 5000\n",
      "\n",
      "Rupees in Words : ply {preg hoy my cesT@ Oy) HO50\n",
      "\n",
      "oD\n",
      "\n",
      "Ob\n",
      "\n",
      "SGST@9Y,, LOSOC\n",
      "40\n",
      "oO\n",
      "\n",
      "a hadnt. rr\n",
      "\n",
      "Total GST 8/00\n",
      "NE sag — a Round Off\n",
      "to send within 30 days on receipt of materials and there a E.\n",
      "\n",
      "after no approach of the sorts will be entertained.\n",
      "All matters are subject to Kolkata Jurisdiction. For ISPAT GHAR\n",
      "\n",
      "Tax Invoice\n",
      "\n",
      "K.V.P Engineering Company ‘Invoice No. Dated\n",
      "‘Alampur Central Market, (06/05/20-21, = _—_ 21-May-2020 2.9\n",
      "(Near C.T.C Bus Stand Alampur), Delivery Note |Mode/Terms of Payment\n",
      "_ Newkolorah, Howrah. - |\n",
      "GSTIN/UIN: 19BHUPS2145C1Z1 Supplier's Ref. = 7 Other Reference(s) —~ -\n",
      "State Name : West Bengal, Code : 19 06/05/20-21 ee 5 =. Le\n",
      "Buyer ae LS uyens Order: No; | Dated\n",
      "i E\n",
      "ear le ee AIL Despatch Document No. Delivery Note Date\n",
      "‘HOWRAH. .\n",
      "GSTIN/UIN : 19AJRPP8815E1ZM Despatched through | Desteraton\n",
      "State Name : West Bengal, Code : 19 “ui = 7 _\n",
      "| Terms of Delivery Piel |\n",
      "|\n",
      "|\n",
      "SI! Description of Goods | HSN/SAC | Quantity Rate | per) Amount\n",
      "No. _ =. A, Sala) ee\n",
      "1 Steel Round 7222 420.000kg - 50.00 kg 21,000.00,\n",
      "2 ALLOY STEEL ROUND 7228 250.000 kg 51.00 kg) 12,750.00\n",
      "| 33,750.00\n",
      "| CGST } | 3,037.50\n",
      "| nee | 3,037.50)\n",
      "| | |\n",
      "|\n",
      "|\n",
      "| | |\n",
      "|\n",
      "| | | |\n",
      "| | | | |\n",
      "ad eee — | = =e a — i\n",
      "PP Teta [670.0009] 839,825.00]\n",
      "Amount Chargeable (in words) E.&O0.E\n",
      "INR Thirty Nine Thousand Eight Hundred Twenty Five Only ,\n",
      "_ HSN/ISAC | Taxable [  CentralTax | ‘StateTax | Total —\n",
      "| Value Rate | Amount | -Rate | Amount. | TaxAmount\n",
      "7222 ' 21,000.00) 9% 1,890.00) 9% 1,890.00 | 3,780.00 |\n",
      "7228 |__ 12,750.00} 9% 1,147.50) 9% | 1,147.50 2,295.00\n",
      "_ - Total) 33,750.00] | 3,037.50, | —3,037.50/ 6,075.00\n",
      "\n",
      "Tax Amount (in words) : INR Six Thousand Seventy Five Only\n",
      "\n",
      "Declaration\n",
      "We declare that this invoice shows the actual price of the\n",
      "goods described and that all particulars are true and\n",
      "| correct.\n",
      "\n",
      "This is a Computer Generated Invoice\n",
      "\n",
      "\n",
      "Tax Invoice\n",
      "\n",
      "| SAIBAL ENTERPRISE\n",
      "/PAKURTALA, DULIYA, HOWRAH.\n",
      "'GSTIN/UIN: 19AENPR2306B1ZN\n",
      "\n",
      "| State Name: West Bengal, Code : 19\n",
      "\n",
      "Buyer 4 -_\n",
      "I.L ENGINEERING UNIT\n",
      "\n",
      "MADHYA JHOREHAT, SANKRAIL,\n",
      "HOWRAH.\n",
      "\n",
      "GSTIN/UIN : 19AJRPP8815E1ZM\n",
      "State Name : West Bengal, Code : 19\n",
      "\n",
      "|\n",
      "\n",
      "Invoice No. Dated\n",
      "\n",
      "07/05/20-21 20-May-2020\n",
      "\n",
      "Delivery Note Mode/Terms of Payment\n",
      "\n",
      "Supplier's Ref. Other Reference(s)\n",
      "\n",
      "07/05/20-21 : ey\n",
      "| Buyer's Order No. Dated\n",
      "\n",
      "‘Despatch Document No. ‘Delivery Note Date\n",
      "\n",
      "‘Despatched through —_ Destination’\n",
      "|\n",
      "|\n",
      "\n",
      "‘Terms of Delivery\n",
      "\n",
      "7\n",
      "\n",
      "Description of Goods “HSN/SAC Quantity | Rate per Amount\n",
      "'1 | Steel Round 7222 245,000KG| 50.00 KG —_ 12,250.00!\n",
      "2 | STEEL FLAT 7211 280.000 KG 60.00} KG! 16,800.00\n",
      "| | 29,050.00,\n",
      "CGST | . | 2,614.50,\n",
      "SGST 2,614.50\n",
      "|\n",
      "=\n",
      "| |\n",
      "|\n",
      "4 | Oe\n",
      "Total | 525.000 KG __| |, & 34,279.00\n",
      "Amount Chargeable (in words) E.&O0.E\n",
      "INR Thirty Four Thousand Two Hundred Seventy Nine Only\n",
      "HSN/SAC | Taxable Central Tax ___StateTax | ‘Total ~—\n",
      "Value Rate | Amount | Rate | Amount | Tax Amount\n",
      "7222 12,250.00 9% 1,102.50 9% 1,102.50 | 2,205.00\n",
      "7211 16,800.00 9% 1,512.00 9% 1,512.00) 3,024.00\n",
      "—- eg __ Total! 29,050.00 _ 2,614.50 | _—2,614.50' 5,229.00\n",
      "\n",
      "|\n",
      "\n",
      "| Declaration\n",
      "We declare that this invoice shows the actual price of the\n",
      "goods described and that all particulars are true and |\n",
      "correct.\n",
      "\n",
      "Tax Amount (in words) : INR Five Thousand Two Hundred Twenty Nine Only ~ me a |\n",
      "\n",
      ">———__—-\n",
      "\n",
      "This is a Computer Generated Invoice\n",
      "\n",
      "\n",
      "ENSTO _sEnsto India Private Limited\n",
      "\n",
      "Shipment ID\n",
      "\n",
      "489495\n",
      "\n",
      "Invoice Address\n",
      "\n",
      "S.P.UDYOG\n",
      "\n",
      "411/447, Bijoy Chandra Das Road,\n",
      "Sainpala, Basirhat, North 24 Pgs.\n",
      "743411 ~ North 24 Pgs.\n",
      "\n",
      "Tax invoice ORIGINAL\n",
      "\n",
      "Invoice Number\n",
      "IN20200099\n",
      "\n",
      "Invoice Date\n",
      "\n",
      "28.08.2020\n",
      "Customer Number\n",
      "106033\n",
      "\n",
      "Delivery Address\n",
      "$ .P. UDYOG\n",
      "411/447, Bijoy Chandra Das Road,\n",
      "Sainpala, Basirhat, North 24 Pgs.\n",
      "Mr. U K Palit (9830705033)\n",
      "\n",
      "West Bengal 743411 - North 24 Pgs.\n",
      "IN - INDIA West Bengal\n",
      "49AUKPP8322N1ZU\n",
      "Terms of Payment Due Date Terms of Delivery Place of Supply\n",
      "Advance payment 28.8.2020 EXW Incoterms 2010\n",
      "Bank Account Ship Via Real Ship Date\n",
      "SCBLINBB OM Logistics Limited 28.8.2020\n",
      "0\n",
      "SCB 52105066210,\n",
      "SCBL0036033\n",
      "We accept payments from\n",
      "all UPI Apps\n",
      "Sales\n",
      "Pos. PartNo Sales Oty UOM Unit Price Gross Amount\n",
      "Description INR\n",
      "Order Number PO Number Customer Reference\n",
      "1 HOTX3.1710FCL 4PCS° 4,760:0000 6,800.06:\n",
      "41kV, 95Sq.mm., 3CORE, XLPE CABLE\n",
      "HEAT SHRINK OUTDOOR\n",
      "TERMINATION\n",
      "HSN Code: 85469010\n",
      "M100229 003/20-21/ENSTO dated\n",
      "27,08.2020-\n",
      "2 HOTA1.110FCL 4PCS 490.0000 1,960.00\n",
      "41kV, 95Sq.mm., SINGLE CORE, A.B\n",
      "CABLE, HEAT SHRINK OUTDOOR\n",
      "TERMINATION\n",
      "HSNCode: 85469010\n",
      "M100229 003/20-21/ENSTO dated\n",
      "27.08.2020\n",
      "Charge Line No Qty Unit Charge Price Charge % Tax % Charge Net Amount\n",
      "Del No Charge % Basis\n",
      "Freight Charges 1 pes 3,300.00 3,300.00\n",
      "Total Exclusive Tax INR 12,060.00\n",
      "Total Tax INR 2,170.80\n",
      "invoice Amount to Pay 14,230.80\n",
      "Company address: GST Range-53, Range Code - 200804\n",
      "Ensto India Private Limited Division- WEST-2 NEW\n",
      "Plot No 241-242,Sector-6 Commissionerate: GURUGRAM NEW\n",
      "IMT Manesar. Gurgaon CIN No : U31900D1.2009FTC194309\n",
      "\n",
      "Haryana-122050\n",
      "\n",
      "\n",
      "GST INVOICE\n",
      "\n",
      "Original for B\n",
      "\n",
      "uyer\n",
      "\n",
      "Al.\n",
      "\n",
      "u\n",
      "\n",
      "—\n",
      "\n",
      "BAIJNATH & SONS\n",
      "\n",
      "HOUSE OF ALLOY STEEL\n",
      "\n",
      "22, STRAND ROAD, KOLKATA -\n",
      "e-mail : baijnath.kolkata@gmail.com\n",
      "GSTIN : 19AADFB7015R2Z0, PAN No. : AADFB7015R\n",
      "\n",
      "1, Ph. : 2230-2777, 2243-4349\n",
      "\n",
      "Goods once sold cannot be refunded without our approval. Our responsibility ceases\n",
      "once goods leave our godown. Please pay by RTGS, NEFT or A/c Payee Cheque only.\n",
      "\n",
      "Invoice No. > ' 4 | Transport Mode: JA4_ “Tayi .\n",
      "Invoice Date : (0) Ly ’ Ov roo) oD Vehicle Number : oS 1:\n",
      "Order No. : Verbe) a Date of Supply :\n",
      "Order Date : vas) Place of Supply :\n",
      "Buyer's Details : Shipping Details (Place of Supply)\n",
      "Ms. TL. Emagimeesing Unmet | Ms:\n",
      "| Waddle hes Rar,” a yD aes\n",
      "Howscah ~— FiUlBO7.\n",
      "GSTIN: |FATRPP SSISE[ZM GSTIN :\n",
      "Product Description Lies Quantity Rate ip P.\n",
      "Alloy Steot Bove 7228 |669-924 1254 | S2t4oloa\n",
      "ai rae a re A ari r: 4 ;\n",
      "tote) ae EL\n",
      "ri\n",
      "|\n",
      "|\n",
      "Rupees. ” a Ep oUsanad Fjath t+ Delivery/Cutting Charge {\n",
      "orks Ou 4__- ig Taxable Total BS Holos\n",
      "ee ee Be oes\n",
      "Branch : Kolkata Branch 0084 Branch : N.S. Road ie SEU FS 36166\n",
      "cee | eee | ne ows\n",
      "Rounded Off +/- -O12An\n",
      "ALL SUBJECT TO KOLKATA JURISDICTION Grand Total O88isilos\n",
      "Terms & Conditions : For BAI TH SONS\n",
      "\n",
      "1 JaQyw\n",
      "\n",
      "Authorised Signatory\n",
      "\n",
      "1\n",
      "\n",
      "\n",
      "GST INVOICE Original for Buyer\n",
      "\n",
      "BAIJNATH & SONS\n",
      "\n",
      "43 HOUSE OF ALLOY STEEL\n",
      "22, STRAND ROAD, KOLKATA - 1, Ph. : 2230-2777, 2243-4349\n",
      "e-mail : baijnath.kolkata@gmail.com\n",
      "GSTIN : 19AADFB7015R2Z0, PAN No. : AADFB7015R\n",
      "\n",
      "Invoice No. = a 42, g Transport Mode: FB ~T AXCT\n",
      "Invoice Date: QC. OF- 2020 Vehicle Number: (Wy 19D@© BOC\n",
      "Order No. : Verbal] » Date of Supply :\n",
      "Order Date : >. Place of Supply :\n",
      "Buyer’s Details : Shipping Details (Place of Supply)\n",
      "Ws.T, Lb. Emqimeesting Unat |\n",
      "| Middle sthoschat, Aneel pam\n",
      "\n",
      "How sah — TIlB02.\n",
      "\n",
      "cstn: OAT RPP QSSI5E 1Z™_ |sstIN:\n",
      "\n",
      "Product Description ae Quantity Rate ‘ Amores \"\n",
      "Alloy Steck Booz T228|7F9 HM 1504 | 116 8SI00\n",
      "(Gj oo P E ca\n",
      "Feeed by Ate Peyeel\n",
      "C he gud ND —\n",
      "Rupees yi +h pu 9anst Qayer,, | Delivery/Cutting Charge\n",
      "hu Jigety fig oe are ' Taxable Total I1G 8500\n",
      "Lv) Vv\n",
      "Bank Details : Bank Details : Add : CGST @ 9% lOStriés\n",
      "Bank Name : UNITED BANK OF INDIA | Bank Name : STATE BANK OF INDIA\\ : =\n",
      "Branch : Kolkata Branch 0084 Branch : N.S. Road Aud SCoUGies LOST 165\n",
      "Alc. No. : 0084050003621 Alc. No. : 11107795325 Add : |IGST @ 18%\n",
      "IFSC : UTBIOCAL107 IFSC : SBINO000144\n",
      "Rounded Off +/- -0130\n",
      "\n",
      "ALL SUBJECT TO KOLKATA JURISDICTION Grand Total 13788100\n",
      "\n",
      "Terms & Conditions : For BAIN ATH & SONS\n",
      "Goods once sold cannot be refunded without our approval. Our responsibilty csases ’ ow\n",
      "‘once goods leave our godown. Please pay by RTGS, NEFT or A/c Payee Cheque only.\n",
      "\n",
      "Authorised Signatory\n",
      "\n",
      "\n",
      "ORIGINAL/DUPLICATE/LORRYLICATE SELLER'S COPY\n",
      "\n",
      "Tax Invoice\n",
      "\n",
      "FROM GST Inv - 7 ( Under Section 31 of CGST Act 2017 Read with Rule 7 of Invoice Ruals )\n",
      "\n",
      "M/S DIMOND ENGINEERING WORKS\n",
      "\n",
      "ADDRESS - MANICKPUR,DELTA MILL,SANKRAIL, HOWRAH - 711313\n",
      "\n",
      "GST IN- 19AQOPN1034F1ZU ~\n",
      "\n",
      "INVOICE NO:- 01/07/20-21 PRODUCT NAME :-\n",
      "DATE OF ISSUE:- 06-07-2020 AGAINST W/O NO:-\n",
      "ORDER NO :- DATE OF SUPPLY:-\n",
      "ORDER DATE-- PLACE OF SUPPLY:-\n",
      "STATE: WEST BENGAL [CODE _* 19 :\n",
      "\n",
      "BILL TO PARTY SHIP TO PARTY\n",
      "| L ENGINEERING UNIT 1 L ENGINEERING UNIT\n",
      "\n",
      "MIDDLE JHORTHAT,JHOREHAT\n",
      "SANKRAIL,HOWRAH - 711302\n",
      "\n",
      "MIDDLE JHORTHAT,JHOREHAT\n",
      "\n",
      "_ |SANKRAIL,HOWRAH - 711302\n",
      "\n",
      "GST NO - 19AJRPP8815E1ZM GSTNO- 19AJRPP8815E1ZM\n",
      "STATE: | WESTBENGAL | CODE- [19 |STATE- | WESTBENGAL ]CODE> [70\n",
      "SLNO DESCRIPTION OF GOODS [HSN CODE] aTy UNITS | RATE AMOUNT\n",
      "1 |BLOCK,PINCHING,PUMP,GLS 7215 29 PCS 560.00 16,240.00\n",
      "2 |SHFT FOR NOZZLE 7215 4 PCS | 2,475.00 9,900.00\n",
      "3. |HAMMER,L/R,COIL,CLAMP,GLS | 7215 16 | pcs 720.00 11,520.00\n",
      "4 |JAW,E/TUBE,RH,PALI -2000,VTL} 7245 15 PCS 237.33 3,560.00\n",
      "TOTAL 41220.00\n",
      "FREIGHT & DELIVERY CHARGE\n",
      "TOTAL AMOUNT BEFORE TAX 41220.00\n",
      "ADD:- CGST @ 9% 3709.80\n",
      "ADD:- SGST @ 9% 3709.80\n",
      "ADD:- IGST @ 18%\n",
      "TOTAL TAX AMOUNT 7419.60\n",
      "ROUND OFF:- 0.40\n",
      "TOTAL INVOICE AMOUNT INWARD TOTAL AMOUNT AFTER TAX 48640.00\n",
      "FORTY EIGHT THOUSAND SIX HUNDRED FORTY ONLY OE\n",
      "M/S DIMOND ENGINEERING WORKS\n",
      "\n",
      "TERMS OF PAYMENT\n",
      "\n",
      "RTGS/NEFT/CHEQUE\n",
      "\n",
      "d Signatory\n",
      "\n",
      "\n",
      "TAX INVOICE CUM CHALLAN\n",
      "Gram : \"STEELSTOCK\"\n",
      "\n",
      "Phone No : 26438439\n",
      "Original Buyer's Copy\n",
      "\n",
      "ISPAT: |GH AR. stn: teacorcsss7eizs\n",
      "\n",
      "HOUSE OFgools STALEY, STEEL Bill No._J5F\n",
      "Shop : 158 /12, Belilious Road, Howrah-1 Date G7 20 _\n",
      "\n",
      "Office : 4, Sahitya Parisad Street, Kolkata - 6\n",
      "E-mail : ispalghar2015@gmail.com\n",
      "\n",
      "1\n",
      "Buyer's Name ia Eco mece nnd (7) \\—\n",
      "\n",
      "Address Midd le Shomehak yousah “TFH30Z\n",
      "Bu, z's GSTINN. IPADRPPSSISE IZM\n",
      "\n",
      "Yours Order No. Date\n",
      "Despatched from to State code\n",
      "CREDIT FACILITY WILL BE WITHDRAWN IF BILL IS NOT PAID WITHIN DUE DATE.\n",
      "tit Weight , VALUE\n",
      "Quantity DESCRIPTION H.S.N. Cod Kg. Gms Rate Rs. Pp.\n",
      "\n",
      "Sfee/ feund | 72/4 [ocony, hop Lo sree\n",
      "\n",
      "Total Ly 0, PEe|OP\n",
      "| cesT@q/.| 3g70\\02\n",
      "Rupees in Words : Foy Seven thausomd SGST @ o/ BEOO|—OD\n",
      "th? Yb undsed on ia | IGST @\n",
      "| __ Total GST \"7.220 |OD\n",
      "Round Off\n",
      "AN INTEREST @ 12% PER ANNUM WILL BE CHARGED\n",
      "IF THE PAYMENT NOT EFFECTED WITHIN 30 DAYS. |___ Gross Value hL20e jee\n",
      "An intimation pertaining to stortage & defects will have Received by : E. &@. E.\n",
      "to send within 30 days on receipt of materials and there ie >\n",
      "after no approach of the sorts will be entertained.\n",
      "All matters are subject to Kolkata Jurisdiction. For Gh\n",
      "\n",
      "TAX INVOICE CUM CHALLAN\n",
      "Gram : \"STEELSTOCK\"\n",
      "\n",
      "Phone No : 26438439\n",
      "Original Buyer's Copy\n",
      "\n",
      "4 i‘ GH AR GSTIN : 19ACOPC5657P1ZS\n",
      "\n",
      "HOUSE_OF uefont BYAREOY, STEEL BillNo._ (42,\n",
      "2 -I0\n",
      "Shop : 158 /12, Belilious Road, Howrah-1 Date 9- 7-27\n",
      "\n",
      "Office : 4, Sahitya Parisad Street, Kolkata - 6\n",
      "E-mail : ispalghar2015@gmail.com\n",
      "\n",
      "— ¢\n",
      "Buyer's Name ae _£& A erin ‘\n",
      "\n",
      "Address Middle “Shorvehals Howmph— TH 302 _\n",
      "Bs GSTINNo.__ IGA YRPPSSISE IZM _\n",
      "\n",
      "Yours Order No. Date\n",
      "Despatched from to State code\n",
      "CREDIT FACILITY WILL BE WITHDRAWN IF BILL IS NOT PAID WITHIN DUE DATE.\n",
      "Quantity DESCRIPTION H.S.N. Cod Pood Rate ae” ”\n",
      "\n",
      "Shee taf T2A2g 700K} SOF a rer|er\n",
      "\n",
      "Total 4 QYTO |s2\n",
      "cesT @9/, 37970 |bD\n",
      "Rupees in Words : Fe ¥ a a five SGST @9/. 3799 |e\n",
      "An oo] | IGST @\n",
      "Total GST T5560 \\C&\n",
      "Round Off\n",
      "\n",
      "AN INTEREST @ 12% PER ANNUM WILL BE CHARGED\n",
      "IF THE PAYMENT NOT EFFECTED WITHIN 30 DAYS. |__ Gross Value 47560 |0e\n",
      "\n",
      "An intimation pertaining to stortage & defects will have Received by : E. 0. E.\n",
      "F ‘A\n",
      "\n",
      "to send within 30 days on receipt of materials and there\n",
      "after no approach of the sorts will be entertained.\n",
      "All matters are subject to Kolkata Jurisdiction.\n",
      "\n",
      "a\n",
      "\n",
      "iT GHAR\n",
      "\n",
      "Email: dineshjaiswal1979@gmail.com\n",
      "Ph.: 2643-4958\n",
      "TAX\n",
      "\n",
      "Mb.: 9836557024\n",
      "All Subject to Howrah J\n",
      "\n",
      "wy\n",
      "\n",
      "Dealers in ; Stainless Steel Rod, Scrap, S.S.\n",
      "\n",
      "INVOICE CUM CHALLA\n",
      "\n",
      "ORIGINAL FOR RECEIPIENT [“ ]\n",
      "DUPLICATE FOF TRANSPORTER [__]\n",
      "TRIPLICATE FOR SUPPLIER [_]\n",
      "extra copy [_]\n",
      "\n",
      "N\n",
      "\n",
      "urisdiction\n",
      "\n",
      "HIRG@LAL JAISWAL & SONS\n",
      "\n",
      ", 304, 310, 316 & 410,M.S. Rod,\n",
      "\n",
      "Plates & Sheets, Pipes, Flanges etc. & General Order Suppliers\n",
      "\n",
      "207/29, Belilious Road, Howrah- 711101\n",
      "\n",
      "Invoice No. : HJS/ 12/2026 -2/ one a Oe |\n",
      "Invoice Date Il- F-20206 Date of Supply\n",
      "State: West Bengal State Code 19 E. way Bill No.\n",
      "Details of Receiver! Billed to : Details of Consignee/Shipped to :\n",
      "\n",
      "A Name : _T.L ENGINEERY, NG. ba MT” Se INSING! Gi erate eee\n",
      "Address : _/M‘ddllc_ Thortho€ (OC a\n",
      "> Si Howkaee F302 |\n",
      "state :-WESTGENCAZL ____code_/7 _ |state :_ Code _ _\n",
      "ostn :L7ATRELSSISEAZI GSTIN :--\n",
      "\n",
      "Purchase Order No.: Purchase Order Date :\n",
      "SI HSN i AMOUNT\n",
      "No. DESCRIPTION OF GOODS/ SERVICE Code Quantity Rate Rs. P\n",
      "$58 few F222|222 £021 /Fof| 42294 |a0\n",
      "KFan\n",
      "Value Rs. Y22 7 y onl\n",
      "ADDCGST@7%| 336 Yl\n",
      "GSTIN No. : 19AISPJ4698P1ZX ADD SGST @Y %| 3S0F YE\n",
      "VAT No. : 19684998029 Me C.S.T. No. : 19684998233 ADDIGST @ %\n",
      "Please pay by A/c. Payee Cheque / NEFT / RTGS Only TOTAL Y 7 q C 6 2\n",
      "Rs. (In Words) : Lowrey nine thowsarel nine | ROUNDED OFF (¥/-) (ROE log\n",
      "hndxed seven _omby. Grand TotalRs. |LY7 907 |p\n",
      "BANK DETAILS: :\n",
      "Ba nk Name THE FEDERAL BANK itp. | Please sign & return with seal D Nee = _ Wa\n",
      "oe For HIRALAL JAISWAL & SONS\n",
      "\n",
      "\n",
      "GST INVOICE Original for Buyer\n",
      "\n",
      "BAIJNATH & SONS\n",
      "\n",
      "4 “ , HOUSE OF ALLOY STEEL\n",
      "22, STRAND ROAD, KOLKATA - 1, Ph. : 2230-2777, 2243-4349\n",
      "=. e-mail : baijnath.kolkata@gmail.com\n",
      "’ me GSTIN : 19AADFB7015R2Z0, PAN No. : AADFB7015R\n",
      "\n",
      "Invoice No. > ' 4 | Transport Mode: JA4_ -“Ta\\o{ .\n",
      "Invoice Date : (0) Ly ’ Ox rx) aD Vehicle Number : © i\n",
      "Order No. : Ve rbe) - Date of Supply :\n",
      "\n",
      "vas)\n",
      "\n",
      "Order Date : Place of Supply :\n",
      "\n",
      "Buyer's Details : Shipping Details (Place of Supply)\n",
      "Ms I. 1. Emgimeezing Une |\n",
      "‘\n",
      "\n",
      "| vuwlcble -thowe hak, © aS\n",
      "\n",
      "Howstab ~ FiIB oI. =f\n",
      "GSTIN: |FATRPP S8SISE(ZM GSTIN :\n",
      "Product Description boas Quantity Rate . pee ;\n",
      "Alloy Steok Bove 7228 |69-924 1254 | SBt4olow\n",
      "\n",
      "¢_ eG ri A cor ia r: ey\n",
      "Kore! Me feul(Cl Nio — |\n",
      "\\ ie \\ |\n",
      "\n",
      "Rupees_[Nc my Ei oULaKNA Ejatht+ Delivery/Cutting Charge [\n",
      "= Taxable Total ge Holos\n",
      "\n",
      "U\n",
      "\n",
      "Bank Details : Bank Details : Add : CGST @ 9% 475 3L\\60\n",
      "Bank Name : UNITED BANK OF INDIA | Bank Name : STATE BANK OF INDIA : 3\n",
      "Branch : Kolkata Branch 0084 Branch : N.S. Road Add SCST@.S F$536160\n",
      "Alc, No. : 0084050003621 Alc. No. : 11107795325 Add: |GST @ 18%\n",
      "IFSC : UTBIOCAL107 IFSC : SBINQ000144\n",
      "\n",
      "Rounded Off +/- -d{2o\n",
      "ALL SUBJECT TO KOLKATA JURISDICTION Grand Total ONBls: Go\n",
      "Terms & Conditions : For BAIJNATH& SPNS\n",
      "Goods once sold cannot be refunded without our approval. Our responsibility ceases 1 JaQyw\n",
      "once goods leave our godown. Please pay by RTGS, NEFT or A/c Payee Cheque only. / Zz\n",
      "\n",
      "Authorised Signatory\n",
      "\n",
      "\n",
      "7, Corel |\n",
      "\"7616 {Extruded Pad to Deg cs Connector\n",
      "\n",
      "3\n",
      "\n",
      "Eu] Cpa 8 @ ao¢e4\n",
      "\n",
      "= IH. 09-10-AGad\n",
      "\n",
      "ON) 19-03-2692)\n",
      "\n",
      "Gross Total\n",
      "FANG Cost:\n",
      "CGST @9%\n",
      "SGST @9%\n",
      "\n",
      "\n",
      "Invoice No. 144 Dated 19-Mar-2021\n",
      "Ref. No.\n",
      "\n",
      "MAA MANASA PAPER CENTRE\n",
      "\n",
      "BASIRHAT R.N. ROAD,NORTH 24 PARGANAS, 743411\n",
      "West Bengal - 743411, India\n",
      "GSTIN/UIN: 19CBBPN1538E1ZT\n",
      "State Name : West Bengal, Code : 19\n",
      "Contact : 8001780050, 7602929598\n",
      "E-Mail : nilaynathOO@gmail.com\n",
      "\n",
      "TAX INVOICE\n",
      "MMPC\n",
      "\n",
      "Party : SP UDYOG\n",
      "411/447 BIJOY CHANDRA DAS ROAD,SAINPALA,BASIRHAT\n",
      "NORTH 24 PARGANAS, 743411\n",
      "West Bengal - 743411, India\n",
      "\n",
      "GSTIN/UIN : 19AUKPP8322N1ZU\n",
      "\n",
      "PAN/IT No\n",
      "State Name : West Bengal, Code : 19\n",
      "Payment Terms Despatch Document No. Delivery Note\n",
      "NEFT SELF LIFTED dt. 19-Mar-2021\n",
      "Sl Description of Goods HSN/SAC | GST Quantity Rate per Amount\n",
      "No. Rate\n",
      "1 |B2B LEGAL PAPER 4802 12 %| 250 REAMS 191.96 | REAMS 47,990.00\n",
      "CGST 2,879.40\n",
      "SGST 2,879.40\n",
      "Rounding Off 0.20\n",
      "Bill Details:\n",
      "On Account 53,749.00 Dr\n",
      "Total 250 REAMS = 53,749.00\n",
      "Amount Chargeable (in words) EEO.\n",
      "INR Fifty Three Thousand Seven Hundred Forty Nine Only\n",
      "HSN/SAC Taxable Central Tax State Tax Total\n",
      "Value Rate Amount Rate Amount Tax Amount\n",
      "4802 47,990.00 6% 2,879.40 6% 2,879.40 5,758.80\n",
      "Total 47,990.00 2,879.40 2,879.40 5,758.80\n",
      "\n",
      "Tax Amount (in words) : INR Five Thousand Seven Hundred Fifty Eight and Eighty paise Only\n",
      "Company's PAN : BBPN1538E\n",
      "\n",
      "Declaration\n",
      "We declare that this invoice shows the actual price of the goods described and that all particulars are true and correct.\n",
      "\n",
      "Customer's Seal and Signature for MAA MANASA PAPER CENTRE\n",
      "\n",
      "Authorised Signatory\n",
      "\n",
      "This is a Computer Generated Invoice\n",
      "\n",
      "\n",
      "ORIGINAL FOR BUYER\n",
      "\n",
      "CHALLAN CUM TAX INVOICE / BILL OF o7VM em (Under Rule 11 of C.E Rules 2002)\n",
      "\n",
      "SREE S.G.K. INDUSTRIES\n",
      "\n",
      "kK C-15, Industrial Estate, Sagar Road, SHIVAMOGGA-577 204\n",
      "/ (Karnataka), Mob. : 9686694902\n",
      "E-mail : sreesgk1944@gmail.com\n",
      "\n",
      "C.E. Range -\n",
      "SHIVAMOGGA NORTH\n",
      "C.E. Division :\n",
      "6th Cross, Ashwathnagar\n",
      "Savalanga Road, SHIVAMGOGA-577 204\n",
      "C.E. Commisssionerate :\n",
      "\n",
      "Consignee :\n",
      "\n",
      "Singh Enterprises, 9/13 Kings Road,\n",
      "Howrah-711101 West Bengal State\n",
      "\n",
      "MYSURU\n",
      "\n",
      "PAN : ABIPN0921C\n",
      "GSTIN : 29ABIPNO921C1ZY\n",
      "\n",
      "Phone 03326686212 / 09331215386 INVOICE No. : DATE :\n",
      "—_—R24220448 30/07/2021\n",
      "Date & Time of\n",
      "Issue of Invoice 30/07/2021\n",
      "Shiping to : Removal of Goods : 5.25 pm\n",
      "Mis Singh Enter Prises, Ankur Hatti, Check Mode of Transport :\n",
      "nost, Near VRL Loaistics . Dhulgar, Howrah BY ROAD\n",
      "TPT Vehicle No. :\n",
      "HSN Code : 84312090\n",
      "Se eo COREE Neel Bank Details : Bank of india, Shimoga Branch\n",
      "1GAWRPS1749M12H Alc No. : 845030100060039 ~\n",
      "sk ih a AWRPS1749M IFSC Code : BKID0008450\n",
      "Type of A/c. :C.C. Verbal\n",
      "Vendor Code : P.O.No. & Date :\n",
      ": Ddn.\n",
      "Specification of Goods No. of Packages rel Rateper'| Rate of GST | Addn. 2. oi Ps\n",
      "ner-ot begs : (in Rs Us 4_\n",
      "MOTOR VEHICLE PARTS\n",
      "4) Piston 1 stage 31 Bag 248 240.00 aye!\n",
      "2) Piston 2 nd stage 08 Bag 128 126.00 : i :\n",
      "3)RSH 32 Bag 384 132.00 50688.\n",
      "4)Nut 2nd Stage 19 Bag 452 168.00 oe ~\n",
      "5) Pump Seal Housing 10 Bag 40 570.00 oe a00\n",
      "6) Pump 0000031 11 Bag 70 612.00 spon\n",
      "7) 4Whole Plunger 003 09 Bag 50 612.00 :\n",
      "420 Bag 4072\n",
      "Sub zotuti-— sane?\n",
      "IGST @ 18% 44660.16\n",
      "————\n",
      "TOTAL RUPEES IN WORDS GRAND TOTAL 292772.16\n",
      "\n",
      "Rupees Two Lakh NinetyTwo Thousand Seven Hundred SeventyTwo Paise Sixteen Only\n",
      "\n",
      "Debit Entry No.\n",
      "\n",
      "Certified that the particulars given above are true and correct and the amount indicated represents\n",
      "the price actually charged and theres no flow of aditional consideration directly or indirectly\n",
      "from the buyer,\n",
      "\n",
      "E.&0.E.\n",
      "\n",
      "For SREE S.G K. éayaiiong\n",
      "Suns éd Signtory\n",
      "\n",
      "Subject to Shimoga Jurisdiction\n",
      "\n",
      "\n",
      "G&D S. P. UDYOG wwe\n",
      "\n",
      "Bank Details :\n",
      "\n",
      "Bank : AXIS Bank Ltd. Basirhat Branch,\n",
      "AIC No : 548010200004893\n",
      "\n",
      "IFSC Code No.: UTIBO000548\n",
      "\n",
      "S.P. UDYOG Invoice Nas Dated: 4 3-QS-AGRO\n",
      "41 1/ 447, Bijoy Chandra Das Road, aoRo-21/ a>\n",
      "Vill. Sainpala, P.O: Basirhat, Delivery Note : Mode/Terms of Payment\n",
      "Dist.- North 24 Parganas.\n",
      "Pin.- 743411, West Bengal, India. Buyer's Order No.: Dated: 94A-~GG~2EQXH\n",
      "Tel.: 033-25240004 50000 334493\n",
      "E-mail :sspudyog@gmail.com Challan No.: Dated: 83 -0%8- RaQa\n",
      "Mobile : 9830705033 | 9332025825 Qewvwe-2\\ | o13\n",
      "Buyer’s Details Despatched Through : Destination : HAKAN Pash,\n",
      "GSTIN JSABASY. SSBB NIBH ccc WASH S195 Rivironal Steses,\n",
      "BVP Onal Monger, LIBSERO ee Non «\n",
      "Nakorifora Ob) bavaacmel 2 $Si ce :\n",
      "eebes Ais es oreeoes . ee eee ges be Eore cane tessesesesesseeses Begeccesesoee Terms of Delivery :\n",
      "Ader AARIVE, GUNAINA Bekwuadshars, pwc\n",
      "\n",
      "a Sons Ws Bute 0 La 6 Seti Be AD roe ite oH ooh ee Ewe Bill NG ‘SFIVOS933 46C1-\n",
      "en Ae ......( 3\n",
      "\n",
      "No. Description of Goods HSN ‘Quantity Rate | Per Amount\n",
      "\n",
      "L. LEXA. & MVG contact (Ciky 2OOA B58qGICO — | 59008 set | S9000-00\n",
      "\n",
      "TPGe) K-T fe (6394642632)\n",
      "a ew en enrentee CN Be 550-00 |NOS, | BF SO0-00\n",
      "gosh T PGs) (636404944!)\n",
      "\n",
      "Sa 500-06\n",
      "3aSTt @B DY: “p FBS-00\n",
      "eGsT@® OY. “FP FBS-OG\n",
      "\n",
      "Cmecnre NY} ANS) »/Rat'o/ Punckene/ Ss \\fose To20 70-00\n",
      "Dated! BO-CF- 2022) Any\n",
      "\n",
      "Supplier's Code No. : 511357.\n",
      "\n",
      "TOTAL - LO2AVFO-OO\n",
      "Amount Chargeable (in words) :Q¥\\&. lakkh keyg. Sayan eS a ae ane\n",
      "Company Details : — E.&O.E.\n",
      "PAN No.: AUKPP8322N For S. P. UDYOG\n",
      "GSTIN No.: 19AUKPP8322N1ZU ‘:\n",
      "\n",
      "Authorised Signatory\n",
      "\n",
      "\n",
      "ED 8. P. UDYOG = wawore\n",
      "\n",
      "Invoice No.:\n",
      "\n",
      "Dated: ODBQB-RORG\n",
      "\n",
      "S.P. UDYOG\n",
      "-Z21\n",
      "411/ 447, Bijoy Chandra Das Road, = ks han\n",
      "Vill.- Sainpala, P.O.: Basirhat, Delivery Note : Mode/Terms of Payment\n",
      "Dist.- North 24 Parganas.\n",
      "Pin.- 743411, West Bengal, India. Buyer's Order No.: Dated: 24-06-2026\n",
      "Tel.: 033-25240004 5QG00 33442\n",
      "E-mail :sspudyog@gmail.com ChallanNo: Dated :Q3B~GB-2OQ0\n",
      "Mobile : 9830705033 | 9332025825 eoend—>1 12\n",
      "Despatched Through : Destination : Naar ard\n",
      "WEA2SHRBISB5 BIW onal Borex,\n",
      "Nasia.\n",
      "\n",
      "Terms of Delivery :\n",
      "\n",
      "No. Description of Goods HSN| Quantity Rate | Per Amount\n",
      "4 | EKA. & MHAVG reantaek CUKRV B534 50 las aiger |5 2506-06\n",
      "400A TPG) K~ TY Pe\n",
      "5256-00\n",
      "-$ao7 @O°. <F25-00\n",
      "easet AD _ {VFI5-04\n",
      "(memano! NKPD/ESkS] evechone/si[239 :\n",
      "Dated’, Ba-cq- 2620) SiS50-0\n",
      "Supplier's Code No. : 511387 7\n",
      "TOTAL Sl S50 0\n",
      "\n",
      "Amount Chargeable (in words) Si one Sharan ne bomee\n",
      "\n",
      "Sey Ce Saeed ns as OMe cans Cag mU saan EU o ss ecisnns es ep oun eneasearausasss ests ts cenese ces ctserstes ene tener T Nene e ete\n",
      "\n",
      "Company Details :\n",
      "\n",
      "PAN No.: AUKPP8322N\n",
      "\n",
      "GSTIN No.: 19AUKPP8322N1ZU\n",
      "Bank Details :\n",
      "\n",
      "Bank : AXIS Bank Ltd. Basirhat Branch,\n",
      "A/C No : 548010200004893\n",
      "\n",
      "IFSC Code No.: UTIBO000548\n",
      "\n",
      "E.& 0. &.\n",
      "For S. P. UDYOG\n",
      "\n",
      "Authorised Signatory\n",
      "\n",
      "\n",
      "G&D 8. P UDYOG = rxwoce\n",
      "\n",
      "S.P. UDYOG Invoice ~ : Dated :\n",
      "\n",
      "41 1/ 447, Bijoy Chandra Das Road, 2e2e.-21/ O11 DS“CR SS ZS\n",
      "\n",
      "Vill.- Sainpala, P.O.: Basirhat, Delivery Note : Mode/Terms of Payment\n",
      "\n",
      "Dist.- North 24 Parganas.\n",
      "\n",
      "Pin.- 743411, West Bengal, India. Buyer's Order No.: Dated :\n",
      "\n",
      "Tel.: 033-25240004 SAAGOSS44R 2YG-AG- 2O26\n",
      "\n",
      "E-mail :sspudyog@gmail.com Challan No: Dated :\n",
      "\n",
      "Mobile : 9830705033 | 9332025825 2Aa2o-ZifAll 03-62-2628\n",
      "\n",
      "Buyer’s Details DespatchedThrough: Destination ;\n",
      "\n",
      "GSTIN :. . 2 ABASWGSSSBABXK WBZSURISS |NG bhi Powe.\n",
      "Il Siek.. moa a WESERSL..... DWN Stee,\n",
      "\n",
      "Dimcrienatine ts PLY. ie a.\n",
      "\n",
      "Bdominicnokive. ron\n",
      "\n",
      "UL Pe wymnawkers, LN: 7 re\n",
      "\n",
      "~~ No. Description of Goods HSN} Quantity Rate Per Amount\n",
      "\n",
      "[. [ALL EPIMPiNy StKE- CEABS— SM TACO YT SAG | NO] SSA ae\n",
      "\n",
      "ZS BAM, (OSEUCROZGN\n",
      "Z |Aly. camping secked- (ZAB)- Bsa] 14a | K° BA |-ne- | BBE\n",
      "SA BW. MIN. (CST 4OROS4T oe\n",
      "3,|Aly. eniompingy Seeker GAB) Rx, soe, [14°de [Ne 11, 2:\n",
      "\n",
      "Sez BY, WM, CASS YORE S|\n",
      "4 | ALU. exremputy Sccket- (SAB) RSH) | GEO |2SO°35] -NO- PE 3W’'H\n",
      "V2. BH WHEN OST HO BOGE) :\n",
      "\n",
      "ae\n",
      "\n",
      "UA\n",
      "5] ALus embmpinde Seeles (CARAS BOA [Sz-Ka]ne- | DSS\n",
      "IES SAA. COSSHOROR YL Sh OSH\n",
      "L, 26816\n",
      "& BSG\n",
      "CSEGR\n",
      "‘ : cae\n",
      "TOTAL G3, RPK 2H\n",
      "Amount Chargeable (i (in ne Suk 7 ames. BhaSomad SAMs... ARTs ers\n",
      "Joveerey: 2AM... AMPS... ANON... IAS ren SME. ietcreeenennteenn\n",
      "Company Details : e. 40. E.\n",
      "PAN No.: AUKPP8322N For §. P. UDYOG\n",
      "GSTIN No.: 19AUKPP8322N1ZU A\n",
      "Bank Details : e /\n",
      "Bank : AXIS Bank Ltd. Basirhat Branch, Wade\n",
      "AIC No : 548010200004893\n",
      "IFSC Code No.: UTIB0000548 ; Authorised Signatory .\n",
      "\n",
      "\n",
      "@&D S.P UDYOG woe\n",
      "\n",
      "Invoice No. RO2O-2l ]9 10\n",
      "\n",
      "S.P. UDYOG Cand OBOE RAAS\n",
      "411/ 447, Bijoy Chandra Das Road,\n",
      "Vill.- Sainpala, PO.: Basirhat, Delivery Note : Mode/Terms of Payment\n",
      "Dist.- North 24 Parganas.\n",
      "Pin.- 743411, West Bengal, India. Buyer's Order No.: Dated :5 <4~@ G- RO R20\n",
      "Tel.: 033-25240004 5000033495\n",
      "E-mail :sspudyog@gmail.com Challan No.: Dated : :\n",
      "Mobile : 9830705033 | 9332025825 nere-at/sia ue eee OAS\n",
      "Buyer’s Details Despatched Through : Destination : ako torn\n",
      "GSTIN JOMAAGW EDS ARAZ WEASHSISE — [pivirienal storey.\n",
      "RIVIAADON).. MANQes WS BSERS nu. Nadioe |\n",
      "Mako levy oy. CRIB Vai nal OSes ¢.., ee\n",
      "Actrsmuaitrakive. Quilting Qe Mnuackahorst 7 \"| Terms of Delvery:\n",
      "SUVPSSmMaWEKSA NOAA TFA ZS co\n",
      "No. Description of Goods s HSN| Quantity Rate | Per Amount\n",
      "1, [FXBKMVG@ aantaed (WKY 2a6cA-~- RS36 196 S10 ~¢0 |Se% 31090-0060\n",
      "TPES) R-TYPeS (63040425329\n",
      "i. SV-AG INGS 3 0-06\n",
      ">, ley Plex. Braided Tv] ClikvRsoA-BS3G IGG [2 J2920\n",
      "TPG) (0304643341)\n",
      "SO, 2OHO-Q0\n",
      "SGST Qos, \"FJ DVIB-WO\n",
      "2£43T @ Sy “H,2INBOO\n",
      "| 34,2 3E6-60\n",
      "(tem No, NEPSIEsb/PuBchaae [51/295\n",
      "pated: BO OF 20207) -\n",
      "Supplier’s Code No. : 511357\n",
      "TOTAL 4 636-00\n",
      "Amount Chargeable (in words) Huineht Sev, EAONAAWA. els .NVINCheS NMEA AI Son :\n",
      "Company Details : E.4& O. E.\n",
      "PAN No.: AUKPP8322N For §. P. UDYOG\n",
      "\n",
      "GSTIN No.: 19AUKPP8322N1ZU\n",
      "Bank Details :\n",
      "\n",
      "Bank : AXIS Bank Ltd. Basirhat Branch,\n",
      "A/C No : 548010200004893\n",
      "\n",
      "IFSC Code No.: UTIBO000548\n",
      "\n",
      "}\n",
      "\n",
      "Authorised Signatory\n",
      "\n",
      "\n",
      "TAX INVOICE INVOICENO. INVOICE DATE\n",
      "\n",
      "FORM INV-1 ( SEE RULE 7, SECTION 31) 01/21-22 16-Apr-21\n",
      "\n",
      "Triplicate Invoice Copy for Seller\n",
      "\n",
      "PAN: AJRPP8815E\n",
      "\\\\ ] Mechanical & Electrical Engineers GSTIN: 19AJRPP8815E1ZM\n",
      "\\ / Vill: Middle Jhorehat, P.O.: Jnorehat, Howrah-711302 STATE: WEST BENGAL\n",
      "Phone: 033-2679-1438, Email: il.engineeringunit@gmail.com STATE CODE: 19\n",
      "\n",
      "\\\\ FL. Engineering Uo\n",
      "\n",
      "SHIPPING DETAILS\n",
      "\n",
      "SIGNIFY INNOVATIONS INDIA LIMITED SIGNIFY INNOVATIONS INDIA LIMITED\n",
      "BUYER NAME | (VADODARA LIGHT FACTORY) RECEIVER NAME | (VADODARA LIGHT FACTORY)\n",
      "BILLING Kural Village, Padra-Jambusar Road, Taluka-Padra, DELIVERY Kural Village, Padra-Jambusar Road, Taluka-Padra,\n",
      "ADDRESS Vadodara, Gujarat-391421 ADDRESS Vadodara, Gujarat-391421\n",
      "PAN AAICP0987G PAN AAICP0987G\n",
      "GSTIN 24AAICP0987G1Z9 GSTIN 24AAICP0987G1Z9\n",
      "STATE Gujarat STATE Gujarat\n",
      "STATE CODE 24 STATE CODE 24\n",
      "\n",
      "DESCRIPTION DRAWING NO\n",
      "NO.| OREDERNO. DATE CODE Copeondide hone she\n",
      "\n",
      "PURCHASE ORDER MATERIAL | : : QTY RATE | AMOUNT\n",
      "\n",
      "(PCS}| (INR) (INR)\n",
      "\n",
      "YG7-9501070089 03-02-2021 SUCKER,VACU,100W,LH 7222 813 6830 + 2 4100.00 8200.00\n",
      "\n",
      "2 {YG7-9501070089 03-02-2021 SUCKER,VACU,100W,RH 7222 813 6829 2 4100.00 8200.00\n",
      "\n",
      "HSN CODE: 84759000 TOTAL TAXABLE AMOUNT 16400.00\n",
      "\n",
      "TOTAL QUANTITY: 4PCS IGST @ 18% 2952.00\n",
      "\n",
      "NET WEIGHT: 0.100 Kg. ROUND OFF - 0.00\n",
      "\n",
      "GROSS WEIGHT: 6.820 Kg. TOTAL INVOICE AMOUNT (IN FIGURES) 19352.00\n",
      "RUPEES NINETEEN THOUSAND THREE HUNDRED FIFTY TWO ONLY\n",
      "\n",
      "| WHETHER THE TAX IS PAYABLE AS REVERSE CHARGE BASIS? |(] YES |[] NO | AMOUNT OF TAX SUBJECT TO REVERSE CHARGE |\n",
      "\n",
      "TRANSPORTER NAME: |Shree Anjani Courier Service Pvt. Ltd.\n",
      "MODE OF TRANSPORT: [By Air\n",
      "PLACE OF SUPPLY: Vadodara, Gujarat\n",
      "\n",
      "Declaration\n",
      "\n",
      "1 We declare that this invoice shows actual price of the goods described\n",
      "and that all particulars are true and correct\n",
      "\n",
      "2 E.&0.E.\n",
      "\n",
      "3 All disputes subjects to Howrah juridiction.\n",
      "\n",
      "Registered Office: Vill: Middle Jhorehat, P.O.: Jhorehat, Howrah-711362 | Phone: 033-2679-1438 | Email: il.engineeringunit@gmail.com\n",
      "\n",
      "TAX INVOICE INVOICENO. INVOICE DATE\n",
      "\n",
      "FORM INV-1 ( SEE RULE 7, SECTION 31) 02/21-22 16-Apr-21\n",
      "\n",
      "Triplicate Invoice Copy for Seller\n",
      "\n",
      "Hi \\ e e\n",
      "\n",
      "{/ \\ PAN: AJRPP8815E\n",
      "\n",
      "\\\\ } Mechanical & Electrical Engineers GSTIN: 19AJRPP8815E1ZM\n",
      "\n",
      "& WA Vill: Middle Jhorehat, P.O.: Jhorehat, Howrah-711302 STATE: WEST BENGAL\n",
      "Se” Phone: 033-2679-1438, Email: il.engineeringunit@gmail.com STATE CODE: 19\n",
      "SIGNIFY INNOVATIONS INDIA LIMITED SIGNIFY INNOVATIONS INDIA LIMITED\n",
      "\n",
      "BUYER NAME | (VADODARA LIGHT FACTORY) RECEIVER NAME | (VADODARA LIGHT FACTORY)\n",
      "\n",
      "BILLING Kural Village, Padra-Jambusar Road, Taluka-Padra, DELIVERY Kural Village, Padra-Jambusar Road, Taluka-Padra,\n",
      "ADDRESS Vadodara, Gujarat-391421 ADDRESS Vadodara, Gujarat-391421\n",
      "\n",
      "PAN AAICP0987G PAN AAICP0987G\n",
      "\n",
      "GSTIN 24AAICP0987G1Z9 GSTIN 24AAICP0987G1Z9\n",
      "\n",
      "STATE Gujarat STATE Gujarat\n",
      "|STATE CODE 24 STATE CODE 24\n",
      "\n",
      "RIPTION DRAWING\n",
      "\n",
      "OREDERN DATE\n",
      "\n",
      "PURCH | ORDER\n",
      "\n",
      "SK-1829 - 9 350.00 3150.00\n",
      "\n",
      "1 |2536409097 03-02-2021 | 721511103022 |PLATE PRESSURE,BULB LIFTER\n",
      "2 |2536409930 17-02-2021 | 721511010028 {STRIPPER BOLT 7222 584 8940 8 200.00 1600.00\n",
      "—~ 3 12536410553 01-03-2021 | 721520404092 | BOLT,SLG,CLUTCH,GLS 7222 083 27850 16 175.00 2800.00\n",
      "4 {2536410879 06-03-2021 | 721507703008 |BUSH,UPPER PALI-1363 ut 150.00 150.00\n",
      "5 |2536410879 06-03-2021 | 721520401071 |ALIGNER 7222 085 36461 7 260.00 1820.00\n",
      "6 |2536410879 06-03-2021 | 721520401072 |ALIGNER 7222 085 36471 6 237.50 1425.00\n",
      "7 |2536410995 09-03-2021 | 721520311037 |LEVER ARM,ROLLING,GLS 7222 830 88840 11 2000.00 22000.00\n",
      "8 {2536411467 18-03-2021 | 721520303007 |ARM,PINCH,ALIGNER,GLS 7222 812 13500 2 610.00 1220.00\n",
      "9 {2536411467 18-03-2021 | 721520506004 |BLOCK,PINCHING,PUMP,GLS 7222 083 1452 30 625.00 18750.00\n",
      "10 |2536412060 01-04-2021 | 721520303007 |ARM,PINCH ALIGNER,GLS 7222 812 13500 2 610.00 1220.00\n",
      "11 |2536412060 01-04-2021 | 721520501004 |BEARING,PUMP CLAMP,GLS PALI-1396 34 362.00 12308.00\n",
      "12 2536412152 02-04-2021 | 721520601003 |SHAFT,CENTRAL,POT,C/F,GLS PALI-0452A 32 215.00 6880.00\n",
      "HSN CODE: 84759000 TOTAL 73323.00\n",
      "TOTAL QUANTITY: 158 PCS PACKING & FORWARDING CHARGES @ 2% 1466.46\n",
      "NET WEIGHT: 4.010 Kg. TOTAL TAXABLE AMOUNT 74789.46\n",
      "GROSS WEIGHT: 6.820 Kg. IGST @ 18% 13462.10\n",
      "ROUND OFF + 0.44\n",
      "TOTAL INVOICE AMOUNT (IN FIGURES) 88252.00\n",
      "\n",
      "TOTAL INVOICE AMOUNT (IN WORDS) RUPEES EIGHTY EIGHT THOUSAND TWO HUNDRED FIFTY TWO ONLY\n",
      "\n",
      "WHETHER THE TAX IS PAYABLE AS REVERSE CHARGE BASIS? | (1 YEs OD no | AMOUNT OF TAX SUBJECT TO REVERSE CHARGE |\n",
      "\n",
      "TRANSPORTER NAME: /|Shree Anjani Courier Service Pvt. Ltd.\n",
      "MODE OF TRANSPORT: [By Air\n",
      "PLACE OF SUPPLY: Vadodara, Gujarat\n",
      "\n",
      "Declaration\n",
      "\n",
      "1 We declare that this invoice shows actual price of the goods described\n",
      "and that all particulars are true and correct\n",
      "\n",
      "2 E.&0.E.\n",
      "\n",
      "3 All disputes subjects to Howrah juridiction.\n",
      "\n",
      "Registered Office: Vill: Middle Jhorehat, P.O.: Jhorehat, Howrah-711302; Ph\n",
      "\n",
      "\n",
      "ep ORIGINAL FOR RECIPIENT\n",
      "TATA\n",
      "TATA CONSUMER PRODUCTS LTD (Formerly known as TATA GLOBAL BEVERAGES LTD)\n",
      "TAX INVOICE\n",
      "\n",
      "Billed from WB21 Shipped from WB21 Invoice No. (ODN) : $I1920004803\n",
      "TATA CONSUMER PRODUCTS LTD TATA CONSUMER PRODUCTS LTD Date : 14.10.2020\n",
      "M/s.Soham Maritime Pvt Ltd M/s.Soham Maritime Pvt Ltd\n",
      "BD Castings Ltd, Durgapur Expressway, BD Castings Ltd, Durgapur Expressway, Our Ref. No. : 1382601992\n",
      "Near Hotel Olympus, Near Hotel Olympus, D.O. : 2106527821 / 14.10.2020\n",
      "P.S: Dankuni, Hooghly. P.S: Dankuni, Hooghly. S.0. : 106545307 / 14.10.2020\n",
      "KOLKATA 712310 KOLKATA 712310 P.O. No.: 10117114-10-2020\n",
      "India India P.O. Date: 14.10.2020\n",
      "State: 19 - West Bengal State: 19 - West Bengal L.R. No. / Vehicle No. :\n",
      "GSTIN/Unique ID: 19AABCT0602K1ZI Phone: 9073935402 L.R. Date : 14.10.2020\n",
      "Phone: 9073935402 Email: cpbcfadankuni@gmail.com\n",
      "Bill To 101171 ShipTo 101171\n",
      "MOU TRADING MOU TRADING Invoice Amount Rs. 342,118.99 will be due for\n",
      "G. 0. ANDUL MOURI, G. 0. ANDUL MOURI, payment on or before 14.10.2020\n",
      "G. O. ANDUL MOURI, G. 0. ANDUL MOURI,\n",
      "ANDUL-HOWRAH 711302 ANDUL-HOWRAH 711302\n",
      "India India\n",
      "State: 19 - West Bengal State: 19 - West Bengal\n",
      "GSTIN/Unique ID: 19AJGPG3532Q1ZT GSTIN/Unique ID: 19AJGPG3532Q1ZT\n",
      "\n",
      "Whether tax is payable under reverse charge basis - No\n",
      "\n",
      "IRN No: cd7f33ad7af5787 1ddfd3d006262b5ee50a72950ebfaa751776197a3377fb006\n",
      "Ack No: 182010025453782\n",
      "\n",
      "IRN Dt: 14.10.2020\n",
      "\n",
      "ats\n",
      "\n",
      "te\n",
      "\n",
      "a\n",
      "\n",
      "~ 4o.| Description of Goods/HSN Rate per Taxable Value | CGST Amt &| SGST Amt &| Cess/ Other | Value Incl.\n",
      "T Code/MRP Rate/Batch Quantity / UOM (INR) Rate (INR) | Rate (INR) | Amt & Rate Tax(INR)\n",
      "UOM (INR)\n",
      "1 TT205W - Tata Tea Pr Leaf 360.000 KG} 281.22 101239.20 2530.98 2,530.98 106,301.16\n",
      "100g Polypack-WB 15 CV} PerKG 2.50 % 2.50 %\n",
      "HSN:09023020 MRP: 35.00\n",
      "Batch:KL14-10-20\n",
      "2 T7204 - Tata Tea Pr Leaf 50g | 360.000 KG| 290,36 104529.60 2613.24 2,613.24 109,756.08\n",
      "Polypack-ROI HSN:09023020 15 CV] PerKG 2.50 % 2.50 %\n",
      "MRP: 18.00 Batch:NO12-09-20\n",
      "3 TG007-TataTea Gold 100g | 120.000 KG] 367.06 44047.20 1101.18 1,101.18 46,249.56\n",
      "New polypouch 10 CV} PerKG 2.50 % 2.50 %\n",
      "HSN:09023020 MRP: 45.00\n",
      "Batch:KE14-10-20\n",
      "4 TG002PBM - TT Gold Lf 250g | 180.000 KG| 420.93 75767.40 1894.19 1,894.19 79,555.78\n",
      "Cath Festive Pack 15 CV} PerKG 2.50 % 2.50 %\n",
      "HSN:09023020 MRP: 125.00\n",
      "Batch:KL13-10-20\n",
      "Total Invoice Value} — 1,020.000 325,583.40 8,139.59 8,139.59 341,862.58\n",
      "\n",
      "PAGE NO. 1 OF 3\n",
      "Regd. Office: 1, Bishop Lefroy Road, Kolkata - 700 020\n",
      "Corporate Office: Kirloskar Business Park, Block-C, 3rd & 4th Floor, Hebbal, Bengaluru - 560 024\n",
      "CIN: L15491WB1962PLC031425 , PAN: AABCT0602K, Email: investor.relations@tataconsumer.com, Website: www.tataconsumer.com\n",
      "\n",
      "\n",
      "(Continued....)\n",
      "\n",
      "Bill To: 101171 - MOU TRADING\n",
      "\n",
      "Our Reference No. 1382601992\n",
      "\n",
      "KG\n",
      "55 CV\n",
      "TCS - 0.075 % 256.41\n",
      "Total Invoice Value} 342,118.99\n",
      "Tax subject to reverse charge | | 0.00 | 0.00 0.00\n",
      "Rupees Three Lakhs Forty Two Thousand One Hundred Eighteen And Paisa Ninety Nine Only\n",
      "Cheques and Drafts duly Crossed or NEFT / RTGS / ACH should be made payable to the order of TATA CONSUMER PRODUCTS LTD\n",
      "We hereby certify the good(s) mentioned in this invoice is / are warranted\n",
      "to be of the nature and quality which it / these purport(s) tobe. The\n",
      "warranty is valid for all sealed containers which are not tampered with,\n",
      "damaged and / or otherwise opened. The person selling such goods\n",
      "should give his warranty to the purchaser. For TATA CONSUMER PRODUCTS LTD\n",
      "ew\n",
      "Summary\n",
      "HSN Taxable Value | CGST Amt SGST Amt |IGSTAmt |Cess/Other | Value Incl.\n",
      "Code/ProductiDescription of | Qty in KG (INR) Rate (INR) Rate (INR) | Rate (INR) | Amt Tax(INR)\n",
      "Goods UOM Rate (INR)\n",
      "09023020/TEATEA PACKET 1,020.00 KG 325583.40 8139.59 8,139.59 0.00 342,118.99\n",
      "55.00 CV 2.50 % 2.50 %\n",
      "Total 1,020.00 KG 325,583.40 8,139.59 8,139.59 0.00 342,118.99\n",
      "55.00 CV\n",
      "TCS - 0.075 % 256.41\n",
      "Total Invoice Value 0.00\n",
      "[es O.E. Goods Acknowledgement Receipt\n",
      "Gate pass no : Original invoice received ‘Yes/No\n",
      "No of cases Received No of cases/kgs shortidamage :\n",
      "Received by ..ccsssesssees Seal with signature.....sssesssee\n",
      "Received date WM YADiscssnessssimssoacnsoin\n",
      "\n",
      "Corporate Office: Kirloskar Business Park, Block-C, 3rd\n",
      "CIN: L15491WB1962PLC031425 , PAN: AABCT0602K, Email: investor.\n",
      "\n",
      "Regd. Office: 1, Bishop Lefroy Road, Kolkata - 700 020\n",
      "\n",
      "& 4th Floor, Hebbal, Bengaluru - 560 024\n",
      "relations@tataconsumer.com, Website: www.tataconsumer.com\n",
      "\n",
      "PAGE NO. 2 OF 3\n",
      "\n"
     ]
    }
   ],
   "source": [
    "corpus_invoicedata = corpus_invoice\n",
    "for invoice in corpus_invoicedata:\n",
    "    print(invoice)"
   ]
  },
  {
   "cell_type": "code",
   "execution_count": 54,
   "id": "ac318ce7",
   "metadata": {},
   "outputs": [
    {
     "data": {
      "text/plain": [
       "28"
      ]
     },
     "execution_count": 54,
     "metadata": {},
     "output_type": "execute_result"
    }
   ],
   "source": [
    "len(corpus_invoicedata)"
   ]
  },
  {
   "cell_type": "code",
   "execution_count": 49,
   "id": "e4b9cf27",
   "metadata": {},
   "outputs": [
    {
     "data": {
      "text/plain": [
       "28"
      ]
     },
     "execution_count": 49,
     "metadata": {},
     "output_type": "execute_result"
    }
   ],
   "source": [
    "corpus_invoice = []\n",
    "for text in text_data:\n",
    "    # Convert all strings to lowercase\n",
    "    #text = text.lower()\n",
    "    # Remove numbers\n",
    "    #text = re.sub(r'\\d+','',text)\n",
    "    #text = re.sub(r'\\n',' ',text)\n",
    "    #text = re.sub(r'\\s+',' ',text)\n",
    "    #text = re.sub(r'\\t',' ',text)\n",
    "    # Remove punctuation\n",
    "    #text = text.translate(str.maketrans('','',string.punctuation))\n",
    "    corpus_invoice.append(text)\n",
    "corpus_invoicedata = corpus_invoice\n",
    "len(corpus_invoicedata)"
   ]
  },
  {
   "cell_type": "code",
   "execution_count": 87,
   "id": "8d022f7d",
   "metadata": {},
   "outputs": [
    {
     "data": {
      "text/plain": [
       "'. Email: dineshjaiswal1979@gmail.com\\nPh.: 2643-4958\\nMb.: 9836557024 a\\n\\nTe] HIRA\\n\\na:\\n\\nCUM CHAL\\nAll Subject to Howrah Jurisdiction\\n\\nLAL JAISWAL & SONS\\n\\nORIGINAL FOR RECEIPIENT [|\\nDUPLICATE FOF TRANSPORTER [_]\\nTRIPLICATE FOR SUPPLIER [_]\\nExTRACoPY [__]\\n\\nDealers in : Stainless Steel Rod, Scrap, S.S., 304, 310, 316 & 41 0,M.S. Rod,\\nPlates & Sheets, Pipes, Flanges etc. & General Order Suppliers\\n\\n207/29, Belilious Road, Howrah- 711101\\n\\n\\\\\\n\\n; ; . Transportation Mode :\\nina No. : HJS/ 23 2020-2) Vehicle No.\\nInvoice Date 29-2020 Date of Supply\\nState: West Bengal State Code 19 E. way Bill No.\\nDetails of Receiver/ Billed to : Details of Consignee/Shipped to :\\nName : _I-L ENGINEERING UNT_ —-—— {Name :——.._ _ a\\nAddress : Middle thoxthot ee cement eases Ulises mnie ne\\nSars lactose: ae ee\\nState : UST BENGIL a Code _/ va — |Statte :-w Code_ _. _\\nostin : IZAIRPPS3IS L277 GSTIN :\\nPurchase Order No.: Purchase Order Date :\\nSI * HSN AMOUNT\\nNo. DESCRIPTION OF GOODS) SERVICE Code Quantity Rate Rs. Pp\\nSS PIAL 7217 | 19 2-3o0| 220f| Y2 306 |ro\\nValue Rs. 42306 |00\\nADD CGST @ %) 3SIS0F |SY\\nGSTIN No. : 19AISPJ4698P1ZX ADD SGST @4Y % | 290 + |S y\\nVAT No. : 19684998029 se C.S.T. No. : 19684998233 ADDIGST @ %\\nPlease pay by A/c. Payee Cheque / NEFT / RTGS Only TOTAL Y 9 G21 lok\\nRs. (InWords): FOUMS 112 nl thousand ny\\\\nt OF EE Ro) lax\\nhuadwed twenty ong ly. Grand TotalRs. 149 9>/ [og\\nBANK DETAILS: Please sign & return with seal . E&OE\\nNeNo. ‘seenznoosoe2n = Dineh Ta sok\\neo. ee For HIRALAL JAISWAL & SONS\\n\\n'"
      ]
     },
     "execution_count": 87,
     "metadata": {},
     "output_type": "execute_result"
    }
   ],
   "source": [
    "corpus_invoicedata[0]"
   ]
  },
  {
   "cell_type": "code",
   "execution_count": 88,
   "id": "950c8801",
   "metadata": {},
   "outputs": [
    {
     "name": "stdout",
     "output_type": "stream",
     "text": [
      "['Howrah Jurisdiction', 'Steel Rod', 'Scrap', 'Plates', 'Pipes', 'Flanges', 'Belilious Road', 'Mode', 'Vehicle No', 'Bill No', 'Ulises', 'Sars', 'Code_', 'Purchase Order No', 'Order Date', 'Payee', 'Cheque']\n",
      "['Tax', 'Code', 'Delivery Note', 'Delivery', 'Howrah', 'Code', 'Goods', 'Steel Round', 'Amount Chargeable', 'Tax Amount']\n",
      "['Phone No', 'Belilious Road', 'Sahitya Parisad Street', 'Kolkata', 'Buyer', 'Quanti', 'Weight VALUE', 'Cod', 'Gms', 'Naf Fl', 'Aiud', 'Total', 'Meresece MSDN', 'Kolkata Jurisdiction']\n",
      "['Order No', 'Goods', 'Amount', 'Steel Round']\n",
      "['Howrah Road', 'Shanpur Howrah', 'State', 'Peseemirinasiassavasakarseaksbecsecionasessexiots', 'Tax', 'Payable', 'Reserve Basis', 'Jemttad', 'Round Off', 'Damage', 'Howrah Jurisdiction Received']\n",
      "['Buyer Buyer', 'Order No', 'Madhya Jhorehat', 'Howrah', 'Goods Quantity', 'Amount', 'Amount Chargeable', 'Hundred Twelve Only Buyer']\n",
      "['STEEL Bill No', 'Belilious Road', 'Sahitya Parisad Street', 'Kolkata', 'Buyer', 'Els', 'Quanti', 'Weight VALUE', 'Cod', 'Gms', 'Total', 'Kolkata Jurisdiction']\n",
      "['Tax', 'Alampur Central Market', 'Delivery Note', 'Howrah', 'Code', 'Le', 'Delivery', 'Code', 'Goods', 'Amount No', 'Steel Round', 'Amount Chargeable']\n",
      "['Tax', 'Code', 'Code', 'Order No', 'Goods', 'Amount', 'Steel Round', 'Total', 'Tax Amount']\n",
      "['Bijoy Chandra Das Road', 'Bijoy Chandra Das Road', 'Mr.', 'Logistics', 'Sales Oty', 'Unit Price Gross Amount', 'Line No Qty Unit Charge', 'Charge Net Amount Del No Charge', 'Basis Freight', 'Amount', 'Range Code', 'Gurgaon']\n",
      "['Al', 'Goods', 'Payee Cheque', 'Transport Mode', 'Vehicle Number', 'Buyer', 'Unmet', 'Waddle', 'Rar', 'Howscah', 'Steot Bove', 'Taxable Total BS Holos', 'Branch', 'Kolkata Branch']\n",
      "['Buyer BAIJNATH', 'Transport Mode', 'Buyer', 'Unat', 'Aneel', 'How', 'Alloy Steck Booz', 'P E', 'Rupees', 'Charge', 'Branch', 'Kolkata Branch', 'Road', 'Payee Cheque']\n",
      "['BILL TO', 'Signatory']\n",
      "['Copy ISPAT', 'STEEL Bill', 'Belilious Road', 'Sahitya Parisad Street', 'Kolkata', 'Address Midd', 'Shomehak', 'Weight', 'Cod', 'Gms', 'Foy Seven', 'Gross Value', 'Kolkata Jurisdiction']\n",
      "['Belilious Road', 'Sahitya Parisad Street', 'Kolkata', 'Cod', 'Rupees', 'Round Off', 'Gross Value', 'Kolkata Jurisdiction']\n",
      "['Howrah J', 'Stainless Steel Rod', 'Scrap', 'S.S.', 'Plates', 'Pipes', 'Flanges', 'Belilious Road', 'Bill No', 'Howkaee F302', 'Order Date', 'Payee', 'Cheque']\n",
      "['Buyer BAIJNATH', 'Transport Mode', 'Vehicle Number', 'Order Date', 'Buyer', 'Une', 'Howstab', 'Alloy Steok', 'Rupees_', 'Holos U Bank Details', 'Kolkata Branch', 'Road', 'Payee Cheque', 'Signatory']\n",
      "['Corel', 'Pad', 'Gross Total']\n",
      "['Code', 'Code', 'Terms Despatch Document No', 'Delivery', 'Goods', 'Amount No', 'Bill Details', 'Fifty Three Thousand Seven Hundred Forty Nine Only', 'Signatory']\n",
      "['Sagar Road', 'Mob', 'Ashwathnagar Savalanga Road', 'Singh Enterprises', 'Mis Singh Enter Prises', 'Ankur Hatti', 'Check Mode', 'Near VRL Loaistics', 'Howrah BY', 'Shimoga Branch', 'Verbal', 'Vendor Code', 'Goods No', 'Pump Seal', 'Debit Entry No', 'Shimoga Jurisdiction']\n",
      "['D S.', 'Bank', 'Branch', 'Bijoy Chandra Das Road', 'Vill', 'Order No', 'Challan No', 'Buyer', 'Details Despatched', 'Steses', 'Non', 'Ader AARIVE', 'Ewe Bill NG', 'Goods HSN', 'Cmecnre NY', 'Code No', 'Amount Chargeable']\n",
      "['Bijoy Chandra Das Road', 'Order No', 'Borex', 'Goods', 'Code No', 'Sey Ce Saeed', 'Nene', 'Bank', 'Branch', 'Signatory']\n",
      "['P', 'Bijoy Chandra Das Road', 'Order No', 'Challan No', 'Buyer', 'Details', 'Stee', 'Goods HSN', 'Bsa', 'Seeker GAB', 'Joveerey', 'Branch', 'Wade AIC No']\n",
      "['D', 'Bijoy Chandra Das Road', 'Order No', 'Challan No', 'Details Despatched', 'Nadioe', 'Qe Mnuackahorst', 'Braided', 'Code No', 'Amount Chargeable', 'Huineht Sev', 'Bank', 'Branch', 'Signatory']\n",
      "['Seller PAN', 'Email', 'Uo SHIPPING', 'Gujarat', 'Anjani Courier Service Pvt', 'Air PLACE OF', 'Vadodara', 'Gujarat']\n",
      "['Seller Hi', 'Email', 'Gujarat', 'Anjani Courier Service Pvt', 'Air PLACE OF', 'Vadodara', 'Gujarat']\n",
      "['I1920004803 TATA', 'Durgapur Expressway', 'Durgapur Expressway', 'Hotel Olympus', 'Near Hotel Olympus', 'Dankuni', 'Hooghly', 'Dankuni', 'Hooghly', 'Bengal State', 'Bengal', 'Vehicle No', 'Bill', 'Bengal State', 'Bengal', 'Taxable Value', 'Tata Tea Pr', 'Tata Tea Pr', 'Bishop Lefroy Road', 'Kolkata', 'Kirloskar Business Park', 'Bengaluru', 'Email', 'Website']\n",
      "['Bill', 'Lakhs Forty', 'Paisa Ninety Nine Only Cheques', 'Drafts', 'Summary HSN Taxable Value', 'Amt Tax', 'Goods UOM Rate', 'Goods', 'Received No', 'Kirloskar Business Park', 'Email', 'Bishop Lefroy Road', 'Kolkata', 'Bengaluru', 'Website']\n"
     ]
    }
   ],
   "source": [
    "def extract_names(txt):\n",
    "    person_names = []\n",
    "\n",
    "    for sent in nltk.sent_tokenize(txt):\n",
    "        for chunk in nltk.ne_chunk(nltk.pos_tag(nltk.word_tokenize(sent))):\n",
    "            if hasattr(chunk, 'label') and chunk.label() == 'PERSON':\n",
    "                person_names.append(\n",
    "                    ' '.join(chunk_leave[0] for chunk_leave in chunk.leaves())\n",
    "                )\n",
    "\n",
    "    return person_names\n",
    "\n",
    "for invoice in corpus_invoicedata:\n",
    "    print(extract_names(invoice))"
   ]
  },
  {
   "cell_type": "code",
   "execution_count": 94,
   "id": "bc800b26",
   "metadata": {},
   "outputs": [
    {
     "name": "stdout",
     "output_type": "stream",
     "text": [
      "['CHAL All Subject', 'SONS', 'DUPLICATE', 'TRIPLICATE FOR', 'Sheets', 'General Order', 'Transportation', 'Supply', 'Code', 'IZAIRPPS3IS L277', 'SERVICE Code Quantity Rate Rs', 'ADD', 'ADD', 'TOTAL', 'InWords', 'OF', 'TotalRs', 'BANK', 'OE', 'HIRALAL', 'SONS']\n",
      "['UDIT', 'WEST', 'MASHILA', 'Payment Supplier', 'Note Date', 'Delivery', 'OE Indian Rupees Forty', 'CentralTax', '___ Total', 'Rupees', 'Computer']\n",
      "['TAX', 'STEELSTOCK', 'Original Buyer', 'Copy', 'GSTIN No', 'PAIR', 'CREDIT', 'WITHDRAWN', '_Kg', 'Rate Rs', 'Total', 'ScsT', 'IGST', 'GST', 'ISPAT']\n",
      "['NAYABAZ', 'HOWRAH', 'GST', 'Payment', 'Consignes Buyer', 'UNIT', 'GSTIN', 'Shel', 'Delivery', 'CODE', 'CODE', 'OUTPUT', 'OUTPUT', 'SUBJECT TO', 'Computer']\n",
      "['ORIGINAL', 'COPY', 'CREDIT', 'Date', 'SHIB', 'SHAKTI', 'WORKS', 'PP', 'PVC', 'TEFLON', 'BACKLIGHT', 'RODS', 'Amta', 'GSTIN', 'oP', 'BBW', 'Code No', 'Yes', 'Sciail', 'Total', 'LICGST', 'IGST', 'SHIB', 'SHAKTI', 'WORKS Rall Me']\n",
      "['BALAJI', 'PANCHLA', 'Payment', 'GSTIN', 'LL', 'Delivery', 'OF', 'ALLOY', 'CODE', 'OUTPUT', 'ROUNDED', 'R', 'Local Sales Tax No', 'Computer']\n",
      "['TAX', 'INVOICE', 'STEELSTOCK', 'ISPA', 'HOUSE OF TOOHAIALEON', 'JM', 'GSTIN No', 'CREDIT', 'WITHDRAWN', 'NOT', '_Kg', 'Rate Rs', 'cesT', 'HO50', 'LOSOC', 'ISPAT']\n",
      "['Buyer', 'AIL Despatch', 'Note Date', 'Delivery Piel', 'ALLOY', 'CentralTax', 'TaxAmount', 'INR Six Thousand Seventy Five Only', 'Computer']\n",
      "['DULIYA', 'HOWRAH', 'UNIT', 'SANKRAIL', 'HOWRAH', 'Delivery Note', 'Payment Supplier', 'Delivery Note Date', 'Delivery', 'STEEL', 'CGST', 'SGST', 'Computer']\n",
      "['ENSTO', '_sEnsto India', 'ORIGINAL', 'INDIA West', 'Payment Due Date Terms of Delivery Place', 'Supply Advance', 'EXW', 'Bank Account Ship Via Real Ship Date', 'UPI Apps Sales Pos', 'PartNo', 'XLPE', 'SINGLE CORE', 'HEAT', 'Total Tax', 'GST', 'GURUGRAM', 'CIN']\n",
      "['GST', 'INVOICE Original', 'SONS', 'HOUSE', 'STRAND', 'KOLKATA', 'PAN No', 'RTGS', 'NEFT', 'JA4_', 'Date', 'SSISE', 'SEU', 'KOLKATA', 'BAI', 'JaQyw']\n",
      "['GST', 'INVOICE Original', 'SONS', 'HOUSE', 'STRAND', 'KOLKATA', 'PAN No', 'AADFB7015R', 'OAT', 'Quantity Rate', 'Ate Peyeel', 'ND', 'Total I1G', 'CGST', 'lOStriés Bank', 'UNITED', 'BANK OF', 'INDIA', 'STATE', 'BANK OF', 'Aud', 'UTBIOCAL107', 'SBINO000144', 'KOLKATA', 'BAIN', 'SONS Goods', 'RTGS', 'NEFT']\n",
      "['COPY Tax', 'CGST', 'Invoice Ruals', 'ADDRESS', 'MANICKPUR', 'DELTA', 'SANKRAIL', 'HOWRAH', 'GST', 'DATE OF', 'ISSUE', 'AGAINST', 'ORDER', 'NO', 'DATE OF', 'SUPPLY', 'ORDER', 'DATE', 'WEST', 'BENGAL', 'PARTY', 'PARTY', 'UNIT', 'JHOREHAT', 'HOWRAH', 'MIDDLE', 'JHOREHAT', 'HOWRAH', 'GST', 'NO', 'WESTBENGAL', 'SLNO', 'UNITS', 'PINCHING', 'PUMP', 'GLS', 'FOR', 'PCS', 'COIL', 'CLAMP', 'GLS', 'RH', 'PALI', 'VTL', 'TOTAL', 'DELIVERY', 'TOTAL', 'CGST', 'SGST', 'IGST', 'TOTAL', 'TOTAL', 'INWARD', 'TOTAL', 'FORTY']\n",
      "['TAX', 'INVOICE', 'STEELSTOCK', 'HOUSE', 'GSTINN', 'IPADRPPSSISE', 'IZM Yours', 'CREDIT', 'WITHDRAWN', 'NOT', 'VALUE Quantity', 'Kg', 'Rate Rs', 'Total', 'SGST', 'INTEREST', 'PER', 'PAYMENT']\n",
      "['TAX', 'INVOICE', 'STEELSTOCK', 'GH', 'HOUSE_OF', 'BYAREOY', 'STEEL', 'CREDIT', 'WITHDRAWN', 'NOT', 'Pood Rate', 'T2A2g', 'QYTO', 'SGST', 'INTEREST', 'PER', 'PAYMENT', 'GHAR']\n",
      "['TAX Mb', 'DUPLICATE', 'TRIPLICATE FOR', 'HIRG', 'SONS', 'Sheets', 'General Order', 'Supply', 'ENGINEERY', 'NG', 'L7ATRELSSISEAZI', 'AMOUNT No', 'ADDCGST', 'ADD', 'TOTAL', 'ROE', 'TotalRs', 'BANK', 'FEDERAL', 'BANK', 'HIRALAL', 'SONS']\n",
      "['GST', 'INVOICE Original', 'SONS', 'HOUSE', 'STRAND', 'KOLKATA', 'PAN No', 'AADFB7015R', 'JA4_', 'Date of Supply', 'S8SISE', 'ZM', 'Quantity Rate', 'CGST', 'Bank', 'UNITED', 'BANK OF', 'INDIA', 'STATE', 'BANK OF', 'Add', 'UTBIOCAL107', 'SBINQ000144', 'SUBJECT', 'KOLKATA', 'BAIJNATH', 'SPNS Goods', 'RTGS', 'NEFT']\n",
      "['FANG', 'CGST', 'SGST']\n",
      "['MAA', 'MANASA', 'CENTRE', 'NORTH', 'PARGANAS', 'nilaynathOO', 'TAX', 'MMPC Party', 'BIJOY', 'SAINPALA', 'BASIRHAT', 'PARGANAS', 'Note', 'REAMS', 'EEO', 'INR', 'Thousand Seven Hundred Fifty Eight', 'Company', 'BBPN1538E', 'Seal', 'Signature', 'MAA', 'CENTRE', 'Computer']\n",
      "['ORIGINAL', 'FOR', 'SREE', 'Industrial Estate', 'Karnataka', 'SHIVAMOGGA', 'MYSURU', 'ABIPN0921C', 'ROAD', 'COREE Neel Bank', 'Bank', 'AWRPS1749M', 'BKID0008450 Type', 'GST', 'IGST', 'TOTAL', 'RUPEES', 'SREE']\n",
      "['Bank Details', 'AXIS Bank', 'AIC', 'IFSC Code No', 'UTIBO000548', 'UDYOG', 'Payment', 'Parganas', 'Tel', 'RaQa', 'HAKAN Pash', 'GSTIN', 'SSBB', 'NIBH', 'WASH S195', 'BVP Onal Monger', 'LIBSERO', 'GUNAINA Bekwuadshars', 'Sons Ws', 'MVG', 'B58qGICO', 'TOTAL', 'Company', 'PAN No']\n",
      "['UDYOG', 'Payment', 'Parganas', 'Tel', 'WEA2SHRBISB5', 'MHAVG', 'CUKRV', 'TOTAL Sl', 'OMe', 'Company', 'PAN No', 'AUKPP8322N', 'GSTIN No', 'Bank', 'AXIS Bank', 'IFSC Code No', 'UTIBO000548']\n",
      "['UDYOG', 'UDYOG', 'Payment', 'Parganas', 'SAAGOSS44R', 'ABASWGSSSBABXK', 'WESERSL', 'PLY', 'Quantity Rate Per Amount', 'ALL', 'EPIMPiNy', 'ZS', 'OSEUCROZGN', 'ZAB', 'CST', 'WM', 'CASS', 'SAB', 'GEO', 'OST', 'CARAS', 'COSSHOROR', 'BSG', 'TOTAL G3', 'RPK', 'BhaSomad', 'SAMs', 'AMPS', 'ANON', 'IAS', 'SME', 'Company', 'Bank Details', 'AXIS Bank', 'IFSC Code No']\n",
      "['UDYOG Cand', 'PO', 'Payment', 'Parganas', 'OAS Buyer', 'GSTIN', 'MANQes', 'CRIB', 'OSes', 'SUVPSSmMaWEKSA', 'WKY', 'TPES', 'SGST Qos', 'EAONAAWA', 'NMEA', 'Bank', 'AXIS Bank', 'IFSC Code No']\n",
      "['TAX', 'INVOICE', 'DATE', 'SEE', 'SECTION', 'Triplicate', 'AJRPP8815E', 'Electrical Engineers', 'WEST', 'BENGAL', 'STATE', 'DETAILS', 'VADODARA', 'RECEIVER', 'VADODARA', 'BILLING', 'DELIVERY', 'ADDRESS Vadodara', 'ADDRESS Vadodara', 'STATE Gujarat', 'STATE', 'DATE', 'CODE Copeondide', 'PURCHASE', 'RATE', 'PCS', 'INR', 'INR', 'SUCKER', 'SUCKER', 'HSN', 'TOTAL', 'TOTAL', 'IGST', 'GROSS', 'TOTAL', 'INVOICE', 'RUPEES', 'TAX', 'REVERSE', 'YES', 'TRANSPORT']\n",
      "['TAX', 'INVOICE', 'DATE', 'SEE', 'SECTION', 'Triplicate', 'AJRPP8815E', 'Mechanical', 'Electrical Engineers', 'WA', 'WEST', 'BENGAL Se', 'STATE', 'SIGNIFY', 'VADODARA', 'RECEIVER', 'VADODARA', 'BILLING', 'DELIVERY', 'ADDRESS Vadodara', 'ADDRESS Vadodara', 'STATE Gujarat', 'STATE', 'RIPTION', 'OREDERN', 'DATE', 'BULB', 'STRIPPER', 'BOLT', 'SLG', 'CLUTCH', 'GLS', 'UPPER', 'ARM', 'ROLLING', 'GLS', 'PINCH', 'ALIGNER', 'GLS', 'PINCHING', 'PUMP', 'GLS', 'PINCH', 'GLS', 'PUMP', 'GLS', 'CENTRAL', 'POT', 'GLS', 'HSN', 'TOTAL', 'TOTAL', 'PCS', 'FORWARDING', 'TOTAL', 'TAXABLE', 'GROSS', 'IGST', 'TOTAL', 'TOTAL', 'RUPEES', 'THE', 'TAX', 'REVERSE', 'TRANSPORT']\n",
      "['ORIGINAL FOR', 'TATA', 'TAX', 'WB21 Shipped', 'WB21', 'ODN', 'CONSUMER', 'BD Castings Ltd', 'MOU', 'ANDUL', 'ANDUL', 'ANDUL', 'No', 'IRN', 'INR', 'INR', 'INR', 'Rate Tax', 'INR', 'UOM', 'INR', 'TT205W', 'TG002PBM', 'TT Gold', 'Cath Festive', 'Total', 'Corporate', 'PAN', 'AABCT0602K']\n",
      "['Continued', 'MOU', 'TRADING Our Reference No', 'TCS', 'Total', 'NEFT', 'TATA', 'TATA', 'INR', 'INR', 'INR', 'INR', 'INR', 'INR', 'TCS', 'Total', 'PAN', 'AABCT0602K', 'PAGE']\n"
     ]
    }
   ],
   "source": [
    "def extract_organisations(txt):\n",
    "    person_organisations = []\n",
    "\n",
    "    for sent in nltk.sent_tokenize(txt):\n",
    "        for chunk in nltk.ne_chunk(nltk.pos_tag(nltk.word_tokenize(sent))):\n",
    "            if hasattr(chunk, 'label') and chunk.label() == 'ORGANIZATION':\n",
    "                person_organisations.append(\n",
    "                    ' '.join(chunk_leave[0] for chunk_leave in chunk.leaves())\n",
    "                )\n",
    "\n",
    "    return person_organisations\n",
    "\n",
    "for invoice in corpus_invoicedata:\n",
    "    print(extract_organisations(invoice))"
   ]
  },
  {
   "cell_type": "code",
   "execution_count": 95,
   "id": "96ea4948",
   "metadata": {},
   "outputs": [
    {
     "data": {
      "application/javascript": [
       "\n",
       "        if (window._pyforest_update_imports_cell) { window._pyforest_update_imports_cell('import re\\nimport os'); }\n",
       "    "
      ],
      "text/plain": [
       "<IPython.core.display.Javascript object>"
      ]
     },
     "metadata": {},
     "output_type": "display_data"
    },
    {
     "data": {
      "application/javascript": [
       "\n",
       "        if (window._pyforest_update_imports_cell) { window._pyforest_update_imports_cell('import re\\nimport os'); }\n",
       "    "
      ],
      "text/plain": [
       "<IPython.core.display.Javascript object>"
      ]
     },
     "metadata": {},
     "output_type": "display_data"
    },
    {
     "name": "stdout",
     "output_type": "stream",
     "text": [
      "['9836557024', '1968499802', '1968499823']\n"
     ]
    },
    {
     "data": {
      "application/javascript": [
       "\n",
       "        if (window._pyforest_update_imports_cell) { window._pyforest_update_imports_cell('import re\\nimport os'); }\n",
       "    "
      ],
      "text/plain": [
       "<IPython.core.display.Javascript object>"
      ]
     },
     "metadata": {},
     "output_type": "display_data"
    },
    {
     "name": "stdout",
     "output_type": "stream",
     "text": [
      "None\n"
     ]
    },
    {
     "data": {
      "application/javascript": [
       "\n",
       "        if (window._pyforest_update_imports_cell) { window._pyforest_update_imports_cell('import re\\nimport os'); }\n",
       "    "
      ],
      "text/plain": [
       "<IPython.core.display.Javascript object>"
      ]
     },
     "metadata": {},
     "output_type": "display_data"
    },
    {
     "name": "stdout",
     "output_type": "stream",
     "text": [
      "None\n"
     ]
    },
    {
     "data": {
      "application/javascript": [
       "\n",
       "        if (window._pyforest_update_imports_cell) { window._pyforest_update_imports_cell('import re\\nimport os'); }\n",
       "    "
      ],
      "text/plain": [
       "<IPython.core.display.Javascript object>"
      ]
     },
     "metadata": {},
     "output_type": "display_data"
    },
    {
     "name": "stdout",
     "output_type": "stream",
     "text": [
      "None\n"
     ]
    },
    {
     "data": {
      "application/javascript": [
       "\n",
       "        if (window._pyforest_update_imports_cell) { window._pyforest_update_imports_cell('import re\\nimport os'); }\n",
       "    "
      ],
      "text/plain": [
       "<IPython.core.display.Javascript object>"
      ]
     },
     "metadata": {},
     "output_type": "display_data"
    },
    {
     "name": "stdout",
     "output_type": "stream",
     "text": [
      "['6290365442', '8609250847']\n"
     ]
    },
    {
     "data": {
      "application/javascript": [
       "\n",
       "        if (window._pyforest_update_imports_cell) { window._pyforest_update_imports_cell('import re\\nimport os'); }\n",
       "    "
      ],
      "text/plain": [
       "<IPython.core.display.Javascript object>"
      ]
     },
     "metadata": {},
     "output_type": "display_data"
    },
    {
     "name": "stdout",
     "output_type": "stream",
     "text": [
      "None\n"
     ]
    },
    {
     "data": {
      "application/javascript": [
       "\n",
       "        if (window._pyforest_update_imports_cell) { window._pyforest_update_imports_cell('import re\\nimport os'); }\n",
       "    "
      ],
      "text/plain": [
       "<IPython.core.display.Javascript object>"
      ]
     },
     "metadata": {},
     "output_type": "display_data"
    },
    {
     "name": "stdout",
     "output_type": "stream",
     "text": [
      "None\n"
     ]
    },
    {
     "data": {
      "application/javascript": [
       "\n",
       "        if (window._pyforest_update_imports_cell) { window._pyforest_update_imports_cell('import re\\nimport os'); }\n",
       "    "
      ],
      "text/plain": [
       "<IPython.core.display.Javascript object>"
      ]
     },
     "metadata": {},
     "output_type": "display_data"
    },
    {
     "name": "stdout",
     "output_type": "stream",
     "text": [
      "None\n"
     ]
    },
    {
     "data": {
      "application/javascript": [
       "\n",
       "        if (window._pyforest_update_imports_cell) { window._pyforest_update_imports_cell('import re\\nimport os'); }\n",
       "    "
      ],
      "text/plain": [
       "<IPython.core.display.Javascript object>"
      ]
     },
     "metadata": {},
     "output_type": "display_data"
    },
    {
     "name": "stdout",
     "output_type": "stream",
     "text": [
      "None\n"
     ]
    },
    {
     "data": {
      "application/javascript": [
       "\n",
       "        if (window._pyforest_update_imports_cell) { window._pyforest_update_imports_cell('import re\\nimport os'); }\n",
       "    "
      ],
      "text/plain": [
       "<IPython.core.display.Javascript object>"
      ]
     },
     "metadata": {},
     "output_type": "display_data"
    },
    {
     "name": "stdout",
     "output_type": "stream",
     "text": [
      "['9830705033', '5210506621']\n"
     ]
    },
    {
     "data": {
      "application/javascript": [
       "\n",
       "        if (window._pyforest_update_imports_cell) { window._pyforest_update_imports_cell('import re\\nimport os'); }\n",
       "    "
      ],
      "text/plain": [
       "<IPython.core.display.Javascript object>"
      ]
     },
     "metadata": {},
     "output_type": "display_data"
    },
    {
     "name": "stdout",
     "output_type": "stream",
     "text": [
      "['6699241254']\n"
     ]
    },
    {
     "data": {
      "application/javascript": [
       "\n",
       "        if (window._pyforest_update_imports_cell) { window._pyforest_update_imports_cell('import re\\nimport os'); }\n",
       "    "
      ],
      "text/plain": [
       "<IPython.core.display.Javascript object>"
      ]
     },
     "metadata": {},
     "output_type": "display_data"
    },
    {
     "name": "stdout",
     "output_type": "stream",
     "text": [
      "['0084050003', '1110779532']\n"
     ]
    },
    {
     "data": {
      "application/javascript": [
       "\n",
       "        if (window._pyforest_update_imports_cell) { window._pyforest_update_imports_cell('import re\\nimport os'); }\n",
       "    "
      ],
      "text/plain": [
       "<IPython.core.display.Javascript object>"
      ]
     },
     "metadata": {},
     "output_type": "display_data"
    },
    {
     "name": "stdout",
     "output_type": "stream",
     "text": [
      "None\n"
     ]
    },
    {
     "data": {
      "application/javascript": [
       "\n",
       "        if (window._pyforest_update_imports_cell) { window._pyforest_update_imports_cell('import re\\nimport os'); }\n",
       "    "
      ],
      "text/plain": [
       "<IPython.core.display.Javascript object>"
      ]
     },
     "metadata": {},
     "output_type": "display_data"
    },
    {
     "name": "stdout",
     "output_type": "stream",
     "text": [
      "None\n"
     ]
    },
    {
     "data": {
      "application/javascript": [
       "\n",
       "        if (window._pyforest_update_imports_cell) { window._pyforest_update_imports_cell('import re\\nimport os'); }\n",
       "    "
      ],
      "text/plain": [
       "<IPython.core.display.Javascript object>"
      ]
     },
     "metadata": {},
     "output_type": "display_data"
    },
    {
     "name": "stdout",
     "output_type": "stream",
     "text": [
      "None\n"
     ]
    },
    {
     "data": {
      "application/javascript": [
       "\n",
       "        if (window._pyforest_update_imports_cell) { window._pyforest_update_imports_cell('import re\\nimport os'); }\n",
       "    "
      ],
      "text/plain": [
       "<IPython.core.display.Javascript object>"
      ]
     },
     "metadata": {},
     "output_type": "display_data"
    },
    {
     "name": "stdout",
     "output_type": "stream",
     "text": [
      "['9836557024', '1968499802', '1968499823']\n"
     ]
    },
    {
     "data": {
      "application/javascript": [
       "\n",
       "        if (window._pyforest_update_imports_cell) { window._pyforest_update_imports_cell('import re\\nimport os'); }\n",
       "    "
      ],
      "text/plain": [
       "<IPython.core.display.Javascript object>"
      ]
     },
     "metadata": {},
     "output_type": "display_data"
    },
    {
     "name": "stdout",
     "output_type": "stream",
     "text": [
      "['0084050003', '1110779532']\n"
     ]
    },
    {
     "data": {
      "application/javascript": [
       "\n",
       "        if (window._pyforest_update_imports_cell) { window._pyforest_update_imports_cell('import re\\nimport os'); }\n",
       "    "
      ],
      "text/plain": [
       "<IPython.core.display.Javascript object>"
      ]
     },
     "metadata": {},
     "output_type": "display_data"
    },
    {
     "name": "stdout",
     "output_type": "stream",
     "text": [
      "None\n"
     ]
    },
    {
     "data": {
      "application/javascript": [
       "\n",
       "        if (window._pyforest_update_imports_cell) { window._pyforest_update_imports_cell('import re\\nimport os'); }\n",
       "    "
      ],
      "text/plain": [
       "<IPython.core.display.Javascript object>"
      ]
     },
     "metadata": {},
     "output_type": "display_data"
    },
    {
     "name": "stdout",
     "output_type": "stream",
     "text": [
      "['8001780050', '7602929598']\n"
     ]
    },
    {
     "data": {
      "application/javascript": [
       "\n",
       "        if (window._pyforest_update_imports_cell) { window._pyforest_update_imports_cell('import re\\nimport os'); }\n",
       "    "
      ],
      "text/plain": [
       "<IPython.core.display.Javascript object>"
      ]
     },
     "metadata": {},
     "output_type": "display_data"
    },
    {
     "name": "stdout",
     "output_type": "stream",
     "text": [
      "['9686694902', '0332668621', '0933121538', '8450301000']\n"
     ]
    },
    {
     "data": {
      "application/javascript": [
       "\n",
       "        if (window._pyforest_update_imports_cell) { window._pyforest_update_imports_cell('import re\\nimport os'); }\n",
       "    "
      ],
      "text/plain": [
       "<IPython.core.display.Javascript object>"
      ]
     },
     "metadata": {},
     "output_type": "display_data"
    },
    {
     "name": "stdout",
     "output_type": "stream",
     "text": [
      "['5480102000', '0332524000', '9830705033', '9332025825', '6394642632']\n"
     ]
    },
    {
     "data": {
      "application/javascript": [
       "\n",
       "        if (window._pyforest_update_imports_cell) { window._pyforest_update_imports_cell('import re\\nimport os'); }\n",
       "    "
      ],
      "text/plain": [
       "<IPython.core.display.Javascript object>"
      ]
     },
     "metadata": {},
     "output_type": "display_data"
    },
    {
     "name": "stdout",
     "output_type": "stream",
     "text": [
      "['0332524000', '9830705033', '9332025825', '5480102000']\n"
     ]
    },
    {
     "data": {
      "application/javascript": [
       "\n",
       "        if (window._pyforest_update_imports_cell) { window._pyforest_update_imports_cell('import re\\nimport os'); }\n",
       "    "
      ],
      "text/plain": [
       "<IPython.core.display.Javascript object>"
      ]
     },
     "metadata": {},
     "output_type": "display_data"
    },
    {
     "name": "stdout",
     "output_type": "stream",
     "text": [
      "['0332524000', '9830705033', '9332025825', '5480102000']\n"
     ]
    },
    {
     "data": {
      "application/javascript": [
       "\n",
       "        if (window._pyforest_update_imports_cell) { window._pyforest_update_imports_cell('import re\\nimport os'); }\n",
       "    "
      ],
      "text/plain": [
       "<IPython.core.display.Javascript object>"
      ]
     },
     "metadata": {},
     "output_type": "display_data"
    },
    {
     "name": "stdout",
     "output_type": "stream",
     "text": [
      "['0332524000', '5000033495', '9830705033', '9332025825', '6304042532', '0304643341', '5480102000']\n"
     ]
    },
    {
     "data": {
      "application/javascript": [
       "\n",
       "        if (window._pyforest_update_imports_cell) { window._pyforest_update_imports_cell('import re\\nimport os'); }\n",
       "    "
      ],
      "text/plain": [
       "<IPython.core.display.Javascript object>"
      ]
     },
     "metadata": {},
     "output_type": "display_data"
    },
    {
     "name": "stdout",
     "output_type": "stream",
     "text": [
      "['-9501070089', '2228136830', '-9501070089', '2228136829']\n"
     ]
    },
    {
     "data": {
      "application/javascript": [
       "\n",
       "        if (window._pyforest_update_imports_cell) { window._pyforest_update_imports_cell('import re\\nimport os'); }\n",
       "    "
      ],
      "text/plain": [
       "<IPython.core.display.Javascript object>"
      ]
     },
     "metadata": {},
     "output_type": "display_data"
    },
    {
     "name": "stdout",
     "output_type": "stream",
     "text": [
      "['2536409097', '7215111030', '2536409930', '7215110100', '2225848940', '1253641055', '7215204040', '2220832785', '2536410879', '7215077030', '2536410879', '7215204010', '2220853646', '2536410879', '7215204010', '2220853647', '2536410995', '7215203110', '2228308884', '2536411467', '7215203030', '2228121350', '2536411467', '7215205060', '2220831452', '2536412060', '7215203030', '2228121350', '2536412060', '7215205010', '2536412152', '7215206010']\n"
     ]
    },
    {
     "data": {
      "application/javascript": [
       "\n",
       "        if (window._pyforest_update_imports_cell) { window._pyforest_update_imports_cell('import re\\nimport os'); }\n",
       "    "
      ],
      "text/plain": [
       "<IPython.core.display.Javascript object>"
      ]
     },
     "metadata": {},
     "output_type": "display_data"
    },
    {
     "name": "stdout",
     "output_type": "stream",
     "text": [
      "['1920004803', '1382601992', '2106527821', '9073935402', '9073935402', '1820100254']\n"
     ]
    },
    {
     "data": {
      "application/javascript": [
       "\n",
       "        if (window._pyforest_update_imports_cell) { window._pyforest_update_imports_cell('import re\\nimport os'); }\n",
       "    "
      ],
      "text/plain": [
       "<IPython.core.display.Javascript object>"
      ]
     },
     "metadata": {},
     "output_type": "display_data"
    },
    {
     "name": "stdout",
     "output_type": "stream",
     "text": [
      "['1382601992']\n"
     ]
    }
   ],
   "source": [
    "PHONE_REG = re.compile(r'(\\+?91)?(-)?\\s*?(91)?\\s*?(\\d{3})-?\\s*?(\\d{3})-?\\s*?(\\d{4})')\n",
    "#re.compile(r'(?:\\s+|)((0|(?:(\\+|)91))(?:\\s|-)*(?:(?:\\d(?:\\s|-)*\\d{9})|(?:\\d{2}(?:\\s|-)*\\d{8})|(?:\\d{3}(?:\\s|-)*\\d{7}))|\\d{10})(?:\\s+|)')\n",
    "#(r'\\+91[\\-\\s]?)?[0]?(91)?[789]\\d{9}$')\n",
    "#(r'[\\+\\(]?[1-9][0-9 .\\-\\(\\)]{8,}[0-9]')\n",
    "\n",
    "def extract_all_phone_number(invoice_text):\n",
    "    phone = re.findall(PHONE_REG, invoice_text)\n",
    "    number = []\n",
    "    \n",
    "\n",
    "    if phone:\n",
    "        for i in range(len(phone)):\n",
    "            num = ''.join(phone[i])\n",
    "            number.append(num)\n",
    "        return number\n",
    "    return None\n",
    "def extract_phone_number(invoice_text):\n",
    "    phone = re.findall(PHONE_REG, invoice_text)\n",
    "\n",
    "    if phone:\n",
    "        number = ''.join(phone[0])\n",
    "\n",
    "        if invoice_text.find(number) >= 0 and len(number) < 16:\n",
    "            return number\n",
    "    return None\n",
    "for invoice in corpus_invoicedata:\n",
    "    print(extract_all_phone_number(invoice))"
   ]
  },
  {
   "cell_type": "code",
   "execution_count": 96,
   "id": "1fe1d240",
   "metadata": {},
   "outputs": [
    {
     "data": {
      "application/javascript": [
       "\n",
       "        if (window._pyforest_update_imports_cell) { window._pyforest_update_imports_cell('import re\\nimport os'); }\n",
       "    "
      ],
      "text/plain": [
       "<IPython.core.display.Javascript object>"
      ]
     },
     "metadata": {},
     "output_type": "display_data"
    },
    {
     "data": {
      "application/javascript": [
       "\n",
       "        if (window._pyforest_update_imports_cell) { window._pyforest_update_imports_cell('import re\\nimport os'); }\n",
       "    "
      ],
      "text/plain": [
       "<IPython.core.display.Javascript object>"
      ]
     },
     "metadata": {},
     "output_type": "display_data"
    },
    {
     "name": "stdout",
     "output_type": "stream",
     "text": [
      "['dineshjaiswal1979@gmail.com']\n"
     ]
    },
    {
     "data": {
      "application/javascript": [
       "\n",
       "        if (window._pyforest_update_imports_cell) { window._pyforest_update_imports_cell('import re\\nimport os'); }\n",
       "    "
      ],
      "text/plain": [
       "<IPython.core.display.Javascript object>"
      ]
     },
     "metadata": {},
     "output_type": "display_data"
    },
    {
     "name": "stdout",
     "output_type": "stream",
     "text": [
      "['udit40bh@gmail.com']\n"
     ]
    },
    {
     "data": {
      "application/javascript": [
       "\n",
       "        if (window._pyforest_update_imports_cell) { window._pyforest_update_imports_cell('import re\\nimport os'); }\n",
       "    "
      ],
      "text/plain": [
       "<IPython.core.display.Javascript object>"
      ]
     },
     "metadata": {},
     "output_type": "display_data"
    },
    {
     "name": "stdout",
     "output_type": "stream",
     "text": [
      "['ispalghar2015@gmail.com']\n"
     ]
    },
    {
     "data": {
      "application/javascript": [
       "\n",
       "        if (window._pyforest_update_imports_cell) { window._pyforest_update_imports_cell('import re\\nimport os'); }\n",
       "    "
      ],
      "text/plain": [
       "<IPython.core.display.Javascript object>"
      ]
     },
     "metadata": {},
     "output_type": "display_data"
    },
    {
     "name": "stdout",
     "output_type": "stream",
     "text": [
      "[]\n"
     ]
    },
    {
     "data": {
      "application/javascript": [
       "\n",
       "        if (window._pyforest_update_imports_cell) { window._pyforest_update_imports_cell('import re\\nimport os'); }\n",
       "    "
      ],
      "text/plain": [
       "<IPython.core.display.Javascript object>"
      ]
     },
     "metadata": {},
     "output_type": "display_data"
    },
    {
     "name": "stdout",
     "output_type": "stream",
     "text": [
      "[]\n"
     ]
    },
    {
     "data": {
      "application/javascript": [
       "\n",
       "        if (window._pyforest_update_imports_cell) { window._pyforest_update_imports_cell('import re\\nimport os'); }\n",
       "    "
      ],
      "text/plain": [
       "<IPython.core.display.Javascript object>"
      ]
     },
     "metadata": {},
     "output_type": "display_data"
    },
    {
     "name": "stdout",
     "output_type": "stream",
     "text": [
      "[]\n"
     ]
    },
    {
     "data": {
      "application/javascript": [
       "\n",
       "        if (window._pyforest_update_imports_cell) { window._pyforest_update_imports_cell('import re\\nimport os'); }\n",
       "    "
      ],
      "text/plain": [
       "<IPython.core.display.Javascript object>"
      ]
     },
     "metadata": {},
     "output_type": "display_data"
    },
    {
     "name": "stdout",
     "output_type": "stream",
     "text": [
      "['ispalghar2015@gmail.com']\n"
     ]
    },
    {
     "data": {
      "application/javascript": [
       "\n",
       "        if (window._pyforest_update_imports_cell) { window._pyforest_update_imports_cell('import re\\nimport os'); }\n",
       "    "
      ],
      "text/plain": [
       "<IPython.core.display.Javascript object>"
      ]
     },
     "metadata": {},
     "output_type": "display_data"
    },
    {
     "name": "stdout",
     "output_type": "stream",
     "text": [
      "[]\n"
     ]
    },
    {
     "data": {
      "application/javascript": [
       "\n",
       "        if (window._pyforest_update_imports_cell) { window._pyforest_update_imports_cell('import re\\nimport os'); }\n",
       "    "
      ],
      "text/plain": [
       "<IPython.core.display.Javascript object>"
      ]
     },
     "metadata": {},
     "output_type": "display_data"
    },
    {
     "name": "stdout",
     "output_type": "stream",
     "text": [
      "[]\n"
     ]
    },
    {
     "data": {
      "application/javascript": [
       "\n",
       "        if (window._pyforest_update_imports_cell) { window._pyforest_update_imports_cell('import re\\nimport os'); }\n",
       "    "
      ],
      "text/plain": [
       "<IPython.core.display.Javascript object>"
      ]
     },
     "metadata": {},
     "output_type": "display_data"
    },
    {
     "name": "stdout",
     "output_type": "stream",
     "text": [
      "[]\n"
     ]
    },
    {
     "data": {
      "application/javascript": [
       "\n",
       "        if (window._pyforest_update_imports_cell) { window._pyforest_update_imports_cell('import re\\nimport os'); }\n",
       "    "
      ],
      "text/plain": [
       "<IPython.core.display.Javascript object>"
      ]
     },
     "metadata": {},
     "output_type": "display_data"
    },
    {
     "name": "stdout",
     "output_type": "stream",
     "text": [
      "['baijnath.kolkata@gmail.com']\n"
     ]
    },
    {
     "data": {
      "application/javascript": [
       "\n",
       "        if (window._pyforest_update_imports_cell) { window._pyforest_update_imports_cell('import re\\nimport os'); }\n",
       "    "
      ],
      "text/plain": [
       "<IPython.core.display.Javascript object>"
      ]
     },
     "metadata": {},
     "output_type": "display_data"
    },
    {
     "name": "stdout",
     "output_type": "stream",
     "text": [
      "['baijnath.kolkata@gmail.com']\n"
     ]
    },
    {
     "data": {
      "application/javascript": [
       "\n",
       "        if (window._pyforest_update_imports_cell) { window._pyforest_update_imports_cell('import re\\nimport os'); }\n",
       "    "
      ],
      "text/plain": [
       "<IPython.core.display.Javascript object>"
      ]
     },
     "metadata": {},
     "output_type": "display_data"
    },
    {
     "name": "stdout",
     "output_type": "stream",
     "text": [
      "[]\n"
     ]
    },
    {
     "data": {
      "application/javascript": [
       "\n",
       "        if (window._pyforest_update_imports_cell) { window._pyforest_update_imports_cell('import re\\nimport os'); }\n",
       "    "
      ],
      "text/plain": [
       "<IPython.core.display.Javascript object>"
      ]
     },
     "metadata": {},
     "output_type": "display_data"
    },
    {
     "name": "stdout",
     "output_type": "stream",
     "text": [
      "['ispalghar2015@gmail.com']\n"
     ]
    },
    {
     "data": {
      "application/javascript": [
       "\n",
       "        if (window._pyforest_update_imports_cell) { window._pyforest_update_imports_cell('import re\\nimport os'); }\n",
       "    "
      ],
      "text/plain": [
       "<IPython.core.display.Javascript object>"
      ]
     },
     "metadata": {},
     "output_type": "display_data"
    },
    {
     "name": "stdout",
     "output_type": "stream",
     "text": [
      "['ispalghar2015@gmail.com']\n"
     ]
    },
    {
     "data": {
      "application/javascript": [
       "\n",
       "        if (window._pyforest_update_imports_cell) { window._pyforest_update_imports_cell('import re\\nimport os'); }\n",
       "    "
      ],
      "text/plain": [
       "<IPython.core.display.Javascript object>"
      ]
     },
     "metadata": {},
     "output_type": "display_data"
    },
    {
     "name": "stdout",
     "output_type": "stream",
     "text": [
      "['dineshjaiswal1979@gmail.com']\n"
     ]
    },
    {
     "data": {
      "application/javascript": [
       "\n",
       "        if (window._pyforest_update_imports_cell) { window._pyforest_update_imports_cell('import re\\nimport os'); }\n",
       "    "
      ],
      "text/plain": [
       "<IPython.core.display.Javascript object>"
      ]
     },
     "metadata": {},
     "output_type": "display_data"
    },
    {
     "name": "stdout",
     "output_type": "stream",
     "text": [
      "['baijnath.kolkata@gmail.com']\n"
     ]
    },
    {
     "data": {
      "application/javascript": [
       "\n",
       "        if (window._pyforest_update_imports_cell) { window._pyforest_update_imports_cell('import re\\nimport os'); }\n",
       "    "
      ],
      "text/plain": [
       "<IPython.core.display.Javascript object>"
      ]
     },
     "metadata": {},
     "output_type": "display_data"
    },
    {
     "name": "stdout",
     "output_type": "stream",
     "text": [
      "[]\n"
     ]
    },
    {
     "data": {
      "application/javascript": [
       "\n",
       "        if (window._pyforest_update_imports_cell) { window._pyforest_update_imports_cell('import re\\nimport os'); }\n",
       "    "
      ],
      "text/plain": [
       "<IPython.core.display.Javascript object>"
      ]
     },
     "metadata": {},
     "output_type": "display_data"
    },
    {
     "name": "stdout",
     "output_type": "stream",
     "text": [
      "[]\n"
     ]
    },
    {
     "data": {
      "application/javascript": [
       "\n",
       "        if (window._pyforest_update_imports_cell) { window._pyforest_update_imports_cell('import re\\nimport os'); }\n",
       "    "
      ],
      "text/plain": [
       "<IPython.core.display.Javascript object>"
      ]
     },
     "metadata": {},
     "output_type": "display_data"
    },
    {
     "name": "stdout",
     "output_type": "stream",
     "text": [
      "['sreesgk1944@gmail.com']\n"
     ]
    },
    {
     "data": {
      "application/javascript": [
       "\n",
       "        if (window._pyforest_update_imports_cell) { window._pyforest_update_imports_cell('import re\\nimport os'); }\n",
       "    "
      ],
      "text/plain": [
       "<IPython.core.display.Javascript object>"
      ]
     },
     "metadata": {},
     "output_type": "display_data"
    },
    {
     "name": "stdout",
     "output_type": "stream",
     "text": [
      "['sspudyog@gmail.com']\n"
     ]
    },
    {
     "data": {
      "application/javascript": [
       "\n",
       "        if (window._pyforest_update_imports_cell) { window._pyforest_update_imports_cell('import re\\nimport os'); }\n",
       "    "
      ],
      "text/plain": [
       "<IPython.core.display.Javascript object>"
      ]
     },
     "metadata": {},
     "output_type": "display_data"
    },
    {
     "name": "stdout",
     "output_type": "stream",
     "text": [
      "['sspudyog@gmail.com']\n"
     ]
    },
    {
     "data": {
      "application/javascript": [
       "\n",
       "        if (window._pyforest_update_imports_cell) { window._pyforest_update_imports_cell('import re\\nimport os'); }\n",
       "    "
      ],
      "text/plain": [
       "<IPython.core.display.Javascript object>"
      ]
     },
     "metadata": {},
     "output_type": "display_data"
    },
    {
     "name": "stdout",
     "output_type": "stream",
     "text": [
      "['sspudyog@gmail.com']\n"
     ]
    },
    {
     "data": {
      "application/javascript": [
       "\n",
       "        if (window._pyforest_update_imports_cell) { window._pyforest_update_imports_cell('import re\\nimport os'); }\n",
       "    "
      ],
      "text/plain": [
       "<IPython.core.display.Javascript object>"
      ]
     },
     "metadata": {},
     "output_type": "display_data"
    },
    {
     "name": "stdout",
     "output_type": "stream",
     "text": [
      "['sspudyog@gmail.com']\n"
     ]
    },
    {
     "data": {
      "application/javascript": [
       "\n",
       "        if (window._pyforest_update_imports_cell) { window._pyforest_update_imports_cell('import re\\nimport os'); }\n",
       "    "
      ],
      "text/plain": [
       "<IPython.core.display.Javascript object>"
      ]
     },
     "metadata": {},
     "output_type": "display_data"
    },
    {
     "name": "stdout",
     "output_type": "stream",
     "text": [
      "['il.engineeringunit@gmail.com', 'il.engineeringunit@gmail.com']\n"
     ]
    },
    {
     "data": {
      "application/javascript": [
       "\n",
       "        if (window._pyforest_update_imports_cell) { window._pyforest_update_imports_cell('import re\\nimport os'); }\n",
       "    "
      ],
      "text/plain": [
       "<IPython.core.display.Javascript object>"
      ]
     },
     "metadata": {},
     "output_type": "display_data"
    },
    {
     "name": "stdout",
     "output_type": "stream",
     "text": [
      "['il.engineeringunit@gmail.com']\n"
     ]
    },
    {
     "data": {
      "application/javascript": [
       "\n",
       "        if (window._pyforest_update_imports_cell) { window._pyforest_update_imports_cell('import re\\nimport os'); }\n",
       "    "
      ],
      "text/plain": [
       "<IPython.core.display.Javascript object>"
      ]
     },
     "metadata": {},
     "output_type": "display_data"
    },
    {
     "name": "stdout",
     "output_type": "stream",
     "text": [
      "['cpbcfadankuni@gmail.com', 'investor.relations@tataconsumer.com']\n"
     ]
    },
    {
     "data": {
      "application/javascript": [
       "\n",
       "        if (window._pyforest_update_imports_cell) { window._pyforest_update_imports_cell('import re\\nimport os'); }\n",
       "    "
      ],
      "text/plain": [
       "<IPython.core.display.Javascript object>"
      ]
     },
     "metadata": {},
     "output_type": "display_data"
    },
    {
     "name": "stdout",
     "output_type": "stream",
     "text": [
      "['relations@tataconsumer.com']\n"
     ]
    }
   ],
   "source": [
    "EMAIL_REG = re.compile(r'[a-z0-9\\.\\-+_]+@[a-z0-9\\.\\-+_]+\\.[a-z]+')\n",
    "def extract_emails(invoice_text):\n",
    "    return re.findall(EMAIL_REG, invoice_text)\n",
    "\n",
    "for invoice in corpus_invoicedata:\n",
    "    print(extract_emails(invoice))"
   ]
  },
  {
   "cell_type": "code",
   "execution_count": 97,
   "id": "5cb93814",
   "metadata": {},
   "outputs": [
    {
     "data": {
      "application/javascript": [
       "\n",
       "        if (window._pyforest_update_imports_cell) { window._pyforest_update_imports_cell('import re\\nimport os'); }\n",
       "    "
      ],
      "text/plain": [
       "<IPython.core.display.Javascript object>"
      ]
     },
     "metadata": {},
     "output_type": "display_data"
    },
    {
     "data": {
      "application/javascript": [
       "\n",
       "        if (window._pyforest_update_imports_cell) { window._pyforest_update_imports_cell('import re\\nimport os'); }\n",
       "    "
      ],
      "text/plain": [
       "<IPython.core.display.Javascript object>"
      ]
     },
     "metadata": {},
     "output_type": "display_data"
    },
    {
     "name": "stdout",
     "output_type": "stream",
     "text": [
      "['AISPJ4698P']\n"
     ]
    },
    {
     "data": {
      "application/javascript": [
       "\n",
       "        if (window._pyforest_update_imports_cell) { window._pyforest_update_imports_cell('import re\\nimport os'); }\n",
       "    "
      ],
      "text/plain": [
       "<IPython.core.display.Javascript object>"
      ]
     },
     "metadata": {},
     "output_type": "display_data"
    },
    {
     "name": "stdout",
     "output_type": "stream",
     "text": [
      "['AHHPB5807A', 'AJRPP8815E']\n"
     ]
    },
    {
     "data": {
      "application/javascript": [
       "\n",
       "        if (window._pyforest_update_imports_cell) { window._pyforest_update_imports_cell('import re\\nimport os'); }\n",
       "    "
      ],
      "text/plain": [
       "<IPython.core.display.Javascript object>"
      ]
     },
     "metadata": {},
     "output_type": "display_data"
    },
    {
     "name": "stdout",
     "output_type": "stream",
     "text": [
      "[]\n"
     ]
    },
    {
     "data": {
      "application/javascript": [
       "\n",
       "        if (window._pyforest_update_imports_cell) { window._pyforest_update_imports_cell('import re\\nimport os'); }\n",
       "    "
      ],
      "text/plain": [
       "<IPython.core.display.Javascript object>"
      ]
     },
     "metadata": {},
     "output_type": "display_data"
    },
    {
     "name": "stdout",
     "output_type": "stream",
     "text": [
      "['AOIPK1917Q', 'AJRPP8815E']\n"
     ]
    },
    {
     "data": {
      "application/javascript": [
       "\n",
       "        if (window._pyforest_update_imports_cell) { window._pyforest_update_imports_cell('import re\\nimport os'); }\n",
       "    "
      ],
      "text/plain": [
       "<IPython.core.display.Javascript object>"
      ]
     },
     "metadata": {},
     "output_type": "display_data"
    },
    {
     "name": "stdout",
     "output_type": "stream",
     "text": [
      "[]\n"
     ]
    },
    {
     "data": {
      "application/javascript": [
       "\n",
       "        if (window._pyforest_update_imports_cell) { window._pyforest_update_imports_cell('import re\\nimport os'); }\n",
       "    "
      ],
      "text/plain": [
       "<IPython.core.display.Javascript object>"
      ]
     },
     "metadata": {},
     "output_type": "display_data"
    },
    {
     "name": "stdout",
     "output_type": "stream",
     "text": [
      "['HEZPS5827H', 'AJRPP8815E']\n"
     ]
    },
    {
     "data": {
      "application/javascript": [
       "\n",
       "        if (window._pyforest_update_imports_cell) { window._pyforest_update_imports_cell('import re\\nimport os'); }\n",
       "    "
      ],
      "text/plain": [
       "<IPython.core.display.Javascript object>"
      ]
     },
     "metadata": {},
     "output_type": "display_data"
    },
    {
     "name": "stdout",
     "output_type": "stream",
     "text": [
      "[]\n"
     ]
    },
    {
     "data": {
      "application/javascript": [
       "\n",
       "        if (window._pyforest_update_imports_cell) { window._pyforest_update_imports_cell('import re\\nimport os'); }\n",
       "    "
      ],
      "text/plain": [
       "<IPython.core.display.Javascript object>"
      ]
     },
     "metadata": {},
     "output_type": "display_data"
    },
    {
     "name": "stdout",
     "output_type": "stream",
     "text": [
      "['BHUPS2145C', 'AJRPP8815E']\n"
     ]
    },
    {
     "data": {
      "application/javascript": [
       "\n",
       "        if (window._pyforest_update_imports_cell) { window._pyforest_update_imports_cell('import re\\nimport os'); }\n",
       "    "
      ],
      "text/plain": [
       "<IPython.core.display.Javascript object>"
      ]
     },
     "metadata": {},
     "output_type": "display_data"
    },
    {
     "name": "stdout",
     "output_type": "stream",
     "text": [
      "['AENPR2306B', 'AJRPP8815E']\n"
     ]
    },
    {
     "data": {
      "application/javascript": [
       "\n",
       "        if (window._pyforest_update_imports_cell) { window._pyforest_update_imports_cell('import re\\nimport os'); }\n",
       "    "
      ],
      "text/plain": [
       "<IPython.core.display.Javascript object>"
      ]
     },
     "metadata": {},
     "output_type": "display_data"
    },
    {
     "name": "stdout",
     "output_type": "stream",
     "text": [
      "['AUKPP8322N']\n"
     ]
    },
    {
     "data": {
      "application/javascript": [
       "\n",
       "        if (window._pyforest_update_imports_cell) { window._pyforest_update_imports_cell('import re\\nimport os'); }\n",
       "    "
      ],
      "text/plain": [
       "<IPython.core.display.Javascript object>"
      ]
     },
     "metadata": {},
     "output_type": "display_data"
    },
    {
     "name": "stdout",
     "output_type": "stream",
     "text": [
      "['AADFB7015R', 'AADFB7015R']\n"
     ]
    },
    {
     "data": {
      "application/javascript": [
       "\n",
       "        if (window._pyforest_update_imports_cell) { window._pyforest_update_imports_cell('import re\\nimport os'); }\n",
       "    "
      ],
      "text/plain": [
       "<IPython.core.display.Javascript object>"
      ]
     },
     "metadata": {},
     "output_type": "display_data"
    },
    {
     "name": "stdout",
     "output_type": "stream",
     "text": [
      "['AADFB7015R', 'AADFB7015R']\n"
     ]
    },
    {
     "data": {
      "application/javascript": [
       "\n",
       "        if (window._pyforest_update_imports_cell) { window._pyforest_update_imports_cell('import re\\nimport os'); }\n",
       "    "
      ],
      "text/plain": [
       "<IPython.core.display.Javascript object>"
      ]
     },
     "metadata": {},
     "output_type": "display_data"
    },
    {
     "name": "stdout",
     "output_type": "stream",
     "text": [
      "['AQOPN1034F', 'AJRPP8815E', 'AJRPP8815E']\n"
     ]
    },
    {
     "data": {
      "application/javascript": [
       "\n",
       "        if (window._pyforest_update_imports_cell) { window._pyforest_update_imports_cell('import re\\nimport os'); }\n",
       "    "
      ],
      "text/plain": [
       "<IPython.core.display.Javascript object>"
      ]
     },
     "metadata": {},
     "output_type": "display_data"
    },
    {
     "name": "stdout",
     "output_type": "stream",
     "text": [
      "[]\n"
     ]
    },
    {
     "data": {
      "application/javascript": [
       "\n",
       "        if (window._pyforest_update_imports_cell) { window._pyforest_update_imports_cell('import re\\nimport os'); }\n",
       "    "
      ],
      "text/plain": [
       "<IPython.core.display.Javascript object>"
      ]
     },
     "metadata": {},
     "output_type": "display_data"
    },
    {
     "name": "stdout",
     "output_type": "stream",
     "text": [
      "['ACOPC5657P']\n"
     ]
    },
    {
     "data": {
      "application/javascript": [
       "\n",
       "        if (window._pyforest_update_imports_cell) { window._pyforest_update_imports_cell('import re\\nimport os'); }\n",
       "    "
      ],
      "text/plain": [
       "<IPython.core.display.Javascript object>"
      ]
     },
     "metadata": {},
     "output_type": "display_data"
    },
    {
     "name": "stdout",
     "output_type": "stream",
     "text": [
      "['AISPJ4698P']\n"
     ]
    },
    {
     "data": {
      "application/javascript": [
       "\n",
       "        if (window._pyforest_update_imports_cell) { window._pyforest_update_imports_cell('import re\\nimport os'); }\n",
       "    "
      ],
      "text/plain": [
       "<IPython.core.display.Javascript object>"
      ]
     },
     "metadata": {},
     "output_type": "display_data"
    },
    {
     "name": "stdout",
     "output_type": "stream",
     "text": [
      "['AADFB7015R', 'AADFB7015R']\n"
     ]
    },
    {
     "data": {
      "application/javascript": [
       "\n",
       "        if (window._pyforest_update_imports_cell) { window._pyforest_update_imports_cell('import re\\nimport os'); }\n",
       "    "
      ],
      "text/plain": [
       "<IPython.core.display.Javascript object>"
      ]
     },
     "metadata": {},
     "output_type": "display_data"
    },
    {
     "name": "stdout",
     "output_type": "stream",
     "text": [
      "[]\n"
     ]
    },
    {
     "data": {
      "application/javascript": [
       "\n",
       "        if (window._pyforest_update_imports_cell) { window._pyforest_update_imports_cell('import re\\nimport os'); }\n",
       "    "
      ],
      "text/plain": [
       "<IPython.core.display.Javascript object>"
      ]
     },
     "metadata": {},
     "output_type": "display_data"
    },
    {
     "name": "stdout",
     "output_type": "stream",
     "text": [
      "['CBBPN1538E', 'AUKPP8322N']\n"
     ]
    },
    {
     "data": {
      "application/javascript": [
       "\n",
       "        if (window._pyforest_update_imports_cell) { window._pyforest_update_imports_cell('import re\\nimport os'); }\n",
       "    "
      ],
      "text/plain": [
       "<IPython.core.display.Javascript object>"
      ]
     },
     "metadata": {},
     "output_type": "display_data"
    },
    {
     "name": "stdout",
     "output_type": "stream",
     "text": [
      "['ABIPN0921C', 'AWRPS1749M', 'AWRPS1749M']\n"
     ]
    },
    {
     "data": {
      "application/javascript": [
       "\n",
       "        if (window._pyforest_update_imports_cell) { window._pyforest_update_imports_cell('import re\\nimport os'); }\n",
       "    "
      ],
      "text/plain": [
       "<IPython.core.display.Javascript object>"
      ]
     },
     "metadata": {},
     "output_type": "display_data"
    },
    {
     "name": "stdout",
     "output_type": "stream",
     "text": [
      "['AUKPP8322N', 'AUKPP8322N']\n"
     ]
    },
    {
     "data": {
      "application/javascript": [
       "\n",
       "        if (window._pyforest_update_imports_cell) { window._pyforest_update_imports_cell('import re\\nimport os'); }\n",
       "    "
      ],
      "text/plain": [
       "<IPython.core.display.Javascript object>"
      ]
     },
     "metadata": {},
     "output_type": "display_data"
    },
    {
     "name": "stdout",
     "output_type": "stream",
     "text": [
      "['AUKPP8322N', 'AUKPP8322N']\n"
     ]
    },
    {
     "data": {
      "application/javascript": [
       "\n",
       "        if (window._pyforest_update_imports_cell) { window._pyforest_update_imports_cell('import re\\nimport os'); }\n",
       "    "
      ],
      "text/plain": [
       "<IPython.core.display.Javascript object>"
      ]
     },
     "metadata": {},
     "output_type": "display_data"
    },
    {
     "name": "stdout",
     "output_type": "stream",
     "text": [
      "['AUKPP8322N', 'AUKPP8322N']\n"
     ]
    },
    {
     "data": {
      "application/javascript": [
       "\n",
       "        if (window._pyforest_update_imports_cell) { window._pyforest_update_imports_cell('import re\\nimport os'); }\n",
       "    "
      ],
      "text/plain": [
       "<IPython.core.display.Javascript object>"
      ]
     },
     "metadata": {},
     "output_type": "display_data"
    },
    {
     "name": "stdout",
     "output_type": "stream",
     "text": [
      "['AUKPP8322N', 'AUKPP8322N']\n"
     ]
    },
    {
     "data": {
      "application/javascript": [
       "\n",
       "        if (window._pyforest_update_imports_cell) { window._pyforest_update_imports_cell('import re\\nimport os'); }\n",
       "    "
      ],
      "text/plain": [
       "<IPython.core.display.Javascript object>"
      ]
     },
     "metadata": {},
     "output_type": "display_data"
    },
    {
     "name": "stdout",
     "output_type": "stream",
     "text": [
      "['AJRPP8815E', 'AJRPP8815E', 'AAICP0987G', 'AAICP0987G', 'AAICP0987G', 'AAICP0987G']\n"
     ]
    },
    {
     "data": {
      "application/javascript": [
       "\n",
       "        if (window._pyforest_update_imports_cell) { window._pyforest_update_imports_cell('import re\\nimport os'); }\n",
       "    "
      ],
      "text/plain": [
       "<IPython.core.display.Javascript object>"
      ]
     },
     "metadata": {},
     "output_type": "display_data"
    },
    {
     "name": "stdout",
     "output_type": "stream",
     "text": [
      "['AJRPP8815E', 'AJRPP8815E', 'AAICP0987G', 'AAICP0987G', 'AAICP0987G', 'AAICP0987G']\n"
     ]
    },
    {
     "data": {
      "application/javascript": [
       "\n",
       "        if (window._pyforest_update_imports_cell) { window._pyforest_update_imports_cell('import re\\nimport os'); }\n",
       "    "
      ],
      "text/plain": [
       "<IPython.core.display.Javascript object>"
      ]
     },
     "metadata": {},
     "output_type": "display_data"
    },
    {
     "name": "stdout",
     "output_type": "stream",
     "text": [
      "['AABCT0602K', 'AJGPG3532Q', 'AJGPG3532Q', 'AABCT0602K']\n"
     ]
    },
    {
     "data": {
      "application/javascript": [
       "\n",
       "        if (window._pyforest_update_imports_cell) { window._pyforest_update_imports_cell('import re\\nimport os'); }\n",
       "    "
      ],
      "text/plain": [
       "<IPython.core.display.Javascript object>"
      ]
     },
     "metadata": {},
     "output_type": "display_data"
    },
    {
     "name": "stdout",
     "output_type": "stream",
     "text": [
      "['AABCT0602K']\n"
     ]
    }
   ],
   "source": [
    "PAN_REG = re.compile(r'[A-Z]{5}[0-9]{4}[A-Z]{1}')\n",
    "def extract_pan(invoice_text):\n",
    "    return re.findall(PAN_REG, invoice_text)\n",
    "\n",
    "for invoice in corpus_invoicedata:\n",
    "    print(extract_pan(invoice))"
   ]
  },
  {
   "cell_type": "code",
   "execution_count": 1,
   "id": "5d12d854",
   "metadata": {},
   "outputs": [
    {
     "data": {
      "application/javascript": [
       "\n",
       "        if (window._pyforest_update_imports_cell) { window._pyforest_update_imports_cell('import re'); }\n",
       "    "
      ],
      "text/plain": [
       "<IPython.core.display.Javascript object>"
      ]
     },
     "metadata": {},
     "output_type": "display_data"
    },
    {
     "data": {
      "application/javascript": [
       "\n",
       "        if (window._pyforest_update_imports_cell) { window._pyforest_update_imports_cell('import re'); }\n",
       "    "
      ],
      "text/plain": [
       "<IPython.core.display.Javascript object>"
      ]
     },
     "metadata": {},
     "output_type": "display_data"
    },
    {
     "ename": "NameError",
     "evalue": "name 'corpus_invoicedata' is not defined",
     "output_type": "error",
     "traceback": [
      "\u001b[1;31m---------------------------------------------------------------------------\u001b[0m",
      "\u001b[1;31mNameError\u001b[0m                                 Traceback (most recent call last)",
      "Input \u001b[1;32mIn [1]\u001b[0m, in \u001b[0;36m<module>\u001b[1;34m\u001b[0m\n\u001b[0;32m      4\u001b[0m \u001b[38;5;28;01mdef\u001b[39;00m \u001b[38;5;21mextract_gstin\u001b[39m(invoice_text):\n\u001b[0;32m      5\u001b[0m     \u001b[38;5;28;01mreturn\u001b[39;00m re\u001b[38;5;241m.\u001b[39mfindall(GSTIN_REG, invoice_text)\n\u001b[1;32m----> 7\u001b[0m \u001b[38;5;28;01mfor\u001b[39;00m invoice \u001b[38;5;129;01min\u001b[39;00m \u001b[43mcorpus_invoicedata\u001b[49m:\n\u001b[0;32m      8\u001b[0m     \u001b[38;5;28mprint\u001b[39m(extract_gstin(invoice))\n",
      "\u001b[1;31mNameError\u001b[0m: name 'corpus_invoicedata' is not defined"
     ]
    }
   ],
   "source": [
    "#GSTIN_REG = re.compile(r'^\\d{2}([a-z?A-Z?0-9]){5}([a-z?A-Z?0-9]){4}([a-z?A-Z?0-9]){1}?[Z]{1}[A-Z\\d]{1}$')\n",
    "GSTIN_REG = re.compile(r'^\\d{2}[A-Z]{5}[0-9]{4}[A-Z]{1}Z{1}[A-Z0-9]{1}$')\n",
    "GSTIN_REG = re.compile(r'19AISPJ4698P1ZX')\n",
    "def extract_gstin(invoice_text):\n",
    "    return re.findall(GSTIN_REG, invoice_text)\n",
    "\n",
    "for invoice in corpus_invoicedata:\n",
    "    print(extract_gstin(invoice))"
   ]
  },
  {
   "cell_type": "code",
   "execution_count": null,
   "id": "a63c8ddd",
   "metadata": {},
   "outputs": [],
   "source": []
  }
 ],
 "metadata": {
  "kernelspec": {
   "display_name": "Python 3 (ipykernel)",
   "language": "python",
   "name": "python3"
  },
  "language_info": {
   "codemirror_mode": {
    "name": "ipython",
    "version": 3
   },
   "file_extension": ".py",
   "mimetype": "text/x-python",
   "name": "python",
   "nbconvert_exporter": "python",
   "pygments_lexer": "ipython3",
   "version": "3.9.10"
  }
 },
 "nbformat": 4,
 "nbformat_minor": 5
}
