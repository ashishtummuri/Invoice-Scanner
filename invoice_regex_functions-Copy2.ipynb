{
 "cells": [
  {
   "cell_type": "code",
   "execution_count": null,
   "id": "7a3df76d",
   "metadata": {},
   "outputs": [],
   "source": [
    "os.chdir('C:/Users/Mula Ram/Downloads/fwdinvoicesample/invoices')"
   ]
  },
  {
   "cell_type": "code",
   "execution_count": null,
   "id": "74d7c711",
   "metadata": {},
   "outputs": [],
   "source": [
    "import numpy as np\n",
    "import pandas as pd\n",
    "import string\n",
    "import matplotlib.pyplot as plt \n",
    "import seaborn as sns\n",
    "from io import StringIO\n",
    "\n",
    "from nltk.tokenize import RegexpTokenizer\n",
    "from pdfminer.high_level import extract_text\n",
    "from nltk.probability import FreqDist\n",
    "from io import StringIO\n",
    "\n",
    "from pdfminer.converter import TextConverter\n",
    "from pdfminer.layout import LAParams\n",
    "from pdfminer.pdfdocument import PDFDocument\n",
    "from pdfminer.pdfinterp import PDFResourceManager, PDFPageInterpreter\n",
    "from pdfminer.pdfpage import PDFPage\n",
    "from pdfminer.pdfparser import PDFParser"
   ]
  },
  {
   "cell_type": "code",
   "execution_count": null,
   "id": "cf3b34dc",
   "metadata": {},
   "outputs": [],
   "source": [
    "import docx2txt\n",
    "import nltk"
   ]
  },
  {
   "cell_type": "code",
   "execution_count": null,
   "id": "d977d09e",
   "metadata": {},
   "outputs": [],
   "source": [
    "import pytesseract\n",
    "\n",
    "pytesseract.pytesseract.tesseract_cmd='C:/Users/Mula Ram/AppData/Local/Programs/Tesseract-OCR/tesseract.exe'"
   ]
  },
  {
   "cell_type": "code",
   "execution_count": null,
   "id": "36c49271",
   "metadata": {},
   "outputs": [],
   "source": [
    "lst = os.listdir('C:/Users/Mula Ram/Downloads/fwdinvoicesample/invoices')\n",
    "text_data = []\n",
    "for file in lst:\n",
    "    text = pytesseract.image_to_string(file)\n",
    "    text_data.append(text)"
   ]
  },
  {
   "cell_type": "code",
   "execution_count": null,
   "id": "c26b6df9",
   "metadata": {},
   "outputs": [],
   "source": [
    "len(text_data)"
   ]
  },
  {
   "cell_type": "code",
   "execution_count": null,
   "id": "8dffd9cc",
   "metadata": {},
   "outputs": [],
   "source": [
    "len(lst)"
   ]
  },
  {
   "cell_type": "code",
   "execution_count": null,
   "id": "6bd94585",
   "metadata": {},
   "outputs": [],
   "source": [
    "corpus_invoicedata = text_data\n",
    "for invoice in corpus_invoicedata:\n",
    "    print(invoice)"
   ]
  },
  {
   "cell_type": "code",
   "execution_count": null,
   "id": "916a76a1",
   "metadata": {},
   "outputs": [],
   "source": [
    "len(corpus_invoicedata)"
   ]
  },
  {
   "cell_type": "code",
   "execution_count": null,
   "id": "e4b9cf27",
   "metadata": {},
   "outputs": [],
   "source": [
    "corpus_invoice = []\n",
    "for text in text_data:\n",
    "    # Convert all strings to lowercase\n",
    "    #text = text.lower()\n",
    "    # Remove numbers\n",
    "    #text = re.sub(r'\\d+','',text)\n",
    "    #text = re.sub(r'\\n',' ',text)\n",
    "    #text = re.sub(r'\\s+',' ',text)\n",
    "    #text = re.sub(r'\\t',' ',text)\n",
    "    # Remove punctuation\n",
    "    #text = text.translate(str.maketrans('','',string.punctuation))\n",
    "    corpus_invoice.append(text)\n",
    "corpus_invoicedata = corpus_invoice\n",
    "len(corpus_invoicedata)"
   ]
  },
  {
   "cell_type": "code",
   "execution_count": null,
   "id": "8d022f7d",
   "metadata": {},
   "outputs": [],
   "source": [
    "corpus_invoicedata[0]"
   ]
  },
  {
   "cell_type": "code",
   "execution_count": null,
   "id": "950c8801",
   "metadata": {},
   "outputs": [],
   "source": [
    "def extract_names(txt):\n",
    "    person_names = []\n",
    "\n",
    "    for sent in nltk.sent_tokenize(txt):\n",
    "        for chunk in nltk.ne_chunk(nltk.pos_tag(nltk.word_tokenize(sent))):\n",
    "            if hasattr(chunk, 'label') and chunk.label() == 'PERSON':\n",
    "                person_names.append(\n",
    "                    ' '.join(chunk_leave[0] for chunk_leave in chunk.leaves())\n",
    "                )\n",
    "\n",
    "    return person_names\n",
    "\n",
    "for invoice in corpus_invoicedata:\n",
    "    print(extract_names(invoice))"
   ]
  },
  {
   "cell_type": "code",
   "execution_count": null,
   "id": "80868abb",
   "metadata": {},
   "outputs": [],
   "source": [
    "def extract_organisations(txt):\n",
    "    person_organisations = []\n",
    "\n",
    "    for sent in nltk.sent_tokenize(txt):\n",
    "        for chunk in nltk.ne_chunk(nltk.pos_tag(nltk.word_tokenize(sent))):\n",
    "            if hasattr(chunk, 'label') and chunk.label() == 'ORGANIZATION':\n",
    "                person_organisations.append(\n",
    "                    ' '.join(chunk_leave[0] for chunk_leave in chunk.leaves())\n",
    "                )\n",
    "\n",
    "    return person_organisations\n",
    "\n",
    "for invoice in corpus_invoicedata:\n",
    "    print(extract_organisations(invoice))"
   ]
  },
  {
   "cell_type": "code",
   "execution_count": null,
   "id": "96ea4948",
   "metadata": {},
   "outputs": [],
   "source": [
    "PHONE_REG = re.compile(r'\\b(\\+?91)?(-)?\\s*?(91)?\\s*?(\\d{3})-?\\s*?(\\d{3})-?\\s*?(\\d{4})\\b')\n",
    "#re.compile(r'(?:\\s+|)((0|(?:(\\+|)91))(?:\\s|-)*(?:(?:\\d(?:\\s|-)*\\d{9})|(?:\\d{2}(?:\\s|-)*\\d{8})|(?:\\d{3}(?:\\s|-)*\\d{7}))|\\d{10})(?:\\s+|)')\n",
    "#(r'\\+91[\\-\\s]?)?[0]?(91)?[789]\\d{9}$')\n",
    "#(r'[\\+\\(]?[1-9][0-9 .\\-\\(\\)]{8,}[0-9]')\n",
    "\n",
    "def extract_all_phone_number(invoice_text):\n",
    "    phone = re.findall(PHONE_REG, invoice_text)\n",
    "    number = []\n",
    "    \n",
    "\n",
    "    if phone:\n",
    "        for i in range(len(phone)):\n",
    "            num = ''.join(phone[i])\n",
    "            number.append(num)\n",
    "        return number\n",
    "    return None\n",
    "def extract_phone_number(invoice_text):\n",
    "    phone = re.findall(PHONE_REG, invoice_text)\n",
    "\n",
    "    if phone:\n",
    "        number = ''.join(phone[0])\n",
    "\n",
    "        if invoice_text.find(number) >= 0 and len(number) < 16:\n",
    "            return number\n",
    "    return None\n",
    "for invoice in corpus_invoicedata:\n",
    "    print(extract_all_phone_number(invoice))"
   ]
  },
  {
   "cell_type": "code",
   "execution_count": null,
   "id": "f042c7a4",
   "metadata": {},
   "outputs": [],
   "source": [
    "print(corpus_invoicedata[25])"
   ]
  },
  {
   "cell_type": "code",
   "execution_count": null,
   "id": "1fe1d240",
   "metadata": {},
   "outputs": [],
   "source": [
    "EMAIL_REG = re.compile(r'[a-z0-9\\.\\-+_]+@[a-z0-9\\.\\-+_]+\\.[a-z]+')\n",
    "def extract_emails(invoice_text):\n",
    "    return re.findall(EMAIL_REG, invoice_text)\n",
    "\n",
    "for invoice in corpus_invoicedata:\n",
    "    print(extract_emails(invoice))"
   ]
  },
  {
   "cell_type": "code",
   "execution_count": null,
   "id": "5cb93814",
   "metadata": {},
   "outputs": [],
   "source": [
    "PAN_REG = re.compile(r'[A-Z]{5}[0-9]{4}[A-Z]{1}')\n",
    "def extract_pan(invoice_text):\n",
    "    return re.findall(PAN_REG, invoice_text)\n",
    "\n",
    "for invoice in corpus_invoicedata:\n",
    "    print(extract_pan(invoice))"
   ]
  },
  {
   "cell_type": "code",
   "execution_count": null,
   "id": "0928a565",
   "metadata": {},
   "outputs": [],
   "source": [
    "#GSTIN_REG = re.compile(r'^\\d{2}([a-z?A-Z?0-9]){5}([a-z?A-Z?0-9]){4}([a-z?A-Z?0-9]){1}?[Z]{1}[A-Z\\d]{1}$')\n",
    "GSTIN_REG = re.compile(r'[0-9]{2}[A-Z]{5}[0-9]{4}[A-Z]{1}[A-Z0-9]{1}Z{1}[A-Z0-9]{1}')\n",
    "#GSTIN_REG = re.compile(r'^[0-9]{2}[A-Z]{5}[0-9]{4}[A-Z]{1}[A-Z0-9]{1}[Z]{1}[A-Z0-9]{1}$')\n",
    "#GSTIN_REG = re.compile(r'^[0-9]{2}[A-Z]{5}[0-9]{4}[A-Z]{1}[1-9A-Z]{1}Z[0-9A-Z]{1}$')\n",
    "#GSTIN_REG = re.compile(r'19AISPJ4698P1ZX')\n",
    "#GSTIN_REG = re.compile(r'06AACCE2308Q1ZK')\n",
    "\n",
    "\n",
    "def extract_gstin(invoice_text):\n",
    "    #invoice_text = re.sub(r'\\s+','',invoice_text)\n",
    "    return re.findall(GSTIN_REG, invoice_text)\n",
    "\n",
    "for invoice in corpus_invoicedata:\n",
    "    print(extract_gstin(invoice))"
   ]
  },
  {
   "cell_type": "code",
   "execution_count": null,
   "id": "921d436a",
   "metadata": {},
   "outputs": [],
   "source": [
    "GSTIN_REG = re.compile(r'[0-9]{2}[A-Z]{5}[0-9]{4}[A-Z][A-Z0-9]Z[A-Z0-9]')\n",
    "\n",
    "\n",
    "def extract_gstin(s):\n",
    "    return re.findall(GSTIN_REG, s)\n",
    "\n",
    "\n",
    "s = 'Haryana, India, GSTIN : 06AACCE2308Q1ZK'\n",
    "print(extract_gstin(s))\n",
    "for invoice in corpus_invoicedata:\n",
    "    print(extract_gstin(invoice))"
   ]
  },
  {
   "cell_type": "code",
   "execution_count": null,
   "id": "01875d13",
   "metadata": {},
   "outputs": [],
   "source": [
    "INVOICE_REG = re.compile(r'invoice[\\s]?[Number]?\\s*\\w+s*\\w+s*\\w+', re.I)\n",
    "def extract_invoice(s):\n",
    "    return re.findall(INVOICE_REG, s)\n",
    "for invoice in corpus_invoicedata:\n",
    "    print(extract_invoice(invoice))"
   ]
  },
  {
   "cell_type": "code",
   "execution_count": null,
   "id": "64c14e4e",
   "metadata": {},
   "outputs": [],
   "source": [
    "ADDRESS_REG = re.compile(r'Address [A-Za-z0-9]\\w+s*\\w+s*\\w+', re.IGNORECASE)\n",
    "\n",
    "def extract_address(s):\n",
    "    s = re.sub(r'\\n',' ',s)\n",
    "    s = re.sub(r'\\t',' ',s)\n",
    "    return re.findall(ADDRESS_REG, s)\n",
    "for invoice in corpus_invoicedata:\n",
    "    print(extract_address(invoice))"
   ]
  },
  {
   "cell_type": "code",
   "execution_count": null,
   "id": "eea7b21f",
   "metadata": {},
   "outputs": [],
   "source": [
    "ADDRESS_REG = re.compile(r'Address [A-Za-z0-9]\\w+s*\\w+s*\\w+', re.IGNORECASE)\n",
    "\n",
    "def extract_address(s):\n",
    "    return re.findall(ADDRESS_REG, s)\n",
    "for invoice in corpus_invoicedata:\n",
    "    print(extract_address(invoice))"
   ]
  },
  {
   "cell_type": "code",
   "execution_count": null,
   "id": "e272897e",
   "metadata": {},
   "outputs": [],
   "source": [
    "(re).findall(r\"Portability(.{3}).*?Ratio\", s)\n",
    "\n",
    "ADDRESS_REG = re.compile(r'[0-9]{1,3} .+, .+, [A-Z]{2} [0-9]{5}', re.IGNORECASE )\n",
    "def extract_address(s):\n",
    "    return re.findall(ADDRESS_REG, s)\n",
    "for invoice in corpus_invoicedata:\n",
    "    print(extract_address(invoice))"
   ]
  },
  {
   "cell_type": "code",
   "execution_count": 131,
   "id": "f8f2e0ef",
   "metadata": {},
   "outputs": [
    {
     "data": {
      "application/javascript": [
       "\n",
       "        if (window._pyforest_update_imports_cell) { window._pyforest_update_imports_cell('import re\\nimport os'); }\n",
       "    "
      ],
      "text/plain": [
       "<IPython.core.display.Javascript object>"
      ]
     },
     "metadata": {},
     "output_type": "display_data"
    },
    {
     "data": {
      "application/javascript": [
       "\n",
       "        if (window._pyforest_update_imports_cell) { window._pyforest_update_imports_cell('import re\\nimport os'); }\n",
       "    "
      ],
      "text/plain": [
       "<IPython.core.display.Javascript object>"
      ]
     },
     "metadata": {},
     "output_type": "display_data"
    },
    {
     "data": {
      "application/javascript": [
       "\n",
       "        if (window._pyforest_update_imports_cell) { window._pyforest_update_imports_cell('import re\\nimport os'); }\n",
       "    "
      ],
      "text/plain": [
       "<IPython.core.display.Javascript object>"
      ]
     },
     "metadata": {},
     "output_type": "display_data"
    },
    {
     "name": "stdout",
     "output_type": "stream",
     "text": [
      "[]\n"
     ]
    },
    {
     "data": {
      "application/javascript": [
       "\n",
       "        if (window._pyforest_update_imports_cell) { window._pyforest_update_imports_cell('import re\\nimport os'); }\n",
       "    "
      ],
      "text/plain": [
       "<IPython.core.display.Javascript object>"
      ]
     },
     "metadata": {},
     "output_type": "display_data"
    },
    {
     "name": "stdout",
     "output_type": "stream",
     "text": [
      "[]\n"
     ]
    },
    {
     "data": {
      "application/javascript": [
       "\n",
       "        if (window._pyforest_update_imports_cell) { window._pyforest_update_imports_cell('import re\\nimport os'); }\n",
       "    "
      ],
      "text/plain": [
       "<IPython.core.display.Javascript object>"
      ]
     },
     "metadata": {},
     "output_type": "display_data"
    },
    {
     "name": "stdout",
     "output_type": "stream",
     "text": [
      "[]\n"
     ]
    },
    {
     "data": {
      "application/javascript": [
       "\n",
       "        if (window._pyforest_update_imports_cell) { window._pyforest_update_imports_cell('import re\\nimport os'); }\n",
       "    "
      ],
      "text/plain": [
       "<IPython.core.display.Javascript object>"
      ]
     },
     "metadata": {},
     "output_type": "display_data"
    },
    {
     "name": "stdout",
     "output_type": "stream",
     "text": [
      "[]\n"
     ]
    },
    {
     "data": {
      "application/javascript": [
       "\n",
       "        if (window._pyforest_update_imports_cell) { window._pyforest_update_imports_cell('import re\\nimport os'); }\n",
       "    "
      ],
      "text/plain": [
       "<IPython.core.display.Javascript object>"
      ]
     },
     "metadata": {},
     "output_type": "display_data"
    },
    {
     "name": "stdout",
     "output_type": "stream",
     "text": [
      "[]\n"
     ]
    },
    {
     "data": {
      "application/javascript": [
       "\n",
       "        if (window._pyforest_update_imports_cell) { window._pyforest_update_imports_cell('import re\\nimport os'); }\n",
       "    "
      ],
      "text/plain": [
       "<IPython.core.display.Javascript object>"
      ]
     },
     "metadata": {},
     "output_type": "display_data"
    },
    {
     "name": "stdout",
     "output_type": "stream",
     "text": [
      "[]\n"
     ]
    },
    {
     "data": {
      "application/javascript": [
       "\n",
       "        if (window._pyforest_update_imports_cell) { window._pyforest_update_imports_cell('import re\\nimport os'); }\n",
       "    "
      ],
      "text/plain": [
       "<IPython.core.display.Javascript object>"
      ]
     },
     "metadata": {},
     "output_type": "display_data"
    },
    {
     "name": "stdout",
     "output_type": "stream",
     "text": [
      "[]\n"
     ]
    },
    {
     "data": {
      "application/javascript": [
       "\n",
       "        if (window._pyforest_update_imports_cell) { window._pyforest_update_imports_cell('import re\\nimport os'); }\n",
       "    "
      ],
      "text/plain": [
       "<IPython.core.display.Javascript object>"
      ]
     },
     "metadata": {},
     "output_type": "display_data"
    },
    {
     "name": "stdout",
     "output_type": "stream",
     "text": [
      "[]\n"
     ]
    },
    {
     "data": {
      "application/javascript": [
       "\n",
       "        if (window._pyforest_update_imports_cell) { window._pyforest_update_imports_cell('import re\\nimport os'); }\n",
       "    "
      ],
      "text/plain": [
       "<IPython.core.display.Javascript object>"
      ]
     },
     "metadata": {},
     "output_type": "display_data"
    },
    {
     "name": "stdout",
     "output_type": "stream",
     "text": [
      "[]\n"
     ]
    },
    {
     "data": {
      "application/javascript": [
       "\n",
       "        if (window._pyforest_update_imports_cell) { window._pyforest_update_imports_cell('import re\\nimport os'); }\n",
       "    "
      ],
      "text/plain": [
       "<IPython.core.display.Javascript object>"
      ]
     },
     "metadata": {},
     "output_type": "display_data"
    },
    {
     "name": "stdout",
     "output_type": "stream",
     "text": [
      "[]\n"
     ]
    },
    {
     "data": {
      "application/javascript": [
       "\n",
       "        if (window._pyforest_update_imports_cell) { window._pyforest_update_imports_cell('import re\\nimport os'); }\n",
       "    "
      ],
      "text/plain": [
       "<IPython.core.display.Javascript object>"
      ]
     },
     "metadata": {},
     "output_type": "display_data"
    },
    {
     "name": "stdout",
     "output_type": "stream",
     "text": [
      "[]\n"
     ]
    },
    {
     "data": {
      "application/javascript": [
       "\n",
       "        if (window._pyforest_update_imports_cell) { window._pyforest_update_imports_cell('import re\\nimport os'); }\n",
       "    "
      ],
      "text/plain": [
       "<IPython.core.display.Javascript object>"
      ]
     },
     "metadata": {},
     "output_type": "display_data"
    },
    {
     "name": "stdout",
     "output_type": "stream",
     "text": [
      "[]\n"
     ]
    },
    {
     "data": {
      "application/javascript": [
       "\n",
       "        if (window._pyforest_update_imports_cell) { window._pyforest_update_imports_cell('import re\\nimport os'); }\n",
       "    "
      ],
      "text/plain": [
       "<IPython.core.display.Javascript object>"
      ]
     },
     "metadata": {},
     "output_type": "display_data"
    },
    {
     "name": "stdout",
     "output_type": "stream",
     "text": [
      "[]\n"
     ]
    },
    {
     "data": {
      "application/javascript": [
       "\n",
       "        if (window._pyforest_update_imports_cell) { window._pyforest_update_imports_cell('import re\\nimport os'); }\n",
       "    "
      ],
      "text/plain": [
       "<IPython.core.display.Javascript object>"
      ]
     },
     "metadata": {},
     "output_type": "display_data"
    },
    {
     "name": "stdout",
     "output_type": "stream",
     "text": [
      "[]\n"
     ]
    },
    {
     "data": {
      "application/javascript": [
       "\n",
       "        if (window._pyforest_update_imports_cell) { window._pyforest_update_imports_cell('import re\\nimport os'); }\n",
       "    "
      ],
      "text/plain": [
       "<IPython.core.display.Javascript object>"
      ]
     },
     "metadata": {},
     "output_type": "display_data"
    },
    {
     "name": "stdout",
     "output_type": "stream",
     "text": [
      "[]\n"
     ]
    },
    {
     "data": {
      "application/javascript": [
       "\n",
       "        if (window._pyforest_update_imports_cell) { window._pyforest_update_imports_cell('import re\\nimport os'); }\n",
       "    "
      ],
      "text/plain": [
       "<IPython.core.display.Javascript object>"
      ]
     },
     "metadata": {},
     "output_type": "display_data"
    },
    {
     "name": "stdout",
     "output_type": "stream",
     "text": [
      "[]\n"
     ]
    },
    {
     "data": {
      "application/javascript": [
       "\n",
       "        if (window._pyforest_update_imports_cell) { window._pyforest_update_imports_cell('import re\\nimport os'); }\n",
       "    "
      ],
      "text/plain": [
       "<IPython.core.display.Javascript object>"
      ]
     },
     "metadata": {},
     "output_type": "display_data"
    },
    {
     "name": "stdout",
     "output_type": "stream",
     "text": [
      "[]\n"
     ]
    },
    {
     "data": {
      "application/javascript": [
       "\n",
       "        if (window._pyforest_update_imports_cell) { window._pyforest_update_imports_cell('import re\\nimport os'); }\n",
       "    "
      ],
      "text/plain": [
       "<IPython.core.display.Javascript object>"
      ]
     },
     "metadata": {},
     "output_type": "display_data"
    },
    {
     "name": "stdout",
     "output_type": "stream",
     "text": [
      "[]\n"
     ]
    },
    {
     "data": {
      "application/javascript": [
       "\n",
       "        if (window._pyforest_update_imports_cell) { window._pyforest_update_imports_cell('import re\\nimport os'); }\n",
       "    "
      ],
      "text/plain": [
       "<IPython.core.display.Javascript object>"
      ]
     },
     "metadata": {},
     "output_type": "display_data"
    },
    {
     "name": "stdout",
     "output_type": "stream",
     "text": [
      "[]\n"
     ]
    },
    {
     "data": {
      "application/javascript": [
       "\n",
       "        if (window._pyforest_update_imports_cell) { window._pyforest_update_imports_cell('import re\\nimport os'); }\n",
       "    "
      ],
      "text/plain": [
       "<IPython.core.display.Javascript object>"
      ]
     },
     "metadata": {},
     "output_type": "display_data"
    },
    {
     "name": "stdout",
     "output_type": "stream",
     "text": [
      "[]\n"
     ]
    },
    {
     "data": {
      "application/javascript": [
       "\n",
       "        if (window._pyforest_update_imports_cell) { window._pyforest_update_imports_cell('import re\\nimport os'); }\n",
       "    "
      ],
      "text/plain": [
       "<IPython.core.display.Javascript object>"
      ]
     },
     "metadata": {},
     "output_type": "display_data"
    },
    {
     "name": "stdout",
     "output_type": "stream",
     "text": [
      "[]\n"
     ]
    },
    {
     "data": {
      "application/javascript": [
       "\n",
       "        if (window._pyforest_update_imports_cell) { window._pyforest_update_imports_cell('import re\\nimport os'); }\n",
       "    "
      ],
      "text/plain": [
       "<IPython.core.display.Javascript object>"
      ]
     },
     "metadata": {},
     "output_type": "display_data"
    },
    {
     "name": "stdout",
     "output_type": "stream",
     "text": [
      "[]\n"
     ]
    },
    {
     "data": {
      "application/javascript": [
       "\n",
       "        if (window._pyforest_update_imports_cell) { window._pyforest_update_imports_cell('import re\\nimport os'); }\n",
       "    "
      ],
      "text/plain": [
       "<IPython.core.display.Javascript object>"
      ]
     },
     "metadata": {},
     "output_type": "display_data"
    },
    {
     "name": "stdout",
     "output_type": "stream",
     "text": [
      "[]\n"
     ]
    },
    {
     "data": {
      "application/javascript": [
       "\n",
       "        if (window._pyforest_update_imports_cell) { window._pyforest_update_imports_cell('import re\\nimport os'); }\n",
       "    "
      ],
      "text/plain": [
       "<IPython.core.display.Javascript object>"
      ]
     },
     "metadata": {},
     "output_type": "display_data"
    },
    {
     "name": "stdout",
     "output_type": "stream",
     "text": [
      "[]\n"
     ]
    },
    {
     "data": {
      "application/javascript": [
       "\n",
       "        if (window._pyforest_update_imports_cell) { window._pyforest_update_imports_cell('import re\\nimport os'); }\n",
       "    "
      ],
      "text/plain": [
       "<IPython.core.display.Javascript object>"
      ]
     },
     "metadata": {},
     "output_type": "display_data"
    },
    {
     "name": "stdout",
     "output_type": "stream",
     "text": [
      "[]\n"
     ]
    },
    {
     "data": {
      "application/javascript": [
       "\n",
       "        if (window._pyforest_update_imports_cell) { window._pyforest_update_imports_cell('import re\\nimport os'); }\n",
       "    "
      ],
      "text/plain": [
       "<IPython.core.display.Javascript object>"
      ]
     },
     "metadata": {},
     "output_type": "display_data"
    },
    {
     "name": "stdout",
     "output_type": "stream",
     "text": [
      "[]\n"
     ]
    },
    {
     "data": {
      "application/javascript": [
       "\n",
       "        if (window._pyforest_update_imports_cell) { window._pyforest_update_imports_cell('import re\\nimport os'); }\n",
       "    "
      ],
      "text/plain": [
       "<IPython.core.display.Javascript object>"
      ]
     },
     "metadata": {},
     "output_type": "display_data"
    },
    {
     "name": "stdout",
     "output_type": "stream",
     "text": [
      "[]\n"
     ]
    },
    {
     "data": {
      "application/javascript": [
       "\n",
       "        if (window._pyforest_update_imports_cell) { window._pyforest_update_imports_cell('import re\\nimport os'); }\n",
       "    "
      ],
      "text/plain": [
       "<IPython.core.display.Javascript object>"
      ]
     },
     "metadata": {},
     "output_type": "display_data"
    },
    {
     "name": "stdout",
     "output_type": "stream",
     "text": [
      "[]\n"
     ]
    }
   ],
   "source": [
    "ADDRESS_REG = re.compile(r'(\\w+)s*([A-Z]{3} \\d[A-Z]{2}.{300})', re.IGNORECASE )\n",
    "def extract_address(s):\n",
    "    return re.findall(ADDRESS_REG, s)\n",
    "for invoice in corpus_invoicedata:\n",
    "    print(extract_address(invoice))"
   ]
  },
  {
   "cell_type": "code",
   "execution_count": 128,
   "id": "7ae2b3f8",
   "metadata": {},
   "outputs": [
    {
     "data": {
      "application/javascript": [
       "\n",
       "        if (window._pyforest_update_imports_cell) { window._pyforest_update_imports_cell('import re\\nimport os'); }\n",
       "    "
      ],
      "text/plain": [
       "<IPython.core.display.Javascript object>"
      ]
     },
     "metadata": {},
     "output_type": "display_data"
    },
    {
     "data": {
      "application/javascript": [
       "\n",
       "        if (window._pyforest_update_imports_cell) { window._pyforest_update_imports_cell('import re\\nimport os'); }\n",
       "    "
      ],
      "text/plain": [
       "<IPython.core.display.Javascript object>"
      ]
     },
     "metadata": {},
     "output_type": "display_data"
    },
    {
     "data": {
      "application/javascript": [
       "\n",
       "        if (window._pyforest_update_imports_cell) { window._pyforest_update_imports_cell('import re\\nimport os'); }\n",
       "    "
      ],
      "text/plain": [
       "<IPython.core.display.Javascript object>"
      ]
     },
     "metadata": {},
     "output_type": "display_data"
    },
    {
     "name": "stdout",
     "output_type": "stream",
     "text": [
      "[]\n"
     ]
    },
    {
     "data": {
      "application/javascript": [
       "\n",
       "        if (window._pyforest_update_imports_cell) { window._pyforest_update_imports_cell('import re\\nimport os'); }\n",
       "    "
      ],
      "text/plain": [
       "<IPython.core.display.Javascript object>"
      ]
     },
     "metadata": {},
     "output_type": "display_data"
    },
    {
     "name": "stdout",
     "output_type": "stream",
     "text": [
      "[]\n"
     ]
    },
    {
     "data": {
      "application/javascript": [
       "\n",
       "        if (window._pyforest_update_imports_cell) { window._pyforest_update_imports_cell('import re\\nimport os'); }\n",
       "    "
      ],
      "text/plain": [
       "<IPython.core.display.Javascript object>"
      ]
     },
     "metadata": {},
     "output_type": "display_data"
    },
    {
     "name": "stdout",
     "output_type": "stream",
     "text": [
      "[]\n"
     ]
    },
    {
     "data": {
      "application/javascript": [
       "\n",
       "        if (window._pyforest_update_imports_cell) { window._pyforest_update_imports_cell('import re\\nimport os'); }\n",
       "    "
      ],
      "text/plain": [
       "<IPython.core.display.Javascript object>"
      ]
     },
     "metadata": {},
     "output_type": "display_data"
    },
    {
     "name": "stdout",
     "output_type": "stream",
     "text": [
      "[]\n"
     ]
    },
    {
     "data": {
      "application/javascript": [
       "\n",
       "        if (window._pyforest_update_imports_cell) { window._pyforest_update_imports_cell('import re\\nimport os'); }\n",
       "    "
      ],
      "text/plain": [
       "<IPython.core.display.Javascript object>"
      ]
     },
     "metadata": {},
     "output_type": "display_data"
    },
    {
     "name": "stdout",
     "output_type": "stream",
     "text": [
      "[]\n"
     ]
    },
    {
     "data": {
      "application/javascript": [
       "\n",
       "        if (window._pyforest_update_imports_cell) { window._pyforest_update_imports_cell('import re\\nimport os'); }\n",
       "    "
      ],
      "text/plain": [
       "<IPython.core.display.Javascript object>"
      ]
     },
     "metadata": {},
     "output_type": "display_data"
    },
    {
     "name": "stdout",
     "output_type": "stream",
     "text": [
      "[]\n"
     ]
    },
    {
     "data": {
      "application/javascript": [
       "\n",
       "        if (window._pyforest_update_imports_cell) { window._pyforest_update_imports_cell('import re\\nimport os'); }\n",
       "    "
      ],
      "text/plain": [
       "<IPython.core.display.Javascript object>"
      ]
     },
     "metadata": {},
     "output_type": "display_data"
    },
    {
     "name": "stdout",
     "output_type": "stream",
     "text": [
      "[]\n"
     ]
    },
    {
     "data": {
      "application/javascript": [
       "\n",
       "        if (window._pyforest_update_imports_cell) { window._pyforest_update_imports_cell('import re\\nimport os'); }\n",
       "    "
      ],
      "text/plain": [
       "<IPython.core.display.Javascript object>"
      ]
     },
     "metadata": {},
     "output_type": "display_data"
    },
    {
     "name": "stdout",
     "output_type": "stream",
     "text": [
      "[]\n"
     ]
    },
    {
     "data": {
      "application/javascript": [
       "\n",
       "        if (window._pyforest_update_imports_cell) { window._pyforest_update_imports_cell('import re\\nimport os'); }\n",
       "    "
      ],
      "text/plain": [
       "<IPython.core.display.Javascript object>"
      ]
     },
     "metadata": {},
     "output_type": "display_data"
    },
    {
     "name": "stdout",
     "output_type": "stream",
     "text": [
      "[]\n"
     ]
    },
    {
     "data": {
      "application/javascript": [
       "\n",
       "        if (window._pyforest_update_imports_cell) { window._pyforest_update_imports_cell('import re\\nimport os'); }\n",
       "    "
      ],
      "text/plain": [
       "<IPython.core.display.Javascript object>"
      ]
     },
     "metadata": {},
     "output_type": "display_data"
    },
    {
     "name": "stdout",
     "output_type": "stream",
     "text": [
      "[]\n"
     ]
    },
    {
     "data": {
      "application/javascript": [
       "\n",
       "        if (window._pyforest_update_imports_cell) { window._pyforest_update_imports_cell('import re\\nimport os'); }\n",
       "    "
      ],
      "text/plain": [
       "<IPython.core.display.Javascript object>"
      ]
     },
     "metadata": {},
     "output_type": "display_data"
    },
    {
     "name": "stdout",
     "output_type": "stream",
     "text": [
      "[]\n"
     ]
    },
    {
     "data": {
      "application/javascript": [
       "\n",
       "        if (window._pyforest_update_imports_cell) { window._pyforest_update_imports_cell('import re\\nimport os'); }\n",
       "    "
      ],
      "text/plain": [
       "<IPython.core.display.Javascript object>"
      ]
     },
     "metadata": {},
     "output_type": "display_data"
    },
    {
     "name": "stdout",
     "output_type": "stream",
     "text": [
      "[]\n"
     ]
    },
    {
     "data": {
      "application/javascript": [
       "\n",
       "        if (window._pyforest_update_imports_cell) { window._pyforest_update_imports_cell('import re\\nimport os'); }\n",
       "    "
      ],
      "text/plain": [
       "<IPython.core.display.Javascript object>"
      ]
     },
     "metadata": {},
     "output_type": "display_data"
    },
    {
     "name": "stdout",
     "output_type": "stream",
     "text": [
      "[]\n"
     ]
    },
    {
     "data": {
      "application/javascript": [
       "\n",
       "        if (window._pyforest_update_imports_cell) { window._pyforest_update_imports_cell('import re\\nimport os'); }\n",
       "    "
      ],
      "text/plain": [
       "<IPython.core.display.Javascript object>"
      ]
     },
     "metadata": {},
     "output_type": "display_data"
    },
    {
     "name": "stdout",
     "output_type": "stream",
     "text": [
      "['Address Midd']\n"
     ]
    },
    {
     "data": {
      "application/javascript": [
       "\n",
       "        if (window._pyforest_update_imports_cell) { window._pyforest_update_imports_cell('import re\\nimport os'); }\n",
       "    "
      ],
      "text/plain": [
       "<IPython.core.display.Javascript object>"
      ]
     },
     "metadata": {},
     "output_type": "display_data"
    },
    {
     "name": "stdout",
     "output_type": "stream",
     "text": [
      "['Address Middle']\n"
     ]
    },
    {
     "data": {
      "application/javascript": [
       "\n",
       "        if (window._pyforest_update_imports_cell) { window._pyforest_update_imports_cell('import re\\nimport os'); }\n",
       "    "
      ],
      "text/plain": [
       "<IPython.core.display.Javascript object>"
      ]
     },
     "metadata": {},
     "output_type": "display_data"
    },
    {
     "name": "stdout",
     "output_type": "stream",
     "text": [
      "[]\n"
     ]
    },
    {
     "data": {
      "application/javascript": [
       "\n",
       "        if (window._pyforest_update_imports_cell) { window._pyforest_update_imports_cell('import re\\nimport os'); }\n",
       "    "
      ],
      "text/plain": [
       "<IPython.core.display.Javascript object>"
      ]
     },
     "metadata": {},
     "output_type": "display_data"
    },
    {
     "name": "stdout",
     "output_type": "stream",
     "text": [
      "[]\n"
     ]
    },
    {
     "data": {
      "application/javascript": [
       "\n",
       "        if (window._pyforest_update_imports_cell) { window._pyforest_update_imports_cell('import re\\nimport os'); }\n",
       "    "
      ],
      "text/plain": [
       "<IPython.core.display.Javascript object>"
      ]
     },
     "metadata": {},
     "output_type": "display_data"
    },
    {
     "name": "stdout",
     "output_type": "stream",
     "text": [
      "[]\n"
     ]
    },
    {
     "data": {
      "application/javascript": [
       "\n",
       "        if (window._pyforest_update_imports_cell) { window._pyforest_update_imports_cell('import re\\nimport os'); }\n",
       "    "
      ],
      "text/plain": [
       "<IPython.core.display.Javascript object>"
      ]
     },
     "metadata": {},
     "output_type": "display_data"
    },
    {
     "name": "stdout",
     "output_type": "stream",
     "text": [
      "[]\n"
     ]
    },
    {
     "data": {
      "application/javascript": [
       "\n",
       "        if (window._pyforest_update_imports_cell) { window._pyforest_update_imports_cell('import re\\nimport os'); }\n",
       "    "
      ],
      "text/plain": [
       "<IPython.core.display.Javascript object>"
      ]
     },
     "metadata": {},
     "output_type": "display_data"
    },
    {
     "name": "stdout",
     "output_type": "stream",
     "text": [
      "[]\n"
     ]
    },
    {
     "data": {
      "application/javascript": [
       "\n",
       "        if (window._pyforest_update_imports_cell) { window._pyforest_update_imports_cell('import re\\nimport os'); }\n",
       "    "
      ],
      "text/plain": [
       "<IPython.core.display.Javascript object>"
      ]
     },
     "metadata": {},
     "output_type": "display_data"
    },
    {
     "name": "stdout",
     "output_type": "stream",
     "text": [
      "[]\n"
     ]
    },
    {
     "data": {
      "application/javascript": [
       "\n",
       "        if (window._pyforest_update_imports_cell) { window._pyforest_update_imports_cell('import re\\nimport os'); }\n",
       "    "
      ],
      "text/plain": [
       "<IPython.core.display.Javascript object>"
      ]
     },
     "metadata": {},
     "output_type": "display_data"
    },
    {
     "name": "stdout",
     "output_type": "stream",
     "text": [
      "[]\n"
     ]
    },
    {
     "data": {
      "application/javascript": [
       "\n",
       "        if (window._pyforest_update_imports_cell) { window._pyforest_update_imports_cell('import re\\nimport os'); }\n",
       "    "
      ],
      "text/plain": [
       "<IPython.core.display.Javascript object>"
      ]
     },
     "metadata": {},
     "output_type": "display_data"
    },
    {
     "name": "stdout",
     "output_type": "stream",
     "text": [
      "[]\n"
     ]
    },
    {
     "data": {
      "application/javascript": [
       "\n",
       "        if (window._pyforest_update_imports_cell) { window._pyforest_update_imports_cell('import re\\nimport os'); }\n",
       "    "
      ],
      "text/plain": [
       "<IPython.core.display.Javascript object>"
      ]
     },
     "metadata": {},
     "output_type": "display_data"
    },
    {
     "name": "stdout",
     "output_type": "stream",
     "text": [
      "[]\n"
     ]
    },
    {
     "data": {
      "application/javascript": [
       "\n",
       "        if (window._pyforest_update_imports_cell) { window._pyforest_update_imports_cell('import re\\nimport os'); }\n",
       "    "
      ],
      "text/plain": [
       "<IPython.core.display.Javascript object>"
      ]
     },
     "metadata": {},
     "output_type": "display_data"
    },
    {
     "name": "stdout",
     "output_type": "stream",
     "text": [
      "['ADDRESS Vadodara', 'ADDRESS Vadodara']\n"
     ]
    },
    {
     "data": {
      "application/javascript": [
       "\n",
       "        if (window._pyforest_update_imports_cell) { window._pyforest_update_imports_cell('import re\\nimport os'); }\n",
       "    "
      ],
      "text/plain": [
       "<IPython.core.display.Javascript object>"
      ]
     },
     "metadata": {},
     "output_type": "display_data"
    },
    {
     "name": "stdout",
     "output_type": "stream",
     "text": [
      "['ADDRESS Vadodara', 'ADDRESS Vadodara']\n"
     ]
    },
    {
     "data": {
      "application/javascript": [
       "\n",
       "        if (window._pyforest_update_imports_cell) { window._pyforest_update_imports_cell('import re\\nimport os'); }\n",
       "    "
      ],
      "text/plain": [
       "<IPython.core.display.Javascript object>"
      ]
     },
     "metadata": {},
     "output_type": "display_data"
    },
    {
     "name": "stdout",
     "output_type": "stream",
     "text": [
      "[]\n"
     ]
    },
    {
     "data": {
      "application/javascript": [
       "\n",
       "        if (window._pyforest_update_imports_cell) { window._pyforest_update_imports_cell('import re\\nimport os'); }\n",
       "    "
      ],
      "text/plain": [
       "<IPython.core.display.Javascript object>"
      ]
     },
     "metadata": {},
     "output_type": "display_data"
    },
    {
     "name": "stdout",
     "output_type": "stream",
     "text": [
      "[]\n"
     ]
    }
   ],
   "source": [
    "ADDRESS_REG = re.compile(r'address [A-Za-z0-9]\\w*s*\\w*s*\\w*', re.IGNORECASE)\n",
    "\n",
    "def extract_address(s):\n",
    "    return re.findall(ADDRESS_REG, s)\n",
    "for invoice in corpus_invoicedata:\n",
    "    print(extract_address(invoice))"
   ]
  },
  {
   "cell_type": "code",
   "execution_count": null,
   "id": "440878fa",
   "metadata": {},
   "outputs": [],
   "source": [
    "import spacy\n",
    "\n",
    "# Import the Matcher\n",
    "from spacy.matcher import Matcher\n",
    "from spacy import displacy\n",
    "\n",
    "nlp = spacy.load(\"en_core_web_sm\")\n",
    "doc = nlp(text)"
   ]
  },
  {
   "cell_type": "code",
   "execution_count": null,
   "id": "c7d2de0f",
   "metadata": {},
   "outputs": [],
   "source": [
    "text = pytesseract.image_to_string('C:/Users/Mula Ram/Downloads/fwdinvoicesample/invoices/pur-mar2021-2 001.jpg')\n",
    "doc = nlp(text)"
   ]
  },
  {
   "cell_type": "code",
   "execution_count": null,
   "id": "9407f5fe",
   "metadata": {},
   "outputs": [],
   "source": [
    "for word in doc.ents:\n",
    "    print(word.text,word.label_)"
   ]
  },
  {
   "cell_type": "code",
   "execution_count": null,
   "id": "179f3bfb",
   "metadata": {},
   "outputs": [],
   "source": [
    "displacy.render(doc,style=\"ent\",jupyter=True)"
   ]
  },
  {
   "cell_type": "code",
   "execution_count": null,
   "id": "892b76ee",
   "metadata": {},
   "outputs": [],
   "source": [
    "#initialize matcher\n",
    "matcher = Matcher(nlp.vocab)\n",
    "\n",
    "# Create a pattern matching two tokens: \"Alice\" and a Verb\n",
    "#TEXT is for the exact match and VERB for a verb\n",
    "pattern = [{\"TEXT\": \"Invoice \"}, {\"TEXT\": \"No.\"}]\n",
    "\n",
    "\n",
    "# Add the pattern to the matcher\n",
    "\n",
    "#the first variable is a unique id for the pattern (alice).\n",
    "#The second is an optional callback and the third one is our pattern.\n",
    "matcher.add(\"Invoice No. \", [pattern])\n",
    "\n",
    "# Use the matcher on the doc\n",
    "matches = matcher(doc)\n",
    "print(\"Matches:\", [doc[start:end].text for match_id, start, end in matches])"
   ]
  },
  {
   "cell_type": "code",
   "execution_count": null,
   "id": "a3134017",
   "metadata": {},
   "outputs": [],
   "source": [
    "matcher = Matcher(nlp.vocab)\n",
    "\n",
    "pattern = [{\"POS\": \"ADJ\"}, {\"POS\": \"NOUN\"}]\n",
    "\n",
    "matcher.add(\"id1\", [pattern])\n",
    "matches = matcher(doc)\n",
    "\n",
    "# We will show you the first 20 matches\n",
    "print(\"Matches:\", set([doc[start:end].text for match_id, start, end in matches][:20]))"
   ]
  },
  {
   "cell_type": "code",
   "execution_count": null,
   "id": "9f9271b6",
   "metadata": {},
   "outputs": [],
   "source": [
    "matcher = Matcher(nlp.vocab)\n",
    "pattern = [{\"TEXT\": \"Invoice\"},{\"POS\": \"ADP\"}]\n",
    "matcher.add(\"id1\", [pattern])\n",
    "matches = matcher(doc)\n",
    "print(\"Matches:\", set([doc[start:end].text for match_id, start, end in matches]))"
   ]
  },
  {
   "cell_type": "code",
   "execution_count": null,
   "id": "72cbb491",
   "metadata": {},
   "outputs": [],
   "source": [
    "matcher = Matcher(nlp.vocab)\n",
    "pattern = [{\"TEXT\": \"Invoice\"}, {\"IS_PUNCT\": True,\"OP\":\"*\"}]\n",
    "matcher.add(\"id1\", [pattern])\n",
    "matches = matcher(doc)\n",
    "print(\"Matches:\", set([doc[start:end].text for match_id, start, end in matches]))"
   ]
  },
  {
   "cell_type": "code",
   "execution_count": null,
   "id": "a4514817",
   "metadata": {},
   "outputs": [],
   "source": [
    "path = 'C:/Users/Mula Ram/Downloads/fwdinvoicesample/downloadfile-191.pdf'\n",
    "output_string = StringIO()\n",
    "with open(path, 'rb') as in_file:\n",
    "    parser = PDFParser(in_file)\n",
    "    doc = PDFDocument(parser)\n",
    "    rsrcmgr = PDFResourceManager()\n",
    "    device = TextConverter(rsrcmgr, output_string, laparams=LAParams())\n",
    "    interpreter = PDFPageInterpreter(rsrcmgr, device)\n",
    "    for page in PDFPage.create_pages(doc):\n",
    "        interpreter.process_page(page)\n",
    "\n",
    "text = output_string.getvalue()"
   ]
  },
  {
   "cell_type": "code",
   "execution_count": null,
   "id": "170cab55",
   "metadata": {},
   "outputs": [],
   "source": [
    "for text in corpus_invoicedata:\n",
    "    doc = nlp(text)\n",
    "    matcher = Matcher(nlp.vocab)\n",
    "    pattern = [{\"TEXT\": \"Invoice \"}, {\"TEXT\": \"No.\"}]\n",
    "    pattern = [{\"TEXT\": \"Invoice\"}, {\"IS_PUNCT\": False,\"OP\":\"+\"}]\n",
    "    matcher.add(\"NNNNNNNN: \", [pattern], greedy = \"LONGEST\")\n",
    "    matches = matcher(doc)\n",
    "    #print(matches)\n",
    "    print(\"Matches:\", [doc[start:end].text for match_id, start, end in matches])"
   ]
  },
  {
   "cell_type": "code",
   "execution_count": null,
   "id": "4c0fbd4f",
   "metadata": {},
   "outputs": [],
   "source": [
    "for text in corpus_invoicedata:\n",
    "    doc = nlp(text)\n",
    "    matcher = Matcher(nlp.vocab)\n",
    "    pattern = [{\"TEXT\": \"Invoice \"}, {\"TEXT\": \"No.\"}]\n",
    "    pattern = [{\"TEXT\": \"Invoice\"}, {\"IS_PUNCT\": False,\"OP\":\"+\"}]\n",
    "    pattern = [{\"LIKE_EMAIL\":True}, {\"IS_PUNCT\": False,\"OP\":\"+\"}]\n",
    "    matcher.add(\"EMMMM: \", [pattern], greedy = \"LONGEST\")\n",
    "    matches = matcher(doc)\n",
    "    #print(matches)\n",
    "    print(\"Matches:\", [doc[start:end].text for match_id, start, end in matches])"
   ]
  },
  {
   "cell_type": "code",
   "execution_count": null,
   "id": "808f0148",
   "metadata": {},
   "outputs": [],
   "source": [
    "for text in corpus_invoicedata:\n",
    "    doc = nlp(text)\n",
    "    matcher = Matcher(nlp.vocab)\n",
    "    pattern1 = [{\"LEMMA\": \"Invoice\"},\n",
    "               {\"IS_ALPHA\": True, \"OP\":\"*\"},\n",
    "               {\"LIKE_NUM\": True, \"OP\":\"+\"}\n",
    "              ]\n",
    "    pattern2 = [{\"TEXT\": \"Invoice\"}, {\"IS_PUNCT\": False,\"OP\":\"+\"}]\n",
    "    pattern3 = [{\"LIKE_EMAIL\":True}, {\"IS_PUNCT\": False,\"OP\":\"+\"}]\n",
    "    matcher.add(\"InvoiceNumber: \", [pattern1, pattern2, pattern3], greedy = \"LONGEST\")\n",
    "    matches = matcher(doc)\n",
    "    #print(matches)\n",
    "    print(\"Matches:\", [doc[start:end].text for match_id, start, end in matches])"
   ]
  },
  {
   "cell_type": "code",
   "execution_count": null,
   "id": "46518d61",
   "metadata": {},
   "outputs": [],
   "source": [
    "print(corpus_invoicedata[9])"
   ]
  },
  {
   "cell_type": "code",
   "execution_count": null,
   "id": "86111cb9",
   "metadata": {},
   "outputs": [],
   "source": [
    "for text in corpus_invoicedata:\n",
    "    doc = nlp(text)\n",
    "    matcher = Matcher(nlp.vocab)\n",
    "    pattern1 = [{\"LEMMA\": \"Invoice\"},\n",
    "               {\"IS_ALPHA\": True, \"OP\":\"*\"},\n",
    "               {\"LIKE_NUM\": True, \"OP\":\"+\"}\n",
    "              ]\n",
    "    pattern2 = [{\"TEXT\": \"Invoice\"}, {\"IS_PUNCT\": False,\"OP\":\"+\"}]\n",
    "    pattern3 = [{\"LIKE_EMAIL\":True}, {\"IS_PUNCT\": False,\"OP\":\"+\"}]\n",
    "    pattern4 = [{\"TEXT\": \"Invoice No\"},\n",
    "               {\"IS_ALPHA\": True, \"OP\":\"*\"},\n",
    "               {\"LIKE_NUM\": True, \"OP\":\"+\"}\n",
    "              ]\n",
    "    \n",
    "    #matcher.add(\"InvoiceNumber: \", [pattern1, pattern2, pattern3, pattern4], greedy = \"LONGEST\")\n",
    "    matcher.add(\"InvoiceNumber: \", [pattern4], greedy = \"LONGEST\")\n",
    "    matches = matcher(doc)\n",
    "    #print(matches)\n",
    "    print(\"Matches:\", [doc[start:end].text for match_id, start, end in matches])"
   ]
  },
  {
   "cell_type": "code",
   "execution_count": null,
   "id": "ab98ddec",
   "metadata": {},
   "outputs": [],
   "source": [
    "for text in corpus_invoicedata:\n",
    "    doc = nlp(text)\n",
    "    matcher = Matcher(nlp.vocab)\n",
    "    pattern1 = [{\"LEMMA\": \"Address\"},\n",
    "               {\"IS_ALPHA\": True, \"OP\":\"*\"},\n",
    "               {\"LIKE_NUM\": True, \"OP\":\"+\"}\n",
    "              ]\n",
    "    pattern2 = [{\"TEXT\": \"Address\"}, {\"IS_PUNCT\": False,\"OP\":\"+\"}]\n",
    "    pattern3 = [{\"TEXT\": \"Address\",\"OP\":\"+\"}]\n",
    "    pattern4 = [{\"TEXT\": \"Address\"},\n",
    "               {\"IS_ALPHA\": True, \"OP\":\"*\"},\n",
    "               {\"LIKE_NUM\": True, \"OP\":\"+\"}\n",
    "              ]\n",
    "    \n",
    "    matcher.add(\"InvoiceNumber: \", [pattern1, pattern2, pattern3, pattern4], greedy = \"LONGEST\")\n",
    "    #matcher.add(\"InvoiceNumber: \", [pattern4], greedy = \"LONGEST\")\n",
    "    matches = matcher(doc)\n",
    "    #print(matches)\n",
    "    print(\"Matches:\", [doc[start:end].text for match_id, start, end in matches])"
   ]
  },
  {
   "cell_type": "code",
   "execution_count": null,
   "id": "343266d6",
   "metadata": {},
   "outputs": [],
   "source": []
  },
  {
   "cell_type": "code",
   "execution_count": null,
   "id": "bcc7f8b2",
   "metadata": {},
   "outputs": [],
   "source": []
  }
 ],
 "metadata": {
  "kernelspec": {
   "display_name": "Python 3 (ipykernel)",
   "language": "python",
   "name": "python3"
  },
  "language_info": {
   "codemirror_mode": {
    "name": "ipython",
    "version": 3
   },
   "file_extension": ".py",
   "mimetype": "text/x-python",
   "name": "python",
   "nbconvert_exporter": "python",
   "pygments_lexer": "ipython3",
   "version": "3.9.10"
  }
 },
 "nbformat": 4,
 "nbformat_minor": 5
}
