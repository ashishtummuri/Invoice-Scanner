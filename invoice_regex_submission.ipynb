{
 "cells": [
  {
   "cell_type": "code",
   "execution_count": 1,
   "id": "74d7c711",
   "metadata": {},
   "outputs": [],
   "source": [
    "import numpy as np\n",
    "import pandas as pd\n",
    "import string\n",
    "import pickle\n",
    "import matplotlib.pyplot as plt \n",
    "import seaborn as sns\n",
    "from io import StringIO\n",
    "\n",
    "from nltk.tokenize import RegexpTokenizer\n",
    "from pdfminer.high_level import extract_text\n",
    "from nltk.probability import FreqDist\n",
    "from io import StringIO\n",
    "\n",
    "from pdfminer.converter import TextConverter\n",
    "from pdfminer.layout import LAParams\n",
    "from pdfminer.pdfdocument import PDFDocument\n",
    "from pdfminer.pdfinterp import PDFResourceManager, PDFPageInterpreter\n",
    "from pdfminer.pdfpage import PDFPage\n",
    "from pdfminer.pdfparser import PDFParser"
   ]
  },
  {
   "cell_type": "code",
   "execution_count": 2,
   "id": "7a3df76d",
   "metadata": {},
   "outputs": [
    {
     "data": {
      "application/javascript": [
       "\n",
       "        if (window._pyforest_update_imports_cell) { window._pyforest_update_imports_cell('import os'); }\n",
       "    "
      ],
      "text/plain": [
       "<IPython.core.display.Javascript object>"
      ]
     },
     "metadata": {},
     "output_type": "display_data"
    }
   ],
   "source": [
    "os.chdir('C:/Users/Mula Ram/Downloads/fwdinvoicesample/invoices')"
   ]
  },
  {
   "cell_type": "code",
   "execution_count": 3,
   "id": "d977d09e",
   "metadata": {},
   "outputs": [],
   "source": [
    "import pytesseract\n",
    "\n",
    "pytesseract.pytesseract.tesseract_cmd='C:/Users/Mula Ram/AppData/Local/Programs/Tesseract-OCR/tesseract.exe'"
   ]
  },
  {
   "cell_type": "code",
   "execution_count": 4,
   "id": "36c49271",
   "metadata": {},
   "outputs": [
    {
     "data": {
      "application/javascript": [
       "\n",
       "        if (window._pyforest_update_imports_cell) { window._pyforest_update_imports_cell('import os'); }\n",
       "    "
      ],
      "text/plain": [
       "<IPython.core.display.Javascript object>"
      ]
     },
     "metadata": {},
     "output_type": "display_data"
    },
    {
     "ename": "UnicodeDecodeError",
     "evalue": "'utf-8' codec can't decode byte 0x80 in position 82: invalid start byte",
     "output_type": "error",
     "traceback": [
      "\u001b[1;31m---------------------------------------------------------------------------\u001b[0m",
      "\u001b[1;31mUnicodeDecodeError\u001b[0m                        Traceback (most recent call last)",
      "Input \u001b[1;32mIn [4]\u001b[0m, in \u001b[0;36m<module>\u001b[1;34m\u001b[0m\n\u001b[0;32m      3\u001b[0m text_data \u001b[38;5;241m=\u001b[39m []\n\u001b[0;32m      4\u001b[0m \u001b[38;5;28;01mfor\u001b[39;00m file \u001b[38;5;129;01min\u001b[39;00m lst:\n\u001b[1;32m----> 5\u001b[0m     text \u001b[38;5;241m=\u001b[39m \u001b[43mpytesseract\u001b[49m\u001b[38;5;241;43m.\u001b[39;49m\u001b[43mimage_to_string\u001b[49m\u001b[43m(\u001b[49m\u001b[43mfile\u001b[49m\u001b[43m)\u001b[49m\n\u001b[0;32m      6\u001b[0m     text_data\u001b[38;5;241m.\u001b[39mappend(text)\n",
      "File \u001b[1;32m~\\NLP\\dl\\lib\\site-packages\\pytesseract\\pytesseract.py:413\u001b[0m, in \u001b[0;36mimage_to_string\u001b[1;34m(image, lang, config, nice, output_type, timeout)\u001b[0m\n\u001b[0;32m    408\u001b[0m \u001b[38;5;124;03m\"\"\"\u001b[39;00m\n\u001b[0;32m    409\u001b[0m \u001b[38;5;124;03mReturns the result of a Tesseract OCR run on the provided image to string\u001b[39;00m\n\u001b[0;32m    410\u001b[0m \u001b[38;5;124;03m\"\"\"\u001b[39;00m\n\u001b[0;32m    411\u001b[0m args \u001b[38;5;241m=\u001b[39m [image, \u001b[38;5;124m'\u001b[39m\u001b[38;5;124mtxt\u001b[39m\u001b[38;5;124m'\u001b[39m, lang, config, nice, timeout]\n\u001b[1;32m--> 413\u001b[0m \u001b[38;5;28;01mreturn\u001b[39;00m \u001b[43m{\u001b[49m\n\u001b[0;32m    414\u001b[0m \u001b[43m    \u001b[49m\u001b[43mOutput\u001b[49m\u001b[38;5;241;43m.\u001b[39;49m\u001b[43mBYTES\u001b[49m\u001b[43m:\u001b[49m\u001b[43m \u001b[49m\u001b[38;5;28;43;01mlambda\u001b[39;49;00m\u001b[43m:\u001b[49m\u001b[43m \u001b[49m\u001b[43mrun_and_get_output\u001b[49m\u001b[43m(\u001b[49m\u001b[38;5;241;43m*\u001b[39;49m\u001b[43m(\u001b[49m\u001b[43margs\u001b[49m\u001b[43m \u001b[49m\u001b[38;5;241;43m+\u001b[39;49m\u001b[43m \u001b[49m\u001b[43m[\u001b[49m\u001b[38;5;28;43;01mTrue\u001b[39;49;00m\u001b[43m]\u001b[49m\u001b[43m)\u001b[49m\u001b[43m)\u001b[49m\u001b[43m,\u001b[49m\n\u001b[0;32m    415\u001b[0m \u001b[43m    \u001b[49m\u001b[43mOutput\u001b[49m\u001b[38;5;241;43m.\u001b[39;49m\u001b[43mDICT\u001b[49m\u001b[43m:\u001b[49m\u001b[43m \u001b[49m\u001b[38;5;28;43;01mlambda\u001b[39;49;00m\u001b[43m:\u001b[49m\u001b[43m \u001b[49m\u001b[43m{\u001b[49m\u001b[38;5;124;43m'\u001b[39;49m\u001b[38;5;124;43mtext\u001b[39;49m\u001b[38;5;124;43m'\u001b[39;49m\u001b[43m:\u001b[49m\u001b[43m \u001b[49m\u001b[43mrun_and_get_output\u001b[49m\u001b[43m(\u001b[49m\u001b[38;5;241;43m*\u001b[39;49m\u001b[43margs\u001b[49m\u001b[43m)\u001b[49m\u001b[43m}\u001b[49m\u001b[43m,\u001b[49m\n\u001b[0;32m    416\u001b[0m \u001b[43m    \u001b[49m\u001b[43mOutput\u001b[49m\u001b[38;5;241;43m.\u001b[39;49m\u001b[43mSTRING\u001b[49m\u001b[43m:\u001b[49m\u001b[43m \u001b[49m\u001b[38;5;28;43;01mlambda\u001b[39;49;00m\u001b[43m:\u001b[49m\u001b[43m \u001b[49m\u001b[43mrun_and_get_output\u001b[49m\u001b[43m(\u001b[49m\u001b[38;5;241;43m*\u001b[39;49m\u001b[43margs\u001b[49m\u001b[43m)\u001b[49m\u001b[43m,\u001b[49m\n\u001b[0;32m    417\u001b[0m \u001b[43m\u001b[49m\u001b[43m}\u001b[49m\u001b[43m[\u001b[49m\u001b[43moutput_type\u001b[49m\u001b[43m]\u001b[49m\u001b[43m(\u001b[49m\u001b[43m)\u001b[49m\n",
      "File \u001b[1;32m~\\NLP\\dl\\lib\\site-packages\\pytesseract\\pytesseract.py:416\u001b[0m, in \u001b[0;36mimage_to_string.<locals>.<lambda>\u001b[1;34m()\u001b[0m\n\u001b[0;32m    408\u001b[0m \u001b[38;5;124;03m\"\"\"\u001b[39;00m\n\u001b[0;32m    409\u001b[0m \u001b[38;5;124;03mReturns the result of a Tesseract OCR run on the provided image to string\u001b[39;00m\n\u001b[0;32m    410\u001b[0m \u001b[38;5;124;03m\"\"\"\u001b[39;00m\n\u001b[0;32m    411\u001b[0m args \u001b[38;5;241m=\u001b[39m [image, \u001b[38;5;124m'\u001b[39m\u001b[38;5;124mtxt\u001b[39m\u001b[38;5;124m'\u001b[39m, lang, config, nice, timeout]\n\u001b[0;32m    413\u001b[0m \u001b[38;5;28;01mreturn\u001b[39;00m {\n\u001b[0;32m    414\u001b[0m     Output\u001b[38;5;241m.\u001b[39mBYTES: \u001b[38;5;28;01mlambda\u001b[39;00m: run_and_get_output(\u001b[38;5;241m*\u001b[39m(args \u001b[38;5;241m+\u001b[39m [\u001b[38;5;28;01mTrue\u001b[39;00m])),\n\u001b[0;32m    415\u001b[0m     Output\u001b[38;5;241m.\u001b[39mDICT: \u001b[38;5;28;01mlambda\u001b[39;00m: {\u001b[38;5;124m'\u001b[39m\u001b[38;5;124mtext\u001b[39m\u001b[38;5;124m'\u001b[39m: run_and_get_output(\u001b[38;5;241m*\u001b[39margs)},\n\u001b[1;32m--> 416\u001b[0m     Output\u001b[38;5;241m.\u001b[39mSTRING: \u001b[38;5;28;01mlambda\u001b[39;00m: \u001b[43mrun_and_get_output\u001b[49m\u001b[43m(\u001b[49m\u001b[38;5;241;43m*\u001b[39;49m\u001b[43margs\u001b[49m\u001b[43m)\u001b[49m,\n\u001b[0;32m    417\u001b[0m }[output_type]()\n",
      "File \u001b[1;32m~\\NLP\\dl\\lib\\site-packages\\pytesseract\\pytesseract.py:284\u001b[0m, in \u001b[0;36mrun_and_get_output\u001b[1;34m(image, extension, lang, config, nice, timeout, return_bytes)\u001b[0m\n\u001b[0;32m    273\u001b[0m \u001b[38;5;28;01mwith\u001b[39;00m save(image) \u001b[38;5;28;01mas\u001b[39;00m (temp_name, input_filename):\n\u001b[0;32m    274\u001b[0m     kwargs \u001b[38;5;241m=\u001b[39m {\n\u001b[0;32m    275\u001b[0m         \u001b[38;5;124m'\u001b[39m\u001b[38;5;124minput_filename\u001b[39m\u001b[38;5;124m'\u001b[39m: input_filename,\n\u001b[0;32m    276\u001b[0m         \u001b[38;5;124m'\u001b[39m\u001b[38;5;124moutput_filename_base\u001b[39m\u001b[38;5;124m'\u001b[39m: temp_name,\n\u001b[1;32m   (...)\u001b[0m\n\u001b[0;32m    281\u001b[0m         \u001b[38;5;124m'\u001b[39m\u001b[38;5;124mtimeout\u001b[39m\u001b[38;5;124m'\u001b[39m: timeout,\n\u001b[0;32m    282\u001b[0m     }\n\u001b[1;32m--> 284\u001b[0m     run_tesseract(\u001b[38;5;241m*\u001b[39m\u001b[38;5;241m*\u001b[39mkwargs)\n\u001b[0;32m    285\u001b[0m     filename \u001b[38;5;241m=\u001b[39m kwargs[\u001b[38;5;124m'\u001b[39m\u001b[38;5;124moutput_filename_base\u001b[39m\u001b[38;5;124m'\u001b[39m] \u001b[38;5;241m+\u001b[39m extsep \u001b[38;5;241m+\u001b[39m extension\n\u001b[0;32m    286\u001b[0m     \u001b[38;5;28;01mwith\u001b[39;00m \u001b[38;5;28mopen\u001b[39m(filename, \u001b[38;5;124m'\u001b[39m\u001b[38;5;124mrb\u001b[39m\u001b[38;5;124m'\u001b[39m) \u001b[38;5;28;01mas\u001b[39;00m output_file:\n",
      "File \u001b[1;32m~\\NLP\\dl\\lib\\site-packages\\pytesseract\\pytesseract.py:260\u001b[0m, in \u001b[0;36mrun_tesseract\u001b[1;34m(input_filename, output_filename_base, extension, lang, config, nice, timeout)\u001b[0m\n\u001b[0;32m    258\u001b[0m \u001b[38;5;28;01mwith\u001b[39;00m timeout_manager(proc, timeout) \u001b[38;5;28;01mas\u001b[39;00m error_string:\n\u001b[0;32m    259\u001b[0m     \u001b[38;5;28;01mif\u001b[39;00m proc\u001b[38;5;241m.\u001b[39mreturncode:\n\u001b[1;32m--> 260\u001b[0m         \u001b[38;5;28;01mraise\u001b[39;00m TesseractError(proc\u001b[38;5;241m.\u001b[39mreturncode, \u001b[43mget_errors\u001b[49m\u001b[43m(\u001b[49m\u001b[43merror_string\u001b[49m\u001b[43m)\u001b[49m)\n",
      "File \u001b[1;32m~\\NLP\\dl\\lib\\site-packages\\pytesseract\\pytesseract.py:152\u001b[0m, in \u001b[0;36mget_errors\u001b[1;34m(error_string)\u001b[0m\n\u001b[0;32m    150\u001b[0m \u001b[38;5;28;01mdef\u001b[39;00m \u001b[38;5;21mget_errors\u001b[39m(error_string):\n\u001b[0;32m    151\u001b[0m     \u001b[38;5;28;01mreturn\u001b[39;00m \u001b[38;5;124m'\u001b[39m\u001b[38;5;124m \u001b[39m\u001b[38;5;124m'\u001b[39m\u001b[38;5;241m.\u001b[39mjoin(\n\u001b[1;32m--> 152\u001b[0m         line \u001b[38;5;28;01mfor\u001b[39;00m line \u001b[38;5;129;01min\u001b[39;00m \u001b[43merror_string\u001b[49m\u001b[38;5;241;43m.\u001b[39;49m\u001b[43mdecode\u001b[49m\u001b[43m(\u001b[49m\u001b[43mDEFAULT_ENCODING\u001b[49m\u001b[43m)\u001b[49m\u001b[38;5;241m.\u001b[39msplitlines()\n\u001b[0;32m    153\u001b[0m     )\u001b[38;5;241m.\u001b[39mstrip()\n",
      "\u001b[1;31mUnicodeDecodeError\u001b[0m: 'utf-8' codec can't decode byte 0x80 in position 82: invalid start byte"
     ]
    }
   ],
   "source": [
    "# Converting data into text(OCR with pytesseract)\n",
    "lst = os.listdir('C:/Users/Mula Ram/Downloads/fwdinvoicesample/invoices')\n",
    "text_data = []\n",
    "for file in lst:\n",
    "    text = pytesseract.image_to_string(file)\n",
    "    text_data.append(text)"
   ]
  },
  {
   "cell_type": "code",
   "execution_count": 22,
   "id": "ae407f1b",
   "metadata": {},
   "outputs": [
    {
     "data": {
      "application/javascript": [
       "\n",
       "        if (window._pyforest_update_imports_cell) { window._pyforest_update_imports_cell('import os\\nimport re'); }\n",
       "    "
      ],
      "text/plain": [
       "<IPython.core.display.Javascript object>"
      ]
     },
     "metadata": {},
     "output_type": "display_data"
    }
   ],
   "source": [
    "os.chdir('C:/Users/Mula Ram/Downloads/fwdinvoicesample')"
   ]
  },
  {
   "cell_type": "code",
   "execution_count": null,
   "id": "c26b6df9",
   "metadata": {},
   "outputs": [],
   "source": [
    "len(text_data)"
   ]
  },
  {
   "cell_type": "code",
   "execution_count": null,
   "id": "8dffd9cc",
   "metadata": {},
   "outputs": [],
   "source": [
    "#Pickle data so that we don't have perform ocr again\n",
    "datafile = open('text_data_pickle', 'ab')\n",
    "pickle.dump(text_data, datafile)\n",
    "datafile.close()"
   ]
  },
  {
   "cell_type": "code",
   "execution_count": 5,
   "id": "a20cbbc5",
   "metadata": {},
   "outputs": [],
   "source": [
    "datafile = open('text_data_pickle', 'rb')     \n",
    "text_data = pickle.load(datafile)\n",
    "datafile.close()"
   ]
  },
  {
   "cell_type": "code",
   "execution_count": 6,
   "id": "6bd94585",
   "metadata": {},
   "outputs": [
    {
     "name": "stdout",
     "output_type": "stream",
     "text": [
      ". Email: dineshjaiswal1979@gmail.com\n",
      "Ph.: 2643-4958\n",
      "Mb.: 9836557024 a\n",
      "\n",
      "Te] HIRA\n",
      "\n",
      "a:\n",
      "\n",
      "CUM CHAL\n",
      "All Subject to Howrah Jurisdiction\n",
      "\n",
      "LAL JAISWAL & SONS\n",
      "\n",
      "ORIGINAL FOR RECEIPIENT [|\n",
      "DUPLICATE FOF TRANSPORTER [_]\n",
      "TRIPLICATE FOR SUPPLIER [_]\n",
      "ExTRACoPY [__]\n",
      "\n",
      "Dealers in : Stainless Steel Rod, Scrap, S.S., 304, 310, 316 & 41 0,M.S. Rod,\n",
      "Plates & Sheets, Pipes, Flanges etc. & General Order Suppliers\n",
      "\n",
      "207/29, Belilious Road, Howrah- 711101\n",
      "\n",
      "\\\n",
      "\n",
      "; ; . Transportation Mode :\n",
      "ina No. : HJS/ 23 2020-2) Vehicle No.\n",
      "Invoice Date 29-2020 Date of Supply\n",
      "State: West Bengal State Code 19 E. way Bill No.\n",
      "Details of Receiver/ Billed to : Details of Consignee/Shipped to :\n",
      "Name : _I-L ENGINEERING UNT_ —-—— {Name :——.._ _ a\n",
      "Address : Middle thoxthot ee cement eases Ulises mnie ne\n",
      "Sars lactose: ae ee\n",
      "State : UST BENGIL a Code _/ va — |Statte :-w Code_ _. _\n",
      "ostin : IZAIRPPS3IS L277 GSTIN :\n",
      "Purchase Order No.: Purchase Order Date :\n",
      "SI * HSN AMOUNT\n",
      "No. DESCRIPTION OF GOODS) SERVICE Code Quantity Rate Rs. Pp\n",
      "SS PIAL 7217 | 19 2-3o0| 220f| Y2 306 |ro\n",
      "Value Rs. 42306 |00\n",
      "ADD CGST @ %) 3SIS0F |SY\n",
      "GSTIN No. : 19AISPJ4698P1ZX ADD SGST @4Y % | 290 + |S y\n",
      "VAT No. : 19684998029 se C.S.T. No. : 19684998233 ADDIGST @ %\n",
      "Please pay by A/c. Payee Cheque / NEFT / RTGS Only TOTAL Y 9 G21 lok\n",
      "Rs. (InWords): FOUMS 112 nl thousand ny\\nt OF EE Ro) lax\n",
      "huadwed twenty ong ly. Grand TotalRs. 149 9>/ [og\n",
      "BANK DETAILS: Please sign & return with seal . E&OE\n",
      "NeNo. ‘seenznoosoe2n = Dineh Ta sok\n",
      "eo. ee For HIRALAL JAISWAL & SONS\n",
      "\n",
      "\n",
      "Tax Invoice\n",
      "\n",
      "| M/S UDIT\n",
      "MASHILA (WEST), MASHILA\n",
      "SANKRAIL\n",
      "\n",
      "HOWRAH-711302\n",
      "\n",
      "GSTIN/UIN: 19AHHPB5807A1ZT\n",
      "State Name: West Bengal, Code : 19\n",
      "E-Mail : udit40bh@gmail.com\n",
      "\n",
      "| Invoice No. | Dated\n",
      "02/05/20-21 _ 17-May-2020,\n",
      "Delivery Note | Mode/T: erms of Payment\n",
      "\n",
      "Supplier's Ref.\n",
      "02/05/20-21\n",
      "i:\n",
      "\n",
      "|\n",
      "4\n",
      "\n",
      "Other Reference(s)\n",
      "\n",
      "a\n",
      "Dated\n",
      "\n",
      "Bayer Buyers Order No, aD\n",
      "iL i i it =a\n",
      "| Made ai og 4g Despatch Document No. Delivery Note Date\n",
      "| Howrah\n",
      "| GSTIN/UIN : 19AJRPP8815E1ZM Despatched through Destination\n",
      "| State Name : West Bengal, Code : 19 |\n",
      "| Terms of Delivery\n",
      "|\n",
      "|\n",
      "SI Description of Goods HSN/SAC | Quantity | Rate | per | Amount |\n",
      "No.\n",
      "| ar ma a oi =o ETE ic ease ee\n",
      "1 Steel Round 7222 | 595.00 kg 50.00 kg 29,750.00\n",
      "2 FLAT (7211 | 180.00 kg 60.00, kg) 10,800.00\n",
      "| | | “40,550.00\n",
      "| CGST | 3,649.50\n",
      "SGST| | | 3,649.50\n",
      "| | | |\n",
      "in | | |\n",
      "| | | | |\n",
      "| | | | |\n",
      "| | | | |\n",
      "| | |\n",
      "ke = Total |775.00 kg) ; aE; 47,849.00.\n",
      "| Amount Chargeable (in words) E.&OE\n",
      "Indian Rupees Forty Seven Thousand Eight Hundred Forty Nine Only\n",
      "~ HSNSAC  ——~—~S Taxable | CentralTax | —_StateTax. | ‘Total\n",
      "Value Rate | Amount | Rate Amount _| Tax Amount\n",
      "7222 | 29,750.00) 9% | 2,677.50) 9% | 2,677.50 | 5,355.00\n",
      "7211 | _ 10,800.00 9% 972.00 | 9% 972.00 1,944.00\n",
      "ea ___ Total) 40,550.00 | _3,649.50° | 3,649.50, 7,299.00!\n",
      "\n",
      "‘Tax Amount (in words) : Indian Rupees\n",
      "\n",
      "|\n",
      "\n",
      "|\n",
      "| Declaration\n",
      "| We declare that this invoice shows the actual price of the\n",
      "\n",
      "goods described and that all particulars are true and\n",
      "[correct.\n",
      "\n",
      "Seven Thousand Two Hundred Ninety Nine Only\n",
      "\n",
      "This is a Computer Generated Invoice\n",
      "\n",
      "\n",
      "~\n",
      "\n",
      "TAX INVOICE CUM CHALLAN :\n",
      "— Phone No : 26438439\n",
      "\n",
      "Gram : \"STEELSTOCK\" - Original Buyer's Copy\n",
      "\n",
      "Shop : 158 /12, Belilious Road, Howrah-1\n",
      "Office : 4, Sahitya Parisad Street, Kolkata - 6\n",
      "E-mail : ispalghar2015@gmail.com\n",
      "\n",
      "Buyer's Name / = * 4\n",
      "\n",
      "Address : Z/1G0 2\n",
      "Bu r's GSTIN No. PAIR PP F§/S EI/ZM\n",
      "\n",
      "Yours Order No. Date _\n",
      "\n",
      "Despatched from to State code\n",
      "\n",
      "CREDIT FACILITY WILL BE WITHDRAWN IF BILLIS NOT PAID WITHIN DUE DATE.\n",
      "\n",
      "Quanti Weight VALUE\n",
      "ty DESCRIPTION H.S.N. Cod _Kg. Gms Rate Rs. p\n",
      "\n",
      "Naf Fl 79/4 9 voPO4 7 py) 8000\n",
      "\n",
      "Total YY) 80\\f0\n",
      "pilly aos ce sere T 9476/96\n",
      "Rupees in Words : Aiud sa ScsT@ 9] 3976|\\9\n",
      "nly sy iii IGST @ J.\n",
      "Total GST 799 \\AO\n",
      "Round Of —— | _ AO\n",
      "Pia etace Meresece MSDN cross vane [59/32/60\n",
      "An intimation pertaining to stortage & defects will have Received by : E48. 0. E.\n",
      "to send within 30 days on receipt of materials and there KX,\n",
      "after no approach of the sorts will be entertained.\n",
      "\n",
      "All matters are subject to Kolkata Jurisdiction. For ISPAT GHAR\n",
      "\n",
      ": R.K.TRADERS Invoice No. Dated\n",
      "NAYABAZ, G.U.P.COLONY,HOWRAH |04/05/20-21 18-May-2020\n",
      "| GST IN-19AOIPK1917Q1ZC Delivery Note Mode/Terms of Payment\n",
      "| Supplier's Ref. Other Reference(s)\n",
      "| 04/05/20-21 5\n",
      "| Consignes Buyer's Order No. Dated\n",
      "| L ENGINEERING UNIT = = 5\n",
      "JHOREHAT HOWRAH-711302 eee ae\n",
      "GSTIN - 19AJRPP8815E1ZM hh ce [ ; __|\n",
      "Despatched through | Destination\n",
      "— $$$ $$ Shel —$_——___ —E\n",
      "' Terms of Delivery\n",
      "| |\n",
      "| |\n",
      "| | |\n",
      "Description of Goods | Quantity Rate per Amount\n",
      "———— —— —\n",
      "| FLAT 410.00 KG 60.00; KG 24,600.00\n",
      "| HSN CODE - 7222 :\n",
      "‘Steel Round 330.00KG 50.00 KS «(46,500.00\n",
      "| HSN CODE - 7211\n",
      ",; 41,100.00\n",
      "OUTPUT CGST @ 9% 9\\% 3,699.00,\n",
      "OUTPUT SGST @ 9% 9\\% 3,699.00\n",
      "|\n",
      "| } | |\n",
      "| | |\n",
      " — °°» ° Total!740.00KG) | iF 48,498.00\n",
      "Amount Chargeable (in words) E&O€\n",
      "\n",
      "Rs. Forty Eight Thousand Four Hundred Ninety Eight Only\n",
      "\n",
      "—_\n",
      "\n",
      "| Declaration\n",
      "\n",
      "| We declare that this invoice shows the actual price of the goods\n",
      "\n",
      "described and that all particulars are true and correct.\n",
      "\n",
      "ea\n",
      "\n",
      "- SUBJECT TO HOWRAH JURISDICTION\n",
      "\n",
      "This is a Computer Generated Invoice\n",
      "\n",
      "\n",
      "ORIGINAL COPY TAX INVOICE\n",
      "CASH / CREDIT MEMO\n",
      "No. J} LY\n",
      "\n",
      "Mobile : 6290365442 / 8609250847\n",
      "\n",
      "Date ©, ] 22. 202.0\n",
      "\n",
      "M/S. SHIB SHAKTI ENGG. WORKS\n",
      "\n",
      "NYLON, PP HDPE, PVC, TEFLON, BACKLIGHT RODS AND SHEET / PLATE Available here\n",
      "Amta - Howrah Road, Shanpur Howrah 711105\n",
      "\n",
      "Buyer's GSTIN oud. Debs eb oP BBW SBD Pe I csrsstssttsitiinsintesenesen\n",
      "State's .....:.. des Finnkbrtrobptade. Peseemirinasiassavasakarseaksbecsecionasessexiots Code No. : ........ = siiespuccbacesedeatesuaneteboies\n",
      "\n",
      "Tax is Payable on Reserve Basis (Yes / No) :\n",
      "\n",
      "-| Si DESCRIPTION OF GOODS HSN | anty, “a Sciail RT\n",
      "M-™.\n",
      "\n",
      "er EN dd yee eae =|NET AMOUNT ¢\n",
      "\n",
      "Rupees in words ...... ¥ ae slhoaya ub Total < 2 VAD\" [0\n",
      "ate a Cf. d Jemttad sete O) % 252%\n",
      "LICGST@ Y % 252/79\n",
      "IGST@ = %\n",
      "Round Off\n",
      "BIOHia\n",
      "\n",
      "1. We are not responsible for any Breakage / Damage / Shortage / Leakage in transit\n",
      "2. Our responsibility ceases when the goods are delivered to the carrier\n",
      "\n",
      "3. Goods once sold will not be accepted back\n",
      "\n",
      "4. Subject to Howrah Jurisdiction\n",
      "\n",
      "Received by\n",
      "\n",
      "E.& 0.E.\n",
      "\n",
      "For M/S. SHIB SHAKTI ENGG. WORKS\n",
      "\n",
      "Rall Me).\n",
      "\n",
      "Authorised Signatory\n",
      "\n",
      "\n",
      "INVOICE\n",
      "\n",
      "‘SHREE BALAJI TRADERS Invoice No. Dated |\n",
      "| DHAMISA DAS PARA, PANCHLA 03/05/20-21 20-May-2020 |\n",
      "HOWRAH-711322 Delivery Note Mode/Terms of Payment |\n",
      "GSTIN - 19HEZPS5827H1ZB |\n",
      "| Supplier's Ref. | Other Reference(s) |\n",
      "03/05/20-21 | |\n",
      "\"Buyer Buyer's Order No. Dated\n",
      "LL Engineering Unit a\n",
      "D itch D it No. Dated\n",
      "‘Madhya Jhorehat ila —\n",
      "Sankrail, Howrah | =\n",
      "Despatched through Destination\n",
      "Terms of Delivery + com OF\n",
      "| |\n",
      "| |\n",
      "| |\n",
      "Sl | Description of Goods Quantity | Rate per Amount |\n",
      "fae nie - ia ne\n",
      "1 “ALLOY STEEL ROUND 620 ko 51.00| Kg _ 31,620.00\n",
      "| HSN CODE - 7228\n",
      "| | |\n",
      "OUTPUT CGST@9% | 91% 2,845.80\n",
      "OUTPUT SGST @ 9% 9'% 2,845.80\n",
      "ROUNDED OFF | 0.40.\n",
      "|\n",
      "da |\n",
      "| | | | |\n",
      "|\n",
      "|\n",
      "|\n",
      "| |\n",
      "| | | |\n",
      "| |\n",
      "a Total 620 Kg |) 37,312.00\n",
      "\n",
      "“Amount Chargeable (in words)\n",
      "\n",
      "| R\n",
      "|\n",
      "|\n",
      "|\n",
      "|\n",
      "|\n",
      "\n",
      "S. Thirty Seven Thousand Three Hundred Twelve Only\n",
      "\n",
      "Buyer's Local Sales Tax No. : 19AJRPP8815E1ZM\n",
      "Declaration\n",
      "We declare that this invoice shows the actual price of the\n",
      "| goods described and that all particulars are true and\n",
      "correct.\n",
      "\n",
      "|\n",
      "—= 1 ———\n",
      "\n",
      "This is a Computer Generated Invoice\n",
      "\n",
      "E. & a)\n",
      "\n",
      "|\n",
      "\n",
      "\n",
      "TAX INVOICE CUM CHALLAN\n",
      "Gram : \"STEELSTOCK”\n",
      "\n",
      "Phone No : 26438439\n",
      "Original Buyer's Copy\n",
      "\n",
      "et\n",
      "\n",
      "ISPA | : GH AR. SSTIN: t9acopcsss7P1zs\n",
      "\n",
      "pete 1)\n",
      "HOUSE OF TOOHAIALEON, STEEL Bill No. (2 L359\n",
      "\n",
      "Date [ke * Q- hMefp\n",
      "\n",
      "Shop : 158 /12, Belilious Road, Howrah-1\n",
      "Office : 4, Sahitya Parisad Street, Kolkata - 6\n",
      "E-mail : ispalghar2015@gmail.com\n",
      "\n",
      "Buyer's Name [ fhe i Ll i Zs\n",
      "Address AM dal . ts nah JM y2 |\n",
      "\n",
      "Bu “s GSTIN No. App &Els £/ZM\n",
      "\n",
      "Yours Order No. Date\n",
      "\n",
      "Despatched from to State code\n",
      "\n",
      "CREDIT FACILITY WILL BE WITHDRAWN IF BILL IS NOT PAID WITHIN DUE DATE.\n",
      "\n",
      "Quanti Weight VALUE\n",
      "uantity DESCRIPTION H.S.N. Cod _Kg. Gms Rate Rs. Pp\n",
      "\n",
      "7\n",
      "\n",
      "uf Fle!| 7k pop obe]| 45000}\n",
      "\n",
      "4\n",
      "\n",
      "Total 4 5000\n",
      "\n",
      "Rupees in Words : ply {preg hoy my cesT@ Oy) HO50\n",
      "\n",
      "oD\n",
      "\n",
      "Ob\n",
      "\n",
      "SGST@9Y,, LOSOC\n",
      "40\n",
      "oO\n",
      "\n",
      "a hadnt. rr\n",
      "\n",
      "Total GST 8/00\n",
      "NE sag — a Round Off\n",
      "to send within 30 days on receipt of materials and there a E.\n",
      "\n",
      "after no approach of the sorts will be entertained.\n",
      "All matters are subject to Kolkata Jurisdiction. For ISPAT GHAR\n",
      "\n",
      "Tax Invoice\n",
      "\n",
      "K.V.P Engineering Company ‘Invoice No. Dated\n",
      "‘Alampur Central Market, (06/05/20-21, = _—_ 21-May-2020 2.9\n",
      "(Near C.T.C Bus Stand Alampur), Delivery Note |Mode/Terms of Payment\n",
      "_ Newkolorah, Howrah. - |\n",
      "GSTIN/UIN: 19BHUPS2145C1Z1 Supplier's Ref. = 7 Other Reference(s) —~ -\n",
      "State Name : West Bengal, Code : 19 06/05/20-21 ee 5 =. Le\n",
      "Buyer ae LS uyens Order: No; | Dated\n",
      "i E\n",
      "ear le ee AIL Despatch Document No. Delivery Note Date\n",
      "‘HOWRAH. .\n",
      "GSTIN/UIN : 19AJRPP8815E1ZM Despatched through | Desteraton\n",
      "State Name : West Bengal, Code : 19 “ui = 7 _\n",
      "| Terms of Delivery Piel |\n",
      "|\n",
      "|\n",
      "SI! Description of Goods | HSN/SAC | Quantity Rate | per) Amount\n",
      "No. _ =. A, Sala) ee\n",
      "1 Steel Round 7222 420.000kg - 50.00 kg 21,000.00,\n",
      "2 ALLOY STEEL ROUND 7228 250.000 kg 51.00 kg) 12,750.00\n",
      "| 33,750.00\n",
      "| CGST } | 3,037.50\n",
      "| nee | 3,037.50)\n",
      "| | |\n",
      "|\n",
      "|\n",
      "| | |\n",
      "|\n",
      "| | | |\n",
      "| | | | |\n",
      "ad eee — | = =e a — i\n",
      "PP Teta [670.0009] 839,825.00]\n",
      "Amount Chargeable (in words) E.&O0.E\n",
      "INR Thirty Nine Thousand Eight Hundred Twenty Five Only ,\n",
      "_ HSN/ISAC | Taxable [  CentralTax | ‘StateTax | Total —\n",
      "| Value Rate | Amount | -Rate | Amount. | TaxAmount\n",
      "7222 ' 21,000.00) 9% 1,890.00) 9% 1,890.00 | 3,780.00 |\n",
      "7228 |__ 12,750.00} 9% 1,147.50) 9% | 1,147.50 2,295.00\n",
      "_ - Total) 33,750.00] | 3,037.50, | —3,037.50/ 6,075.00\n",
      "\n",
      "Tax Amount (in words) : INR Six Thousand Seventy Five Only\n",
      "\n",
      "Declaration\n",
      "We declare that this invoice shows the actual price of the\n",
      "goods described and that all particulars are true and\n",
      "| correct.\n",
      "\n",
      "This is a Computer Generated Invoice\n",
      "\n",
      "\n",
      "Tax Invoice\n",
      "\n",
      "| SAIBAL ENTERPRISE\n",
      "/PAKURTALA, DULIYA, HOWRAH.\n",
      "'GSTIN/UIN: 19AENPR2306B1ZN\n",
      "\n",
      "| State Name: West Bengal, Code : 19\n",
      "\n",
      "Buyer 4 -_\n",
      "I.L ENGINEERING UNIT\n",
      "\n",
      "MADHYA JHOREHAT, SANKRAIL,\n",
      "HOWRAH.\n",
      "\n",
      "GSTIN/UIN : 19AJRPP8815E1ZM\n",
      "State Name : West Bengal, Code : 19\n",
      "\n",
      "|\n",
      "\n",
      "Invoice No. Dated\n",
      "\n",
      "07/05/20-21 20-May-2020\n",
      "\n",
      "Delivery Note Mode/Terms of Payment\n",
      "\n",
      "Supplier's Ref. Other Reference(s)\n",
      "\n",
      "07/05/20-21 : ey\n",
      "| Buyer's Order No. Dated\n",
      "\n",
      "‘Despatch Document No. ‘Delivery Note Date\n",
      "\n",
      "‘Despatched through —_ Destination’\n",
      "|\n",
      "|\n",
      "\n",
      "‘Terms of Delivery\n",
      "\n",
      "7\n",
      "\n",
      "Description of Goods “HSN/SAC Quantity | Rate per Amount\n",
      "'1 | Steel Round 7222 245,000KG| 50.00 KG —_ 12,250.00!\n",
      "2 | STEEL FLAT 7211 280.000 KG 60.00} KG! 16,800.00\n",
      "| | 29,050.00,\n",
      "CGST | . | 2,614.50,\n",
      "SGST 2,614.50\n",
      "|\n",
      "=\n",
      "| |\n",
      "|\n",
      "4 | Oe\n",
      "Total | 525.000 KG __| |, & 34,279.00\n",
      "Amount Chargeable (in words) E.&O0.E\n",
      "INR Thirty Four Thousand Two Hundred Seventy Nine Only\n",
      "HSN/SAC | Taxable Central Tax ___StateTax | ‘Total ~—\n",
      "Value Rate | Amount | Rate | Amount | Tax Amount\n",
      "7222 12,250.00 9% 1,102.50 9% 1,102.50 | 2,205.00\n",
      "7211 16,800.00 9% 1,512.00 9% 1,512.00) 3,024.00\n",
      "—- eg __ Total! 29,050.00 _ 2,614.50 | _—2,614.50' 5,229.00\n",
      "\n",
      "|\n",
      "\n",
      "| Declaration\n",
      "We declare that this invoice shows the actual price of the\n",
      "goods described and that all particulars are true and |\n",
      "correct.\n",
      "\n",
      "Tax Amount (in words) : INR Five Thousand Two Hundred Twenty Nine Only ~ me a |\n",
      "\n",
      ">———__—-\n",
      "\n",
      "This is a Computer Generated Invoice\n",
      "\n",
      "\n",
      "ENSTO _sEnsto India Private Limited\n",
      "\n",
      "Shipment ID\n",
      "\n",
      "489495\n",
      "\n",
      "Invoice Address\n",
      "\n",
      "S.P.UDYOG\n",
      "\n",
      "411/447, Bijoy Chandra Das Road,\n",
      "Sainpala, Basirhat, North 24 Pgs.\n",
      "743411 ~ North 24 Pgs.\n",
      "\n",
      "Tax invoice ORIGINAL\n",
      "\n",
      "Invoice Number\n",
      "IN20200099\n",
      "\n",
      "Invoice Date\n",
      "\n",
      "28.08.2020\n",
      "Customer Number\n",
      "106033\n",
      "\n",
      "Delivery Address\n",
      "$ .P. UDYOG\n",
      "411/447, Bijoy Chandra Das Road,\n",
      "Sainpala, Basirhat, North 24 Pgs.\n",
      "Mr. U K Palit (9830705033)\n",
      "\n",
      "West Bengal 743411 - North 24 Pgs.\n",
      "IN - INDIA West Bengal\n",
      "49AUKPP8322N1ZU\n",
      "Terms of Payment Due Date Terms of Delivery Place of Supply\n",
      "Advance payment 28.8.2020 EXW Incoterms 2010\n",
      "Bank Account Ship Via Real Ship Date\n",
      "SCBLINBB OM Logistics Limited 28.8.2020\n",
      "0\n",
      "SCB 52105066210,\n",
      "SCBL0036033\n",
      "We accept payments from\n",
      "all UPI Apps\n",
      "Sales\n",
      "Pos. PartNo Sales Oty UOM Unit Price Gross Amount\n",
      "Description INR\n",
      "Order Number PO Number Customer Reference\n",
      "1 HOTX3.1710FCL 4PCS° 4,760:0000 6,800.06:\n",
      "41kV, 95Sq.mm., 3CORE, XLPE CABLE\n",
      "HEAT SHRINK OUTDOOR\n",
      "TERMINATION\n",
      "HSN Code: 85469010\n",
      "M100229 003/20-21/ENSTO dated\n",
      "27,08.2020-\n",
      "2 HOTA1.110FCL 4PCS 490.0000 1,960.00\n",
      "41kV, 95Sq.mm., SINGLE CORE, A.B\n",
      "CABLE, HEAT SHRINK OUTDOOR\n",
      "TERMINATION\n",
      "HSNCode: 85469010\n",
      "M100229 003/20-21/ENSTO dated\n",
      "27.08.2020\n",
      "Charge Line No Qty Unit Charge Price Charge % Tax % Charge Net Amount\n",
      "Del No Charge % Basis\n",
      "Freight Charges 1 pes 3,300.00 3,300.00\n",
      "Total Exclusive Tax INR 12,060.00\n",
      "Total Tax INR 2,170.80\n",
      "invoice Amount to Pay 14,230.80\n",
      "Company address: GST Range-53, Range Code - 200804\n",
      "Ensto India Private Limited Division- WEST-2 NEW\n",
      "Plot No 241-242,Sector-6 Commissionerate: GURUGRAM NEW\n",
      "IMT Manesar. Gurgaon CIN No : U31900D1.2009FTC194309\n",
      "\n",
      "Haryana-122050\n",
      "\n",
      "\n",
      "GST INVOICE\n",
      "\n",
      "Original for B\n",
      "\n",
      "uyer\n",
      "\n",
      "Al.\n",
      "\n",
      "u\n",
      "\n",
      "—\n",
      "\n",
      "BAIJNATH & SONS\n",
      "\n",
      "HOUSE OF ALLOY STEEL\n",
      "\n",
      "22, STRAND ROAD, KOLKATA -\n",
      "e-mail : baijnath.kolkata@gmail.com\n",
      "GSTIN : 19AADFB7015R2Z0, PAN No. : AADFB7015R\n",
      "\n",
      "1, Ph. : 2230-2777, 2243-4349\n",
      "\n",
      "Goods once sold cannot be refunded without our approval. Our responsibility ceases\n",
      "once goods leave our godown. Please pay by RTGS, NEFT or A/c Payee Cheque only.\n",
      "\n",
      "Invoice No. > ' 4 | Transport Mode: JA4_ “Tayi .\n",
      "Invoice Date : (0) Ly ’ Ov roo) oD Vehicle Number : oS 1:\n",
      "Order No. : Verbe) a Date of Supply :\n",
      "Order Date : vas) Place of Supply :\n",
      "Buyer's Details : Shipping Details (Place of Supply)\n",
      "Ms. TL. Emagimeesing Unmet | Ms:\n",
      "| Waddle hes Rar,” a yD aes\n",
      "Howscah ~— FiUlBO7.\n",
      "GSTIN: |FATRPP SSISE[ZM GSTIN :\n",
      "Product Description Lies Quantity Rate ip P.\n",
      "Alloy Steot Bove 7228 |669-924 1254 | S2t4oloa\n",
      "ai rae a re A ari r: 4 ;\n",
      "tote) ae EL\n",
      "ri\n",
      "|\n",
      "|\n",
      "Rupees. ” a Ep oUsanad Fjath t+ Delivery/Cutting Charge {\n",
      "orks Ou 4__- ig Taxable Total BS Holos\n",
      "ee ee Be oes\n",
      "Branch : Kolkata Branch 0084 Branch : N.S. Road ie SEU FS 36166\n",
      "cee | eee | ne ows\n",
      "Rounded Off +/- -O12An\n",
      "ALL SUBJECT TO KOLKATA JURISDICTION Grand Total O88isilos\n",
      "Terms & Conditions : For BAI TH SONS\n",
      "\n",
      "1 JaQyw\n",
      "\n",
      "Authorised Signatory\n",
      "\n",
      "1\n",
      "\n",
      "\n",
      "GST INVOICE Original for Buyer\n",
      "\n",
      "BAIJNATH & SONS\n",
      "\n",
      "43 HOUSE OF ALLOY STEEL\n",
      "22, STRAND ROAD, KOLKATA - 1, Ph. : 2230-2777, 2243-4349\n",
      "e-mail : baijnath.kolkata@gmail.com\n",
      "GSTIN : 19AADFB7015R2Z0, PAN No. : AADFB7015R\n",
      "\n",
      "Invoice No. = a 42, g Transport Mode: FB ~T AXCT\n",
      "Invoice Date: QC. OF- 2020 Vehicle Number: (Wy 19D@© BOC\n",
      "Order No. : Verbal] » Date of Supply :\n",
      "Order Date : >. Place of Supply :\n",
      "Buyer’s Details : Shipping Details (Place of Supply)\n",
      "Ws.T, Lb. Emqimeesting Unat |\n",
      "| Middle sthoschat, Aneel pam\n",
      "\n",
      "How sah — TIlB02.\n",
      "\n",
      "cstn: OAT RPP QSSI5E 1Z™_ |sstIN:\n",
      "\n",
      "Product Description ae Quantity Rate ‘ Amores \"\n",
      "Alloy Steck Booz T228|7F9 HM 1504 | 116 8SI00\n",
      "(Gj oo P E ca\n",
      "Feeed by Ate Peyeel\n",
      "C he gud ND —\n",
      "Rupees yi +h pu 9anst Qayer,, | Delivery/Cutting Charge\n",
      "hu Jigety fig oe are ' Taxable Total I1G 8500\n",
      "Lv) Vv\n",
      "Bank Details : Bank Details : Add : CGST @ 9% lOStriés\n",
      "Bank Name : UNITED BANK OF INDIA | Bank Name : STATE BANK OF INDIA\\ : =\n",
      "Branch : Kolkata Branch 0084 Branch : N.S. Road Aud SCoUGies LOST 165\n",
      "Alc. No. : 0084050003621 Alc. No. : 11107795325 Add : |IGST @ 18%\n",
      "IFSC : UTBIOCAL107 IFSC : SBINO000144\n",
      "Rounded Off +/- -0130\n",
      "\n",
      "ALL SUBJECT TO KOLKATA JURISDICTION Grand Total 13788100\n",
      "\n",
      "Terms & Conditions : For BAIN ATH & SONS\n",
      "Goods once sold cannot be refunded without our approval. Our responsibilty csases ’ ow\n",
      "‘once goods leave our godown. Please pay by RTGS, NEFT or A/c Payee Cheque only.\n",
      "\n",
      "Authorised Signatory\n",
      "\n",
      "\n",
      "ORIGINAL/DUPLICATE/LORRYLICATE SELLER'S COPY\n",
      "\n",
      "Tax Invoice\n",
      "\n",
      "FROM GST Inv - 7 ( Under Section 31 of CGST Act 2017 Read with Rule 7 of Invoice Ruals )\n",
      "\n",
      "M/S DIMOND ENGINEERING WORKS\n",
      "\n",
      "ADDRESS - MANICKPUR,DELTA MILL,SANKRAIL, HOWRAH - 711313\n",
      "\n",
      "GST IN- 19AQOPN1034F1ZU ~\n",
      "\n",
      "INVOICE NO:- 01/07/20-21 PRODUCT NAME :-\n",
      "DATE OF ISSUE:- 06-07-2020 AGAINST W/O NO:-\n",
      "ORDER NO :- DATE OF SUPPLY:-\n",
      "ORDER DATE-- PLACE OF SUPPLY:-\n",
      "STATE: WEST BENGAL [CODE _* 19 :\n",
      "\n",
      "BILL TO PARTY SHIP TO PARTY\n",
      "| L ENGINEERING UNIT 1 L ENGINEERING UNIT\n",
      "\n",
      "MIDDLE JHORTHAT,JHOREHAT\n",
      "SANKRAIL,HOWRAH - 711302\n",
      "\n",
      "MIDDLE JHORTHAT,JHOREHAT\n",
      "\n",
      "_ |SANKRAIL,HOWRAH - 711302\n",
      "\n",
      "GST NO - 19AJRPP8815E1ZM GSTNO- 19AJRPP8815E1ZM\n",
      "STATE: | WESTBENGAL | CODE- [19 |STATE- | WESTBENGAL ]CODE> [70\n",
      "SLNO DESCRIPTION OF GOODS [HSN CODE] aTy UNITS | RATE AMOUNT\n",
      "1 |BLOCK,PINCHING,PUMP,GLS 7215 29 PCS 560.00 16,240.00\n",
      "2 |SHFT FOR NOZZLE 7215 4 PCS | 2,475.00 9,900.00\n",
      "3. |HAMMER,L/R,COIL,CLAMP,GLS | 7215 16 | pcs 720.00 11,520.00\n",
      "4 |JAW,E/TUBE,RH,PALI -2000,VTL} 7245 15 PCS 237.33 3,560.00\n",
      "TOTAL 41220.00\n",
      "FREIGHT & DELIVERY CHARGE\n",
      "TOTAL AMOUNT BEFORE TAX 41220.00\n",
      "ADD:- CGST @ 9% 3709.80\n",
      "ADD:- SGST @ 9% 3709.80\n",
      "ADD:- IGST @ 18%\n",
      "TOTAL TAX AMOUNT 7419.60\n",
      "ROUND OFF:- 0.40\n",
      "TOTAL INVOICE AMOUNT INWARD TOTAL AMOUNT AFTER TAX 48640.00\n",
      "FORTY EIGHT THOUSAND SIX HUNDRED FORTY ONLY OE\n",
      "M/S DIMOND ENGINEERING WORKS\n",
      "\n",
      "TERMS OF PAYMENT\n",
      "\n",
      "RTGS/NEFT/CHEQUE\n",
      "\n",
      "d Signatory\n",
      "\n",
      "\n",
      "TAX INVOICE CUM CHALLAN\n",
      "Gram : \"STEELSTOCK\"\n",
      "\n",
      "Phone No : 26438439\n",
      "Original Buyer's Copy\n",
      "\n",
      "ISPAT: |GH AR. stn: teacorcsss7eizs\n",
      "\n",
      "HOUSE OFgools STALEY, STEEL Bill No._J5F\n",
      "Shop : 158 /12, Belilious Road, Howrah-1 Date G7 20 _\n",
      "\n",
      "Office : 4, Sahitya Parisad Street, Kolkata - 6\n",
      "E-mail : ispalghar2015@gmail.com\n",
      "\n",
      "1\n",
      "Buyer's Name ia Eco mece nnd (7) \\—\n",
      "\n",
      "Address Midd le Shomehak yousah “TFH30Z\n",
      "Bu, z's GSTINN. IPADRPPSSISE IZM\n",
      "\n",
      "Yours Order No. Date\n",
      "Despatched from to State code\n",
      "CREDIT FACILITY WILL BE WITHDRAWN IF BILL IS NOT PAID WITHIN DUE DATE.\n",
      "tit Weight , VALUE\n",
      "Quantity DESCRIPTION H.S.N. Cod Kg. Gms Rate Rs. Pp.\n",
      "\n",
      "Sfee/ feund | 72/4 [ocony, hop Lo sree\n",
      "\n",
      "Total Ly 0, PEe|OP\n",
      "| cesT@q/.| 3g70\\02\n",
      "Rupees in Words : Foy Seven thausomd SGST @ o/ BEOO|—OD\n",
      "th? Yb undsed on ia | IGST @\n",
      "| __ Total GST \"7.220 |OD\n",
      "Round Off\n",
      "AN INTEREST @ 12% PER ANNUM WILL BE CHARGED\n",
      "IF THE PAYMENT NOT EFFECTED WITHIN 30 DAYS. |___ Gross Value hL20e jee\n",
      "An intimation pertaining to stortage & defects will have Received by : E. &@. E.\n",
      "to send within 30 days on receipt of materials and there ie >\n",
      "after no approach of the sorts will be entertained.\n",
      "All matters are subject to Kolkata Jurisdiction. For Gh\n",
      "\n",
      "TAX INVOICE CUM CHALLAN\n",
      "Gram : \"STEELSTOCK\"\n",
      "\n",
      "Phone No : 26438439\n",
      "Original Buyer's Copy\n",
      "\n",
      "4 i‘ GH AR GSTIN : 19ACOPC5657P1ZS\n",
      "\n",
      "HOUSE_OF uefont BYAREOY, STEEL BillNo._ (42,\n",
      "2 -I0\n",
      "Shop : 158 /12, Belilious Road, Howrah-1 Date 9- 7-27\n",
      "\n",
      "Office : 4, Sahitya Parisad Street, Kolkata - 6\n",
      "E-mail : ispalghar2015@gmail.com\n",
      "\n",
      "— ¢\n",
      "Buyer's Name ae _£& A erin ‘\n",
      "\n",
      "Address Middle “Shorvehals Howmph— TH 302 _\n",
      "Bs GSTINNo.__ IGA YRPPSSISE IZM _\n",
      "\n",
      "Yours Order No. Date\n",
      "Despatched from to State code\n",
      "CREDIT FACILITY WILL BE WITHDRAWN IF BILL IS NOT PAID WITHIN DUE DATE.\n",
      "Quantity DESCRIPTION H.S.N. Cod Pood Rate ae” ”\n",
      "\n",
      "Shee taf T2A2g 700K} SOF a rer|er\n",
      "\n",
      "Total 4 QYTO |s2\n",
      "cesT @9/, 37970 |bD\n",
      "Rupees in Words : Fe ¥ a a five SGST @9/. 3799 |e\n",
      "An oo] | IGST @\n",
      "Total GST T5560 \\C&\n",
      "Round Off\n",
      "\n",
      "AN INTEREST @ 12% PER ANNUM WILL BE CHARGED\n",
      "IF THE PAYMENT NOT EFFECTED WITHIN 30 DAYS. |__ Gross Value 47560 |0e\n",
      "\n",
      "An intimation pertaining to stortage & defects will have Received by : E. 0. E.\n",
      "F ‘A\n",
      "\n",
      "to send within 30 days on receipt of materials and there\n",
      "after no approach of the sorts will be entertained.\n",
      "All matters are subject to Kolkata Jurisdiction.\n",
      "\n",
      "a\n",
      "\n",
      "iT GHAR\n",
      "\n",
      "Email: dineshjaiswal1979@gmail.com\n",
      "Ph.: 2643-4958\n",
      "TAX\n",
      "\n",
      "Mb.: 9836557024\n",
      "All Subject to Howrah J\n",
      "\n",
      "wy\n",
      "\n",
      "Dealers in ; Stainless Steel Rod, Scrap, S.S.\n",
      "\n",
      "INVOICE CUM CHALLA\n",
      "\n",
      "ORIGINAL FOR RECEIPIENT [“ ]\n",
      "DUPLICATE FOF TRANSPORTER [__]\n",
      "TRIPLICATE FOR SUPPLIER [_]\n",
      "extra copy [_]\n",
      "\n",
      "N\n",
      "\n",
      "urisdiction\n",
      "\n",
      "HIRG@LAL JAISWAL & SONS\n",
      "\n",
      ", 304, 310, 316 & 410,M.S. Rod,\n",
      "\n",
      "Plates & Sheets, Pipes, Flanges etc. & General Order Suppliers\n",
      "\n",
      "207/29, Belilious Road, Howrah- 711101\n",
      "\n",
      "Invoice No. : HJS/ 12/2026 -2/ one a Oe |\n",
      "Invoice Date Il- F-20206 Date of Supply\n",
      "State: West Bengal State Code 19 E. way Bill No.\n",
      "Details of Receiver! Billed to : Details of Consignee/Shipped to :\n",
      "\n",
      "A Name : _T.L ENGINEERY, NG. ba MT” Se INSING! Gi erate eee\n",
      "Address : _/M‘ddllc_ Thortho€ (OC a\n",
      "> Si Howkaee F302 |\n",
      "state :-WESTGENCAZL ____code_/7 _ |state :_ Code _ _\n",
      "ostn :L7ATRELSSISEAZI GSTIN :--\n",
      "\n",
      "Purchase Order No.: Purchase Order Date :\n",
      "SI HSN i AMOUNT\n",
      "No. DESCRIPTION OF GOODS/ SERVICE Code Quantity Rate Rs. P\n",
      "$58 few F222|222 £021 /Fof| 42294 |a0\n",
      "KFan\n",
      "Value Rs. Y22 7 y onl\n",
      "ADDCGST@7%| 336 Yl\n",
      "GSTIN No. : 19AISPJ4698P1ZX ADD SGST @Y %| 3S0F YE\n",
      "VAT No. : 19684998029 Me C.S.T. No. : 19684998233 ADDIGST @ %\n",
      "Please pay by A/c. Payee Cheque / NEFT / RTGS Only TOTAL Y 7 q C 6 2\n",
      "Rs. (In Words) : Lowrey nine thowsarel nine | ROUNDED OFF (¥/-) (ROE log\n",
      "hndxed seven _omby. Grand TotalRs. |LY7 907 |p\n",
      "BANK DETAILS: :\n",
      "Ba nk Name THE FEDERAL BANK itp. | Please sign & return with seal D Nee = _ Wa\n",
      "oe For HIRALAL JAISWAL & SONS\n",
      "\n",
      "\n",
      "GST INVOICE Original for Buyer\n",
      "\n",
      "BAIJNATH & SONS\n",
      "\n",
      "4 “ , HOUSE OF ALLOY STEEL\n",
      "22, STRAND ROAD, KOLKATA - 1, Ph. : 2230-2777, 2243-4349\n",
      "=. e-mail : baijnath.kolkata@gmail.com\n",
      "’ me GSTIN : 19AADFB7015R2Z0, PAN No. : AADFB7015R\n",
      "\n",
      "Invoice No. > ' 4 | Transport Mode: JA4_ -“Ta\\o{ .\n",
      "Invoice Date : (0) Ly ’ Ox rx) aD Vehicle Number : © i\n",
      "Order No. : Ve rbe) - Date of Supply :\n",
      "\n",
      "vas)\n",
      "\n",
      "Order Date : Place of Supply :\n",
      "\n",
      "Buyer's Details : Shipping Details (Place of Supply)\n",
      "Ms I. 1. Emgimeezing Une |\n",
      "‘\n",
      "\n",
      "| vuwlcble -thowe hak, © aS\n",
      "\n",
      "Howstab ~ FiIB oI. =f\n",
      "GSTIN: |FATRPP S8SISE(ZM GSTIN :\n",
      "Product Description boas Quantity Rate . pee ;\n",
      "Alloy Steok Bove 7228 |69-924 1254 | SBt4olow\n",
      "\n",
      "¢_ eG ri A cor ia r: ey\n",
      "Kore! Me feul(Cl Nio — |\n",
      "\\ ie \\ |\n",
      "\n",
      "Rupees_[Nc my Ei oULaKNA Ejatht+ Delivery/Cutting Charge [\n",
      "= Taxable Total ge Holos\n",
      "\n",
      "U\n",
      "\n",
      "Bank Details : Bank Details : Add : CGST @ 9% 475 3L\\60\n",
      "Bank Name : UNITED BANK OF INDIA | Bank Name : STATE BANK OF INDIA : 3\n",
      "Branch : Kolkata Branch 0084 Branch : N.S. Road Add SCST@.S F$536160\n",
      "Alc, No. : 0084050003621 Alc. No. : 11107795325 Add: |GST @ 18%\n",
      "IFSC : UTBIOCAL107 IFSC : SBINQ000144\n",
      "\n",
      "Rounded Off +/- -d{2o\n",
      "ALL SUBJECT TO KOLKATA JURISDICTION Grand Total ONBls: Go\n",
      "Terms & Conditions : For BAIJNATH& SPNS\n",
      "Goods once sold cannot be refunded without our approval. Our responsibility ceases 1 JaQyw\n",
      "once goods leave our godown. Please pay by RTGS, NEFT or A/c Payee Cheque only. / Zz\n",
      "\n",
      "Authorised Signatory\n",
      "\n",
      "\n",
      "7, Corel |\n",
      "\"7616 {Extruded Pad to Deg cs Connector\n",
      "\n",
      "3\n",
      "\n",
      "Eu] Cpa 8 @ ao¢e4\n",
      "\n",
      "= IH. 09-10-AGad\n",
      "\n",
      "ON) 19-03-2692)\n",
      "\n",
      "Gross Total\n",
      "FANG Cost:\n",
      "CGST @9%\n",
      "SGST @9%\n",
      "\n",
      "\n",
      "Invoice No. 144 Dated 19-Mar-2021\n",
      "Ref. No.\n",
      "\n",
      "MAA MANASA PAPER CENTRE\n",
      "\n",
      "BASIRHAT R.N. ROAD,NORTH 24 PARGANAS, 743411\n",
      "West Bengal - 743411, India\n",
      "GSTIN/UIN: 19CBBPN1538E1ZT\n",
      "State Name : West Bengal, Code : 19\n",
      "Contact : 8001780050, 7602929598\n",
      "E-Mail : nilaynathOO@gmail.com\n",
      "\n",
      "TAX INVOICE\n",
      "MMPC\n",
      "\n",
      "Party : SP UDYOG\n",
      "411/447 BIJOY CHANDRA DAS ROAD,SAINPALA,BASIRHAT\n",
      "NORTH 24 PARGANAS, 743411\n",
      "West Bengal - 743411, India\n",
      "\n",
      "GSTIN/UIN : 19AUKPP8322N1ZU\n",
      "\n",
      "PAN/IT No\n",
      "State Name : West Bengal, Code : 19\n",
      "Payment Terms Despatch Document No. Delivery Note\n",
      "NEFT SELF LIFTED dt. 19-Mar-2021\n",
      "Sl Description of Goods HSN/SAC | GST Quantity Rate per Amount\n",
      "No. Rate\n",
      "1 |B2B LEGAL PAPER 4802 12 %| 250 REAMS 191.96 | REAMS 47,990.00\n",
      "CGST 2,879.40\n",
      "SGST 2,879.40\n",
      "Rounding Off 0.20\n",
      "Bill Details:\n",
      "On Account 53,749.00 Dr\n",
      "Total 250 REAMS = 53,749.00\n",
      "Amount Chargeable (in words) EEO.\n",
      "INR Fifty Three Thousand Seven Hundred Forty Nine Only\n",
      "HSN/SAC Taxable Central Tax State Tax Total\n",
      "Value Rate Amount Rate Amount Tax Amount\n",
      "4802 47,990.00 6% 2,879.40 6% 2,879.40 5,758.80\n",
      "Total 47,990.00 2,879.40 2,879.40 5,758.80\n",
      "\n",
      "Tax Amount (in words) : INR Five Thousand Seven Hundred Fifty Eight and Eighty paise Only\n",
      "Company's PAN : BBPN1538E\n",
      "\n",
      "Declaration\n",
      "We declare that this invoice shows the actual price of the goods described and that all particulars are true and correct.\n",
      "\n",
      "Customer's Seal and Signature for MAA MANASA PAPER CENTRE\n",
      "\n",
      "Authorised Signatory\n",
      "\n",
      "This is a Computer Generated Invoice\n",
      "\n",
      "\n",
      "ORIGINAL FOR BUYER\n",
      "\n",
      "CHALLAN CUM TAX INVOICE / BILL OF o7VM em (Under Rule 11 of C.E Rules 2002)\n",
      "\n",
      "SREE S.G.K. INDUSTRIES\n",
      "\n",
      "kK C-15, Industrial Estate, Sagar Road, SHIVAMOGGA-577 204\n",
      "/ (Karnataka), Mob. : 9686694902\n",
      "E-mail : sreesgk1944@gmail.com\n",
      "\n",
      "C.E. Range -\n",
      "SHIVAMOGGA NORTH\n",
      "C.E. Division :\n",
      "6th Cross, Ashwathnagar\n",
      "Savalanga Road, SHIVAMGOGA-577 204\n",
      "C.E. Commisssionerate :\n",
      "\n",
      "Consignee :\n",
      "\n",
      "Singh Enterprises, 9/13 Kings Road,\n",
      "Howrah-711101 West Bengal State\n",
      "\n",
      "MYSURU\n",
      "\n",
      "PAN : ABIPN0921C\n",
      "GSTIN : 29ABIPNO921C1ZY\n",
      "\n",
      "Phone 03326686212 / 09331215386 INVOICE No. : DATE :\n",
      "—_—R24220448 30/07/2021\n",
      "Date & Time of\n",
      "Issue of Invoice 30/07/2021\n",
      "Shiping to : Removal of Goods : 5.25 pm\n",
      "Mis Singh Enter Prises, Ankur Hatti, Check Mode of Transport :\n",
      "nost, Near VRL Loaistics . Dhulgar, Howrah BY ROAD\n",
      "TPT Vehicle No. :\n",
      "HSN Code : 84312090\n",
      "Se eo COREE Neel Bank Details : Bank of india, Shimoga Branch\n",
      "1GAWRPS1749M12H Alc No. : 845030100060039 ~\n",
      "sk ih a AWRPS1749M IFSC Code : BKID0008450\n",
      "Type of A/c. :C.C. Verbal\n",
      "Vendor Code : P.O.No. & Date :\n",
      ": Ddn.\n",
      "Specification of Goods No. of Packages rel Rateper'| Rate of GST | Addn. 2. oi Ps\n",
      "ner-ot begs : (in Rs Us 4_\n",
      "MOTOR VEHICLE PARTS\n",
      "4) Piston 1 stage 31 Bag 248 240.00 aye!\n",
      "2) Piston 2 nd stage 08 Bag 128 126.00 : i :\n",
      "3)RSH 32 Bag 384 132.00 50688.\n",
      "4)Nut 2nd Stage 19 Bag 452 168.00 oe ~\n",
      "5) Pump Seal Housing 10 Bag 40 570.00 oe a00\n",
      "6) Pump 0000031 11 Bag 70 612.00 spon\n",
      "7) 4Whole Plunger 003 09 Bag 50 612.00 :\n",
      "420 Bag 4072\n",
      "Sub zotuti-— sane?\n",
      "IGST @ 18% 44660.16\n",
      "————\n",
      "TOTAL RUPEES IN WORDS GRAND TOTAL 292772.16\n",
      "\n",
      "Rupees Two Lakh NinetyTwo Thousand Seven Hundred SeventyTwo Paise Sixteen Only\n",
      "\n",
      "Debit Entry No.\n",
      "\n",
      "Certified that the particulars given above are true and correct and the amount indicated represents\n",
      "the price actually charged and theres no flow of aditional consideration directly or indirectly\n",
      "from the buyer,\n",
      "\n",
      "E.&0.E.\n",
      "\n",
      "For SREE S.G K. éayaiiong\n",
      "Suns éd Signtory\n",
      "\n",
      "Subject to Shimoga Jurisdiction\n",
      "\n",
      "\n",
      "G&D S. P. UDYOG wwe\n",
      "\n",
      "Bank Details :\n",
      "\n",
      "Bank : AXIS Bank Ltd. Basirhat Branch,\n",
      "AIC No : 548010200004893\n",
      "\n",
      "IFSC Code No.: UTIBO000548\n",
      "\n",
      "S.P. UDYOG Invoice Nas Dated: 4 3-QS-AGRO\n",
      "41 1/ 447, Bijoy Chandra Das Road, aoRo-21/ a>\n",
      "Vill. Sainpala, P.O: Basirhat, Delivery Note : Mode/Terms of Payment\n",
      "Dist.- North 24 Parganas.\n",
      "Pin.- 743411, West Bengal, India. Buyer's Order No.: Dated: 94A-~GG~2EQXH\n",
      "Tel.: 033-25240004 50000 334493\n",
      "E-mail :sspudyog@gmail.com Challan No.: Dated: 83 -0%8- RaQa\n",
      "Mobile : 9830705033 | 9332025825 Qewvwe-2\\ | o13\n",
      "Buyer’s Details Despatched Through : Destination : HAKAN Pash,\n",
      "GSTIN JSABASY. SSBB NIBH ccc WASH S195 Rivironal Steses,\n",
      "BVP Onal Monger, LIBSERO ee Non «\n",
      "Nakorifora Ob) bavaacmel 2 $Si ce :\n",
      "eebes Ais es oreeoes . ee eee ges be Eore cane tessesesesesseeses Begeccesesoee Terms of Delivery :\n",
      "Ader AARIVE, GUNAINA Bekwuadshars, pwc\n",
      "\n",
      "a Sons Ws Bute 0 La 6 Seti Be AD roe ite oH ooh ee Ewe Bill NG ‘SFIVOS933 46C1-\n",
      "en Ae ......( 3\n",
      "\n",
      "No. Description of Goods HSN ‘Quantity Rate | Per Amount\n",
      "\n",
      "L. LEXA. & MVG contact (Ciky 2OOA B58qGICO — | 59008 set | S9000-00\n",
      "\n",
      "TPGe) K-T fe (6394642632)\n",
      "a ew en enrentee CN Be 550-00 |NOS, | BF SO0-00\n",
      "gosh T PGs) (636404944!)\n",
      "\n",
      "Sa 500-06\n",
      "3aSTt @B DY: “p FBS-00\n",
      "eGsT@® OY. “FP FBS-OG\n",
      "\n",
      "Cmecnre NY} ANS) »/Rat'o/ Punckene/ Ss \\fose To20 70-00\n",
      "Dated! BO-CF- 2022) Any\n",
      "\n",
      "Supplier's Code No. : 511357.\n",
      "\n",
      "TOTAL - LO2AVFO-OO\n",
      "Amount Chargeable (in words) :Q¥\\&. lakkh keyg. Sayan eS a ae ane\n",
      "Company Details : — E.&O.E.\n",
      "PAN No.: AUKPP8322N For S. P. UDYOG\n",
      "GSTIN No.: 19AUKPP8322N1ZU ‘:\n",
      "\n",
      "Authorised Signatory\n",
      "\n",
      "\n",
      "ED 8. P. UDYOG = wawore\n",
      "\n",
      "Invoice No.:\n",
      "\n",
      "Dated: ODBQB-RORG\n",
      "\n",
      "S.P. UDYOG\n",
      "-Z21\n",
      "411/ 447, Bijoy Chandra Das Road, = ks han\n",
      "Vill.- Sainpala, P.O.: Basirhat, Delivery Note : Mode/Terms of Payment\n",
      "Dist.- North 24 Parganas.\n",
      "Pin.- 743411, West Bengal, India. Buyer's Order No.: Dated: 24-06-2026\n",
      "Tel.: 033-25240004 5QG00 33442\n",
      "E-mail :sspudyog@gmail.com ChallanNo: Dated :Q3B~GB-2OQ0\n",
      "Mobile : 9830705033 | 9332025825 eoend—>1 12\n",
      "Despatched Through : Destination : Naar ard\n",
      "WEA2SHRBISB5 BIW onal Borex,\n",
      "Nasia.\n",
      "\n",
      "Terms of Delivery :\n",
      "\n",
      "No. Description of Goods HSN| Quantity Rate | Per Amount\n",
      "4 | EKA. & MHAVG reantaek CUKRV B534 50 las aiger |5 2506-06\n",
      "400A TPG) K~ TY Pe\n",
      "5256-00\n",
      "-$ao7 @O°. <F25-00\n",
      "easet AD _ {VFI5-04\n",
      "(memano! NKPD/ESkS] evechone/si[239 :\n",
      "Dated’, Ba-cq- 2620) SiS50-0\n",
      "Supplier's Code No. : 511387 7\n",
      "TOTAL Sl S50 0\n",
      "\n",
      "Amount Chargeable (in words) Si one Sharan ne bomee\n",
      "\n",
      "Sey Ce Saeed ns as OMe cans Cag mU saan EU o ss ecisnns es ep oun eneasearausasss ests ts cenese ces ctserstes ene tener T Nene e ete\n",
      "\n",
      "Company Details :\n",
      "\n",
      "PAN No.: AUKPP8322N\n",
      "\n",
      "GSTIN No.: 19AUKPP8322N1ZU\n",
      "Bank Details :\n",
      "\n",
      "Bank : AXIS Bank Ltd. Basirhat Branch,\n",
      "A/C No : 548010200004893\n",
      "\n",
      "IFSC Code No.: UTIBO000548\n",
      "\n",
      "E.& 0. &.\n",
      "For S. P. UDYOG\n",
      "\n",
      "Authorised Signatory\n",
      "\n",
      "\n",
      "G&D 8. P UDYOG = rxwoce\n",
      "\n",
      "S.P. UDYOG Invoice ~ : Dated :\n",
      "\n",
      "41 1/ 447, Bijoy Chandra Das Road, 2e2e.-21/ O11 DS“CR SS ZS\n",
      "\n",
      "Vill.- Sainpala, P.O.: Basirhat, Delivery Note : Mode/Terms of Payment\n",
      "\n",
      "Dist.- North 24 Parganas.\n",
      "\n",
      "Pin.- 743411, West Bengal, India. Buyer's Order No.: Dated :\n",
      "\n",
      "Tel.: 033-25240004 SAAGOSS44R 2YG-AG- 2O26\n",
      "\n",
      "E-mail :sspudyog@gmail.com Challan No: Dated :\n",
      "\n",
      "Mobile : 9830705033 | 9332025825 2Aa2o-ZifAll 03-62-2628\n",
      "\n",
      "Buyer’s Details DespatchedThrough: Destination ;\n",
      "\n",
      "GSTIN :. . 2 ABASWGSSSBABXK WBZSURISS |NG bhi Powe.\n",
      "Il Siek.. moa a WESERSL..... DWN Stee,\n",
      "\n",
      "Dimcrienatine ts PLY. ie a.\n",
      "\n",
      "Bdominicnokive. ron\n",
      "\n",
      "UL Pe wymnawkers, LN: 7 re\n",
      "\n",
      "~~ No. Description of Goods HSN} Quantity Rate Per Amount\n",
      "\n",
      "[. [ALL EPIMPiNy StKE- CEABS— SM TACO YT SAG | NO] SSA ae\n",
      "\n",
      "ZS BAM, (OSEUCROZGN\n",
      "Z |Aly. camping secked- (ZAB)- Bsa] 14a | K° BA |-ne- | BBE\n",
      "SA BW. MIN. (CST 4OROS4T oe\n",
      "3,|Aly. eniompingy Seeker GAB) Rx, soe, [14°de [Ne 11, 2:\n",
      "\n",
      "Sez BY, WM, CASS YORE S|\n",
      "4 | ALU. exremputy Sccket- (SAB) RSH) | GEO |2SO°35] -NO- PE 3W’'H\n",
      "V2. BH WHEN OST HO BOGE) :\n",
      "\n",
      "ae\n",
      "\n",
      "UA\n",
      "5] ALus embmpinde Seeles (CARAS BOA [Sz-Ka]ne- | DSS\n",
      "IES SAA. COSSHOROR YL Sh OSH\n",
      "L, 26816\n",
      "& BSG\n",
      "CSEGR\n",
      "‘ : cae\n",
      "TOTAL G3, RPK 2H\n",
      "Amount Chargeable (i (in ne Suk 7 ames. BhaSomad SAMs... ARTs ers\n",
      "Joveerey: 2AM... AMPS... ANON... IAS ren SME. ietcreeenennteenn\n",
      "Company Details : e. 40. E.\n",
      "PAN No.: AUKPP8322N For §. P. UDYOG\n",
      "GSTIN No.: 19AUKPP8322N1ZU A\n",
      "Bank Details : e /\n",
      "Bank : AXIS Bank Ltd. Basirhat Branch, Wade\n",
      "AIC No : 548010200004893\n",
      "IFSC Code No.: UTIB0000548 ; Authorised Signatory .\n",
      "\n",
      "\n",
      "@&D S.P UDYOG woe\n",
      "\n",
      "Invoice No. RO2O-2l ]9 10\n",
      "\n",
      "S.P. UDYOG Cand OBOE RAAS\n",
      "411/ 447, Bijoy Chandra Das Road,\n",
      "Vill.- Sainpala, PO.: Basirhat, Delivery Note : Mode/Terms of Payment\n",
      "Dist.- North 24 Parganas.\n",
      "Pin.- 743411, West Bengal, India. Buyer's Order No.: Dated :5 <4~@ G- RO R20\n",
      "Tel.: 033-25240004 5000033495\n",
      "E-mail :sspudyog@gmail.com Challan No.: Dated : :\n",
      "Mobile : 9830705033 | 9332025825 nere-at/sia ue eee OAS\n",
      "Buyer’s Details Despatched Through : Destination : ako torn\n",
      "GSTIN JOMAAGW EDS ARAZ WEASHSISE — [pivirienal storey.\n",
      "RIVIAADON).. MANQes WS BSERS nu. Nadioe |\n",
      "Mako levy oy. CRIB Vai nal OSes ¢.., ee\n",
      "Actrsmuaitrakive. Quilting Qe Mnuackahorst 7 \"| Terms of Delvery:\n",
      "SUVPSSmMaWEKSA NOAA TFA ZS co\n",
      "No. Description of Goods s HSN| Quantity Rate | Per Amount\n",
      "1, [FXBKMVG@ aantaed (WKY 2a6cA-~- RS36 196 S10 ~¢0 |Se% 31090-0060\n",
      "TPES) R-TYPeS (63040425329\n",
      "i. SV-AG INGS 3 0-06\n",
      ">, ley Plex. Braided Tv] ClikvRsoA-BS3G IGG [2 J2920\n",
      "TPG) (0304643341)\n",
      "SO, 2OHO-Q0\n",
      "SGST Qos, \"FJ DVIB-WO\n",
      "2£43T @ Sy “H,2INBOO\n",
      "| 34,2 3E6-60\n",
      "(tem No, NEPSIEsb/PuBchaae [51/295\n",
      "pated: BO OF 20207) -\n",
      "Supplier’s Code No. : 511357\n",
      "TOTAL 4 636-00\n",
      "Amount Chargeable (in words) Huineht Sev, EAONAAWA. els .NVINCheS NMEA AI Son :\n",
      "Company Details : E.4& O. E.\n",
      "PAN No.: AUKPP8322N For §. P. UDYOG\n",
      "\n",
      "GSTIN No.: 19AUKPP8322N1ZU\n",
      "Bank Details :\n",
      "\n",
      "Bank : AXIS Bank Ltd. Basirhat Branch,\n",
      "A/C No : 548010200004893\n",
      "\n",
      "IFSC Code No.: UTIBO000548\n",
      "\n",
      "}\n",
      "\n",
      "Authorised Signatory\n",
      "\n",
      "\n",
      "TAX INVOICE INVOICENO. INVOICE DATE\n",
      "\n",
      "FORM INV-1 ( SEE RULE 7, SECTION 31) 01/21-22 16-Apr-21\n",
      "\n",
      "Triplicate Invoice Copy for Seller\n",
      "\n",
      "PAN: AJRPP8815E\n",
      "\\\\ ] Mechanical & Electrical Engineers GSTIN: 19AJRPP8815E1ZM\n",
      "\\ / Vill: Middle Jhorehat, P.O.: Jnorehat, Howrah-711302 STATE: WEST BENGAL\n",
      "Phone: 033-2679-1438, Email: il.engineeringunit@gmail.com STATE CODE: 19\n",
      "\n",
      "\\\\ FL. Engineering Uo\n",
      "\n",
      "SHIPPING DETAILS\n",
      "\n",
      "SIGNIFY INNOVATIONS INDIA LIMITED SIGNIFY INNOVATIONS INDIA LIMITED\n",
      "BUYER NAME | (VADODARA LIGHT FACTORY) RECEIVER NAME | (VADODARA LIGHT FACTORY)\n",
      "BILLING Kural Village, Padra-Jambusar Road, Taluka-Padra, DELIVERY Kural Village, Padra-Jambusar Road, Taluka-Padra,\n",
      "ADDRESS Vadodara, Gujarat-391421 ADDRESS Vadodara, Gujarat-391421\n",
      "PAN AAICP0987G PAN AAICP0987G\n",
      "GSTIN 24AAICP0987G1Z9 GSTIN 24AAICP0987G1Z9\n",
      "STATE Gujarat STATE Gujarat\n",
      "STATE CODE 24 STATE CODE 24\n",
      "\n",
      "DESCRIPTION DRAWING NO\n",
      "NO.| OREDERNO. DATE CODE Copeondide hone she\n",
      "\n",
      "PURCHASE ORDER MATERIAL | : : QTY RATE | AMOUNT\n",
      "\n",
      "(PCS}| (INR) (INR)\n",
      "\n",
      "YG7-9501070089 03-02-2021 SUCKER,VACU,100W,LH 7222 813 6830 + 2 4100.00 8200.00\n",
      "\n",
      "2 {YG7-9501070089 03-02-2021 SUCKER,VACU,100W,RH 7222 813 6829 2 4100.00 8200.00\n",
      "\n",
      "HSN CODE: 84759000 TOTAL TAXABLE AMOUNT 16400.00\n",
      "\n",
      "TOTAL QUANTITY: 4PCS IGST @ 18% 2952.00\n",
      "\n",
      "NET WEIGHT: 0.100 Kg. ROUND OFF - 0.00\n",
      "\n",
      "GROSS WEIGHT: 6.820 Kg. TOTAL INVOICE AMOUNT (IN FIGURES) 19352.00\n",
      "RUPEES NINETEEN THOUSAND THREE HUNDRED FIFTY TWO ONLY\n",
      "\n",
      "| WHETHER THE TAX IS PAYABLE AS REVERSE CHARGE BASIS? |(] YES |[] NO | AMOUNT OF TAX SUBJECT TO REVERSE CHARGE |\n",
      "\n",
      "TRANSPORTER NAME: |Shree Anjani Courier Service Pvt. Ltd.\n",
      "MODE OF TRANSPORT: [By Air\n",
      "PLACE OF SUPPLY: Vadodara, Gujarat\n",
      "\n",
      "Declaration\n",
      "\n",
      "1 We declare that this invoice shows actual price of the goods described\n",
      "and that all particulars are true and correct\n",
      "\n",
      "2 E.&0.E.\n",
      "\n",
      "3 All disputes subjects to Howrah juridiction.\n",
      "\n",
      "Registered Office: Vill: Middle Jhorehat, P.O.: Jhorehat, Howrah-711362 | Phone: 033-2679-1438 | Email: il.engineeringunit@gmail.com\n",
      "\n",
      "TAX INVOICE INVOICENO. INVOICE DATE\n",
      "\n",
      "FORM INV-1 ( SEE RULE 7, SECTION 31) 02/21-22 16-Apr-21\n",
      "\n",
      "Triplicate Invoice Copy for Seller\n",
      "\n",
      "Hi \\ e e\n",
      "\n",
      "{/ \\ PAN: AJRPP8815E\n",
      "\n",
      "\\\\ } Mechanical & Electrical Engineers GSTIN: 19AJRPP8815E1ZM\n",
      "\n",
      "& WA Vill: Middle Jhorehat, P.O.: Jhorehat, Howrah-711302 STATE: WEST BENGAL\n",
      "Se” Phone: 033-2679-1438, Email: il.engineeringunit@gmail.com STATE CODE: 19\n",
      "SIGNIFY INNOVATIONS INDIA LIMITED SIGNIFY INNOVATIONS INDIA LIMITED\n",
      "\n",
      "BUYER NAME | (VADODARA LIGHT FACTORY) RECEIVER NAME | (VADODARA LIGHT FACTORY)\n",
      "\n",
      "BILLING Kural Village, Padra-Jambusar Road, Taluka-Padra, DELIVERY Kural Village, Padra-Jambusar Road, Taluka-Padra,\n",
      "ADDRESS Vadodara, Gujarat-391421 ADDRESS Vadodara, Gujarat-391421\n",
      "\n",
      "PAN AAICP0987G PAN AAICP0987G\n",
      "\n",
      "GSTIN 24AAICP0987G1Z9 GSTIN 24AAICP0987G1Z9\n",
      "\n",
      "STATE Gujarat STATE Gujarat\n",
      "|STATE CODE 24 STATE CODE 24\n",
      "\n",
      "RIPTION DRAWING\n",
      "\n",
      "OREDERN DATE\n",
      "\n",
      "PURCH | ORDER\n",
      "\n",
      "SK-1829 - 9 350.00 3150.00\n",
      "\n",
      "1 |2536409097 03-02-2021 | 721511103022 |PLATE PRESSURE,BULB LIFTER\n",
      "2 |2536409930 17-02-2021 | 721511010028 {STRIPPER BOLT 7222 584 8940 8 200.00 1600.00\n",
      "—~ 3 12536410553 01-03-2021 | 721520404092 | BOLT,SLG,CLUTCH,GLS 7222 083 27850 16 175.00 2800.00\n",
      "4 {2536410879 06-03-2021 | 721507703008 |BUSH,UPPER PALI-1363 ut 150.00 150.00\n",
      "5 |2536410879 06-03-2021 | 721520401071 |ALIGNER 7222 085 36461 7 260.00 1820.00\n",
      "6 |2536410879 06-03-2021 | 721520401072 |ALIGNER 7222 085 36471 6 237.50 1425.00\n",
      "7 |2536410995 09-03-2021 | 721520311037 |LEVER ARM,ROLLING,GLS 7222 830 88840 11 2000.00 22000.00\n",
      "8 {2536411467 18-03-2021 | 721520303007 |ARM,PINCH,ALIGNER,GLS 7222 812 13500 2 610.00 1220.00\n",
      "9 {2536411467 18-03-2021 | 721520506004 |BLOCK,PINCHING,PUMP,GLS 7222 083 1452 30 625.00 18750.00\n",
      "10 |2536412060 01-04-2021 | 721520303007 |ARM,PINCH ALIGNER,GLS 7222 812 13500 2 610.00 1220.00\n",
      "11 |2536412060 01-04-2021 | 721520501004 |BEARING,PUMP CLAMP,GLS PALI-1396 34 362.00 12308.00\n",
      "12 2536412152 02-04-2021 | 721520601003 |SHAFT,CENTRAL,POT,C/F,GLS PALI-0452A 32 215.00 6880.00\n",
      "HSN CODE: 84759000 TOTAL 73323.00\n",
      "TOTAL QUANTITY: 158 PCS PACKING & FORWARDING CHARGES @ 2% 1466.46\n",
      "NET WEIGHT: 4.010 Kg. TOTAL TAXABLE AMOUNT 74789.46\n",
      "GROSS WEIGHT: 6.820 Kg. IGST @ 18% 13462.10\n",
      "ROUND OFF + 0.44\n",
      "TOTAL INVOICE AMOUNT (IN FIGURES) 88252.00\n",
      "\n",
      "TOTAL INVOICE AMOUNT (IN WORDS) RUPEES EIGHTY EIGHT THOUSAND TWO HUNDRED FIFTY TWO ONLY\n",
      "\n",
      "WHETHER THE TAX IS PAYABLE AS REVERSE CHARGE BASIS? | (1 YEs OD no | AMOUNT OF TAX SUBJECT TO REVERSE CHARGE |\n",
      "\n",
      "TRANSPORTER NAME: /|Shree Anjani Courier Service Pvt. Ltd.\n",
      "MODE OF TRANSPORT: [By Air\n",
      "PLACE OF SUPPLY: Vadodara, Gujarat\n",
      "\n",
      "Declaration\n",
      "\n",
      "1 We declare that this invoice shows actual price of the goods described\n",
      "and that all particulars are true and correct\n",
      "\n",
      "2 E.&0.E.\n",
      "\n",
      "3 All disputes subjects to Howrah juridiction.\n",
      "\n",
      "Registered Office: Vill: Middle Jhorehat, P.O.: Jhorehat, Howrah-711302; Ph\n",
      "\n",
      "\n",
      "ep ORIGINAL FOR RECIPIENT\n",
      "TATA\n",
      "TATA CONSUMER PRODUCTS LTD (Formerly known as TATA GLOBAL BEVERAGES LTD)\n",
      "TAX INVOICE\n",
      "\n",
      "Billed from WB21 Shipped from WB21 Invoice No. (ODN) : $I1920004803\n",
      "TATA CONSUMER PRODUCTS LTD TATA CONSUMER PRODUCTS LTD Date : 14.10.2020\n",
      "M/s.Soham Maritime Pvt Ltd M/s.Soham Maritime Pvt Ltd\n",
      "BD Castings Ltd, Durgapur Expressway, BD Castings Ltd, Durgapur Expressway, Our Ref. No. : 1382601992\n",
      "Near Hotel Olympus, Near Hotel Olympus, D.O. : 2106527821 / 14.10.2020\n",
      "P.S: Dankuni, Hooghly. P.S: Dankuni, Hooghly. S.0. : 106545307 / 14.10.2020\n",
      "KOLKATA 712310 KOLKATA 712310 P.O. No.: 10117114-10-2020\n",
      "India India P.O. Date: 14.10.2020\n",
      "State: 19 - West Bengal State: 19 - West Bengal L.R. No. / Vehicle No. :\n",
      "GSTIN/Unique ID: 19AABCT0602K1ZI Phone: 9073935402 L.R. Date : 14.10.2020\n",
      "Phone: 9073935402 Email: cpbcfadankuni@gmail.com\n",
      "Bill To 101171 ShipTo 101171\n",
      "MOU TRADING MOU TRADING Invoice Amount Rs. 342,118.99 will be due for\n",
      "G. 0. ANDUL MOURI, G. 0. ANDUL MOURI, payment on or before 14.10.2020\n",
      "G. O. ANDUL MOURI, G. 0. ANDUL MOURI,\n",
      "ANDUL-HOWRAH 711302 ANDUL-HOWRAH 711302\n",
      "India India\n",
      "State: 19 - West Bengal State: 19 - West Bengal\n",
      "GSTIN/Unique ID: 19AJGPG3532Q1ZT GSTIN/Unique ID: 19AJGPG3532Q1ZT\n",
      "\n",
      "Whether tax is payable under reverse charge basis - No\n",
      "\n",
      "IRN No: cd7f33ad7af5787 1ddfd3d006262b5ee50a72950ebfaa751776197a3377fb006\n",
      "Ack No: 182010025453782\n",
      "\n",
      "IRN Dt: 14.10.2020\n",
      "\n",
      "ats\n",
      "\n",
      "te\n",
      "\n",
      "a\n",
      "\n",
      "~ 4o.| Description of Goods/HSN Rate per Taxable Value | CGST Amt &| SGST Amt &| Cess/ Other | Value Incl.\n",
      "T Code/MRP Rate/Batch Quantity / UOM (INR) Rate (INR) | Rate (INR) | Amt & Rate Tax(INR)\n",
      "UOM (INR)\n",
      "1 TT205W - Tata Tea Pr Leaf 360.000 KG} 281.22 101239.20 2530.98 2,530.98 106,301.16\n",
      "100g Polypack-WB 15 CV} PerKG 2.50 % 2.50 %\n",
      "HSN:09023020 MRP: 35.00\n",
      "Batch:KL14-10-20\n",
      "2 T7204 - Tata Tea Pr Leaf 50g | 360.000 KG| 290,36 104529.60 2613.24 2,613.24 109,756.08\n",
      "Polypack-ROI HSN:09023020 15 CV] PerKG 2.50 % 2.50 %\n",
      "MRP: 18.00 Batch:NO12-09-20\n",
      "3 TG007-TataTea Gold 100g | 120.000 KG] 367.06 44047.20 1101.18 1,101.18 46,249.56\n",
      "New polypouch 10 CV} PerKG 2.50 % 2.50 %\n",
      "HSN:09023020 MRP: 45.00\n",
      "Batch:KE14-10-20\n",
      "4 TG002PBM - TT Gold Lf 250g | 180.000 KG| 420.93 75767.40 1894.19 1,894.19 79,555.78\n",
      "Cath Festive Pack 15 CV} PerKG 2.50 % 2.50 %\n",
      "HSN:09023020 MRP: 125.00\n",
      "Batch:KL13-10-20\n",
      "Total Invoice Value} — 1,020.000 325,583.40 8,139.59 8,139.59 341,862.58\n",
      "\n",
      "PAGE NO. 1 OF 3\n",
      "Regd. Office: 1, Bishop Lefroy Road, Kolkata - 700 020\n",
      "Corporate Office: Kirloskar Business Park, Block-C, 3rd & 4th Floor, Hebbal, Bengaluru - 560 024\n",
      "CIN: L15491WB1962PLC031425 , PAN: AABCT0602K, Email: investor.relations@tataconsumer.com, Website: www.tataconsumer.com\n",
      "\n",
      "\n",
      "(Continued....)\n",
      "\n",
      "Bill To: 101171 - MOU TRADING\n",
      "\n",
      "Our Reference No. 1382601992\n",
      "\n",
      "KG\n",
      "55 CV\n",
      "TCS - 0.075 % 256.41\n",
      "Total Invoice Value} 342,118.99\n",
      "Tax subject to reverse charge | | 0.00 | 0.00 0.00\n",
      "Rupees Three Lakhs Forty Two Thousand One Hundred Eighteen And Paisa Ninety Nine Only\n",
      "Cheques and Drafts duly Crossed or NEFT / RTGS / ACH should be made payable to the order of TATA CONSUMER PRODUCTS LTD\n",
      "We hereby certify the good(s) mentioned in this invoice is / are warranted\n",
      "to be of the nature and quality which it / these purport(s) tobe. The\n",
      "warranty is valid for all sealed containers which are not tampered with,\n",
      "damaged and / or otherwise opened. The person selling such goods\n",
      "should give his warranty to the purchaser. For TATA CONSUMER PRODUCTS LTD\n",
      "ew\n",
      "Summary\n",
      "HSN Taxable Value | CGST Amt SGST Amt |IGSTAmt |Cess/Other | Value Incl.\n",
      "Code/ProductiDescription of | Qty in KG (INR) Rate (INR) Rate (INR) | Rate (INR) | Amt Tax(INR)\n",
      "Goods UOM Rate (INR)\n",
      "09023020/TEATEA PACKET 1,020.00 KG 325583.40 8139.59 8,139.59 0.00 342,118.99\n",
      "55.00 CV 2.50 % 2.50 %\n",
      "Total 1,020.00 KG 325,583.40 8,139.59 8,139.59 0.00 342,118.99\n",
      "55.00 CV\n",
      "TCS - 0.075 % 256.41\n",
      "Total Invoice Value 0.00\n",
      "[es O.E. Goods Acknowledgement Receipt\n",
      "Gate pass no : Original invoice received ‘Yes/No\n",
      "No of cases Received No of cases/kgs shortidamage :\n",
      "Received by ..ccsssesssees Seal with signature.....sssesssee\n",
      "Received date WM YADiscssnessssimssoacnsoin\n",
      "\n",
      "Corporate Office: Kirloskar Business Park, Block-C, 3rd\n",
      "CIN: L15491WB1962PLC031425 , PAN: AABCT0602K, Email: investor.\n",
      "\n",
      "Regd. Office: 1, Bishop Lefroy Road, Kolkata - 700 020\n",
      "\n",
      "& 4th Floor, Hebbal, Bengaluru - 560 024\n",
      "relations@tataconsumer.com, Website: www.tataconsumer.com\n",
      "\n",
      "PAGE NO. 2 OF 3\n",
      "\n"
     ]
    }
   ],
   "source": [
    "corpus_invoicedata = text_data\n",
    "for invoice in corpus_invoicedata:\n",
    "    print(invoice)"
   ]
  },
  {
   "cell_type": "code",
   "execution_count": 17,
   "id": "f1744bf5",
   "metadata": {},
   "outputs": [
    {
     "name": "stdout",
     "output_type": "stream",
     "text": [
      "G&D S. P. UDYOG wwe\n",
      "\n",
      "Bank Details :\n",
      "\n",
      "Bank : AXIS Bank Ltd. Basirhat Branch,\n",
      "AIC No : 548010200004893\n",
      "\n",
      "IFSC Code No.: UTIBO000548\n",
      "\n",
      "S.P. UDYOG Invoice Nas Dated: 4 3-QS-AGRO\n",
      "41 1/ 447, Bijoy Chandra Das Road, aoRo-21/ a>\n",
      "Vill. Sainpala, P.O: Basirhat, Delivery Note : Mode/Terms of Payment\n",
      "Dist.- North 24 Parganas.\n",
      "Pin.- 743411, West Bengal, India. Buyer's Order No.: Dated: 94A-~GG~2EQXH\n",
      "Tel.: 033-25240004 50000 334493\n",
      "E-mail :sspudyog@gmail.com Challan No.: Dated: 83 -0%8- RaQa\n",
      "Mobile : 9830705033 | 9332025825 Qewvwe-2\\ | o13\n",
      "Buyer’s Details Despatched Through : Destination : HAKAN Pash,\n",
      "GSTIN JSABASY. SSBB NIBH ccc WASH S195 Rivironal Steses,\n",
      "BVP Onal Monger, LIBSERO ee Non «\n",
      "Nakorifora Ob) bavaacmel 2 $Si ce :\n",
      "eebes Ais es oreeoes . ee eee ges be Eore cane tessesesesesseeses Begeccesesoee Terms of Delivery :\n",
      "Ader AARIVE, GUNAINA Bekwuadshars, pwc\n",
      "\n",
      "a Sons Ws Bute 0 La 6 Seti Be AD roe ite oH ooh ee Ewe Bill NG ‘SFIVOS933 46C1-\n",
      "en Ae ......( 3\n",
      "\n",
      "No. Description of Goods HSN ‘Quantity Rate | Per Amount\n",
      "\n",
      "L. LEXA. & MVG contact (Ciky 2OOA B58qGICO — | 59008 set | S9000-00\n",
      "\n",
      "TPGe) K-T fe (6394642632)\n",
      "a ew en enrentee CN Be 550-00 |NOS, | BF SO0-00\n",
      "gosh T PGs) (636404944!)\n",
      "\n",
      "Sa 500-06\n",
      "3aSTt @B DY: “p FBS-00\n",
      "eGsT@® OY. “FP FBS-OG\n",
      "\n",
      "Cmecnre NY} ANS) »/Rat'o/ Punckene/ Ss \\fose To20 70-00\n",
      "Dated! BO-CF- 2022) Any\n",
      "\n",
      "Supplier's Code No. : 511357.\n",
      "\n",
      "TOTAL - LO2AVFO-OO\n",
      "Amount Chargeable (in words) :Q¥\\&. lakkh keyg. Sayan eS a ae ane\n",
      "Company Details : — E.&O.E.\n",
      "PAN No.: AUKPP8322N For S. P. UDYOG\n",
      "GSTIN No.: 19AUKPP8322N1ZU ‘:\n",
      "\n",
      "Authorised Signatory\n",
      "\n",
      "\n"
     ]
    }
   ],
   "source": [
    "print(corpus_invoicedata[20])"
   ]
  },
  {
   "cell_type": "code",
   "execution_count": 16,
   "id": "916a76a1",
   "metadata": {},
   "outputs": [
    {
     "data": {
      "text/plain": [
       "28"
      ]
     },
     "execution_count": 16,
     "metadata": {},
     "output_type": "execute_result"
    }
   ],
   "source": [
    "len(corpus_invoicedata)"
   ]
  },
  {
   "cell_type": "code",
   "execution_count": 31,
   "id": "96ea4948",
   "metadata": {},
   "outputs": [
    {
     "data": {
      "application/javascript": [
       "\n",
       "        if (window._pyforest_update_imports_cell) { window._pyforest_update_imports_cell('import os\\nimport re'); }\n",
       "    "
      ],
      "text/plain": [
       "<IPython.core.display.Javascript object>"
      ]
     },
     "metadata": {},
     "output_type": "display_data"
    },
    {
     "data": {
      "application/javascript": [
       "\n",
       "        if (window._pyforest_update_imports_cell) { window._pyforest_update_imports_cell('import os\\nimport re'); }\n",
       "    "
      ],
      "text/plain": [
       "<IPython.core.display.Javascript object>"
      ]
     },
     "metadata": {},
     "output_type": "display_data"
    },
    {
     "name": "stdout",
     "output_type": "stream",
     "text": [
      "['9836557024']\n"
     ]
    },
    {
     "data": {
      "application/javascript": [
       "\n",
       "        if (window._pyforest_update_imports_cell) { window._pyforest_update_imports_cell('import os\\nimport re'); }\n",
       "    "
      ],
      "text/plain": [
       "<IPython.core.display.Javascript object>"
      ]
     },
     "metadata": {},
     "output_type": "display_data"
    },
    {
     "name": "stdout",
     "output_type": "stream",
     "text": [
      "None\n"
     ]
    },
    {
     "data": {
      "application/javascript": [
       "\n",
       "        if (window._pyforest_update_imports_cell) { window._pyforest_update_imports_cell('import os\\nimport re'); }\n",
       "    "
      ],
      "text/plain": [
       "<IPython.core.display.Javascript object>"
      ]
     },
     "metadata": {},
     "output_type": "display_data"
    },
    {
     "name": "stdout",
     "output_type": "stream",
     "text": [
      "None\n"
     ]
    },
    {
     "data": {
      "application/javascript": [
       "\n",
       "        if (window._pyforest_update_imports_cell) { window._pyforest_update_imports_cell('import os\\nimport re'); }\n",
       "    "
      ],
      "text/plain": [
       "<IPython.core.display.Javascript object>"
      ]
     },
     "metadata": {},
     "output_type": "display_data"
    },
    {
     "name": "stdout",
     "output_type": "stream",
     "text": [
      "None\n"
     ]
    },
    {
     "data": {
      "application/javascript": [
       "\n",
       "        if (window._pyforest_update_imports_cell) { window._pyforest_update_imports_cell('import os\\nimport re'); }\n",
       "    "
      ],
      "text/plain": [
       "<IPython.core.display.Javascript object>"
      ]
     },
     "metadata": {},
     "output_type": "display_data"
    },
    {
     "name": "stdout",
     "output_type": "stream",
     "text": [
      "['6290365442', '8609250847']\n"
     ]
    },
    {
     "data": {
      "application/javascript": [
       "\n",
       "        if (window._pyforest_update_imports_cell) { window._pyforest_update_imports_cell('import os\\nimport re'); }\n",
       "    "
      ],
      "text/plain": [
       "<IPython.core.display.Javascript object>"
      ]
     },
     "metadata": {},
     "output_type": "display_data"
    },
    {
     "name": "stdout",
     "output_type": "stream",
     "text": [
      "None\n"
     ]
    },
    {
     "data": {
      "application/javascript": [
       "\n",
       "        if (window._pyforest_update_imports_cell) { window._pyforest_update_imports_cell('import os\\nimport re'); }\n",
       "    "
      ],
      "text/plain": [
       "<IPython.core.display.Javascript object>"
      ]
     },
     "metadata": {},
     "output_type": "display_data"
    },
    {
     "name": "stdout",
     "output_type": "stream",
     "text": [
      "None\n"
     ]
    },
    {
     "data": {
      "application/javascript": [
       "\n",
       "        if (window._pyforest_update_imports_cell) { window._pyforest_update_imports_cell('import os\\nimport re'); }\n",
       "    "
      ],
      "text/plain": [
       "<IPython.core.display.Javascript object>"
      ]
     },
     "metadata": {},
     "output_type": "display_data"
    },
    {
     "name": "stdout",
     "output_type": "stream",
     "text": [
      "None\n"
     ]
    },
    {
     "data": {
      "application/javascript": [
       "\n",
       "        if (window._pyforest_update_imports_cell) { window._pyforest_update_imports_cell('import os\\nimport re'); }\n",
       "    "
      ],
      "text/plain": [
       "<IPython.core.display.Javascript object>"
      ]
     },
     "metadata": {},
     "output_type": "display_data"
    },
    {
     "name": "stdout",
     "output_type": "stream",
     "text": [
      "None\n"
     ]
    },
    {
     "data": {
      "application/javascript": [
       "\n",
       "        if (window._pyforest_update_imports_cell) { window._pyforest_update_imports_cell('import os\\nimport re'); }\n",
       "    "
      ],
      "text/plain": [
       "<IPython.core.display.Javascript object>"
      ]
     },
     "metadata": {},
     "output_type": "display_data"
    },
    {
     "name": "stdout",
     "output_type": "stream",
     "text": [
      "['9830705033']\n"
     ]
    },
    {
     "data": {
      "application/javascript": [
       "\n",
       "        if (window._pyforest_update_imports_cell) { window._pyforest_update_imports_cell('import os\\nimport re'); }\n",
       "    "
      ],
      "text/plain": [
       "<IPython.core.display.Javascript object>"
      ]
     },
     "metadata": {},
     "output_type": "display_data"
    },
    {
     "name": "stdout",
     "output_type": "stream",
     "text": [
      "['6699241254']\n"
     ]
    },
    {
     "data": {
      "application/javascript": [
       "\n",
       "        if (window._pyforest_update_imports_cell) { window._pyforest_update_imports_cell('import os\\nimport re'); }\n",
       "    "
      ],
      "text/plain": [
       "<IPython.core.display.Javascript object>"
      ]
     },
     "metadata": {},
     "output_type": "display_data"
    },
    {
     "name": "stdout",
     "output_type": "stream",
     "text": [
      "None\n"
     ]
    },
    {
     "data": {
      "application/javascript": [
       "\n",
       "        if (window._pyforest_update_imports_cell) { window._pyforest_update_imports_cell('import os\\nimport re'); }\n",
       "    "
      ],
      "text/plain": [
       "<IPython.core.display.Javascript object>"
      ]
     },
     "metadata": {},
     "output_type": "display_data"
    },
    {
     "name": "stdout",
     "output_type": "stream",
     "text": [
      "None\n"
     ]
    },
    {
     "data": {
      "application/javascript": [
       "\n",
       "        if (window._pyforest_update_imports_cell) { window._pyforest_update_imports_cell('import os\\nimport re'); }\n",
       "    "
      ],
      "text/plain": [
       "<IPython.core.display.Javascript object>"
      ]
     },
     "metadata": {},
     "output_type": "display_data"
    },
    {
     "name": "stdout",
     "output_type": "stream",
     "text": [
      "None\n"
     ]
    },
    {
     "data": {
      "application/javascript": [
       "\n",
       "        if (window._pyforest_update_imports_cell) { window._pyforest_update_imports_cell('import os\\nimport re'); }\n",
       "    "
      ],
      "text/plain": [
       "<IPython.core.display.Javascript object>"
      ]
     },
     "metadata": {},
     "output_type": "display_data"
    },
    {
     "name": "stdout",
     "output_type": "stream",
     "text": [
      "None\n"
     ]
    },
    {
     "data": {
      "application/javascript": [
       "\n",
       "        if (window._pyforest_update_imports_cell) { window._pyforest_update_imports_cell('import os\\nimport re'); }\n",
       "    "
      ],
      "text/plain": [
       "<IPython.core.display.Javascript object>"
      ]
     },
     "metadata": {},
     "output_type": "display_data"
    },
    {
     "name": "stdout",
     "output_type": "stream",
     "text": [
      "['9836557024']\n"
     ]
    },
    {
     "data": {
      "application/javascript": [
       "\n",
       "        if (window._pyforest_update_imports_cell) { window._pyforest_update_imports_cell('import os\\nimport re'); }\n",
       "    "
      ],
      "text/plain": [
       "<IPython.core.display.Javascript object>"
      ]
     },
     "metadata": {},
     "output_type": "display_data"
    },
    {
     "name": "stdout",
     "output_type": "stream",
     "text": [
      "None\n"
     ]
    },
    {
     "data": {
      "application/javascript": [
       "\n",
       "        if (window._pyforest_update_imports_cell) { window._pyforest_update_imports_cell('import os\\nimport re'); }\n",
       "    "
      ],
      "text/plain": [
       "<IPython.core.display.Javascript object>"
      ]
     },
     "metadata": {},
     "output_type": "display_data"
    },
    {
     "name": "stdout",
     "output_type": "stream",
     "text": [
      "None\n"
     ]
    },
    {
     "data": {
      "application/javascript": [
       "\n",
       "        if (window._pyforest_update_imports_cell) { window._pyforest_update_imports_cell('import os\\nimport re'); }\n",
       "    "
      ],
      "text/plain": [
       "<IPython.core.display.Javascript object>"
      ]
     },
     "metadata": {},
     "output_type": "display_data"
    },
    {
     "name": "stdout",
     "output_type": "stream",
     "text": [
      "['8001780050', '7602929598']\n"
     ]
    },
    {
     "data": {
      "application/javascript": [
       "\n",
       "        if (window._pyforest_update_imports_cell) { window._pyforest_update_imports_cell('import os\\nimport re'); }\n",
       "    "
      ],
      "text/plain": [
       "<IPython.core.display.Javascript object>"
      ]
     },
     "metadata": {},
     "output_type": "display_data"
    },
    {
     "name": "stdout",
     "output_type": "stream",
     "text": [
      "['9686694902']\n"
     ]
    },
    {
     "data": {
      "application/javascript": [
       "\n",
       "        if (window._pyforest_update_imports_cell) { window._pyforest_update_imports_cell('import os\\nimport re'); }\n",
       "    "
      ],
      "text/plain": [
       "<IPython.core.display.Javascript object>"
      ]
     },
     "metadata": {},
     "output_type": "display_data"
    },
    {
     "name": "stdout",
     "output_type": "stream",
     "text": [
      "['9830705033', '9332025825', '6394642632']\n"
     ]
    },
    {
     "data": {
      "application/javascript": [
       "\n",
       "        if (window._pyforest_update_imports_cell) { window._pyforest_update_imports_cell('import os\\nimport re'); }\n",
       "    "
      ],
      "text/plain": [
       "<IPython.core.display.Javascript object>"
      ]
     },
     "metadata": {},
     "output_type": "display_data"
    },
    {
     "name": "stdout",
     "output_type": "stream",
     "text": [
      "['9830705033', '9332025825']\n"
     ]
    },
    {
     "data": {
      "application/javascript": [
       "\n",
       "        if (window._pyforest_update_imports_cell) { window._pyforest_update_imports_cell('import os\\nimport re'); }\n",
       "    "
      ],
      "text/plain": [
       "<IPython.core.display.Javascript object>"
      ]
     },
     "metadata": {},
     "output_type": "display_data"
    },
    {
     "name": "stdout",
     "output_type": "stream",
     "text": [
      "['9830705033', '9332025825']\n"
     ]
    },
    {
     "data": {
      "application/javascript": [
       "\n",
       "        if (window._pyforest_update_imports_cell) { window._pyforest_update_imports_cell('import os\\nimport re'); }\n",
       "    "
      ],
      "text/plain": [
       "<IPython.core.display.Javascript object>"
      ]
     },
     "metadata": {},
     "output_type": "display_data"
    },
    {
     "name": "stdout",
     "output_type": "stream",
     "text": [
      "['5000033495', '9830705033', '9332025825', '0304643341']\n"
     ]
    },
    {
     "data": {
      "application/javascript": [
       "\n",
       "        if (window._pyforest_update_imports_cell) { window._pyforest_update_imports_cell('import os\\nimport re'); }\n",
       "    "
      ],
      "text/plain": [
       "<IPython.core.display.Javascript object>"
      ]
     },
     "metadata": {},
     "output_type": "display_data"
    },
    {
     "name": "stdout",
     "output_type": "stream",
     "text": [
      "['-9501070089', '-9501070089']\n"
     ]
    },
    {
     "data": {
      "application/javascript": [
       "\n",
       "        if (window._pyforest_update_imports_cell) { window._pyforest_update_imports_cell('import os\\nimport re'); }\n",
       "    "
      ],
      "text/plain": [
       "<IPython.core.display.Javascript object>"
      ]
     },
     "metadata": {},
     "output_type": "display_data"
    },
    {
     "name": "stdout",
     "output_type": "stream",
     "text": [
      "['2536409097', '2536409930', '2536410879', '2536410879', '2536410879', '2536410995', '2536411467', '2536411467', '2536412060', '2536412060', '2536412152']\n"
     ]
    },
    {
     "data": {
      "application/javascript": [
       "\n",
       "        if (window._pyforest_update_imports_cell) { window._pyforest_update_imports_cell('import os\\nimport re'); }\n",
       "    "
      ],
      "text/plain": [
       "<IPython.core.display.Javascript object>"
      ]
     },
     "metadata": {},
     "output_type": "display_data"
    },
    {
     "name": "stdout",
     "output_type": "stream",
     "text": [
      "['1382601992', '2106527821', '9073935402', '9073935402']\n"
     ]
    },
    {
     "data": {
      "application/javascript": [
       "\n",
       "        if (window._pyforest_update_imports_cell) { window._pyforest_update_imports_cell('import os\\nimport re'); }\n",
       "    "
      ],
      "text/plain": [
       "<IPython.core.display.Javascript object>"
      ]
     },
     "metadata": {},
     "output_type": "display_data"
    },
    {
     "name": "stdout",
     "output_type": "stream",
     "text": [
      "['1382601992']\n"
     ]
    }
   ],
   "source": [
    "#This function will need updates as it's making errors\n",
    "PHONE_REG = re.compile(r'\\b(\\+?91)?(-)?\\s*?(91)?\\s*?(\\d{3})-?\\s*?(\\d{3})-?\\s*?(\\d{4})\\b')\n",
    "#re.compile(r'(?:\\s+|)((0|(?:(\\+|)91))(?:\\s|-)*(?:(?:\\d(?:\\s|-)*\\d{9})|(?:\\d{2}(?:\\s|-)*\\d{8})|(?:\\d{3}(?:\\s|-)*\\d{7}))|\\d{10})(?:\\s+|)')\n",
    "#(r'\\+91[\\-\\s]?)?[0]?(91)?[789]\\d{9}$')\n",
    "#(r'[\\+\\(]?[1-9][0-9 .\\-\\(\\)]{8,}[0-9]')\n",
    "\n",
    "def extract_all_phone_number(invoice_text):\n",
    "    phone = re.findall(PHONE_REG, invoice_text)\n",
    "    number = []\n",
    "    \n",
    "\n",
    "    if phone:\n",
    "        for i in range(len(phone)):\n",
    "            num = ''.join(phone[i])\n",
    "            number.append(num)\n",
    "        return number\n",
    "    return None\n",
    "for invoice in corpus_invoicedata:\n",
    "    print(extract_all_phone_number(invoice))"
   ]
  },
  {
   "cell_type": "code",
   "execution_count": 32,
   "id": "1fe1d240",
   "metadata": {},
   "outputs": [
    {
     "data": {
      "application/javascript": [
       "\n",
       "        if (window._pyforest_update_imports_cell) { window._pyforest_update_imports_cell('import os\\nimport re'); }\n",
       "    "
      ],
      "text/plain": [
       "<IPython.core.display.Javascript object>"
      ]
     },
     "metadata": {},
     "output_type": "display_data"
    },
    {
     "data": {
      "application/javascript": [
       "\n",
       "        if (window._pyforest_update_imports_cell) { window._pyforest_update_imports_cell('import os\\nimport re'); }\n",
       "    "
      ],
      "text/plain": [
       "<IPython.core.display.Javascript object>"
      ]
     },
     "metadata": {},
     "output_type": "display_data"
    },
    {
     "name": "stdout",
     "output_type": "stream",
     "text": [
      "['dineshjaiswal1979@gmail.com']\n"
     ]
    },
    {
     "data": {
      "application/javascript": [
       "\n",
       "        if (window._pyforest_update_imports_cell) { window._pyforest_update_imports_cell('import os\\nimport re'); }\n",
       "    "
      ],
      "text/plain": [
       "<IPython.core.display.Javascript object>"
      ]
     },
     "metadata": {},
     "output_type": "display_data"
    },
    {
     "name": "stdout",
     "output_type": "stream",
     "text": [
      "['udit40bh@gmail.com']\n"
     ]
    },
    {
     "data": {
      "application/javascript": [
       "\n",
       "        if (window._pyforest_update_imports_cell) { window._pyforest_update_imports_cell('import os\\nimport re'); }\n",
       "    "
      ],
      "text/plain": [
       "<IPython.core.display.Javascript object>"
      ]
     },
     "metadata": {},
     "output_type": "display_data"
    },
    {
     "name": "stdout",
     "output_type": "stream",
     "text": [
      "['ispalghar2015@gmail.com']\n"
     ]
    },
    {
     "data": {
      "application/javascript": [
       "\n",
       "        if (window._pyforest_update_imports_cell) { window._pyforest_update_imports_cell('import os\\nimport re'); }\n",
       "    "
      ],
      "text/plain": [
       "<IPython.core.display.Javascript object>"
      ]
     },
     "metadata": {},
     "output_type": "display_data"
    },
    {
     "name": "stdout",
     "output_type": "stream",
     "text": [
      "[]\n"
     ]
    },
    {
     "data": {
      "application/javascript": [
       "\n",
       "        if (window._pyforest_update_imports_cell) { window._pyforest_update_imports_cell('import os\\nimport re'); }\n",
       "    "
      ],
      "text/plain": [
       "<IPython.core.display.Javascript object>"
      ]
     },
     "metadata": {},
     "output_type": "display_data"
    },
    {
     "name": "stdout",
     "output_type": "stream",
     "text": [
      "[]\n"
     ]
    },
    {
     "data": {
      "application/javascript": [
       "\n",
       "        if (window._pyforest_update_imports_cell) { window._pyforest_update_imports_cell('import os\\nimport re'); }\n",
       "    "
      ],
      "text/plain": [
       "<IPython.core.display.Javascript object>"
      ]
     },
     "metadata": {},
     "output_type": "display_data"
    },
    {
     "name": "stdout",
     "output_type": "stream",
     "text": [
      "[]\n"
     ]
    },
    {
     "data": {
      "application/javascript": [
       "\n",
       "        if (window._pyforest_update_imports_cell) { window._pyforest_update_imports_cell('import os\\nimport re'); }\n",
       "    "
      ],
      "text/plain": [
       "<IPython.core.display.Javascript object>"
      ]
     },
     "metadata": {},
     "output_type": "display_data"
    },
    {
     "name": "stdout",
     "output_type": "stream",
     "text": [
      "['ispalghar2015@gmail.com']\n"
     ]
    },
    {
     "data": {
      "application/javascript": [
       "\n",
       "        if (window._pyforest_update_imports_cell) { window._pyforest_update_imports_cell('import os\\nimport re'); }\n",
       "    "
      ],
      "text/plain": [
       "<IPython.core.display.Javascript object>"
      ]
     },
     "metadata": {},
     "output_type": "display_data"
    },
    {
     "name": "stdout",
     "output_type": "stream",
     "text": [
      "[]\n"
     ]
    },
    {
     "data": {
      "application/javascript": [
       "\n",
       "        if (window._pyforest_update_imports_cell) { window._pyforest_update_imports_cell('import os\\nimport re'); }\n",
       "    "
      ],
      "text/plain": [
       "<IPython.core.display.Javascript object>"
      ]
     },
     "metadata": {},
     "output_type": "display_data"
    },
    {
     "name": "stdout",
     "output_type": "stream",
     "text": [
      "[]\n"
     ]
    },
    {
     "data": {
      "application/javascript": [
       "\n",
       "        if (window._pyforest_update_imports_cell) { window._pyforest_update_imports_cell('import os\\nimport re'); }\n",
       "    "
      ],
      "text/plain": [
       "<IPython.core.display.Javascript object>"
      ]
     },
     "metadata": {},
     "output_type": "display_data"
    },
    {
     "name": "stdout",
     "output_type": "stream",
     "text": [
      "[]\n"
     ]
    },
    {
     "data": {
      "application/javascript": [
       "\n",
       "        if (window._pyforest_update_imports_cell) { window._pyforest_update_imports_cell('import os\\nimport re'); }\n",
       "    "
      ],
      "text/plain": [
       "<IPython.core.display.Javascript object>"
      ]
     },
     "metadata": {},
     "output_type": "display_data"
    },
    {
     "name": "stdout",
     "output_type": "stream",
     "text": [
      "['baijnath.kolkata@gmail.com']\n"
     ]
    },
    {
     "data": {
      "application/javascript": [
       "\n",
       "        if (window._pyforest_update_imports_cell) { window._pyforest_update_imports_cell('import os\\nimport re'); }\n",
       "    "
      ],
      "text/plain": [
       "<IPython.core.display.Javascript object>"
      ]
     },
     "metadata": {},
     "output_type": "display_data"
    },
    {
     "name": "stdout",
     "output_type": "stream",
     "text": [
      "['baijnath.kolkata@gmail.com']\n"
     ]
    },
    {
     "data": {
      "application/javascript": [
       "\n",
       "        if (window._pyforest_update_imports_cell) { window._pyforest_update_imports_cell('import os\\nimport re'); }\n",
       "    "
      ],
      "text/plain": [
       "<IPython.core.display.Javascript object>"
      ]
     },
     "metadata": {},
     "output_type": "display_data"
    },
    {
     "name": "stdout",
     "output_type": "stream",
     "text": [
      "[]\n"
     ]
    },
    {
     "data": {
      "application/javascript": [
       "\n",
       "        if (window._pyforest_update_imports_cell) { window._pyforest_update_imports_cell('import os\\nimport re'); }\n",
       "    "
      ],
      "text/plain": [
       "<IPython.core.display.Javascript object>"
      ]
     },
     "metadata": {},
     "output_type": "display_data"
    },
    {
     "name": "stdout",
     "output_type": "stream",
     "text": [
      "['ispalghar2015@gmail.com']\n"
     ]
    },
    {
     "data": {
      "application/javascript": [
       "\n",
       "        if (window._pyforest_update_imports_cell) { window._pyforest_update_imports_cell('import os\\nimport re'); }\n",
       "    "
      ],
      "text/plain": [
       "<IPython.core.display.Javascript object>"
      ]
     },
     "metadata": {},
     "output_type": "display_data"
    },
    {
     "name": "stdout",
     "output_type": "stream",
     "text": [
      "['ispalghar2015@gmail.com']\n"
     ]
    },
    {
     "data": {
      "application/javascript": [
       "\n",
       "        if (window._pyforest_update_imports_cell) { window._pyforest_update_imports_cell('import os\\nimport re'); }\n",
       "    "
      ],
      "text/plain": [
       "<IPython.core.display.Javascript object>"
      ]
     },
     "metadata": {},
     "output_type": "display_data"
    },
    {
     "name": "stdout",
     "output_type": "stream",
     "text": [
      "['dineshjaiswal1979@gmail.com']\n"
     ]
    },
    {
     "data": {
      "application/javascript": [
       "\n",
       "        if (window._pyforest_update_imports_cell) { window._pyforest_update_imports_cell('import os\\nimport re'); }\n",
       "    "
      ],
      "text/plain": [
       "<IPython.core.display.Javascript object>"
      ]
     },
     "metadata": {},
     "output_type": "display_data"
    },
    {
     "name": "stdout",
     "output_type": "stream",
     "text": [
      "['baijnath.kolkata@gmail.com']\n"
     ]
    },
    {
     "data": {
      "application/javascript": [
       "\n",
       "        if (window._pyforest_update_imports_cell) { window._pyforest_update_imports_cell('import os\\nimport re'); }\n",
       "    "
      ],
      "text/plain": [
       "<IPython.core.display.Javascript object>"
      ]
     },
     "metadata": {},
     "output_type": "display_data"
    },
    {
     "name": "stdout",
     "output_type": "stream",
     "text": [
      "[]\n"
     ]
    },
    {
     "data": {
      "application/javascript": [
       "\n",
       "        if (window._pyforest_update_imports_cell) { window._pyforest_update_imports_cell('import os\\nimport re'); }\n",
       "    "
      ],
      "text/plain": [
       "<IPython.core.display.Javascript object>"
      ]
     },
     "metadata": {},
     "output_type": "display_data"
    },
    {
     "name": "stdout",
     "output_type": "stream",
     "text": [
      "[]\n"
     ]
    },
    {
     "data": {
      "application/javascript": [
       "\n",
       "        if (window._pyforest_update_imports_cell) { window._pyforest_update_imports_cell('import os\\nimport re'); }\n",
       "    "
      ],
      "text/plain": [
       "<IPython.core.display.Javascript object>"
      ]
     },
     "metadata": {},
     "output_type": "display_data"
    },
    {
     "name": "stdout",
     "output_type": "stream",
     "text": [
      "['sreesgk1944@gmail.com']\n"
     ]
    },
    {
     "data": {
      "application/javascript": [
       "\n",
       "        if (window._pyforest_update_imports_cell) { window._pyforest_update_imports_cell('import os\\nimport re'); }\n",
       "    "
      ],
      "text/plain": [
       "<IPython.core.display.Javascript object>"
      ]
     },
     "metadata": {},
     "output_type": "display_data"
    },
    {
     "name": "stdout",
     "output_type": "stream",
     "text": [
      "['sspudyog@gmail.com']\n"
     ]
    },
    {
     "data": {
      "application/javascript": [
       "\n",
       "        if (window._pyforest_update_imports_cell) { window._pyforest_update_imports_cell('import os\\nimport re'); }\n",
       "    "
      ],
      "text/plain": [
       "<IPython.core.display.Javascript object>"
      ]
     },
     "metadata": {},
     "output_type": "display_data"
    },
    {
     "name": "stdout",
     "output_type": "stream",
     "text": [
      "['sspudyog@gmail.com']\n"
     ]
    },
    {
     "data": {
      "application/javascript": [
       "\n",
       "        if (window._pyforest_update_imports_cell) { window._pyforest_update_imports_cell('import os\\nimport re'); }\n",
       "    "
      ],
      "text/plain": [
       "<IPython.core.display.Javascript object>"
      ]
     },
     "metadata": {},
     "output_type": "display_data"
    },
    {
     "name": "stdout",
     "output_type": "stream",
     "text": [
      "['sspudyog@gmail.com']\n"
     ]
    },
    {
     "data": {
      "application/javascript": [
       "\n",
       "        if (window._pyforest_update_imports_cell) { window._pyforest_update_imports_cell('import os\\nimport re'); }\n",
       "    "
      ],
      "text/plain": [
       "<IPython.core.display.Javascript object>"
      ]
     },
     "metadata": {},
     "output_type": "display_data"
    },
    {
     "name": "stdout",
     "output_type": "stream",
     "text": [
      "['sspudyog@gmail.com']\n"
     ]
    },
    {
     "data": {
      "application/javascript": [
       "\n",
       "        if (window._pyforest_update_imports_cell) { window._pyforest_update_imports_cell('import os\\nimport re'); }\n",
       "    "
      ],
      "text/plain": [
       "<IPython.core.display.Javascript object>"
      ]
     },
     "metadata": {},
     "output_type": "display_data"
    },
    {
     "name": "stdout",
     "output_type": "stream",
     "text": [
      "['il.engineeringunit@gmail.com', 'il.engineeringunit@gmail.com']\n"
     ]
    },
    {
     "data": {
      "application/javascript": [
       "\n",
       "        if (window._pyforest_update_imports_cell) { window._pyforest_update_imports_cell('import os\\nimport re'); }\n",
       "    "
      ],
      "text/plain": [
       "<IPython.core.display.Javascript object>"
      ]
     },
     "metadata": {},
     "output_type": "display_data"
    },
    {
     "name": "stdout",
     "output_type": "stream",
     "text": [
      "['il.engineeringunit@gmail.com']\n"
     ]
    },
    {
     "data": {
      "application/javascript": [
       "\n",
       "        if (window._pyforest_update_imports_cell) { window._pyforest_update_imports_cell('import os\\nimport re'); }\n",
       "    "
      ],
      "text/plain": [
       "<IPython.core.display.Javascript object>"
      ]
     },
     "metadata": {},
     "output_type": "display_data"
    },
    {
     "name": "stdout",
     "output_type": "stream",
     "text": [
      "['cpbcfadankuni@gmail.com', 'investor.relations@tataconsumer.com']\n"
     ]
    },
    {
     "data": {
      "application/javascript": [
       "\n",
       "        if (window._pyforest_update_imports_cell) { window._pyforest_update_imports_cell('import os\\nimport re'); }\n",
       "    "
      ],
      "text/plain": [
       "<IPython.core.display.Javascript object>"
      ]
     },
     "metadata": {},
     "output_type": "display_data"
    },
    {
     "name": "stdout",
     "output_type": "stream",
     "text": [
      "['relations@tataconsumer.com']\n"
     ]
    }
   ],
   "source": [
    "EMAIL_REG = re.compile(r'[a-z0-9\\.\\-+_]+@[a-z0-9\\.\\-+_]+\\.[a-z]+')\n",
    "def extract_emails(invoice_text):\n",
    "    return re.findall(EMAIL_REG, invoice_text)\n",
    "\n",
    "for invoice in corpus_invoicedata:\n",
    "    print(extract_emails(invoice))"
   ]
  },
  {
   "cell_type": "code",
   "execution_count": 33,
   "id": "5cb93814",
   "metadata": {},
   "outputs": [
    {
     "data": {
      "application/javascript": [
       "\n",
       "        if (window._pyforest_update_imports_cell) { window._pyforest_update_imports_cell('import os\\nimport re'); }\n",
       "    "
      ],
      "text/plain": [
       "<IPython.core.display.Javascript object>"
      ]
     },
     "metadata": {},
     "output_type": "display_data"
    },
    {
     "data": {
      "application/javascript": [
       "\n",
       "        if (window._pyforest_update_imports_cell) { window._pyforest_update_imports_cell('import os\\nimport re'); }\n",
       "    "
      ],
      "text/plain": [
       "<IPython.core.display.Javascript object>"
      ]
     },
     "metadata": {},
     "output_type": "display_data"
    },
    {
     "name": "stdout",
     "output_type": "stream",
     "text": [
      "['AISPJ4698P']\n"
     ]
    },
    {
     "data": {
      "application/javascript": [
       "\n",
       "        if (window._pyforest_update_imports_cell) { window._pyforest_update_imports_cell('import os\\nimport re'); }\n",
       "    "
      ],
      "text/plain": [
       "<IPython.core.display.Javascript object>"
      ]
     },
     "metadata": {},
     "output_type": "display_data"
    },
    {
     "name": "stdout",
     "output_type": "stream",
     "text": [
      "['AHHPB5807A', 'AJRPP8815E']\n"
     ]
    },
    {
     "data": {
      "application/javascript": [
       "\n",
       "        if (window._pyforest_update_imports_cell) { window._pyforest_update_imports_cell('import os\\nimport re'); }\n",
       "    "
      ],
      "text/plain": [
       "<IPython.core.display.Javascript object>"
      ]
     },
     "metadata": {},
     "output_type": "display_data"
    },
    {
     "name": "stdout",
     "output_type": "stream",
     "text": [
      "[]\n"
     ]
    },
    {
     "data": {
      "application/javascript": [
       "\n",
       "        if (window._pyforest_update_imports_cell) { window._pyforest_update_imports_cell('import os\\nimport re'); }\n",
       "    "
      ],
      "text/plain": [
       "<IPython.core.display.Javascript object>"
      ]
     },
     "metadata": {},
     "output_type": "display_data"
    },
    {
     "name": "stdout",
     "output_type": "stream",
     "text": [
      "['AOIPK1917Q', 'AJRPP8815E']\n"
     ]
    },
    {
     "data": {
      "application/javascript": [
       "\n",
       "        if (window._pyforest_update_imports_cell) { window._pyforest_update_imports_cell('import os\\nimport re'); }\n",
       "    "
      ],
      "text/plain": [
       "<IPython.core.display.Javascript object>"
      ]
     },
     "metadata": {},
     "output_type": "display_data"
    },
    {
     "name": "stdout",
     "output_type": "stream",
     "text": [
      "[]\n"
     ]
    },
    {
     "data": {
      "application/javascript": [
       "\n",
       "        if (window._pyforest_update_imports_cell) { window._pyforest_update_imports_cell('import os\\nimport re'); }\n",
       "    "
      ],
      "text/plain": [
       "<IPython.core.display.Javascript object>"
      ]
     },
     "metadata": {},
     "output_type": "display_data"
    },
    {
     "name": "stdout",
     "output_type": "stream",
     "text": [
      "['HEZPS5827H', 'AJRPP8815E']\n"
     ]
    },
    {
     "data": {
      "application/javascript": [
       "\n",
       "        if (window._pyforest_update_imports_cell) { window._pyforest_update_imports_cell('import os\\nimport re'); }\n",
       "    "
      ],
      "text/plain": [
       "<IPython.core.display.Javascript object>"
      ]
     },
     "metadata": {},
     "output_type": "display_data"
    },
    {
     "name": "stdout",
     "output_type": "stream",
     "text": [
      "[]\n"
     ]
    },
    {
     "data": {
      "application/javascript": [
       "\n",
       "        if (window._pyforest_update_imports_cell) { window._pyforest_update_imports_cell('import os\\nimport re'); }\n",
       "    "
      ],
      "text/plain": [
       "<IPython.core.display.Javascript object>"
      ]
     },
     "metadata": {},
     "output_type": "display_data"
    },
    {
     "name": "stdout",
     "output_type": "stream",
     "text": [
      "['BHUPS2145C', 'AJRPP8815E']\n"
     ]
    },
    {
     "data": {
      "application/javascript": [
       "\n",
       "        if (window._pyforest_update_imports_cell) { window._pyforest_update_imports_cell('import os\\nimport re'); }\n",
       "    "
      ],
      "text/plain": [
       "<IPython.core.display.Javascript object>"
      ]
     },
     "metadata": {},
     "output_type": "display_data"
    },
    {
     "name": "stdout",
     "output_type": "stream",
     "text": [
      "['AENPR2306B', 'AJRPP8815E']\n"
     ]
    },
    {
     "data": {
      "application/javascript": [
       "\n",
       "        if (window._pyforest_update_imports_cell) { window._pyforest_update_imports_cell('import os\\nimport re'); }\n",
       "    "
      ],
      "text/plain": [
       "<IPython.core.display.Javascript object>"
      ]
     },
     "metadata": {},
     "output_type": "display_data"
    },
    {
     "name": "stdout",
     "output_type": "stream",
     "text": [
      "['AUKPP8322N']\n"
     ]
    },
    {
     "data": {
      "application/javascript": [
       "\n",
       "        if (window._pyforest_update_imports_cell) { window._pyforest_update_imports_cell('import os\\nimport re'); }\n",
       "    "
      ],
      "text/plain": [
       "<IPython.core.display.Javascript object>"
      ]
     },
     "metadata": {},
     "output_type": "display_data"
    },
    {
     "name": "stdout",
     "output_type": "stream",
     "text": [
      "['AADFB7015R', 'AADFB7015R']\n"
     ]
    },
    {
     "data": {
      "application/javascript": [
       "\n",
       "        if (window._pyforest_update_imports_cell) { window._pyforest_update_imports_cell('import os\\nimport re'); }\n",
       "    "
      ],
      "text/plain": [
       "<IPython.core.display.Javascript object>"
      ]
     },
     "metadata": {},
     "output_type": "display_data"
    },
    {
     "name": "stdout",
     "output_type": "stream",
     "text": [
      "['AADFB7015R', 'AADFB7015R']\n"
     ]
    },
    {
     "data": {
      "application/javascript": [
       "\n",
       "        if (window._pyforest_update_imports_cell) { window._pyforest_update_imports_cell('import os\\nimport re'); }\n",
       "    "
      ],
      "text/plain": [
       "<IPython.core.display.Javascript object>"
      ]
     },
     "metadata": {},
     "output_type": "display_data"
    },
    {
     "name": "stdout",
     "output_type": "stream",
     "text": [
      "['AQOPN1034F', 'AJRPP8815E', 'AJRPP8815E']\n"
     ]
    },
    {
     "data": {
      "application/javascript": [
       "\n",
       "        if (window._pyforest_update_imports_cell) { window._pyforest_update_imports_cell('import os\\nimport re'); }\n",
       "    "
      ],
      "text/plain": [
       "<IPython.core.display.Javascript object>"
      ]
     },
     "metadata": {},
     "output_type": "display_data"
    },
    {
     "name": "stdout",
     "output_type": "stream",
     "text": [
      "[]\n"
     ]
    },
    {
     "data": {
      "application/javascript": [
       "\n",
       "        if (window._pyforest_update_imports_cell) { window._pyforest_update_imports_cell('import os\\nimport re'); }\n",
       "    "
      ],
      "text/plain": [
       "<IPython.core.display.Javascript object>"
      ]
     },
     "metadata": {},
     "output_type": "display_data"
    },
    {
     "name": "stdout",
     "output_type": "stream",
     "text": [
      "['ACOPC5657P']\n"
     ]
    },
    {
     "data": {
      "application/javascript": [
       "\n",
       "        if (window._pyforest_update_imports_cell) { window._pyforest_update_imports_cell('import os\\nimport re'); }\n",
       "    "
      ],
      "text/plain": [
       "<IPython.core.display.Javascript object>"
      ]
     },
     "metadata": {},
     "output_type": "display_data"
    },
    {
     "name": "stdout",
     "output_type": "stream",
     "text": [
      "['AISPJ4698P']\n"
     ]
    },
    {
     "data": {
      "application/javascript": [
       "\n",
       "        if (window._pyforest_update_imports_cell) { window._pyforest_update_imports_cell('import os\\nimport re'); }\n",
       "    "
      ],
      "text/plain": [
       "<IPython.core.display.Javascript object>"
      ]
     },
     "metadata": {},
     "output_type": "display_data"
    },
    {
     "name": "stdout",
     "output_type": "stream",
     "text": [
      "['AADFB7015R', 'AADFB7015R']\n"
     ]
    },
    {
     "data": {
      "application/javascript": [
       "\n",
       "        if (window._pyforest_update_imports_cell) { window._pyforest_update_imports_cell('import os\\nimport re'); }\n",
       "    "
      ],
      "text/plain": [
       "<IPython.core.display.Javascript object>"
      ]
     },
     "metadata": {},
     "output_type": "display_data"
    },
    {
     "name": "stdout",
     "output_type": "stream",
     "text": [
      "[]\n"
     ]
    },
    {
     "data": {
      "application/javascript": [
       "\n",
       "        if (window._pyforest_update_imports_cell) { window._pyforest_update_imports_cell('import os\\nimport re'); }\n",
       "    "
      ],
      "text/plain": [
       "<IPython.core.display.Javascript object>"
      ]
     },
     "metadata": {},
     "output_type": "display_data"
    },
    {
     "name": "stdout",
     "output_type": "stream",
     "text": [
      "['CBBPN1538E', 'AUKPP8322N']\n"
     ]
    },
    {
     "data": {
      "application/javascript": [
       "\n",
       "        if (window._pyforest_update_imports_cell) { window._pyforest_update_imports_cell('import os\\nimport re'); }\n",
       "    "
      ],
      "text/plain": [
       "<IPython.core.display.Javascript object>"
      ]
     },
     "metadata": {},
     "output_type": "display_data"
    },
    {
     "name": "stdout",
     "output_type": "stream",
     "text": [
      "['ABIPN0921C', 'AWRPS1749M', 'AWRPS1749M']\n"
     ]
    },
    {
     "data": {
      "application/javascript": [
       "\n",
       "        if (window._pyforest_update_imports_cell) { window._pyforest_update_imports_cell('import os\\nimport re'); }\n",
       "    "
      ],
      "text/plain": [
       "<IPython.core.display.Javascript object>"
      ]
     },
     "metadata": {},
     "output_type": "display_data"
    },
    {
     "name": "stdout",
     "output_type": "stream",
     "text": [
      "['AUKPP8322N', 'AUKPP8322N']\n"
     ]
    },
    {
     "data": {
      "application/javascript": [
       "\n",
       "        if (window._pyforest_update_imports_cell) { window._pyforest_update_imports_cell('import os\\nimport re'); }\n",
       "    "
      ],
      "text/plain": [
       "<IPython.core.display.Javascript object>"
      ]
     },
     "metadata": {},
     "output_type": "display_data"
    },
    {
     "name": "stdout",
     "output_type": "stream",
     "text": [
      "['AUKPP8322N', 'AUKPP8322N']\n"
     ]
    },
    {
     "data": {
      "application/javascript": [
       "\n",
       "        if (window._pyforest_update_imports_cell) { window._pyforest_update_imports_cell('import os\\nimport re'); }\n",
       "    "
      ],
      "text/plain": [
       "<IPython.core.display.Javascript object>"
      ]
     },
     "metadata": {},
     "output_type": "display_data"
    },
    {
     "name": "stdout",
     "output_type": "stream",
     "text": [
      "['AUKPP8322N', 'AUKPP8322N']\n"
     ]
    },
    {
     "data": {
      "application/javascript": [
       "\n",
       "        if (window._pyforest_update_imports_cell) { window._pyforest_update_imports_cell('import os\\nimport re'); }\n",
       "    "
      ],
      "text/plain": [
       "<IPython.core.display.Javascript object>"
      ]
     },
     "metadata": {},
     "output_type": "display_data"
    },
    {
     "name": "stdout",
     "output_type": "stream",
     "text": [
      "['AUKPP8322N', 'AUKPP8322N']\n"
     ]
    },
    {
     "data": {
      "application/javascript": [
       "\n",
       "        if (window._pyforest_update_imports_cell) { window._pyforest_update_imports_cell('import os\\nimport re'); }\n",
       "    "
      ],
      "text/plain": [
       "<IPython.core.display.Javascript object>"
      ]
     },
     "metadata": {},
     "output_type": "display_data"
    },
    {
     "name": "stdout",
     "output_type": "stream",
     "text": [
      "['AJRPP8815E', 'AJRPP8815E', 'AAICP0987G', 'AAICP0987G', 'AAICP0987G', 'AAICP0987G']\n"
     ]
    },
    {
     "data": {
      "application/javascript": [
       "\n",
       "        if (window._pyforest_update_imports_cell) { window._pyforest_update_imports_cell('import os\\nimport re'); }\n",
       "    "
      ],
      "text/plain": [
       "<IPython.core.display.Javascript object>"
      ]
     },
     "metadata": {},
     "output_type": "display_data"
    },
    {
     "name": "stdout",
     "output_type": "stream",
     "text": [
      "['AJRPP8815E', 'AJRPP8815E', 'AAICP0987G', 'AAICP0987G', 'AAICP0987G', 'AAICP0987G']\n"
     ]
    },
    {
     "data": {
      "application/javascript": [
       "\n",
       "        if (window._pyforest_update_imports_cell) { window._pyforest_update_imports_cell('import os\\nimport re'); }\n",
       "    "
      ],
      "text/plain": [
       "<IPython.core.display.Javascript object>"
      ]
     },
     "metadata": {},
     "output_type": "display_data"
    },
    {
     "name": "stdout",
     "output_type": "stream",
     "text": [
      "['AABCT0602K', 'AJGPG3532Q', 'AJGPG3532Q', 'AABCT0602K']\n"
     ]
    },
    {
     "data": {
      "application/javascript": [
       "\n",
       "        if (window._pyforest_update_imports_cell) { window._pyforest_update_imports_cell('import os\\nimport re'); }\n",
       "    "
      ],
      "text/plain": [
       "<IPython.core.display.Javascript object>"
      ]
     },
     "metadata": {},
     "output_type": "display_data"
    },
    {
     "name": "stdout",
     "output_type": "stream",
     "text": [
      "['AABCT0602K']\n"
     ]
    }
   ],
   "source": [
    "PAN_REG = re.compile(r'[A-Z]{5}[0-9]{4}[A-Z]{1}')\n",
    "def extract_pan(invoice_text):\n",
    "    return re.findall(PAN_REG, invoice_text)\n",
    "\n",
    "for invoice in corpus_invoicedata:\n",
    "    print(extract_pan(invoice))"
   ]
  },
  {
   "cell_type": "code",
   "execution_count": 34,
   "id": "0928a565",
   "metadata": {},
   "outputs": [
    {
     "data": {
      "application/javascript": [
       "\n",
       "        if (window._pyforest_update_imports_cell) { window._pyforest_update_imports_cell('import os\\nimport re'); }\n",
       "    "
      ],
      "text/plain": [
       "<IPython.core.display.Javascript object>"
      ]
     },
     "metadata": {},
     "output_type": "display_data"
    },
    {
     "data": {
      "application/javascript": [
       "\n",
       "        if (window._pyforest_update_imports_cell) { window._pyforest_update_imports_cell('import os\\nimport re'); }\n",
       "    "
      ],
      "text/plain": [
       "<IPython.core.display.Javascript object>"
      ]
     },
     "metadata": {},
     "output_type": "display_data"
    },
    {
     "name": "stdout",
     "output_type": "stream",
     "text": [
      "['19AISPJ4698P1ZX']\n"
     ]
    },
    {
     "data": {
      "application/javascript": [
       "\n",
       "        if (window._pyforest_update_imports_cell) { window._pyforest_update_imports_cell('import os\\nimport re'); }\n",
       "    "
      ],
      "text/plain": [
       "<IPython.core.display.Javascript object>"
      ]
     },
     "metadata": {},
     "output_type": "display_data"
    },
    {
     "name": "stdout",
     "output_type": "stream",
     "text": [
      "['19AHHPB5807A1ZT', '19AJRPP8815E1ZM']\n"
     ]
    },
    {
     "data": {
      "application/javascript": [
       "\n",
       "        if (window._pyforest_update_imports_cell) { window._pyforest_update_imports_cell('import os\\nimport re'); }\n",
       "    "
      ],
      "text/plain": [
       "<IPython.core.display.Javascript object>"
      ]
     },
     "metadata": {},
     "output_type": "display_data"
    },
    {
     "name": "stdout",
     "output_type": "stream",
     "text": [
      "[]\n"
     ]
    },
    {
     "data": {
      "application/javascript": [
       "\n",
       "        if (window._pyforest_update_imports_cell) { window._pyforest_update_imports_cell('import os\\nimport re'); }\n",
       "    "
      ],
      "text/plain": [
       "<IPython.core.display.Javascript object>"
      ]
     },
     "metadata": {},
     "output_type": "display_data"
    },
    {
     "name": "stdout",
     "output_type": "stream",
     "text": [
      "['19AOIPK1917Q1ZC', '19AJRPP8815E1ZM']\n"
     ]
    },
    {
     "data": {
      "application/javascript": [
       "\n",
       "        if (window._pyforest_update_imports_cell) { window._pyforest_update_imports_cell('import os\\nimport re'); }\n",
       "    "
      ],
      "text/plain": [
       "<IPython.core.display.Javascript object>"
      ]
     },
     "metadata": {},
     "output_type": "display_data"
    },
    {
     "name": "stdout",
     "output_type": "stream",
     "text": [
      "[]\n"
     ]
    },
    {
     "data": {
      "application/javascript": [
       "\n",
       "        if (window._pyforest_update_imports_cell) { window._pyforest_update_imports_cell('import os\\nimport re'); }\n",
       "    "
      ],
      "text/plain": [
       "<IPython.core.display.Javascript object>"
      ]
     },
     "metadata": {},
     "output_type": "display_data"
    },
    {
     "name": "stdout",
     "output_type": "stream",
     "text": [
      "['19HEZPS5827H1ZB', '19AJRPP8815E1ZM']\n"
     ]
    },
    {
     "data": {
      "application/javascript": [
       "\n",
       "        if (window._pyforest_update_imports_cell) { window._pyforest_update_imports_cell('import os\\nimport re'); }\n",
       "    "
      ],
      "text/plain": [
       "<IPython.core.display.Javascript object>"
      ]
     },
     "metadata": {},
     "output_type": "display_data"
    },
    {
     "name": "stdout",
     "output_type": "stream",
     "text": [
      "[]\n"
     ]
    },
    {
     "data": {
      "application/javascript": [
       "\n",
       "        if (window._pyforest_update_imports_cell) { window._pyforest_update_imports_cell('import os\\nimport re'); }\n",
       "    "
      ],
      "text/plain": [
       "<IPython.core.display.Javascript object>"
      ]
     },
     "metadata": {},
     "output_type": "display_data"
    },
    {
     "name": "stdout",
     "output_type": "stream",
     "text": [
      "['19BHUPS2145C1Z1', '19AJRPP8815E1ZM']\n"
     ]
    },
    {
     "data": {
      "application/javascript": [
       "\n",
       "        if (window._pyforest_update_imports_cell) { window._pyforest_update_imports_cell('import os\\nimport re'); }\n",
       "    "
      ],
      "text/plain": [
       "<IPython.core.display.Javascript object>"
      ]
     },
     "metadata": {},
     "output_type": "display_data"
    },
    {
     "name": "stdout",
     "output_type": "stream",
     "text": [
      "['19AENPR2306B1ZN', '19AJRPP8815E1ZM']\n"
     ]
    },
    {
     "data": {
      "application/javascript": [
       "\n",
       "        if (window._pyforest_update_imports_cell) { window._pyforest_update_imports_cell('import os\\nimport re'); }\n",
       "    "
      ],
      "text/plain": [
       "<IPython.core.display.Javascript object>"
      ]
     },
     "metadata": {},
     "output_type": "display_data"
    },
    {
     "name": "stdout",
     "output_type": "stream",
     "text": [
      "['49AUKPP8322N1ZU']\n"
     ]
    },
    {
     "data": {
      "application/javascript": [
       "\n",
       "        if (window._pyforest_update_imports_cell) { window._pyforest_update_imports_cell('import os\\nimport re'); }\n",
       "    "
      ],
      "text/plain": [
       "<IPython.core.display.Javascript object>"
      ]
     },
     "metadata": {},
     "output_type": "display_data"
    },
    {
     "name": "stdout",
     "output_type": "stream",
     "text": [
      "['19AADFB7015R2Z0']\n"
     ]
    },
    {
     "data": {
      "application/javascript": [
       "\n",
       "        if (window._pyforest_update_imports_cell) { window._pyforest_update_imports_cell('import os\\nimport re'); }\n",
       "    "
      ],
      "text/plain": [
       "<IPython.core.display.Javascript object>"
      ]
     },
     "metadata": {},
     "output_type": "display_data"
    },
    {
     "name": "stdout",
     "output_type": "stream",
     "text": [
      "['19AADFB7015R2Z0']\n"
     ]
    },
    {
     "data": {
      "application/javascript": [
       "\n",
       "        if (window._pyforest_update_imports_cell) { window._pyforest_update_imports_cell('import os\\nimport re'); }\n",
       "    "
      ],
      "text/plain": [
       "<IPython.core.display.Javascript object>"
      ]
     },
     "metadata": {},
     "output_type": "display_data"
    },
    {
     "name": "stdout",
     "output_type": "stream",
     "text": [
      "['19AQOPN1034F1ZU', '19AJRPP8815E1ZM', '19AJRPP8815E1ZM']\n"
     ]
    },
    {
     "data": {
      "application/javascript": [
       "\n",
       "        if (window._pyforest_update_imports_cell) { window._pyforest_update_imports_cell('import os\\nimport re'); }\n",
       "    "
      ],
      "text/plain": [
       "<IPython.core.display.Javascript object>"
      ]
     },
     "metadata": {},
     "output_type": "display_data"
    },
    {
     "name": "stdout",
     "output_type": "stream",
     "text": [
      "[]\n"
     ]
    },
    {
     "data": {
      "application/javascript": [
       "\n",
       "        if (window._pyforest_update_imports_cell) { window._pyforest_update_imports_cell('import os\\nimport re'); }\n",
       "    "
      ],
      "text/plain": [
       "<IPython.core.display.Javascript object>"
      ]
     },
     "metadata": {},
     "output_type": "display_data"
    },
    {
     "name": "stdout",
     "output_type": "stream",
     "text": [
      "['19ACOPC5657P1ZS']\n"
     ]
    },
    {
     "data": {
      "application/javascript": [
       "\n",
       "        if (window._pyforest_update_imports_cell) { window._pyforest_update_imports_cell('import os\\nimport re'); }\n",
       "    "
      ],
      "text/plain": [
       "<IPython.core.display.Javascript object>"
      ]
     },
     "metadata": {},
     "output_type": "display_data"
    },
    {
     "name": "stdout",
     "output_type": "stream",
     "text": [
      "['19AISPJ4698P1ZX']\n"
     ]
    },
    {
     "data": {
      "application/javascript": [
       "\n",
       "        if (window._pyforest_update_imports_cell) { window._pyforest_update_imports_cell('import os\\nimport re'); }\n",
       "    "
      ],
      "text/plain": [
       "<IPython.core.display.Javascript object>"
      ]
     },
     "metadata": {},
     "output_type": "display_data"
    },
    {
     "name": "stdout",
     "output_type": "stream",
     "text": [
      "['19AADFB7015R2Z0']\n"
     ]
    },
    {
     "data": {
      "application/javascript": [
       "\n",
       "        if (window._pyforest_update_imports_cell) { window._pyforest_update_imports_cell('import os\\nimport re'); }\n",
       "    "
      ],
      "text/plain": [
       "<IPython.core.display.Javascript object>"
      ]
     },
     "metadata": {},
     "output_type": "display_data"
    },
    {
     "name": "stdout",
     "output_type": "stream",
     "text": [
      "[]\n"
     ]
    },
    {
     "data": {
      "application/javascript": [
       "\n",
       "        if (window._pyforest_update_imports_cell) { window._pyforest_update_imports_cell('import os\\nimport re'); }\n",
       "    "
      ],
      "text/plain": [
       "<IPython.core.display.Javascript object>"
      ]
     },
     "metadata": {},
     "output_type": "display_data"
    },
    {
     "name": "stdout",
     "output_type": "stream",
     "text": [
      "['19CBBPN1538E1ZT', '19AUKPP8322N1ZU']\n"
     ]
    },
    {
     "data": {
      "application/javascript": [
       "\n",
       "        if (window._pyforest_update_imports_cell) { window._pyforest_update_imports_cell('import os\\nimport re'); }\n",
       "    "
      ],
      "text/plain": [
       "<IPython.core.display.Javascript object>"
      ]
     },
     "metadata": {},
     "output_type": "display_data"
    },
    {
     "name": "stdout",
     "output_type": "stream",
     "text": [
      "[]\n"
     ]
    },
    {
     "data": {
      "application/javascript": [
       "\n",
       "        if (window._pyforest_update_imports_cell) { window._pyforest_update_imports_cell('import os\\nimport re'); }\n",
       "    "
      ],
      "text/plain": [
       "<IPython.core.display.Javascript object>"
      ]
     },
     "metadata": {},
     "output_type": "display_data"
    },
    {
     "name": "stdout",
     "output_type": "stream",
     "text": [
      "['19AUKPP8322N1ZU']\n"
     ]
    },
    {
     "data": {
      "application/javascript": [
       "\n",
       "        if (window._pyforest_update_imports_cell) { window._pyforest_update_imports_cell('import os\\nimport re'); }\n",
       "    "
      ],
      "text/plain": [
       "<IPython.core.display.Javascript object>"
      ]
     },
     "metadata": {},
     "output_type": "display_data"
    },
    {
     "name": "stdout",
     "output_type": "stream",
     "text": [
      "['19AUKPP8322N1ZU']\n"
     ]
    },
    {
     "data": {
      "application/javascript": [
       "\n",
       "        if (window._pyforest_update_imports_cell) { window._pyforest_update_imports_cell('import os\\nimport re'); }\n",
       "    "
      ],
      "text/plain": [
       "<IPython.core.display.Javascript object>"
      ]
     },
     "metadata": {},
     "output_type": "display_data"
    },
    {
     "name": "stdout",
     "output_type": "stream",
     "text": [
      "['19AUKPP8322N1ZU']\n"
     ]
    },
    {
     "data": {
      "application/javascript": [
       "\n",
       "        if (window._pyforest_update_imports_cell) { window._pyforest_update_imports_cell('import os\\nimport re'); }\n",
       "    "
      ],
      "text/plain": [
       "<IPython.core.display.Javascript object>"
      ]
     },
     "metadata": {},
     "output_type": "display_data"
    },
    {
     "name": "stdout",
     "output_type": "stream",
     "text": [
      "['19AUKPP8322N1ZU']\n"
     ]
    },
    {
     "data": {
      "application/javascript": [
       "\n",
       "        if (window._pyforest_update_imports_cell) { window._pyforest_update_imports_cell('import os\\nimport re'); }\n",
       "    "
      ],
      "text/plain": [
       "<IPython.core.display.Javascript object>"
      ]
     },
     "metadata": {},
     "output_type": "display_data"
    },
    {
     "name": "stdout",
     "output_type": "stream",
     "text": [
      "['19AJRPP8815E1ZM', '24AAICP0987G1Z9', '24AAICP0987G1Z9']\n"
     ]
    },
    {
     "data": {
      "application/javascript": [
       "\n",
       "        if (window._pyforest_update_imports_cell) { window._pyforest_update_imports_cell('import os\\nimport re'); }\n",
       "    "
      ],
      "text/plain": [
       "<IPython.core.display.Javascript object>"
      ]
     },
     "metadata": {},
     "output_type": "display_data"
    },
    {
     "name": "stdout",
     "output_type": "stream",
     "text": [
      "['19AJRPP8815E1ZM', '24AAICP0987G1Z9', '24AAICP0987G1Z9']\n"
     ]
    },
    {
     "data": {
      "application/javascript": [
       "\n",
       "        if (window._pyforest_update_imports_cell) { window._pyforest_update_imports_cell('import os\\nimport re'); }\n",
       "    "
      ],
      "text/plain": [
       "<IPython.core.display.Javascript object>"
      ]
     },
     "metadata": {},
     "output_type": "display_data"
    },
    {
     "name": "stdout",
     "output_type": "stream",
     "text": [
      "['19AABCT0602K1ZI', '19AJGPG3532Q1ZT', '19AJGPG3532Q1ZT']\n"
     ]
    },
    {
     "data": {
      "application/javascript": [
       "\n",
       "        if (window._pyforest_update_imports_cell) { window._pyforest_update_imports_cell('import os\\nimport re'); }\n",
       "    "
      ],
      "text/plain": [
       "<IPython.core.display.Javascript object>"
      ]
     },
     "metadata": {},
     "output_type": "display_data"
    },
    {
     "name": "stdout",
     "output_type": "stream",
     "text": [
      "[]\n"
     ]
    }
   ],
   "source": [
    "GSTIN_REG = re.compile(r'[0-9]{2}[A-Z]{5}[0-9]{4}[A-Z]{1}[A-Z0-9]{1}Z{1}[A-Z0-9]{1}')\n",
    "def extract_gstin(invoice_text):\n",
    "    #invoice_text = re.sub(r'\\s+','',invoice_text)\n",
    "    return re.findall(GSTIN_REG, invoice_text)\n",
    "\n",
    "for invoice in corpus_invoicedata:\n",
    "    print(extract_gstin(invoice))"
   ]
  },
  {
   "cell_type": "code",
   "execution_count": 35,
   "id": "440878fa",
   "metadata": {},
   "outputs": [],
   "source": [
    "import spacy\n",
    "\n",
    "# Import the Matcher\n",
    "from spacy.matcher import Matcher\n",
    "from spacy import displacy\n",
    "\n",
    "nlp = spacy.load(\"en_core_web_sm\")"
   ]
  },
  {
   "cell_type": "code",
   "execution_count": 36,
   "id": "170cab55",
   "metadata": {},
   "outputs": [
    {
     "name": "stdout",
     "output_type": "stream",
     "text": [
      "Matches: ['Invoice Date 29']\n",
      "Matches: ['Invoice\\n\\n| M', 'Invoice No', 'Invoice\\n\\n']\n",
      "Matches: []\n",
      "Matches: ['Invoice No', 'Invoice\\n\\n']\n",
      "Matches: []\n",
      "Matches: ['Invoice\\n\\nE.', 'Invoice No']\n",
      "Matches: []\n",
      "Matches: ['Invoice\\n\\nK.V.P Engineering Company', 'Invoice No', 'Invoice\\n\\n']\n",
      "Matches: ['Invoice\\n\\n| SAIBAL ENTERPRISE\\n/PAKURTALA', 'Invoice No', 'Invoice\\n\\n']\n",
      "Matches: ['Invoice Number\\nIN20200099\\n\\nInvoice Date\\n\\n28.08.2020\\nCustomer Number\\n106033\\n\\nDelivery Address\\n$ .P. UDYOG\\n411/447', 'Invoice Address\\n\\nS.P.UDYOG\\n\\n411/447']\n",
      "Matches: ['Invoice No', 'Invoice Date']\n",
      "Matches: ['Invoice No', 'Invoice Date']\n",
      "Matches: ['Invoice\\n\\nFROM GST Inv', 'Invoice Ruals']\n",
      "Matches: []\n",
      "Matches: []\n",
      "Matches: ['Invoice Date Il- F-20206 Date of Supply\\nState', 'Invoice No']\n",
      "Matches: ['Invoice No', 'Invoice Date']\n",
      "Matches: []\n",
      "Matches: ['Invoice No', 'Invoice\\n\\n']\n",
      "Matches: ['Invoice 30/07/2021\\nShiping to']\n",
      "Matches: ['Invoice Nas Dated']\n",
      "Matches: ['Invoice No']\n",
      "Matches: ['Invoice ~']\n",
      "Matches: ['Invoice No']\n",
      "Matches: ['Invoice Copy for Seller\\n\\nPAN']\n",
      "Matches: ['Invoice Copy for Seller\\n\\nHi']\n",
      "Matches: ['Invoice Amount Rs', 'Invoice No', 'Invoice Value']\n",
      "Matches: ['Invoice Value 0.00\\n', 'Invoice Value']\n"
     ]
    }
   ],
   "source": [
    "# This function search for Invoice keyword\n",
    "for text in corpus_invoicedata:\n",
    "    doc = nlp(text)\n",
    "    matcher = Matcher(nlp.vocab)\n",
    "    pattern = [{\"TEXT\": \"Invoice\"}, {\"IS_PUNCT\": False,\"OP\":\"+\"}]\n",
    "    matcher.add(\"NNNNNNNN: \", [pattern], greedy = \"LONGEST\")\n",
    "    matches = matcher(doc)\n",
    "    #print(matches)\n",
    "    print(\"Matches:\", [doc[start:end].text for match_id, start, end in matches])"
   ]
  },
  {
   "cell_type": "code",
   "execution_count": 37,
   "id": "d98414c0",
   "metadata": {},
   "outputs": [
    {
     "name": "stdout",
     "output_type": "stream",
     "text": [
      "Matches: ['dineshjaiswal1979@gmail.com\\nPh']\n",
      "Matches: ['udit40bh@gmail.com\\n\\n| Invoice No']\n",
      "Matches: [\"ispalghar2015@gmail.com\\n\\nBuyer's Name\"]\n",
      "Matches: []\n",
      "Matches: []\n",
      "Matches: []\n",
      "Matches: [\"ispalghar2015@gmail.com\\n\\nBuyer's Name\"]\n",
      "Matches: []\n",
      "Matches: []\n",
      "Matches: []\n",
      "Matches: ['baijnath.kolkata@gmail.com\\nGSTIN']\n",
      "Matches: ['baijnath.kolkata@gmail.com\\nGSTIN']\n",
      "Matches: []\n",
      "Matches: [\"ispalghar2015@gmail.com\\n\\n1\\nBuyer's Name ia Eco mece nnd\"]\n",
      "Matches: ['ispalghar2015@gmail.com\\n\\n']\n",
      "Matches: ['dineshjaiswal1979@gmail.com\\nPh']\n",
      "Matches: ['baijnath.kolkata@gmail.com\\n']\n",
      "Matches: []\n",
      "Matches: ['nilaynathOO@gmail.com\\n\\nTAX INVOICE\\nMMPC\\n\\nParty']\n",
      "Matches: ['sreesgk1944@gmail.com\\n\\nC.E. Range']\n",
      "Matches: ['sspudyog@gmail.com Challan No']\n",
      "Matches: ['sspudyog@gmail.com ChallanNo']\n",
      "Matches: ['sspudyog@gmail.com Challan No']\n",
      "Matches: ['sspudyog@gmail.com Challan No']\n",
      "Matches: ['il.engineeringunit@gmail.com STATE CODE', 'il.engineeringunit@gmail.com\\n']\n",
      "Matches: ['il.engineeringunit@gmail.com STATE CODE']\n",
      "Matches: ['cpbcfadankuni@gmail.com\\nBill To 101171 ShipTo 101171\\nMOU TRADING MOU TRADING Invoice Amount Rs']\n",
      "Matches: []\n"
     ]
    }
   ],
   "source": [
    "# This function search for Emails\n",
    "for text in corpus_invoicedata:\n",
    "    doc = nlp(text)\n",
    "    matcher = Matcher(nlp.vocab)\n",
    "    #pattern = [{\"TEXT\": \"Invoice \"}, {\"TEXT\": \"No.\"}]\n",
    "    #pattern = [{\"TEXT\": \"Invoice\"}, {\"IS_PUNCT\": False,\"OP\":\"+\"}]\n",
    "    pattern = [{\"LIKE_EMAIL\":True}, {\"IS_PUNCT\": False,\"OP\":\"+\"}]\n",
    "    matcher.add(\"EMMMM: \", [pattern], greedy = \"LONGEST\")\n",
    "    matches = matcher(doc)\n",
    "    #print(matches)\n",
    "    print(\"Matches:\", [doc[start:end].text for match_id, start, end in matches])"
   ]
  },
  {
   "cell_type": "code",
   "execution_count": 38,
   "id": "c5ef17c9",
   "metadata": {},
   "outputs": [
    {
     "name": "stdout",
     "output_type": "stream",
     "text": [
      "Matches: ['dineshjaiswal1979@gmail.com\\nPh', 'Invoice Date 29']\n",
      "Matches: ['udit40bh@gmail.com\\n\\n| Invoice No', 'Invoice\\n\\n| M', 'Invoice\\n\\n']\n",
      "Matches: [\"ispalghar2015@gmail.com\\n\\nBuyer's Name\"]\n",
      "Matches: ['Invoice No', 'Invoice\\n\\n']\n",
      "Matches: []\n",
      "Matches: ['Invoice\\n\\nE.', 'Invoice No']\n",
      "Matches: [\"ispalghar2015@gmail.com\\n\\nBuyer's Name\"]\n",
      "Matches: ['Invoice\\n\\nK.V.P Engineering Company', 'Invoice No', 'Invoice\\n\\n']\n",
      "Matches: ['Invoice\\n\\n| SAIBAL ENTERPRISE\\n/PAKURTALA', 'Invoice No', 'Invoice\\n\\n']\n",
      "Matches: ['Invoice Number\\nIN20200099\\n\\nInvoice Date\\n\\n28.08.2020\\nCustomer Number\\n106033\\n\\nDelivery Address\\n$ .P. UDYOG\\n411/447', 'Invoice Address\\n\\nS.P.UDYOG\\n\\n411/447']\n",
      "Matches: ['baijnath.kolkata@gmail.com\\nGSTIN', 'Invoice No', 'Invoice Date']\n",
      "Matches: ['baijnath.kolkata@gmail.com\\nGSTIN', 'Invoice No', 'Invoice Date']\n",
      "Matches: ['Invoice\\n\\nFROM GST Inv', 'Invoice Ruals']\n",
      "Matches: [\"ispalghar2015@gmail.com\\n\\n1\\nBuyer's Name ia Eco mece nnd\"]\n",
      "Matches: ['ispalghar2015@gmail.com\\n\\n']\n",
      "Matches: ['Invoice Date Il- F-20206 Date of Supply\\nState', 'dineshjaiswal1979@gmail.com\\nPh', 'Invoice No']\n",
      "Matches: ['baijnath.kolkata@gmail.com\\n', 'Invoice No', 'Invoice Date']\n",
      "Matches: []\n",
      "Matches: ['nilaynathOO@gmail.com\\n\\nTAX INVOICE\\nMMPC\\n\\nParty', 'Invoice No', 'Invoice\\n\\n']\n",
      "Matches: ['Invoice 30/07/2021\\nShiping to', 'sreesgk1944@gmail.com\\n\\nC.E. Range']\n",
      "Matches: ['Invoice Nas Dated', 'sspudyog@gmail.com Challan No']\n",
      "Matches: ['Invoice No', 'sspudyog@gmail.com ChallanNo']\n",
      "Matches: ['sspudyog@gmail.com Challan No', 'Invoice ~']\n",
      "Matches: ['sspudyog@gmail.com Challan No', 'Invoice No']\n",
      "Matches: ['Invoice Copy for Seller\\n\\nPAN', 'il.engineeringunit@gmail.com STATE CODE', 'il.engineeringunit@gmail.com\\n']\n",
      "Matches: ['Invoice Copy for Seller\\n\\nHi', 'il.engineeringunit@gmail.com STATE CODE']\n",
      "Matches: ['cpbcfadankuni@gmail.com\\nBill To 101171 ShipTo 101171\\nMOU TRADING MOU TRADING Invoice Amount Rs', 'Invoice No', 'Invoice Value']\n",
      "Matches: ['Invoice Value 0.00\\n', 'Invoice Value']\n"
     ]
    }
   ],
   "source": [
    "for text in corpus_invoicedata:\n",
    "    doc = nlp(text)\n",
    "    matcher = Matcher(nlp.vocab)\n",
    "    pattern1 = [{\"LEMMA\": \"Invoice\"},\n",
    "               {\"IS_ALPHA\": True, \"OP\":\"*\"},\n",
    "               {\"LIKE_NUM\": True, \"OP\":\"+\"}\n",
    "              ]\n",
    "    pattern2 = [{\"TEXT\": \"Invoice\"}, {\"IS_PUNCT\": False,\"OP\":\"+\"}]\n",
    "    pattern3 = [{\"LIKE_EMAIL\":True}, {\"IS_PUNCT\": False,\"OP\":\"+\"}]\n",
    "    matcher.add(\"InvoiceNumber: \", [pattern1, pattern2, pattern3], greedy = \"LONGEST\")\n",
    "    matches = matcher(doc)\n",
    "    #print(matches)\n",
    "    print(\"Matches:\", [doc[start:end].text for match_id, start, end in matches])"
   ]
  },
  {
   "cell_type": "code",
   "execution_count": 39,
   "id": "a63f6e4e",
   "metadata": {},
   "outputs": [],
   "source": [
    "# Last three cells contain pattern, which we can modify or there can be more than one pattern to search, so we just have know the pattern and everything will be done accordingly.\n",
    "#There can be multiple patterns"
   ]
  },
  {
   "cell_type": "code",
   "execution_count": 40,
   "id": "4f7fd6f4",
   "metadata": {},
   "outputs": [
    {
     "data": {
      "application/javascript": [
       "\n",
       "        if (window._pyforest_update_imports_cell) { window._pyforest_update_imports_cell('import os\\nimport re'); }\n",
       "    "
      ],
      "text/plain": [
       "<IPython.core.display.Javascript object>"
      ]
     },
     "metadata": {},
     "output_type": "display_data"
    },
    {
     "data": {
      "application/javascript": [
       "\n",
       "        if (window._pyforest_update_imports_cell) { window._pyforest_update_imports_cell('import os\\nimport re'); }\n",
       "    "
      ],
      "text/plain": [
       "<IPython.core.display.Javascript object>"
      ]
     },
     "metadata": {},
     "output_type": "display_data"
    },
    {
     "data": {
      "application/javascript": [
       "\n",
       "        if (window._pyforest_update_imports_cell) { window._pyforest_update_imports_cell('import os\\nimport re'); }\n",
       "    "
      ],
      "text/plain": [
       "<IPython.core.display.Javascript object>"
      ]
     },
     "metadata": {},
     "output_type": "display_data"
    },
    {
     "name": "stdout",
     "output_type": "stream",
     "text": [
      "['Address : Middle thoxthot ee cement eases Ulises mnie ne\\nSars lactose: ae ee\\nState : UST BENGIL a Code _/ va — |Statte :-w Code_ _. _']\n"
     ]
    },
    {
     "data": {
      "application/javascript": [
       "\n",
       "        if (window._pyforest_update_imports_cell) { window._pyforest_update_imports_cell('import os\\nimport re'); }\n",
       "    "
      ],
      "text/plain": [
       "<IPython.core.display.Javascript object>"
      ]
     },
     "metadata": {},
     "output_type": "display_data"
    },
    {
     "name": "stdout",
     "output_type": "stream",
     "text": [
      "[]\n"
     ]
    },
    {
     "data": {
      "application/javascript": [
       "\n",
       "        if (window._pyforest_update_imports_cell) { window._pyforest_update_imports_cell('import os\\nimport re'); }\n",
       "    "
      ],
      "text/plain": [
       "<IPython.core.display.Javascript object>"
      ]
     },
     "metadata": {},
     "output_type": "display_data"
    },
    {
     "name": "stdout",
     "output_type": "stream",
     "text": [
      "[\"Address : Z/1G0 2\\nBu r's GSTIN No. PAIR PP F§/S EI/ZM\\n\"]\n"
     ]
    },
    {
     "data": {
      "application/javascript": [
       "\n",
       "        if (window._pyforest_update_imports_cell) { window._pyforest_update_imports_cell('import os\\nimport re'); }\n",
       "    "
      ],
      "text/plain": [
       "<IPython.core.display.Javascript object>"
      ]
     },
     "metadata": {},
     "output_type": "display_data"
    },
    {
     "name": "stdout",
     "output_type": "stream",
     "text": [
      "[]\n"
     ]
    },
    {
     "data": {
      "application/javascript": [
       "\n",
       "        if (window._pyforest_update_imports_cell) { window._pyforest_update_imports_cell('import os\\nimport re'); }\n",
       "    "
      ],
      "text/plain": [
       "<IPython.core.display.Javascript object>"
      ]
     },
     "metadata": {},
     "output_type": "display_data"
    },
    {
     "name": "stdout",
     "output_type": "stream",
     "text": [
      "[]\n"
     ]
    },
    {
     "data": {
      "application/javascript": [
       "\n",
       "        if (window._pyforest_update_imports_cell) { window._pyforest_update_imports_cell('import os\\nimport re'); }\n",
       "    "
      ],
      "text/plain": [
       "<IPython.core.display.Javascript object>"
      ]
     },
     "metadata": {},
     "output_type": "display_data"
    },
    {
     "name": "stdout",
     "output_type": "stream",
     "text": [
      "[]\n"
     ]
    },
    {
     "data": {
      "application/javascript": [
       "\n",
       "        if (window._pyforest_update_imports_cell) { window._pyforest_update_imports_cell('import os\\nimport re'); }\n",
       "    "
      ],
      "text/plain": [
       "<IPython.core.display.Javascript object>"
      ]
     },
     "metadata": {},
     "output_type": "display_data"
    },
    {
     "name": "stdout",
     "output_type": "stream",
     "text": [
      "['Address AM dal . ts nah JM y2 |\\n\\nBu “s GSTIN No. App &Els £/ZM']\n"
     ]
    },
    {
     "data": {
      "application/javascript": [
       "\n",
       "        if (window._pyforest_update_imports_cell) { window._pyforest_update_imports_cell('import os\\nimport re'); }\n",
       "    "
      ],
      "text/plain": [
       "<IPython.core.display.Javascript object>"
      ]
     },
     "metadata": {},
     "output_type": "display_data"
    },
    {
     "name": "stdout",
     "output_type": "stream",
     "text": [
      "[]\n"
     ]
    },
    {
     "data": {
      "application/javascript": [
       "\n",
       "        if (window._pyforest_update_imports_cell) { window._pyforest_update_imports_cell('import os\\nimport re'); }\n",
       "    "
      ],
      "text/plain": [
       "<IPython.core.display.Javascript object>"
      ]
     },
     "metadata": {},
     "output_type": "display_data"
    },
    {
     "name": "stdout",
     "output_type": "stream",
     "text": [
      "[]\n"
     ]
    },
    {
     "data": {
      "application/javascript": [
       "\n",
       "        if (window._pyforest_update_imports_cell) { window._pyforest_update_imports_cell('import os\\nimport re'); }\n",
       "    "
      ],
      "text/plain": [
       "<IPython.core.display.Javascript object>"
      ]
     },
     "metadata": {},
     "output_type": "display_data"
    },
    {
     "name": "stdout",
     "output_type": "stream",
     "text": [
      "['Address\\n\\nS.P.UDYOG\\n\\n411/447, Bijoy Chandra Das Road,', 'Address\\n$ .P. UDYOG\\n411/447, Bijoy Chandra Das Road,\\nSainpala, Basirhat, North 24 Pgs.', 'address: GST Range-53, Range Code - 200804\\nEnsto India Private Limited Division- WEST-2 NEW\\nPlot No 241-242,Sector-6 Commissionerate: GURUGRAM NEW']\n"
     ]
    },
    {
     "data": {
      "application/javascript": [
       "\n",
       "        if (window._pyforest_update_imports_cell) { window._pyforest_update_imports_cell('import os\\nimport re'); }\n",
       "    "
      ],
      "text/plain": [
       "<IPython.core.display.Javascript object>"
      ]
     },
     "metadata": {},
     "output_type": "display_data"
    },
    {
     "name": "stdout",
     "output_type": "stream",
     "text": [
      "[]\n"
     ]
    },
    {
     "data": {
      "application/javascript": [
       "\n",
       "        if (window._pyforest_update_imports_cell) { window._pyforest_update_imports_cell('import os\\nimport re'); }\n",
       "    "
      ],
      "text/plain": [
       "<IPython.core.display.Javascript object>"
      ]
     },
     "metadata": {},
     "output_type": "display_data"
    },
    {
     "name": "stdout",
     "output_type": "stream",
     "text": [
      "[]\n"
     ]
    },
    {
     "data": {
      "application/javascript": [
       "\n",
       "        if (window._pyforest_update_imports_cell) { window._pyforest_update_imports_cell('import os\\nimport re'); }\n",
       "    "
      ],
      "text/plain": [
       "<IPython.core.display.Javascript object>"
      ]
     },
     "metadata": {},
     "output_type": "display_data"
    },
    {
     "name": "stdout",
     "output_type": "stream",
     "text": [
      "['ADDRESS - MANICKPUR,DELTA MILL,SANKRAIL, HOWRAH - 711313\\n\\nGST IN- 19AQOPN1034F1ZU ~']\n"
     ]
    },
    {
     "data": {
      "application/javascript": [
       "\n",
       "        if (window._pyforest_update_imports_cell) { window._pyforest_update_imports_cell('import os\\nimport re'); }\n",
       "    "
      ],
      "text/plain": [
       "<IPython.core.display.Javascript object>"
      ]
     },
     "metadata": {},
     "output_type": "display_data"
    },
    {
     "name": "stdout",
     "output_type": "stream",
     "text": [
      "[\"Address Midd le Shomehak yousah “TFH30Z\\nBu, z's GSTINN. IPADRPPSSISE IZM\\n\"]\n"
     ]
    },
    {
     "data": {
      "application/javascript": [
       "\n",
       "        if (window._pyforest_update_imports_cell) { window._pyforest_update_imports_cell('import os\\nimport re'); }\n",
       "    "
      ],
      "text/plain": [
       "<IPython.core.display.Javascript object>"
      ]
     },
     "metadata": {},
     "output_type": "display_data"
    },
    {
     "name": "stdout",
     "output_type": "stream",
     "text": [
      "['Address Middle “Shorvehals Howmph— TH 302 _\\nBs GSTINNo.__ IGA YRPPSSISE IZM _\\n']\n"
     ]
    },
    {
     "data": {
      "application/javascript": [
       "\n",
       "        if (window._pyforest_update_imports_cell) { window._pyforest_update_imports_cell('import os\\nimport re'); }\n",
       "    "
      ],
      "text/plain": [
       "<IPython.core.display.Javascript object>"
      ]
     },
     "metadata": {},
     "output_type": "display_data"
    },
    {
     "name": "stdout",
     "output_type": "stream",
     "text": [
      "['Address : _/M‘ddllc_ Thortho€ (OC a\\n> Si Howkaee F302 |\\nstate :-WESTGENCAZL ____code_/7 _ |state :_ Code _ _']\n"
     ]
    },
    {
     "data": {
      "application/javascript": [
       "\n",
       "        if (window._pyforest_update_imports_cell) { window._pyforest_update_imports_cell('import os\\nimport re'); }\n",
       "    "
      ],
      "text/plain": [
       "<IPython.core.display.Javascript object>"
      ]
     },
     "metadata": {},
     "output_type": "display_data"
    },
    {
     "name": "stdout",
     "output_type": "stream",
     "text": [
      "[]\n"
     ]
    },
    {
     "data": {
      "application/javascript": [
       "\n",
       "        if (window._pyforest_update_imports_cell) { window._pyforest_update_imports_cell('import os\\nimport re'); }\n",
       "    "
      ],
      "text/plain": [
       "<IPython.core.display.Javascript object>"
      ]
     },
     "metadata": {},
     "output_type": "display_data"
    },
    {
     "name": "stdout",
     "output_type": "stream",
     "text": [
      "[]\n"
     ]
    },
    {
     "data": {
      "application/javascript": [
       "\n",
       "        if (window._pyforest_update_imports_cell) { window._pyforest_update_imports_cell('import os\\nimport re'); }\n",
       "    "
      ],
      "text/plain": [
       "<IPython.core.display.Javascript object>"
      ]
     },
     "metadata": {},
     "output_type": "display_data"
    },
    {
     "name": "stdout",
     "output_type": "stream",
     "text": [
      "[]\n"
     ]
    },
    {
     "data": {
      "application/javascript": [
       "\n",
       "        if (window._pyforest_update_imports_cell) { window._pyforest_update_imports_cell('import os\\nimport re'); }\n",
       "    "
      ],
      "text/plain": [
       "<IPython.core.display.Javascript object>"
      ]
     },
     "metadata": {},
     "output_type": "display_data"
    },
    {
     "name": "stdout",
     "output_type": "stream",
     "text": [
      "[]\n"
     ]
    },
    {
     "data": {
      "application/javascript": [
       "\n",
       "        if (window._pyforest_update_imports_cell) { window._pyforest_update_imports_cell('import os\\nimport re'); }\n",
       "    "
      ],
      "text/plain": [
       "<IPython.core.display.Javascript object>"
      ]
     },
     "metadata": {},
     "output_type": "display_data"
    },
    {
     "name": "stdout",
     "output_type": "stream",
     "text": [
      "[]\n"
     ]
    },
    {
     "data": {
      "application/javascript": [
       "\n",
       "        if (window._pyforest_update_imports_cell) { window._pyforest_update_imports_cell('import os\\nimport re'); }\n",
       "    "
      ],
      "text/plain": [
       "<IPython.core.display.Javascript object>"
      ]
     },
     "metadata": {},
     "output_type": "display_data"
    },
    {
     "name": "stdout",
     "output_type": "stream",
     "text": [
      "[]\n"
     ]
    },
    {
     "data": {
      "application/javascript": [
       "\n",
       "        if (window._pyforest_update_imports_cell) { window._pyforest_update_imports_cell('import os\\nimport re'); }\n",
       "    "
      ],
      "text/plain": [
       "<IPython.core.display.Javascript object>"
      ]
     },
     "metadata": {},
     "output_type": "display_data"
    },
    {
     "name": "stdout",
     "output_type": "stream",
     "text": [
      "[]\n"
     ]
    },
    {
     "data": {
      "application/javascript": [
       "\n",
       "        if (window._pyforest_update_imports_cell) { window._pyforest_update_imports_cell('import os\\nimport re'); }\n",
       "    "
      ],
      "text/plain": [
       "<IPython.core.display.Javascript object>"
      ]
     },
     "metadata": {},
     "output_type": "display_data"
    },
    {
     "name": "stdout",
     "output_type": "stream",
     "text": [
      "[]\n"
     ]
    },
    {
     "data": {
      "application/javascript": [
       "\n",
       "        if (window._pyforest_update_imports_cell) { window._pyforest_update_imports_cell('import os\\nimport re'); }\n",
       "    "
      ],
      "text/plain": [
       "<IPython.core.display.Javascript object>"
      ]
     },
     "metadata": {},
     "output_type": "display_data"
    },
    {
     "name": "stdout",
     "output_type": "stream",
     "text": [
      "['ADDRESS Vadodara, Gujarat-391421 ADDRESS Vadodara, Gujarat-391421\\nPAN AAICP0987G PAN AAICP0987G\\nGSTIN 24AAICP0987G1Z9 GSTIN 24AAICP0987G1Z9']\n"
     ]
    },
    {
     "data": {
      "application/javascript": [
       "\n",
       "        if (window._pyforest_update_imports_cell) { window._pyforest_update_imports_cell('import os\\nimport re'); }\n",
       "    "
      ],
      "text/plain": [
       "<IPython.core.display.Javascript object>"
      ]
     },
     "metadata": {},
     "output_type": "display_data"
    },
    {
     "name": "stdout",
     "output_type": "stream",
     "text": [
      "['ADDRESS Vadodara, Gujarat-391421 ADDRESS Vadodara, Gujarat-391421\\n\\nPAN AAICP0987G PAN AAICP0987G']\n"
     ]
    },
    {
     "data": {
      "application/javascript": [
       "\n",
       "        if (window._pyforest_update_imports_cell) { window._pyforest_update_imports_cell('import os\\nimport re'); }\n",
       "    "
      ],
      "text/plain": [
       "<IPython.core.display.Javascript object>"
      ]
     },
     "metadata": {},
     "output_type": "display_data"
    },
    {
     "name": "stdout",
     "output_type": "stream",
     "text": [
      "[]\n"
     ]
    },
    {
     "data": {
      "application/javascript": [
       "\n",
       "        if (window._pyforest_update_imports_cell) { window._pyforest_update_imports_cell('import os\\nimport re'); }\n",
       "    "
      ],
      "text/plain": [
       "<IPython.core.display.Javascript object>"
      ]
     },
     "metadata": {},
     "output_type": "display_data"
    },
    {
     "name": "stdout",
     "output_type": "stream",
     "text": [
      "[]\n"
     ]
    }
   ],
   "source": [
    "ADDRESS_REG = re.compile(r'Address[\\s]?[:-]?\\s?[.-]?[\\w+]?\\s?.{0,300}\\n?.{0,300}\\n?.{0,300}', re.IGNORECASE)\n",
    "\n",
    "def extract_address(s):\n",
    "    return re.findall(ADDRESS_REG, s)\n",
    "for invoice in corpus_invoicedata:\n",
    "    print(extract_address(invoice))"
   ]
  },
  {
   "cell_type": "code",
   "execution_count": 45,
   "id": "ca23a7db",
   "metadata": {},
   "outputs": [],
   "source": [
    "output_string = StringIO()\n",
    "with open('rohit auto.pdf', 'rb') as in_file:\n",
    "    parser = PDFParser(in_file)\n",
    "    doc = PDFDocument(parser)\n",
    "    rsrcmgr = PDFResourceManager()\n",
    "    device = TextConverter(rsrcmgr, output_string, laparams=LAParams())\n",
    "    interpreter = PDFPageInterpreter(rsrcmgr, device)\n",
    "    for page in PDFPage.create_pages(doc):\n",
    "        interpreter.process_page(page)\n",
    "\n",
    "text = output_string.getvalue()"
   ]
  },
  {
   "cell_type": "code",
   "execution_count": 46,
   "id": "70622d02",
   "metadata": {},
   "outputs": [
    {
     "name": "stdout",
     "output_type": "stream",
     "text": [
      "TAX INVOICE\n",
      "\n",
      "e-Invoice\n",
      "\n",
      "IRN\n",
      "\n",
      ": 61c36d08ebccce5c38d9a423efa01da9d65570ccc9d-\n",
      "\n",
      "f48e348e297f3d46d4e52\n",
      "\n",
      "Ack No.\n",
      "Ack Date : 15-May-21\n",
      "\n",
      ": 122110960172707\n",
      "\n",
      "KANERI ENTERPRISES\n",
      "R.S.No 603/5,VILAS NAGAR ,\n",
      "MALWADI,SHIROLI(P) KOLHAPUR\n",
      "MAHARASHTRA,INDIA-416122\n",
      "GSTIN/UIN: 27APJPP0007L1ZU\n",
      "State Name :  Maharashtra, Code : 27\n",
      "E-Mail : kaneri.enterprises@gmail.com\n",
      "Buyer (Bill to)\n",
      "ROHIT  AUTO  PARTS\n",
      "19/F/H/14,GOABAGAN STREET,\n",
      "KOLKATA\n",
      "Ph.No.9883256541\n",
      "GSTIN/UIN\n",
      "\n",
      ": 19AKOPS5487K1Z1\n",
      "\n",
      "Invoice No.\n",
      "\n",
      "653\n",
      "Delivery Note\n",
      "\n",
      "e-Way Bill No.\n",
      "221299060896\n",
      "\n",
      "Dated\n",
      "\n",
      "Reference No. & Date.\n",
      "\n",
      "653  dt. 15-May-21\n",
      "Buyer's Order No.\n",
      "\n",
      "Dated\n",
      "\n",
      "15-May-21\n",
      "Mode/Terms of Payment\n",
      "\n",
      "30 Days\n",
      "Other References\n",
      "\n",
      "Dispatch Doc No.\n",
      "\n",
      "Delivery Note Date\n",
      "\n",
      "Dispatched through\n",
      "\n",
      "Destination\n",
      "\n",
      "Terms of Delivery\n",
      "\n",
      "1\n",
      "\n",
      "2\n",
      "\n",
      "3\n",
      "\n",
      "4\n",
      "\n",
      "5\n",
      "\n",
      "6\n",
      "\n",
      "7\n",
      "\n",
      "8\n",
      "\n",
      "9\n",
      "\n",
      "10\n",
      "\n",
      "11\n",
      "\n",
      "12\n",
      "\n",
      "13\n",
      "\n",
      "14\n",
      "\n",
      "15\n",
      "\n",
      "16\n",
      "\n",
      "17\n",
      "\n",
      "18\n",
      "\n",
      "19\n",
      "\n",
      "Sl No. & Kind\n",
      "No. of Pkgs.\n",
      "\n",
      "Description of Goods\n",
      "\n",
      "HSN/SAC\n",
      "\n",
      "Quantity\n",
      "\n",
      "Rate\n",
      "\n",
      "per\n",
      "\n",
      "Amount\n",
      "\n",
      "GST\n",
      "Rate\n",
      "\n",
      "MRP/\n",
      "Marginal\n",
      "\n",
      "BRAKE DISC 207 DI RX\n",
      "\n",
      "87083000\n",
      "\n",
      "28 %\n",
      "\n",
      "1,455.00/No.\n",
      "\n",
      "12 No.\n",
      "\n",
      "546.06\n",
      "\n",
      "No.\n",
      "\n",
      "6,552.72\n",
      "\n",
      "BRAKE DISC INDIGO\n",
      "\n",
      "87083000\n",
      "\n",
      "28 %\n",
      "\n",
      "898.00/No.\n",
      "\n",
      "12 No.\n",
      "\n",
      "431.04\n",
      "\n",
      "No.\n",
      "\n",
      "5,172.48\n",
      "\n",
      "BRAKE DISC ACE DICOR\n",
      "\n",
      "87083000\n",
      "\n",
      "28 %\n",
      "\n",
      "1,102.00/No.\n",
      "\n",
      "8 No.\n",
      "\n",
      "528.96\n",
      "\n",
      "No.\n",
      "\n",
      "4,231.68\n",
      "\n",
      "BRAKE DISC TATA ZEST\n",
      "\n",
      "87083000\n",
      "\n",
      "28 %\n",
      "\n",
      "1,275.00/No.\n",
      "\n",
      "8 No.\n",
      "\n",
      "612.00\n",
      "\n",
      "No.\n",
      "\n",
      "4,896.00\n",
      "\n",
      "BRAKE DISC WINGER STRETCH\n",
      "\n",
      "87083000\n",
      "\n",
      "28 %\n",
      "\n",
      "2,255.00/No.\n",
      "\n",
      "4 No.\n",
      "\n",
      "1,082.40\n",
      "\n",
      "No.\n",
      "\n",
      "4,329.60\n",
      "\n",
      "BRAKE DISC MAXIMO \n",
      "PASSANGER N/M\n",
      "\n",
      "87083000\n",
      "\n",
      "28 %\n",
      "\n",
      "808.00/No.\n",
      "\n",
      "54 No.\n",
      "\n",
      "335.00\n",
      "\n",
      "No.\n",
      "\n",
      "18,090.00\n",
      "\n",
      "BRAKE DISC XUV500\n",
      "\n",
      "87083000\n",
      "\n",
      "28 %\n",
      "\n",
      "2,905.00/No.\n",
      "\n",
      "10 No.\n",
      "\n",
      "1,394.40\n",
      "\n",
      "No.\n",
      "\n",
      "13,944.00\n",
      "\n",
      "BRAKE DISC S SERIES -S4,S6,S8 & S10\n",
      "\n",
      "87083000\n",
      "\n",
      "28 %\n",
      "\n",
      "2,200.00/No.\n",
      "\n",
      "50 No.\n",
      "\n",
      "996.16\n",
      "\n",
      "No.\n",
      "\n",
      "49,808.00\n",
      "\n",
      "BRAKE DISC MAH.S SERIES- S2\n",
      "\n",
      "87083000\n",
      "\n",
      "28 %\n",
      "\n",
      "2,047.00/No.\n",
      "\n",
      "100 No.\n",
      "\n",
      "936.09\n",
      "\n",
      "No.\n",
      "\n",
      "93,609.00\n",
      "\n",
      "BRAKE DISC SUPRO MAXI TRUCK\n",
      "\n",
      "87083000\n",
      "\n",
      "28 %\n",
      "\n",
      "1,275.00/No.\n",
      "\n",
      "22 No.\n",
      "\n",
      "612.00\n",
      "\n",
      "No.\n",
      "\n",
      "13,464.00\n",
      "\n",
      "BRAKE DISC TEMPO \n",
      "TRAVELLER 26 SEATER REAR\n",
      "\n",
      "87083000\n",
      "\n",
      "28 %\n",
      "\n",
      "2,585.00/No.\n",
      "\n",
      "4 No.\n",
      "\n",
      "1,240.80\n",
      "\n",
      "No.\n",
      "\n",
      "4,963.20\n",
      "\n",
      "BRAKE DISC DOST\n",
      "\n",
      "87083000\n",
      "\n",
      "28 %\n",
      "\n",
      "1,350.00/No.\n",
      "\n",
      "52 No.\n",
      "\n",
      "525.01\n",
      "\n",
      "No.\n",
      "\n",
      "27,300.52\n",
      "\n",
      "BRAKE DISC MARUTI 800\n",
      "\n",
      "87083000\n",
      "\n",
      "28 %\n",
      "\n",
      "654.00/No.\n",
      "\n",
      "54 No.\n",
      "\n",
      "313.92\n",
      "\n",
      "No.\n",
      "\n",
      "16,951.68\n",
      "\n",
      "BRAKE DISC ETIOS\n",
      "\n",
      "87083000\n",
      "\n",
      "28 %\n",
      "\n",
      "1,625.00/No.\n",
      "\n",
      "8 No.\n",
      "\n",
      "780.00\n",
      "\n",
      "No.\n",
      "\n",
      "6,240.00\n",
      "\n",
      "BRAKE DISC FORTUNER TYPE III\n",
      "\n",
      "87083000\n",
      "\n",
      "28 %\n",
      "\n",
      "4,378.00/No.\n",
      "\n",
      "4 No.\n",
      "\n",
      "2,101.44\n",
      "\n",
      "No.\n",
      "\n",
      "8,405.76\n",
      "\n",
      "BRAKE DISC PAJERO V44\n",
      "\n",
      "87083000\n",
      "\n",
      "28 %\n",
      "\n",
      "2,475.00/No.\n",
      "\n",
      "4 No.\n",
      "\n",
      "1,188.00\n",
      "\n",
      "No.\n",
      "\n",
      "4,752.00\n",
      "\n",
      "BRAKE DISC PAJERO SPORT\n",
      "\n",
      "87083000\n",
      "\n",
      "28 %\n",
      "\n",
      "3,850.00/No.\n",
      "\n",
      "10 No.\n",
      "\n",
      "1,848.00\n",
      "\n",
      "No.\n",
      "\n",
      "18,480.00\n",
      "\n",
      "BRAKE DISC KWID\n",
      "\n",
      "87083000\n",
      "\n",
      "28 %\n",
      "\n",
      "950.00/No.\n",
      "\n",
      "6 No.\n",
      "\n",
      "456.00\n",
      "\n",
      "No.\n",
      "\n",
      "2,736.00\n",
      "\n",
      "BRAKE DISC MICRA /SUNNY\n",
      "\n",
      "87083000\n",
      "\n",
      "28 %\n",
      "\n",
      "1,785.00/No.\n",
      "\n",
      "8 No.\n",
      "\n",
      "856.80\n",
      "\n",
      "No.\n",
      "\n",
      "6,854.40\n",
      "\n",
      "KET 004\n",
      "\n",
      "KET 012\n",
      "\n",
      "KET 026\n",
      "\n",
      "KET 027\n",
      "\n",
      "KET 029\n",
      "\n",
      "KEM 012\n",
      "\n",
      "KEM 013\n",
      "\n",
      "KEM 016\n",
      "\n",
      "KEM 018\n",
      "\n",
      "KEM 023\n",
      "\n",
      "KEF 007\n",
      "\n",
      "KEL 001\n",
      "\n",
      "KES 004\n",
      "\n",
      "KET 1009\n",
      "\n",
      "KET 1020\n",
      "\n",
      "KEM 1002\n",
      "\n",
      "KEM 1007\n",
      "\n",
      "KER 008\n",
      "\n",
      "KEN 001\n",
      "\n",
      "continued to page number  2\n",
      "\n",
      "SUBJECT TO KOLHAPUR JURISDICTION\n",
      "\n",
      "This is a Computer Generated Invoice\n",
      "\n",
      "\f",
      "KANERI ENTERPRISES\n",
      "R.S.No 603/5,VILAS NAGAR ,\n",
      "MALWADI,SHIROLI(P) KOLHAPUR\n",
      "MAHARASHTRA,INDIA-416122\n",
      "GSTIN/UIN: 27APJPP0007L1ZU\n",
      "State Name :  Maharashtra, Code : 27\n",
      "E-Mail : kaneri.enterprises@gmail.com\n",
      "Buyer (Bill to)\n",
      "ROHIT  AUTO  PARTS\n",
      "19/F/H/14,GOABAGAN STREET,\n",
      "KOLKATA\n",
      "Ph.No.9883256541\n",
      "GSTIN/UIN\n",
      "\n",
      ": 19AKOPS5487K1Z1\n",
      "\n",
      "TAX INVOICE(Page  2)\n",
      "\n",
      "Invoice No.\n",
      "\n",
      "653\n",
      "Delivery Note\n",
      "\n",
      "e-Way Bill No.\n",
      "221299060896\n",
      "\n",
      "Dated\n",
      "\n",
      "Reference No. & Date.\n",
      "\n",
      "653  dt. 15-May-21\n",
      "Buyer's Order No.\n",
      "\n",
      "Dated\n",
      "\n",
      "15-May-21\n",
      "Mode/Terms of Payment\n",
      "\n",
      "30 Days\n",
      "Other References\n",
      "\n",
      "Dispatch Doc No.\n",
      "\n",
      "Delivery Note Date\n",
      "\n",
      "Dispatched through\n",
      "\n",
      "Destination\n",
      "\n",
      "Terms of Delivery\n",
      "\n",
      "20\n",
      "\n",
      "21\n",
      "\n",
      "22\n",
      "\n",
      "23\n",
      "\n",
      "24\n",
      "\n",
      "25\n",
      "\n",
      "26\n",
      "\n",
      "27\n",
      "\n",
      "28\n",
      "\n",
      "29\n",
      "\n",
      "30\n",
      "\n",
      "Sl No. & Kind\n",
      "No. of Pkgs.\n",
      "\n",
      "Description of Goods\n",
      "\n",
      "HSN/SAC\n",
      "\n",
      "Quantity\n",
      "\n",
      "Rate\n",
      "\n",
      "per\n",
      "\n",
      "Amount\n",
      "\n",
      "GST\n",
      "Rate\n",
      "\n",
      "MRP/\n",
      "Marginal\n",
      "\n",
      "BRAKE DISC REDI GO\n",
      "\n",
      "87083000\n",
      "\n",
      "28 %\n",
      "\n",
      "950.00/No.\n",
      "\n",
      "6 No.\n",
      "\n",
      "456.00\n",
      "\n",
      "No.\n",
      "\n",
      "2,736.00\n",
      "\n",
      "KEN 009\n",
      "\n",
      "KEH 006\n",
      "\n",
      "KEH 018\n",
      "\n",
      "KEV 001\n",
      "\n",
      "KEG 006\n",
      "\n",
      "KEG 010\n",
      "\n",
      "BRAKE DISC VERNA FLUDIC FRONT\n",
      "\n",
      "87083000\n",
      "\n",
      "28 %\n",
      "\n",
      "1,600.00/No.\n",
      "\n",
      "8 No.\n",
      "\n",
      "768.00\n",
      "\n",
      "No.\n",
      "\n",
      "6,144.00\n",
      "\n",
      "BRAKE DISC VENUE\n",
      "\n",
      "87083000\n",
      "\n",
      "28 %\n",
      "\n",
      "1,550.00/No.\n",
      "\n",
      "4 No.\n",
      "\n",
      "744.00\n",
      "\n",
      "No.\n",
      "\n",
      "2,976.00\n",
      "\n",
      "BRAKE DISC POLO\n",
      "\n",
      "87083000\n",
      "\n",
      "28 %\n",
      "\n",
      "1,548.00/No.\n",
      "\n",
      "12 No.\n",
      "\n",
      "743.04\n",
      "\n",
      "No.\n",
      "\n",
      "8,916.48\n",
      "\n",
      "BRAKE DISC BEAT\n",
      "\n",
      "87083000\n",
      "\n",
      "28 %\n",
      "\n",
      "1,320.00/No.\n",
      "\n",
      "52 No.\n",
      "\n",
      "500.02\n",
      "\n",
      "No.\n",
      "\n",
      "26,001.04\n",
      "\n",
      "BRAKE DISC ENJOY\n",
      "\n",
      "87083000\n",
      "\n",
      "28 %\n",
      "\n",
      "1,485.00/No.\n",
      "\n",
      "12 No.\n",
      "\n",
      "712.80\n",
      "\n",
      "No.\n",
      "\n",
      "8,553.60\n",
      "\n",
      "BRAKE DRUM MAH.S SERIES-S2\n",
      "\n",
      "87083000\n",
      "\n",
      "28 %\n",
      "\n",
      "1,975.00/No.\n",
      "\n",
      "30 No.\n",
      "\n",
      "948.00\n",
      "\n",
      "No.\n",
      "\n",
      "28,440.00\n",
      "\n",
      "BRAKE DRUM OMNI/VAN REAR\n",
      "\n",
      "87083000\n",
      "\n",
      "28 %\n",
      "\n",
      "1,100.00/No.\n",
      "\n",
      "30 No.\n",
      "\n",
      "528.00\n",
      "\n",
      "No.\n",
      "\n",
      "15,840.00\n",
      "\n",
      "87083000\n",
      "\n",
      "28 %\n",
      "\n",
      "1,450.00/No.\n",
      "\n",
      "8 No.\n",
      "\n",
      "696.00\n",
      "\n",
      "No.\n",
      "\n",
      "5,568.00\n",
      "\n",
      "87083000\n",
      "\n",
      "28 %\n",
      "\n",
      "1,360.00/No.\n",
      "\n",
      "2 No.\n",
      "\n",
      "652.80\n",
      "\n",
      "No.\n",
      "\n",
      "1,305.60\n",
      "\n",
      "KEBDM 007\n",
      "\n",
      "BRAKE DRUM SWIFT\n",
      "\n",
      "KEBDM 1001\n",
      "\n",
      "KEBDM 1005\n",
      "\n",
      "BRAKE DRUM I20\n",
      "\n",
      "KEBDH 002\n",
      "\n",
      "KEBDV 002\n",
      "\n",
      "BRAKE DRUM VENTO TDI\n",
      "\n",
      "87083000\n",
      "\n",
      "28 %\n",
      "\n",
      "1,500.00/No.\n",
      "\n",
      "2 No.\n",
      "\n",
      "720.00\n",
      "\n",
      "No.\n",
      "\n",
      "1,440.00\n",
      "\n",
      "OUTPUT IGST 28%\n",
      "\n",
      "4,18,701.76\n",
      "\n",
      "%28\n",
      "\n",
      "1,17,236.49\n",
      "\n",
      "Amount Chargeable (in words)\n",
      "Indian Rupees Five Lakh Thirty Five Thousand Nine Hundred Thirty Eight and Twenty Five paise Only\n",
      "\n",
      "Total\n",
      "\n",
      "596 No.\n",
      "\n",
      "₹ 5,35,938.25\n",
      "E. & O.E\n",
      "\n",
      "87083000\n",
      "\n",
      "HSN/SAC\n",
      "\n",
      "Taxable\n",
      "Value\n",
      "4,18,701.76\n",
      "4,18,701.76\n",
      "\n",
      "Rate\n",
      "28%\n",
      "\n",
      "Integrated Tax\n",
      "Amount\n",
      "1,17,236.49\n",
      "1,17,236.49\n",
      "\n",
      "Total\n",
      "Tax Amount\n",
      "1,17,236.49\n",
      "1,17,236.49\n",
      "\n",
      "Total\n",
      "\n",
      "Tax Amount (in words)  : Indian Rupees One Lakh Seventeen Thousand Two Hundred Thirty Six and Forty Nine paise Only\n",
      "\n",
      "Company's PAN \n",
      "\n",
      ": APJPP0007L\n",
      "\n",
      "Customer's Seal and Signature\n",
      "\n",
      "Company's Bank Details\n",
      "Bank Name\n",
      "A/c No.\n",
      "Branch & IFS Code: SHIROLI & BKID0000910\n",
      "\n",
      ": BANK OF INDIA\n",
      ": 091030110000086\n",
      "\n",
      "for KANERI ENTERPRISES\n",
      "\n",
      "Authorised Signatory\n",
      "\n",
      "SUBJECT TO KOLHAPUR JURISDICTION\n",
      "\n",
      "This is a Computer Generated Invoice\n",
      "\n",
      "\f",
      "\n"
     ]
    }
   ],
   "source": [
    "print(text)"
   ]
  },
  {
   "cell_type": "code",
   "execution_count": 42,
   "id": "1c466218",
   "metadata": {},
   "outputs": [
    {
     "data": {
      "application/javascript": [
       "\n",
       "        if (window._pyforest_update_imports_cell) { window._pyforest_update_imports_cell('import os\\nimport re'); }\n",
       "    "
      ],
      "text/plain": [
       "<IPython.core.display.Javascript object>"
      ]
     },
     "metadata": {},
     "output_type": "display_data"
    },
    {
     "name": "stdout",
     "output_type": "stream",
     "text": [
      "[]\n"
     ]
    },
    {
     "data": {
      "application/javascript": [
       "\n",
       "        if (window._pyforest_update_imports_cell) { window._pyforest_update_imports_cell('import os\\nimport re'); }\n",
       "    "
      ],
      "text/plain": [
       "<IPython.core.display.Javascript object>"
      ]
     },
     "metadata": {},
     "output_type": "display_data"
    },
    {
     "name": "stdout",
     "output_type": "stream",
     "text": [
      "['9883256541', '9883256541']\n"
     ]
    },
    {
     "data": {
      "application/javascript": [
       "\n",
       "        if (window._pyforest_update_imports_cell) { window._pyforest_update_imports_cell('import os\\nimport re'); }\n",
       "    "
      ],
      "text/plain": [
       "<IPython.core.display.Javascript object>"
      ]
     },
     "metadata": {},
     "output_type": "display_data"
    },
    {
     "name": "stdout",
     "output_type": "stream",
     "text": [
      "['kaneri.enterprises@gmail.com', 'kaneri.enterprises@gmail.com']\n"
     ]
    },
    {
     "data": {
      "application/javascript": [
       "\n",
       "        if (window._pyforest_update_imports_cell) { window._pyforest_update_imports_cell('import os\\nimport re'); }\n",
       "    "
      ],
      "text/plain": [
       "<IPython.core.display.Javascript object>"
      ]
     },
     "metadata": {},
     "output_type": "display_data"
    },
    {
     "name": "stdout",
     "output_type": "stream",
     "text": [
      "['APJPP0007L', 'AKOPS5487K', 'APJPP0007L', 'AKOPS5487K', 'APJPP0007L']\n"
     ]
    },
    {
     "data": {
      "application/javascript": [
       "\n",
       "        if (window._pyforest_update_imports_cell) { window._pyforest_update_imports_cell('import os\\nimport re'); }\n",
       "    "
      ],
      "text/plain": [
       "<IPython.core.display.Javascript object>"
      ]
     },
     "metadata": {},
     "output_type": "display_data"
    },
    {
     "name": "stdout",
     "output_type": "stream",
     "text": [
      "['27APJPP0007L1ZU', '19AKOPS5487K1Z1', '27APJPP0007L1ZU', '19AKOPS5487K1Z1']\n"
     ]
    }
   ],
   "source": [
    "print(extract_address(text))\n",
    "print(extract_all_phone_number(text))\n",
    "print(extract_emails(text))\n",
    "print(extract_pan(text))\n",
    "print(extract_gstin(text))"
   ]
  },
  {
   "cell_type": "code",
   "execution_count": 43,
   "id": "829e84d4",
   "metadata": {},
   "outputs": [
    {
     "name": "stdout",
     "output_type": "stream",
     "text": [
      "Matches: ['dineshjaiswal1979@gmail.com\\nPh', 'Invoice Date 29']\n",
      "Matches: ['udit40bh@gmail.com\\n\\n| Invoice No', 'Invoice\\n\\n| M', 'Invoice\\n\\n']\n",
      "Matches: [\"ispalghar2015@gmail.com\\n\\nBuyer's Name\"]\n",
      "Matches: ['Invoice No', 'Invoice\\n\\n']\n",
      "Matches: []\n",
      "Matches: ['Invoice\\n\\nE.', 'Invoice No']\n",
      "Matches: [\"ispalghar2015@gmail.com\\n\\nBuyer's Name\"]\n",
      "Matches: ['Invoice\\n\\nK.V.P Engineering Company', 'Invoice No', 'Invoice\\n\\n']\n",
      "Matches: ['Invoice\\n\\n| SAIBAL ENTERPRISE\\n/PAKURTALA', 'Invoice No', 'Invoice\\n\\n']\n",
      "Matches: ['Invoice Number\\nIN20200099\\n\\nInvoice Date\\n\\n28.08.2020\\nCustomer Number\\n106033\\n\\nDelivery Address\\n$ .P. UDYOG\\n411/447', 'Invoice Address\\n\\nS.P.UDYOG\\n\\n411/447']\n",
      "Matches: ['baijnath.kolkata@gmail.com\\nGSTIN', 'Invoice No', 'Invoice Date']\n",
      "Matches: ['baijnath.kolkata@gmail.com\\nGSTIN', 'Invoice No', 'Invoice Date']\n",
      "Matches: ['Invoice\\n\\nFROM GST Inv', 'Invoice Ruals']\n",
      "Matches: [\"ispalghar2015@gmail.com\\n\\n1\\nBuyer's Name ia Eco mece nnd\"]\n",
      "Matches: ['ispalghar2015@gmail.com\\n\\n']\n",
      "Matches: ['Invoice Date Il- F-20206 Date of Supply\\nState', 'dineshjaiswal1979@gmail.com\\nPh', 'Invoice No']\n",
      "Matches: ['baijnath.kolkata@gmail.com\\n', 'Invoice No', 'Invoice Date']\n",
      "Matches: []\n",
      "Matches: ['nilaynathOO@gmail.com\\n\\nTAX INVOICE\\nMMPC\\n\\nParty', 'Invoice No', 'Invoice\\n\\n']\n",
      "Matches: ['Invoice 30/07/2021\\nShiping to', 'sreesgk1944@gmail.com\\n\\nC.E. Range']\n",
      "Matches: ['Invoice Nas Dated', 'sspudyog@gmail.com Challan No']\n",
      "Matches: ['Invoice No', 'sspudyog@gmail.com ChallanNo']\n",
      "Matches: ['sspudyog@gmail.com Challan No', 'Invoice ~']\n",
      "Matches: ['sspudyog@gmail.com Challan No', 'Invoice No']\n",
      "Matches: ['Invoice Copy for Seller\\n\\nPAN', 'il.engineeringunit@gmail.com STATE CODE', 'il.engineeringunit@gmail.com\\n']\n",
      "Matches: ['Invoice Copy for Seller\\n\\nHi', 'il.engineeringunit@gmail.com STATE CODE']\n",
      "Matches: ['cpbcfadankuni@gmail.com\\nBill To 101171 ShipTo 101171\\nMOU TRADING MOU TRADING Invoice Amount Rs', 'Invoice No', 'Invoice Value']\n",
      "Matches: ['Invoice Value 0.00\\n', 'Invoice Value']\n"
     ]
    }
   ],
   "source": [
    "for text in corpus_invoicedata:\n",
    "    doc = nlp(text)\n",
    "    matcher = Matcher(nlp.vocab)\n",
    "    pattern1 = [{\"LEMMA\": \"Invoice\"},\n",
    "               {\"IS_ALPHA\": True, \"OP\":\"*\"},\n",
    "               {\"LIKE_NUM\": True, \"OP\":\"+\"}\n",
    "              ]\n",
    "    pattern2 = [{\"TEXT\": \"Invoice\"}, {\"IS_PUNCT\": False,\"OP\":\"+\"}]\n",
    "    pattern3 = [{\"LIKE_EMAIL\":True}, {\"IS_PUNCT\": False,\"OP\":\"+\"}]\n",
    "    matcher.add(\"InvoiceNumber: \", [pattern1, pattern2, pattern3], greedy = \"LONGEST\")\n",
    "    matches = matcher(doc)\n",
    "    #print(matches)\n",
    "    print(\"Matches:\", [doc[start:end].text for match_id, start, end in matches])"
   ]
  },
  {
   "cell_type": "code",
   "execution_count": 1,
   "id": "f55d46d9",
   "metadata": {},
   "outputs": [
    {
     "ename": "NameError",
     "evalue": "name 'result' is not defined",
     "output_type": "error",
     "traceback": [
      "\u001b[1;31m---------------------------------------------------------------------------\u001b[0m",
      "\u001b[1;31mNameError\u001b[0m                                 Traceback (most recent call last)",
      "Input \u001b[1;32mIn [1]\u001b[0m, in \u001b[0;36m<cell line: 1>\u001b[1;34m()\u001b[0m\n\u001b[1;32m----> 1\u001b[0m result\n",
      "\u001b[1;31mNameError\u001b[0m: name 'result' is not defined"
     ]
    }
   ],
   "source": [
    "result"
   ]
  },
  {
   "cell_type": "code",
   "execution_count": null,
   "id": "1cfad1c5",
   "metadata": {},
   "outputs": [],
   "source": []
  }
 ],
 "metadata": {
  "kernelspec": {
   "display_name": "Python 3 (ipykernel)",
   "language": "python",
   "name": "python3"
  },
  "language_info": {
   "codemirror_mode": {
    "name": "ipython",
    "version": 3
   },
   "file_extension": ".py",
   "mimetype": "text/x-python",
   "name": "python",
   "nbconvert_exporter": "python",
   "pygments_lexer": "ipython3",
   "version": "3.9.10"
  }
 },
 "nbformat": 4,
 "nbformat_minor": 5
}
