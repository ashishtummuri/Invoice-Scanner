{
 "cells": [
  {
   "cell_type": "code",
   "execution_count": 14,
   "metadata": {
    "id": "IjvdKhQU-AqQ"
   },
   "outputs": [],
   "source": [
    "import os\n",
    "os.environ[\"KMP_DUPLICATE_LIB_OK\"]=\"TRUE\"\n",
    "import easyocr\n",
    "import cv2\n",
    "from matplotlib import pyplot as plt\n",
    "import numpy as np"
   ]
  },
  {
   "cell_type": "code",
   "execution_count": null,
   "metadata": {
    "colab": {
     "base_uri": "https://localhost:8080/"
    },
    "id": "aNLpcsT2-AqS",
    "outputId": "3325e936-e2fc-4039-921a-730f29333495"
   },
   "outputs": [],
   "source": [
    "IMAGE_PATH = 'C:/Users/Mula Ram/Downloads/fwdinvoicesample/ensto bill-1 001.jpg'\n",
    "reader = easyocr.Reader(['en'])\n",
    "result = reader.readtext(IMAGE_PATH, decoder= 'wordbeamsearch', paragraph=\"True\")\n",
    "result"
   ]
  },
  {
   "cell_type": "code",
   "execution_count": null,
   "metadata": {},
   "outputs": [],
   "source": []
  },
  {
   "cell_type": "code",
   "execution_count": null,
   "metadata": {},
   "outputs": [],
   "source": [
    "result[1][1]"
   ]
  },
  {
   "cell_type": "code",
   "execution_count": 18,
   "metadata": {},
   "outputs": [],
   "source": [
    "import re\n",
    "ADDRESS_REG = re.compile(r'[\\s](Andhra Pradesh)?(Arunachal Pradesh)?(Assam)?(Bihar)?(Chhattisgarh)?(Goa)?(Gujarat)?(Haryana)?(Himachal Pradesh)?(Jharkhand)?(Karnataka)?(Kerala)?(Madhya Pradesh)?(Maharashtra)?(Manipur)?(Meghalaya)?(Mizoram)?(Nagaland)?(Odisha)?(Punjab)?(Rajasthan)?(Sikkim)?(Tamil Nadu)?(Telangana)?(Tripura)?(Uttar Pradesh)?(Uttarakhand)?(West Bengal)?(Andaman and Nicobar Islands)?(Chandigarh)?(Dadra & Nagar Haveli and Daman & Diu)?(Delhi)?(Jammu and Kashmir)?(Lakshadweep)?(Puducherry)?(Ladakh)?[,-]?[\\s]', re.IGNORECASE)\n",
    "#ADDRESS_REG = re.compile(r'(address)[\\s]*[\\.]*?[\\s](Andhra Pradesh)?(Arunachal Pradesh)?(Assam)?(Bihar)?(Chhattisgarh)?(Goa)?(Gujarat)?(Haryana)?(Himachal Pradesh)?(Jharkhand)?(Karnataka)?(Kerala)?(Madhya Pradesh)?(Maharashtra)?(Manipur)?(Meghalaya)?(Mizoram)?(Nagaland)?(Odisha)?(Punjab)?(Rajasthan)?(Sikkim)?(Tamil Nadu)?(Telangana)?(Tripura)?(Uttar Pradesh)?(Uttarakhand)?(West Bengal)?(Andaman and Nicobar Islands)?(Chandigarh)?(Dadra & Nagar Haveli and Daman & Diu)?(Delhi)?(Jammu and Kashmir)?(Lakshadweep)?(Puducherry)?(Ladakh)?[,-]?[\\s]', re.IGNORECASE)\n",
    "#ADDRESS_REG = re.compile(r'[\\s](West Bengal)[s]', re.IGNORECASE)"
   ]
  },
  {
   "cell_type": "code",
   "execution_count": null,
   "metadata": {},
   "outputs": [],
   "source": [
    "def extract_address(s):\n",
    "    return re.findall(ADDRESS_REG, s)\n",
    "for i in range(len(result)):\n",
    "    invoice = result[i][1]\n",
    "    search = extract_address(invoice)\n",
    "    if search:\n",
    "        \n",
    "        print(invoice)\n"
   ]
  },
  {
   "cell_type": "code",
   "execution_count": 29,
   "metadata": {},
   "outputs": [],
   "source": [
    "def extract_address_complete(IMAGE_PATH):\n",
    "    reader = easyocr.Reader(['en'])\n",
    "    result = reader.readtext(IMAGE_PATH, decoder= 'wordbeamsearch', paragraph=\"True\")\n",
    "    \n",
    "    ADDRESS_REG = re.compile(r'[\\s](Andhra Pradesh)?(Arunachal Pradesh)?(Assam)?(Bihar)?(Chhattisgarh)?(Goa)?(Gujarat)?(Haryana)?(Himachal Pradesh)?(Jharkhand)?(Karnataka)?(Kerala)?(Madhya Pradesh)?(Maharashtra)?(Manipur)?(Meghalaya)?(Mizoram)?(Nagaland)?(Odisha)?(Punjab)?(Rajasthan)?(Sikkim)?(Tamil Nadu)?(Telangana)?(Tripura)?(Uttar Pradesh)?(Uttarakhand)?(West Bengal)?(Andaman and Nicobar Islands)?(Chandigarh)?(Dadra & Nagar Haveli and Daman & Diu)?(Delhi)?(Jammu and Kashmir)?(Lakshadweep)?(Puducherry)?(Ladakh)?[,-]?[\\s]', re.IGNORECASE)\n",
    "    for i in range(len(result)):\n",
    "        invoice = result[i][1]\n",
    "        search = re.findall(ADDRESS_REG, invoice)\n",
    "        if search:\n",
    "            if 'address' in invoice.lower():\n",
    "                start = invoice.lower().index('address')\n",
    "                print(start)\n",
    "            print(invoice)"
   ]
  },
  {
   "cell_type": "code",
   "execution_count": 38,
   "metadata": {},
   "outputs": [],
   "source": [
    "def extract_address_complete(result):\n",
    "    reader = easyocr.Reader(['en'])\n",
    "    result = reader.readtext(IMAGE_PATH, decoder= 'wordbeamsearch', paragraph=\"True\")\n",
    "    \n",
    "    ADDRESS_REG = re.compile(r'[\\s](Andhra Pradesh)?(Arunachal Pradesh)?(Assam)?(Bihar)?(Chhattisgarh)?(Goa)?(Gujarat)?(Haryana)?(Himachal Pradesh)?(Jharkhand)?(Karnataka)?(Kerala)?(Madhya Pradesh)?(Maharashtra)?(Manipur)?(Meghalaya)?(Mizoram)?(Nagaland)?(Odisha)?(Punjab)?(Rajasthan)?(Sikkim)?(Tamil Nadu)?(Telangana)?(Tripura)?(Uttar Pradesh)?(Uttarakhand)?(West Bengal)?(Andaman and Nicobar Islands)?(Chandigarh)?(Dadra & Nagar Haveli and Daman & Diu)?(Delhi)?(Jammu and Kashmir)?(Lakshadweep)?(Puducherry)?(Ladakh)?[,-]?[\\s]', re.IGNORECASE)\n",
    "    list_address = []\n",
    "    for i in range(len(result)):\n",
    "        invoice = result[i][1]\n",
    "        search = re.findall(ADDRESS_REG, invoice)\n",
    "        if search:\n",
    "            if 'address' in invoice.lower():\n",
    "                start = invoice.lower().index('address')\n",
    "                print(start)\n",
    "                adrs = invoice[start:]\n",
    "                list_address.append(adrs)\n",
    "            else:\n",
    "                list_address.append(invoice)\n",
    "                \n",
    "            print(list_address)\n",
    "    return list_address"
   ]
  },
  {
   "cell_type": "code",
   "execution_count": null,
   "metadata": {},
   "outputs": [],
   "source": [
    "extract_address_complete(result)"
   ]
  },
  {
   "cell_type": "code",
   "execution_count": null,
   "metadata": {},
   "outputs": [],
   "source": [
    "IMAGE_PATH = 'C:/Users/Mula Ram/Downloads/fwdinvoicesample/ensto bill-1 001.jpg'\n",
    "extract_address_complete(IMAGE_PATH)"
   ]
  },
  {
   "cell_type": "code",
   "execution_count": null,
   "metadata": {},
   "outputs": [],
   "source": [
    "source_dir = 'C:/Users/Mula Ram/NLP/in/fwdinvoicesample/invoices'\n",
    "listoffiles = os.listdir(source_dir)\n",
    "listoffiles = listoffiles[:10]\n",
    "#for (root,dirs,IMAGE_PATH) in os.walk(source_dir):\n",
    "for IMAGE_PATH in listoffiles:\n",
    "    print(IMAGE_PATH)\n",
    "    IMAGE_PATH = 'C:/Users/Mula Ram/NLP/in/fwdinvoicesample/invoices/' + IMAGE_PATH\n",
    "    print(IMAGE_PATH)\n",
    "    print('*******************************************************************************')\n",
    "    \n",
    "    try:\n",
    "        extract_address_complete(IMAGE_PATH)\n",
    "    except:\n",
    "        print('error')\n",
    "    "
   ]
  },
  {
   "cell_type": "code",
   "execution_count": null,
   "metadata": {},
   "outputs": [],
   "source": [
    "def clean_results(list_address):\n",
    "    lst_adrs = []\n",
    "    state_name = ''\n",
    "    states = [Andhra Pradesh, Arunachal Pradesh, Assam, Bihar, Chhattisgarh, Goa, Gujarat, Haryana, Himachal Pradesh, Jharkhand, Karnataka, Kerala, Madhya Pradesh, Maharashtra, Manipur, Meghalaya, Mizoram, Nagaland, Odisha, Punjab, Rajasthan, Sikkim, Tamil Nadu, Telangana, Tripura, Uttar Pradesh, Uttarakhand, West Bengal, Andaman and Nicobar Islands, Chandigarh, Dadra & Nagar Haveli and Daman & Diu, Delhi, Jammu and Kashmir, Lakshadweep, Puducherry, Ladakh]\n",
    "    for adrs in list_address:\n",
    "        for state in states:\n",
    "            if state in adrs:\n",
    "                end = .index(state)    "
   ]
  },
  {
   "cell_type": "code",
   "execution_count": 43,
   "metadata": {},
   "outputs": [],
   "source": [
    "def clean_results(list_address):\n",
    "    lst_adrs = []\n",
    "    state_name = ''\n",
    "    states = ['Andhra Pradesh', 'Arunachal Pradesh', 'Assam', 'Bihar', 'Chhattisgarh', 'Goa', 'Gujarat', 'Haryana', 'Himachal Pradesh', 'Jharkhand', 'Karnataka', 'Kerala', 'Madhya Pradesh', 'Maharashtra', 'Manipur', 'Meghalaya', 'Mizoram', 'Nagaland', 'Odisha', 'Punjab', 'Rajasthan', 'Sikkim', 'Tamil Nadu', 'Telangana', 'Tripura', 'Uttar Pradesh', 'Uttarakhand', 'West Bengal', 'Andaman and Nicobar Islands', 'Chandigarh', 'Dadra & Nagar Haveli and Daman & Diu', 'Delhi', 'Jammu and Kashmir', 'Lakshadweep', 'Puducherry', 'Ladakh']\n",
    "    \n",
    "    for state in states:\n",
    "        for adrs in list_address:\n",
    "            if state in adrs:\n",
    "                print(state)\n",
    "                end = adrs.index(state)\n",
    "                print(end)\n",
    "                cleaned = adrs[:end]+state\n",
    "                lst_adrs.append(cleaned)\n",
    "                print(cleaned)\n",
    "    print(lst_adrs)\n",
    "    print('................................................................................................................')\n",
    "    print(list_address)\n",
    "    "
   ]
  },
  {
   "cell_type": "code",
   "execution_count": 51,
   "metadata": {},
   "outputs": [
    {
     "name": "stderr",
     "output_type": "stream",
     "text": [
      "CUDA not available - defaulting to CPU. Note: This module is much faster with a GPU.\n"
     ]
    },
    {
     "name": "stdout",
     "output_type": "stream",
     "text": [
      "1-7-20_page-0001.jpg\n",
      "C:/Users/Mula Ram/NLP/in/invoice_data/1-7-20_page-0001.jpg\n"
     ]
    },
    {
     "name": "stderr",
     "output_type": "stream",
     "text": [
      "CUDA not available - defaulting to CPU. Note: This module is much faster with a GPU.\n"
     ]
    },
    {
     "name": "stdout",
     "output_type": "stream",
     "text": [
      "478\n",
      "['Address Name Ri 444-kym-Mefh_bxs& Lsxx Address Esineeaiztakn; (ek SaLusa_ Klauunal_ [4)TnKyi State 44146_ (Gn& bu_ Lest_1 xnja State Code Saluion_HaunzL GSTIN: ISAmx = 1.9. State : Lxtext  Hllek. 0022 21z Ben SI_ B GSTIN 24 State Code : [.9. No AAMYE DESCRIPTION OF GOODS 4922 HS P1z 1 WEIGHT CODE Kg Gm_ RTE AMOUNT CR Sheet Rs_ 1x229 8168 HR - Sheet k 144142 360S62|&0 144 693 39 ear \" 2429;/ C PmT']\n",
      "['Address Name Ri 444-kym-Mefh_bxs& Lsxx Address Esineeaiztakn; (ek SaLusa_ Klauunal_ [4)TnKyi State 44146_ (Gn& bu_ Lest_1 xnja State Code Saluion_HaunzL GSTIN: ISAmx = 1.9. State : Lxtext  Hllek. 0022 21z Ben SI_ B GSTIN 24 State Code : [.9. No AAMYE DESCRIPTION OF GOODS 4922 HS P1z 1 WEIGHT CODE Kg Gm_ RTE AMOUNT CR Sheet Rs_ 1x229 8168 HR - Sheet k 144142 360S62|&0 144 693 39 ear \" 2429;/ C PmT', 'GSTI: 19ALQPS025341ZA PAN ink Details ALQPSQ253A Freight / Insurance Ink Name THE FEDERAL BANK LIMITED Packing & Forwarding No 11960200024978 anch Taxable Value Howrah 384849 SC AD CGST CC FDRLO001196 % 34636 AD SGST tr al Invoice Amountin Words % Ecyn( Lkh _ 34636 Eiltt AD IGST 0@ aHI_Hfl-sAnal _ % Ane_hunclxeal ~niiy Total 12_0ml Tax Amount 09872 a1 Rounded Off Total Amount fed that the particulars given DECLARATION GT 454121 on Reverse C rice actually charged are true and correct and the amount represent Charge tly from the buyer and that there is no flow / additional consideration E & 0 E For SHYAM LALL & Co SUBJECT To HOWRAH JURISDICTION Houo  13-0+-25 1-UL Mu 60676 Qe-L L 7 7512// Authorised 21. #Y- L Signatory 06516 ~p 3o7 n']\n",
      "*************************************************************************************************************\n",
      "1-8-10_page-0001.jpg\n",
      "C:/Users/Mula Ram/NLP/in/invoice_data/1-8-10_page-0001.jpg\n"
     ]
    },
    {
     "name": "stderr",
     "output_type": "stream",
     "text": [
      "CUDA not available - defaulting to CPU. Note: This module is much faster with a GPU.\n"
     ]
    },
    {
     "name": "stdout",
     "output_type": "stream",
     "text": [
      "['(ISSUED UNDER SECTION 31 OF CENTRAL GOODS & SERVICE TAX ACT 2017) ORIGINAL FOR RECIPIENT DUPLICATE FOR TRANSPORTER TRIPLICATE FOR SUPPLIER Extra copy VIKASH UDYOG PROP JAI MATA DI COMMERCIAL PVT_ LTD 109/2, GIRISH GHOSH ROAD, BELURMA TII, HOWRAH 711 202 PHONE 2655-8085, E/ID : vikashudyog 109@gmailcom CN NO_ US11O9WBZOOTPTC115188 GSTIN NO 19AABCJS4O9LIZS STATE COD WB (19) PAN No AABCJ8409L Invoice No VU/00106/20-21 Mode of Transport BY ROAD Invoice Date 01/08/2020 Vehicle No WB-25C-3706 P.Order No VERBAL Date of Removal :01/08/2020 POrder Date E-WAY Bill No :8211 0924 4076 DETAILS OF RECEIVER (BILLED TO ): DETAILS OF CONSIGNEE (SHIPPED TO) : RN ENGINEERING WORKS RN ENGINEERING WORKS 14/1/9, TINKORI NATH BOSE LANE 14/1/9, TINKORI NAT BOSE LANE; HOWRAH - 6 HOWRAH']\n",
      "['(ISSUED UNDER SECTION 31 OF CENTRAL GOODS & SERVICE TAX ACT 2017) ORIGINAL FOR RECIPIENT DUPLICATE FOR TRANSPORTER TRIPLICATE FOR SUPPLIER Extra copy VIKASH UDYOG PROP JAI MATA DI COMMERCIAL PVT_ LTD 109/2, GIRISH GHOSH ROAD, BELURMA TII, HOWRAH 711 202 PHONE 2655-8085, E/ID : vikashudyog 109@gmailcom CN NO_ US11O9WBZOOTPTC115188 GSTIN NO 19AABCJS4O9LIZS STATE COD WB (19) PAN No AABCJ8409L Invoice No VU/00106/20-21 Mode of Transport BY ROAD Invoice Date 01/08/2020 Vehicle No WB-25C-3706 P.Order No VERBAL Date of Removal :01/08/2020 POrder Date E-WAY Bill No :8211 0924 4076 DETAILS OF RECEIVER (BILLED TO ): DETAILS OF CONSIGNEE (SHIPPED TO) : RN ENGINEERING WORKS RN ENGINEERING WORKS 14/1/9, TINKORI NATH BOSE LANE 14/1/9, TINKORI NAT BOSE LANE; HOWRAH - 6 HOWRAH', 'GT No 19AMVPSOO22PIZB PAN No AMVPSOO2ZP STATE West Bengal STATE CODE 19']\n",
      "['(ISSUED UNDER SECTION 31 OF CENTRAL GOODS & SERVICE TAX ACT 2017) ORIGINAL FOR RECIPIENT DUPLICATE FOR TRANSPORTER TRIPLICATE FOR SUPPLIER Extra copy VIKASH UDYOG PROP JAI MATA DI COMMERCIAL PVT_ LTD 109/2, GIRISH GHOSH ROAD, BELURMA TII, HOWRAH 711 202 PHONE 2655-8085, E/ID : vikashudyog 109@gmailcom CN NO_ US11O9WBZOOTPTC115188 GSTIN NO 19AABCJS4O9LIZS STATE COD WB (19) PAN No AABCJ8409L Invoice No VU/00106/20-21 Mode of Transport BY ROAD Invoice Date 01/08/2020 Vehicle No WB-25C-3706 P.Order No VERBAL Date of Removal :01/08/2020 POrder Date E-WAY Bill No :8211 0924 4076 DETAILS OF RECEIVER (BILLED TO ): DETAILS OF CONSIGNEE (SHIPPED TO) : RN ENGINEERING WORKS RN ENGINEERING WORKS 14/1/9, TINKORI NATH BOSE LANE 14/1/9, TINKORI NAT BOSE LANE; HOWRAH - 6 HOWRAH', 'GT No 19AMVPSOO22PIZB PAN No AMVPSOO2ZP STATE West Bengal STATE CODE 19', 'GT No 19AMVPSOO22PIZB PAN No AMVPSO022P STATE West Bengal STATE CODE 19']\n",
      "['(ISSUED UNDER SECTION 31 OF CENTRAL GOODS & SERVICE TAX ACT 2017) ORIGINAL FOR RECIPIENT DUPLICATE FOR TRANSPORTER TRIPLICATE FOR SUPPLIER Extra copy VIKASH UDYOG PROP JAI MATA DI COMMERCIAL PVT_ LTD 109/2, GIRISH GHOSH ROAD, BELURMA TII, HOWRAH 711 202 PHONE 2655-8085, E/ID : vikashudyog 109@gmailcom CN NO_ US11O9WBZOOTPTC115188 GSTIN NO 19AABCJS4O9LIZS STATE COD WB (19) PAN No AABCJ8409L Invoice No VU/00106/20-21 Mode of Transport BY ROAD Invoice Date 01/08/2020 Vehicle No WB-25C-3706 P.Order No VERBAL Date of Removal :01/08/2020 POrder Date E-WAY Bill No :8211 0924 4076 DETAILS OF RECEIVER (BILLED TO ): DETAILS OF CONSIGNEE (SHIPPED TO) : RN ENGINEERING WORKS RN ENGINEERING WORKS 14/1/9, TINKORI NATH BOSE LANE 14/1/9, TINKORI NAT BOSE LANE; HOWRAH - 6 HOWRAH', 'GT No 19AMVPSOO22PIZB PAN No AMVPSOO2ZP STATE West Bengal STATE CODE 19', 'GT No 19AMVPSOO22PIZB PAN No AMVPSO022P STATE West Bengal STATE CODE 19', 'VALUE IN WORDS CGST Forty four thousand five hundred seventy five and forty three paise only SGST :   Fort four thousand five hundred seventy five and forty three paise only']\n",
      "['(ISSUED UNDER SECTION 31 OF CENTRAL GOODS & SERVICE TAX ACT 2017) ORIGINAL FOR RECIPIENT DUPLICATE FOR TRANSPORTER TRIPLICATE FOR SUPPLIER Extra copy VIKASH UDYOG PROP JAI MATA DI COMMERCIAL PVT_ LTD 109/2, GIRISH GHOSH ROAD, BELURMA TII, HOWRAH 711 202 PHONE 2655-8085, E/ID : vikashudyog 109@gmailcom CN NO_ US11O9WBZOOTPTC115188 GSTIN NO 19AABCJS4O9LIZS STATE COD WB (19) PAN No AABCJ8409L Invoice No VU/00106/20-21 Mode of Transport BY ROAD Invoice Date 01/08/2020 Vehicle No WB-25C-3706 P.Order No VERBAL Date of Removal :01/08/2020 POrder Date E-WAY Bill No :8211 0924 4076 DETAILS OF RECEIVER (BILLED TO ): DETAILS OF CONSIGNEE (SHIPPED TO) : RN ENGINEERING WORKS RN ENGINEERING WORKS 14/1/9, TINKORI NATH BOSE LANE 14/1/9, TINKORI NAT BOSE LANE; HOWRAH - 6 HOWRAH', 'GT No 19AMVPSOO22PIZB PAN No AMVPSOO2ZP STATE West Bengal STATE CODE 19', 'GT No 19AMVPSOO22PIZB PAN No AMVPSO022P STATE West Bengal STATE CODE 19', 'VALUE IN WORDS CGST Forty four thousand five hundred seventy five and forty three paise only SGST :   Fort four thousand five hundred seventy five and forty three paise only', 'Note 1. All payments should be made by crossed AIC Payee ChequelDraft payable at Howrah_ 2. Interest will be charged @ 24% PA if bill is not paid within 30 days from Invoice date 3 . Subject to Howrah Jurisdiction. 4. Bank Details HDFC BANK LTD, Branch  LILUAH AIC No 50200005788310, IFSC Code HDFC0000531']\n",
      "*************************************************************************************************************\n",
      "1-8-20_page-0001.jpg\n",
      "C:/Users/Mula Ram/NLP/in/invoice_data/1-8-20_page-0001.jpg\n"
     ]
    },
    {
     "name": "stderr",
     "output_type": "stream",
     "text": [
      "CUDA not available - defaulting to CPU. Note: This module is much faster with a GPU.\n"
     ]
    },
    {
     "name": "stdout",
     "output_type": "stream",
     "text": [
      "['(ISSUED UNDER SECTION 81 QF CENTRAL GOODS & SERVICE TAX ACT 2017) ORIGINAL FOR RECIPIENT / DUPLICATE FOR TRANSPORTER TRIPLICATE FOR SUPPLIER Extra copy VIKASH UDYOG PROP JAI MATA DI COMMERCIAL PVT: LTD. 109/2, GIRISH GHOSH ROAD: BELURMATH, HOWRAH - 711 202 PHONE 2655-8085, EMD vikashudyog;1 09@gmail.com CN NO U511OOWB2OOTPTC115188 19AABCJ84O9LIZS STATE COD WB (19) PAN No AABCJB409L GSTIN NO Invoice No VU/00107/20-21 Moe of Transport BY ROAD 01/08/2020 Vehicle No: WB-4IF-2170 Invoice Date VERBAL Date of Removal :01/08/2020 POrder No. POrder Date E-WAY Bill No :8611 0924 5183 DETAILS OF RECEIVER (BILLED TO ): DETAILS QF CONSIGNEE (SHIPPED TO) : RNENGINEERING WORKS R N ENGINEERING WORKS 14/1/9, TINKORI NAT BOSE LANE, 14/1/9, TINKORI NATH BOSE LANE; HOWRAH - 6 HOWRAH - 6']\n",
      "['(ISSUED UNDER SECTION 81 QF CENTRAL GOODS & SERVICE TAX ACT 2017) ORIGINAL FOR RECIPIENT / DUPLICATE FOR TRANSPORTER TRIPLICATE FOR SUPPLIER Extra copy VIKASH UDYOG PROP JAI MATA DI COMMERCIAL PVT: LTD. 109/2, GIRISH GHOSH ROAD: BELURMATH, HOWRAH - 711 202 PHONE 2655-8085, EMD vikashudyog;1 09@gmail.com CN NO U511OOWB2OOTPTC115188 19AABCJ84O9LIZS STATE COD WB (19) PAN No AABCJB409L GSTIN NO Invoice No VU/00107/20-21 Moe of Transport BY ROAD 01/08/2020 Vehicle No: WB-4IF-2170 Invoice Date VERBAL Date of Removal :01/08/2020 POrder No. POrder Date E-WAY Bill No :8611 0924 5183 DETAILS OF RECEIVER (BILLED TO ): DETAILS QF CONSIGNEE (SHIPPED TO) : RNENGINEERING WORKS R N ENGINEERING WORKS 14/1/9, TINKORI NAT BOSE LANE, 14/1/9, TINKORI NATH BOSE LANE; HOWRAH - 6 HOWRAH - 6', 'GT No 19AMVPSOO2ZPIZB PAN No AMVPSOO22P STATE West Bengal STATE COD 19']\n",
      "['(ISSUED UNDER SECTION 81 QF CENTRAL GOODS & SERVICE TAX ACT 2017) ORIGINAL FOR RECIPIENT / DUPLICATE FOR TRANSPORTER TRIPLICATE FOR SUPPLIER Extra copy VIKASH UDYOG PROP JAI MATA DI COMMERCIAL PVT: LTD. 109/2, GIRISH GHOSH ROAD: BELURMATH, HOWRAH - 711 202 PHONE 2655-8085, EMD vikashudyog;1 09@gmail.com CN NO U511OOWB2OOTPTC115188 19AABCJ84O9LIZS STATE COD WB (19) PAN No AABCJB409L GSTIN NO Invoice No VU/00107/20-21 Moe of Transport BY ROAD 01/08/2020 Vehicle No: WB-4IF-2170 Invoice Date VERBAL Date of Removal :01/08/2020 POrder No. POrder Date E-WAY Bill No :8611 0924 5183 DETAILS OF RECEIVER (BILLED TO ): DETAILS QF CONSIGNEE (SHIPPED TO) : RNENGINEERING WORKS R N ENGINEERING WORKS 14/1/9, TINKORI NAT BOSE LANE, 14/1/9, TINKORI NATH BOSE LANE; HOWRAH - 6 HOWRAH - 6', 'GT No 19AMVPSOO2ZPIZB PAN No AMVPSOO22P STATE West Bengal STATE COD 19', 'GT No 19AMVPSOO22PIZB PAN No AMVPSOO22P STATE West Bengal STATE COD 19']\n",
      "*************************************************************************************************************\n",
      "10-8-20_page-0001.jpg\n",
      "C:/Users/Mula Ram/NLP/in/invoice_data/10-8-20_page-0001.jpg\n"
     ]
    },
    {
     "name": "stderr",
     "output_type": "stream",
     "text": [
      "CUDA not available - defaulting to CPU. Note: This module is much faster with a GPU.\n"
     ]
    },
    {
     "name": "stdout",
     "output_type": "stream",
     "text": [
      "['TIRBENI RAM GOVIND PRASAD JAISWAL OFFICE 104,DESH PRAN SASMAL ROAD,HOWRAH-711101 SOP 15/1,DESH  RAN SASMAL ROAD,HOWRAH-T111O1 GODOVVN 129 BELILCUS RCADXOWRX 1110 GODOVN 65,KALI KUNDU LANE,HOVVRAH-711101 GODOWN 104,DESH RAN SASMAL ROAD,HOWRAH-7111O1 GSTINIUIN: 9AAKFT9519RIZZ State Name West Bengal Code 19 E-Mail tribeniram 954@gmail-com Consic ignee R.N: ENGINEERING WORKS 14/1 IN KORI BOSH LAN SALKIA HOWRAH GSTINUIN 19AMVPSOOZZPIZB State Name West Bengal Code 19']\n",
      "['TIRBENI RAM GOVIND PRASAD JAISWAL OFFICE 104,DESH PRAN SASMAL ROAD,HOWRAH-711101 SOP 15/1,DESH  RAN SASMAL ROAD,HOWRAH-T111O1 GODOVVN 129 BELILCUS RCADXOWRX 1110 GODOVN 65,KALI KUNDU LANE,HOVVRAH-711101 GODOWN 104,DESH RAN SASMAL ROAD,HOWRAH-7111O1 GSTINIUIN: 9AAKFT9519RIZZ State Name West Bengal Code 19 E-Mail tribeniram 954@gmail-com Consic ignee R.N: ENGINEERING WORKS 14/1 IN KORI BOSH LAN SALKIA HOWRAH GSTINUIN 19AMVPSOOZZPIZB State Name West Bengal Code 19', 'Buyer (if other than consignee) R.N: ENGINEERING WORKS 14/1 IN KORI BOSH LAN SALKIA HOWRAH GSTINHUIN 19AMVPSCOZZPAZB State Name West Bengal, Code 19']\n",
      "*************************************************************************************************************\n",
      "11-8-20-2_page-0001 (1).jpg\n",
      "C:/Users/Mula Ram/NLP/in/invoice_data/11-8-20-2_page-0001 (1).jpg\n"
     ]
    },
    {
     "name": "stderr",
     "output_type": "stream",
     "text": [
      "CUDA not available - defaulting to CPU. Note: This module is much faster with a GPU.\n"
     ]
    },
    {
     "name": "stdout",
     "output_type": "stream",
     "text": [
      "['RELIABLE STEELS 135/25/M/5 GIRISH GHOSH ROAD BELURMATH HOWRAH GSTINIUIN: 19ACVPJ6583G1ZU State Name West Bengal Code 19 Contact 09433049990']\n",
      "['RELIABLE STEELS 135/25/M/5 GIRISH GHOSH ROAD BELURMATH HOWRAH GSTINIUIN: 19ACVPJ6583G1ZU State Name West Bengal Code 19 Contact 09433049990', 'Consignee RNENGINEERING WORKS 14/1 TINKARI NAT BOSE LANE, HOWRAH GSTINIUIN 19AMVPSO02ZPIZB State Name West Bengal, Code 19']\n",
      "['RELIABLE STEELS 135/25/M/5 GIRISH GHOSH ROAD BELURMATH HOWRAH GSTINIUIN: 19ACVPJ6583G1ZU State Name West Bengal Code 19 Contact 09433049990', 'Consignee RNENGINEERING WORKS 14/1 TINKARI NAT BOSE LANE, HOWRAH GSTINIUIN 19AMVPSO02ZPIZB State Name West Bengal, Code 19', 'Buyer (if other than consignee) RNENGINEERING WORKS 14/1 TINKARI NATH BOSE LANE_ HOWRAH GSTINIUIN 19AMVPSOOZZP1ZB State Name West Bengal, Code 19 Place of Supply West Bengal']\n",
      "*************************************************************************************************************\n",
      "11-8-20-2_page-0001.jpg\n",
      "C:/Users/Mula Ram/NLP/in/invoice_data/11-8-20-2_page-0001.jpg\n"
     ]
    },
    {
     "name": "stderr",
     "output_type": "stream",
     "text": [
      "CUDA not available - defaulting to CPU. Note: This module is much faster with a GPU.\n"
     ]
    },
    {
     "name": "stdout",
     "output_type": "stream",
     "text": [
      "['RELIABLE STEELS 135/25/M/5 GIRISH GHOSH ROAD BELURMATH HOWRAH GSTINIUIN: 19ACVPJ6583G1ZU State Name West Bengal Code 19 Contact 09433049990']\n",
      "['RELIABLE STEELS 135/25/M/5 GIRISH GHOSH ROAD BELURMATH HOWRAH GSTINIUIN: 19ACVPJ6583G1ZU State Name West Bengal Code 19 Contact 09433049990', 'Consignee RNENGINEERING WORKS 14/1 TINKARI NAT BOSE LANE, HOWRAH GSTINIUIN 19AMVPSO02ZPIZB State Name West Bengal, Code 19']\n",
      "['RELIABLE STEELS 135/25/M/5 GIRISH GHOSH ROAD BELURMATH HOWRAH GSTINIUIN: 19ACVPJ6583G1ZU State Name West Bengal Code 19 Contact 09433049990', 'Consignee RNENGINEERING WORKS 14/1 TINKARI NAT BOSE LANE, HOWRAH GSTINIUIN 19AMVPSO02ZPIZB State Name West Bengal, Code 19', 'Buyer (if other than consignee) RNENGINEERING WORKS 14/1 TINKARI NATH BOSE LANE_ HOWRAH GSTINIUIN 19AMVPSOOZZP1ZB State Name West Bengal, Code 19 Place of Supply West Bengal']\n",
      "*************************************************************************************************************\n",
      "2-7-20_1_page-0001.jpg\n",
      "C:/Users/Mula Ram/NLP/in/invoice_data/2-7-20_1_page-0001.jpg\n"
     ]
    },
    {
     "name": "stderr",
     "output_type": "stream",
     "text": [
      "CUDA not available - defaulting to CPU. Note: This module is much faster with a GPU.\n"
     ]
    },
    {
     "name": "stdout",
     "output_type": "stream",
     "text": [
      "['(ISSUED UNDER SECTION 81 OF CENTRAL GOODS & SERVICE TAX ACT 2017) ORIGINAL FOR RECIPIENT / DUPLICATE FOR TRANSPORTER TRIPLICATE FOR SUPPLIER Extra copy VIKASH UDYoG PROP JAI MATA DI COMMERCIAL PVT. LTD. 109/2, GIRISH GHOSH ROAD, BELURMATH, HOWRAH 711.202 PHONE 2655-8085, EJID vikashudyog. 109@gmail.com CNN NO U5109WB2OOTPTC115188 GSTIN NO: 19AABCJ84O9LIZS STATE COD WB (19) PAN No_ AABCJ8409L Invoice No VU/00058/20-21 Moe of Transport BY ROAD Invoicc Dat 02/07/2020 Veliicle Nu. WB-3D-4572 POrder No. VERBAL Date of Removal :02/07/2020 P Order Date E-WAY Bill No :111 0535 9959 DETAILS OF RECEIVER (BILLED TO ): DETAILS OF CONSIGNEE (SHIPPED TO) : RN ENGINEERING WORKS RNENGINEERING WORKS 14/1/9, TINKORI NAT BOSE LANE, 14/1/9, TINKORI NAT BOSE LANE; HOWRAH - 6 HOWRAH - 6']\n",
      "['(ISSUED UNDER SECTION 81 OF CENTRAL GOODS & SERVICE TAX ACT 2017) ORIGINAL FOR RECIPIENT / DUPLICATE FOR TRANSPORTER TRIPLICATE FOR SUPPLIER Extra copy VIKASH UDYoG PROP JAI MATA DI COMMERCIAL PVT. LTD. 109/2, GIRISH GHOSH ROAD, BELURMATH, HOWRAH 711.202 PHONE 2655-8085, EJID vikashudyog. 109@gmail.com CNN NO U5109WB2OOTPTC115188 GSTIN NO: 19AABCJ84O9LIZS STATE COD WB (19) PAN No_ AABCJ8409L Invoice No VU/00058/20-21 Moe of Transport BY ROAD Invoicc Dat 02/07/2020 Veliicle Nu. WB-3D-4572 POrder No. VERBAL Date of Removal :02/07/2020 P Order Date E-WAY Bill No :111 0535 9959 DETAILS OF RECEIVER (BILLED TO ): DETAILS OF CONSIGNEE (SHIPPED TO) : RN ENGINEERING WORKS RNENGINEERING WORKS 14/1/9, TINKORI NAT BOSE LANE, 14/1/9, TINKORI NAT BOSE LANE; HOWRAH - 6 HOWRAH - 6', 'GT No 19AMVPSOO2ZPIZB PAN No AMVPSOO22P STATFE West Bengal STATE CODE 19']\n",
      "['(ISSUED UNDER SECTION 81 OF CENTRAL GOODS & SERVICE TAX ACT 2017) ORIGINAL FOR RECIPIENT / DUPLICATE FOR TRANSPORTER TRIPLICATE FOR SUPPLIER Extra copy VIKASH UDYoG PROP JAI MATA DI COMMERCIAL PVT. LTD. 109/2, GIRISH GHOSH ROAD, BELURMATH, HOWRAH 711.202 PHONE 2655-8085, EJID vikashudyog. 109@gmail.com CNN NO U5109WB2OOTPTC115188 GSTIN NO: 19AABCJ84O9LIZS STATE COD WB (19) PAN No_ AABCJ8409L Invoice No VU/00058/20-21 Moe of Transport BY ROAD Invoicc Dat 02/07/2020 Veliicle Nu. WB-3D-4572 POrder No. VERBAL Date of Removal :02/07/2020 P Order Date E-WAY Bill No :111 0535 9959 DETAILS OF RECEIVER (BILLED TO ): DETAILS OF CONSIGNEE (SHIPPED TO) : RN ENGINEERING WORKS RNENGINEERING WORKS 14/1/9, TINKORI NAT BOSE LANE, 14/1/9, TINKORI NAT BOSE LANE; HOWRAH - 6 HOWRAH - 6', 'GT No 19AMVPSOO2ZPIZB PAN No AMVPSOO22P STATFE West Bengal STATE CODE 19', 'GT No 19AMVPSOOZZPIZB PAN No AMVPSO022P STATE West Bengal STATE COD 19']\n",
      "*************************************************************************************************************\n",
      "2-7-20_page-0001.jpg\n",
      "C:/Users/Mula Ram/NLP/in/invoice_data/2-7-20_page-0001.jpg\n"
     ]
    },
    {
     "name": "stderr",
     "output_type": "stream",
     "text": [
      "CUDA not available - defaulting to CPU. Note: This module is much faster with a GPU.\n"
     ]
    },
    {
     "name": "stdout",
     "output_type": "stream",
     "text": [
      "*************************************************************************************************************\n",
      "2-8-20_page-0001.jpg\n",
      "C:/Users/Mula Ram/NLP/in/invoice_data/2-8-20_page-0001.jpg\n"
     ]
    },
    {
     "name": "stderr",
     "output_type": "stream",
     "text": [
      "CUDA not available - defaulting to CPU. Note: This module is much faster with a GPU.\n"
     ]
    },
    {
     "name": "stdout",
     "output_type": "stream",
     "text": [
      "['(ISSUED UNDER SECTION S1 OF CENTRAL GOODS & SERVICE TA ACT 2017) ORIGINAL FOR RECIPIENT / DUPLICATE FOR TRANSPORTER TRIPLICATE FOR SUPPLIER / Extra copy VIKASH UDYOG PROP JAIMATA DI COMMERCIAL PVT: LTD. 109/2, GIRISH GHOSH ROAD, BELURMATH, HOWRAH 711.202 PHONE 2655-8085, EMD vikashudyog.109@gmail.com CN NO_ U511O9WBZOOTPTC115188 GSTIN NO 19AABCJ8409LIZS STATE CODE WB (19) PAN No AABCJ8409L Invoice No VU/00108/20-21 Moe of Transport BY ROAD Invoice Date 02/08/2020 Vehicle No. :WB-]C-4257 P.Order No VERBAL Date of Reroval :02/08/2020 POrder Date EWAY Bill No :NA DETAILS OF RECEIVER (BILLED TO ): DETAILS OF CONSIGNEE (SHIPPED TO) R N ENGINEERING WORKS RN ENGINEERING WORKS 14/1/9, TNNKORI NATH BOSE LANE, 14/1/9, TINKORI NAT BOSE LANE, HOWRAH - 6 HOWRAH']\n",
      "['(ISSUED UNDER SECTION S1 OF CENTRAL GOODS & SERVICE TA ACT 2017) ORIGINAL FOR RECIPIENT / DUPLICATE FOR TRANSPORTER TRIPLICATE FOR SUPPLIER / Extra copy VIKASH UDYOG PROP JAIMATA DI COMMERCIAL PVT: LTD. 109/2, GIRISH GHOSH ROAD, BELURMATH, HOWRAH 711.202 PHONE 2655-8085, EMD vikashudyog.109@gmail.com CN NO_ U511O9WBZOOTPTC115188 GSTIN NO 19AABCJ8409LIZS STATE CODE WB (19) PAN No AABCJ8409L Invoice No VU/00108/20-21 Moe of Transport BY ROAD Invoice Date 02/08/2020 Vehicle No. :WB-]C-4257 P.Order No VERBAL Date of Reroval :02/08/2020 POrder Date EWAY Bill No :NA DETAILS OF RECEIVER (BILLED TO ): DETAILS OF CONSIGNEE (SHIPPED TO) R N ENGINEERING WORKS RN ENGINEERING WORKS 14/1/9, TNNKORI NATH BOSE LANE, 14/1/9, TINKORI NAT BOSE LANE, HOWRAH - 6 HOWRAH', 'GT No 19AMVPSOO22PIZB PAN No AMVPSOO22P STATE West Bengal STATE COD 19']\n",
      "['(ISSUED UNDER SECTION S1 OF CENTRAL GOODS & SERVICE TA ACT 2017) ORIGINAL FOR RECIPIENT / DUPLICATE FOR TRANSPORTER TRIPLICATE FOR SUPPLIER / Extra copy VIKASH UDYOG PROP JAIMATA DI COMMERCIAL PVT: LTD. 109/2, GIRISH GHOSH ROAD, BELURMATH, HOWRAH 711.202 PHONE 2655-8085, EMD vikashudyog.109@gmail.com CN NO_ U511O9WBZOOTPTC115188 GSTIN NO 19AABCJ8409LIZS STATE CODE WB (19) PAN No AABCJ8409L Invoice No VU/00108/20-21 Moe of Transport BY ROAD Invoice Date 02/08/2020 Vehicle No. :WB-]C-4257 P.Order No VERBAL Date of Reroval :02/08/2020 POrder Date EWAY Bill No :NA DETAILS OF RECEIVER (BILLED TO ): DETAILS OF CONSIGNEE (SHIPPED TO) R N ENGINEERING WORKS RN ENGINEERING WORKS 14/1/9, TNNKORI NATH BOSE LANE, 14/1/9, TINKORI NAT BOSE LANE, HOWRAH - 6 HOWRAH', 'GT No 19AMVPSOO22PIZB PAN No AMVPSOO22P STATE West Bengal STATE COD 19', 'GT No [9AMVPSOOZZPIZB PAN No AMVPSO022P STATE West Bengal STATE COD 19']\n",
      "*************************************************************************************************************\n",
      "3-7-20_2_page-0001.jpg\n",
      "C:/Users/Mula Ram/NLP/in/invoice_data/3-7-20_2_page-0001.jpg\n"
     ]
    },
    {
     "name": "stderr",
     "output_type": "stream",
     "text": [
      "CUDA not available - defaulting to CPU. Note: This module is much faster with a GPU.\n"
     ]
    },
    {
     "name": "stdout",
     "output_type": "stream",
     "text": [
      "44\n",
      "['Address: [ RVS TRADERS 49/5/H/192 KARL MARX SARANI KOLKATA, KOLKATA - 700023 Stato: WEST BENGAL Dtetc Lode: 17']\n",
      "['Address: [ RVS TRADERS 49/5/H/192 KARL MARX SARANI KOLKATA, KOLKATA - 700023 Stato: WEST BENGAL Dtetc Lode: 17', 'AMOUNT CHARGEBALE (in words) Rupees Nine Thousand Nine Hundred Ninety Only Companyts GSTIN No : 07AAACEDIGIDZZL DECLARATION the terms and conditions mentioned on Our website All Transactions subject to Delhi Jurisdiction only and &8 per 84 Cot Or Dj+ Ta8at']\n",
      "*************************************************************************************************************\n",
      "3-7-20_page-0001.jpg\n",
      "C:/Users/Mula Ram/NLP/in/invoice_data/3-7-20_page-0001.jpg\n"
     ]
    },
    {
     "name": "stderr",
     "output_type": "stream",
     "text": [
      "CUDA not available - defaulting to CPU. Note: This module is much faster with a GPU.\n"
     ]
    },
    {
     "name": "stdout",
     "output_type": "stream",
     "text": [
      "*************************************************************************************************************\n",
      "4-8-20_page-0001.jpg\n",
      "C:/Users/Mula Ram/NLP/in/invoice_data/4-8-20_page-0001.jpg\n"
     ]
    },
    {
     "name": "stderr",
     "output_type": "stream",
     "text": [
      "CUDA not available - defaulting to CPU. Note: This module is much faster with a GPU.\n"
     ]
    },
    {
     "name": "stdout",
     "output_type": "stream",
     "text": [
      "355\n",
      "[\"Address Lehle Enkozi' Nalb Besfg_Cone Heomoh ZLoS GSTIN 49_AQV ES0922PIZE State Code 19 Moe of Transportation_Raec_ Vehicle No Rlvm SlNo. Date of Supply _ 24e.0.20 DE SCRPTTON Place of Supply . houwh B HSNSAC Qnty: Weight 1, P She / Rate () AMOUNT culha] 7209 880D % 8 @00 6-sh5m4e4%64 as6)$|60 Ipesso #\"]\n",
      "*************************************************************************************************************\n",
      "6-8-20_page-0001.jpg\n",
      "C:/Users/Mula Ram/NLP/in/invoice_data/6-8-20_page-0001.jpg\n"
     ]
    },
    {
     "name": "stderr",
     "output_type": "stream",
     "text": [
      "CUDA not available - defaulting to CPU. Note: This module is much faster with a GPU.\n"
     ]
    },
    {
     "name": "stdout",
     "output_type": "stream",
     "text": [
      "395\n",
      "['Address LelL2 State Codel 719']\n",
      "['Address LelL2 State Codel 719', 'Invoice Value (In Words Twenly_sixbousead <eVen hundzed Rupees  Ceven Leu_ only']\n",
      "*************************************************************************************************************\n",
      "8-8-20_page-0001.jpg\n",
      "C:/Users/Mula Ram/NLP/in/invoice_data/8-8-20_page-0001.jpg\n"
     ]
    },
    {
     "name": "stderr",
     "output_type": "stream",
     "text": [
      "CUDA not available - defaulting to CPU. Note: This module is much faster with a GPU.\n"
     ]
    },
    {
     "name": "stdout",
     "output_type": "stream",
     "text": [
      "['JAIMATA DI | | (ISSUED UNDER SECTION S1 GSE WVOICE OF CENTRAL GOODS & SERVICE TAX ACT 2017) ORIGINAL FOR RECIPIENT / DUPLICATE FOR TRAVSPORTER TRIPLICATE FOR SUPPLIER Extra copy VIKASH UDYG PROP JAIMATA DI COMMERCIAL PVT. LTD. 109/2, GIRISH GHOSH ROAD BELURMATH, HOWRAT= PHONE 711 202 2655-8085 , EIDD : vikashudyog [09@gmail CN NO. cm U5HO9WB2OOTPTCI15188 GSTIN NO 19AABCJ8409L1ZS STATE COD WB (19) PAN No Invoice No AABCJ8409L VU/O0113/20-21 Invoice Date 08/08/2020 Mode of Transport BY ROAD POrder No Vehicle No VERBAL WB-2SC-3706 POrder Date Date of Removal 11 :08/08/2020 DETAILS OF RECEIVER E-WAY Bill No (BILLED To }: :881 1007 2998 RNENGINEERING WORKS DETAILS OF CONSIGNEE (SHIPPED TO) - 14/1/9, TINKORI NAT BOSE LANE R N ENGINEERING WORKS HOWRAH - 6 14/1/9, TINKORI NATH BOSE LANE, HOWRAH GT No 19AMVPSOO2ZPIZB PAN No GT No AMVPSOO22P 19AMVPSOO2ZPIZB STATE PAN No : AMVPSOO2ZP West Bengal STATE CODE STATE 19 West Bengal STATE CODE 19 SRL DESCRIPTION Nu: HSN COD QTY RTE RIOFF (MT) AMOUNT Being PR WT the cost of H R COIL (CUT TO PCS) 7208 8.050 39000.00 313950.00']\n",
      "['JAIMATA DI | | (ISSUED UNDER SECTION S1 GSE WVOICE OF CENTRAL GOODS & SERVICE TAX ACT 2017) ORIGINAL FOR RECIPIENT / DUPLICATE FOR TRAVSPORTER TRIPLICATE FOR SUPPLIER Extra copy VIKASH UDYG PROP JAIMATA DI COMMERCIAL PVT. LTD. 109/2, GIRISH GHOSH ROAD BELURMATH, HOWRAT= PHONE 711 202 2655-8085 , EIDD : vikashudyog [09@gmail CN NO. cm U5HO9WB2OOTPTCI15188 GSTIN NO 19AABCJ8409L1ZS STATE COD WB (19) PAN No Invoice No AABCJ8409L VU/O0113/20-21 Invoice Date 08/08/2020 Mode of Transport BY ROAD POrder No Vehicle No VERBAL WB-2SC-3706 POrder Date Date of Removal 11 :08/08/2020 DETAILS OF RECEIVER E-WAY Bill No (BILLED To }: :881 1007 2998 RNENGINEERING WORKS DETAILS OF CONSIGNEE (SHIPPED TO) - 14/1/9, TINKORI NAT BOSE LANE R N ENGINEERING WORKS HOWRAH - 6 14/1/9, TINKORI NATH BOSE LANE, HOWRAH GT No 19AMVPSOO2ZPIZB PAN No GT No AMVPSOO22P 19AMVPSOO2ZPIZB STATE PAN No : AMVPSOO2ZP West Bengal STATE CODE STATE 19 West Bengal STATE CODE 19 SRL DESCRIPTION Nu: HSN COD QTY RTE RIOFF (MT) AMOUNT Being PR WT the cost of H R COIL (CUT TO PCS) 7208 8.050 39000.00 313950.00', 'Note 1. All payments should be made by crossed AIC Payee ChequelDraft payable at Howrah; Interest will be charged @ 24% PA ifbil is not paid within 30 from Invoice date days 3. Subject to Howrah Jurisdiction , 4. Bank Details HDFC BANK LTD, Branch :LILUAH AC No 50200005788310, IFSC Code : HDFCOO00S3L']\n",
      "['JAIMATA DI | | (ISSUED UNDER SECTION S1 GSE WVOICE OF CENTRAL GOODS & SERVICE TAX ACT 2017) ORIGINAL FOR RECIPIENT / DUPLICATE FOR TRAVSPORTER TRIPLICATE FOR SUPPLIER Extra copy VIKASH UDYG PROP JAIMATA DI COMMERCIAL PVT. LTD. 109/2, GIRISH GHOSH ROAD BELURMATH, HOWRAT= PHONE 711 202 2655-8085 , EIDD : vikashudyog [09@gmail CN NO. cm U5HO9WB2OOTPTCI15188 GSTIN NO 19AABCJ8409L1ZS STATE COD WB (19) PAN No Invoice No AABCJ8409L VU/O0113/20-21 Invoice Date 08/08/2020 Mode of Transport BY ROAD POrder No Vehicle No VERBAL WB-2SC-3706 POrder Date Date of Removal 11 :08/08/2020 DETAILS OF RECEIVER E-WAY Bill No (BILLED To }: :881 1007 2998 RNENGINEERING WORKS DETAILS OF CONSIGNEE (SHIPPED TO) - 14/1/9, TINKORI NAT BOSE LANE R N ENGINEERING WORKS HOWRAH - 6 14/1/9, TINKORI NATH BOSE LANE, HOWRAH GT No 19AMVPSOO2ZPIZB PAN No GT No AMVPSOO22P 19AMVPSOO2ZPIZB STATE PAN No : AMVPSOO2ZP West Bengal STATE CODE STATE 19 West Bengal STATE CODE 19 SRL DESCRIPTION Nu: HSN COD QTY RTE RIOFF (MT) AMOUNT Being PR WT the cost of H R COIL (CUT TO PCS) 7208 8.050 39000.00 313950.00', 'Note 1. All payments should be made by crossed AIC Payee ChequelDraft payable at Howrah; Interest will be charged @ 24% PA ifbil is not paid within 30 from Invoice date days 3. Subject to Howrah Jurisdiction , 4. Bank Details HDFC BANK LTD, Branch :LILUAH AC No 50200005788310, IFSC Code : HDFCOO00S3L', 'FOR   VIKESH UDYoG PROP JAI MATA PI COMMERCIAL PVT: LTD ptin']\n",
      "*************************************************************************************************************\n",
      "August Purchase_page-0001.jpg\n",
      "C:/Users/Mula Ram/NLP/in/invoice_data/August Purchase_page-0001.jpg\n"
     ]
    },
    {
     "name": "stderr",
     "output_type": "stream",
     "text": [
      "CUDA not available - defaulting to CPU. Note: This module is much faster with a GPU.\n"
     ]
    },
    {
     "name": "stdout",
     "output_type": "stream",
     "text": [
      "['Details of Receiver (Billed To Details of Consignee (Shipped To) R; N Woks, R N Exai: NorKs, Ondici pula, T~ NathBeseLea_ Jylja, Tifozi Nath Bose Lm& Ziog W.B_ 1iio6 Eodectt: AJei- B~3aL State Ebaeralg (West Bengai) State 19 (West Bengal GSTIN [gAMVPS0022 P1z g_ GSTIN JGAMvPso622 P1z g. SI Product Name Description SC Quantity Rate Taxable Value No, Code Rs Charges &r Mochinn-d 6 Placn Ing Isotek isoo0 20b Ma <. Pkte : = (23 &hat mle) > 9h8872 \"eas 998573 | 22NG Goel- 132o015 2 M.s. Rarlra  ~ 294 q9887| 2Ne #so) Sooo-Lo 3 M.<. Plat : - Za']\n",
      "['Details of Receiver (Billed To Details of Consignee (Shipped To) R; N Woks, R N Exai: NorKs, Ondici pula, T~ NathBeseLea_ Jylja, Tifozi Nath Bose Lm& Ziog W.B_ 1iio6 Eodectt: AJei- B~3aL State Ebaeralg (West Bengai) State 19 (West Bengal GSTIN [gAMVPS0022 P1z g_ GSTIN JGAMvPso622 P1z g. SI Product Name Description SC Quantity Rate Taxable Value No, Code Rs Charges &r Mochinn-d 6 Placn Ing Isotek isoo0 20b Ma <. Pkte : = (23 &hat mle) > 9h8872 \"eas 998573 | 22NG Goel- 132o015 2 M.s. Rarlra  ~ 294 q9887| 2Ne #so) Sooo-Lo 3 M.<. Plat : - Za', '46760 - Oo Add CGST % 280Sake Add SGST % 285460 Round Off 20 Total Amount after Tax 523704 For S. K. GHOSH & COMPANY B']\n",
      "['Details of Receiver (Billed To Details of Consignee (Shipped To) R; N Woks, R N Exai: NorKs, Ondici pula, T~ NathBeseLea_ Jylja, Tifozi Nath Bose Lm& Ziog W.B_ 1iio6 Eodectt: AJei- B~3aL State Ebaeralg (West Bengai) State 19 (West Bengal GSTIN [gAMVPS0022 P1z g_ GSTIN JGAMvPso622 P1z g. SI Product Name Description SC Quantity Rate Taxable Value No, Code Rs Charges &r Mochinn-d 6 Placn Ing Isotek isoo0 20b Ma <. Pkte : = (23 &hat mle) > 9h8872 \"eas 998573 | 22NG Goel- 132o015 2 M.s. Rarlra  ~ 294 q9887| 2Ne #so) Sooo-Lo 3 M.<. Plat : - Za', '46760 - Oo Add CGST % 280Sake Add SGST % 285460 Round Off 20 Total Amount after Tax 523704 For S. K. GHOSH & COMPANY B', '0308 v 8o40 - 600  18_']\n",
      "*************************************************************************************************************\n",
      "August Purchase_page-0002.jpg\n",
      "C:/Users/Mula Ram/NLP/in/invoice_data/August Purchase_page-0002.jpg\n"
     ]
    },
    {
     "name": "stderr",
     "output_type": "stream",
     "text": [
      "CUDA not available - defaulting to CPU. Note: This module is much faster with a GPU.\n"
     ]
    },
    {
     "name": "stdout",
     "output_type": "stream",
     "text": [
      "[\"A.TAHER & Co; 69A NETAJI SUBHAS ROAD, KOLKATA '00 001 10 , PRINCEP STREET KOLKATA 700 072 MONE NO 033-2243-3520/033 2217 8314 GSTINIUIN SAAAF E{16502Z1 < State N:e VVust Bengal Code 19 Mal ehtaahe:roma COm Buyer VISHWARUP ENTERPRISE DELHI ROAD, DANKUNI GSTINPUIN 19AAOHRBOGOR1ZT State Name West Bengal Code 19\"]\n",
      "*************************************************************************************************************\n",
      "August Purchase_page-0003.jpg\n",
      "C:/Users/Mula Ram/NLP/in/invoice_data/August Purchase_page-0003.jpg\n"
     ]
    },
    {
     "name": "stderr",
     "output_type": "stream",
     "text": [
      "CUDA not available - defaulting to CPU. Note: This module is much faster with a GPU.\n"
     ]
    },
    {
     "name": "stdout",
     "output_type": "stream",
     "text": [
      "*************************************************************************************************************\n",
      "August Purchase_page-0004.jpg\n",
      "C:/Users/Mula Ram/NLP/in/invoice_data/August Purchase_page-0004.jpg\n"
     ]
    },
    {
     "name": "stderr",
     "output_type": "stream",
     "text": [
      "CUDA not available - defaulting to CPU. Note: This module is much faster with a GPU.\n"
     ]
    },
    {
     "name": "stdout",
     "output_type": "stream",
     "text": [
      "*************************************************************************************************************\n",
      "August Purchase_page-0005.jpg\n",
      "C:/Users/Mula Ram/NLP/in/invoice_data/August Purchase_page-0005.jpg\n"
     ]
    },
    {
     "name": "stderr",
     "output_type": "stream",
     "text": [
      "CUDA not available - defaulting to CPU. Note: This module is much faster with a GPU.\n"
     ]
    },
    {
     "name": "stdout",
     "output_type": "stream",
     "text": [
      "360\n",
      "['Address LLLo Zekei_Nalh&osg_Lone_ Howzoh-ZLLee State Code GSTIN [9 ALLPS0e22PLZe Mode of Transportation Rogd_ Vehicle No Leubleeys Date of Supply-(L02o_Place of Supply . Hezch olo_ DESCRiPtion HSNSAC Qnty: Weight Rate AMOUNT hr: erdtelhi : Sheel 7208 16o) % 6 $o53 0 6arpbehoko 29342,k50 2,2mm x 0wm) 2+425@xevalto 1Fi8w.kw']\n",
      "*************************************************************************************************************\n",
      "August Purchase_page-0006.jpg\n",
      "C:/Users/Mula Ram/NLP/in/invoice_data/August Purchase_page-0006.jpg\n"
     ]
    },
    {
     "name": "stderr",
     "output_type": "stream",
     "text": [
      "CUDA not available - defaulting to CPU. Note: This module is much faster with a GPU.\n"
     ]
    },
    {
     "name": "stdout",
     "output_type": "stream",
     "text": [
      "['TIRBENI RAM GOVIND PRASAD JAISWAL OFFICE 04,DESH RAN SASMAL ROAD, HOWRAH-71 101 SOP 15/1,DESH RAN SASMAL ROAD,HOWRAI 71110 CODOWN 129,BELUOUs ROAD,HOWRah 101 GODOWN G5,KALI KUNDU LANEHOWVRAH-71 101 GODOWN 104 DESH RAN SASMAL ROAD,HOWRAH-7111O1 GSTINIUIN: 9AAKFT9S19RIZZ State Name West Bengal Code 19 EMail tnbeniam 954@gmail cm Consignee RN ENGINEERING WORKS 14/1 IN KORI BOSH LAN SALKIA HOWRAH GSTINIUIN 19AMVPSOO2ZP1ZB State Name West Bengal, Code 19']\n",
      "['TIRBENI RAM GOVIND PRASAD JAISWAL OFFICE 04,DESH RAN SASMAL ROAD, HOWRAH-71 101 SOP 15/1,DESH RAN SASMAL ROAD,HOWRAI 71110 CODOWN 129,BELUOUs ROAD,HOWRah 101 GODOWN G5,KALI KUNDU LANEHOWVRAH-71 101 GODOWN 104 DESH RAN SASMAL ROAD,HOWRAH-7111O1 GSTINIUIN: 9AAKFT9S19RIZZ State Name West Bengal Code 19 EMail tnbeniam 954@gmail cm Consignee RN ENGINEERING WORKS 14/1 IN KORI BOSH LAN SALKIA HOWRAH GSTINIUIN 19AMVPSOO2ZP1ZB State Name West Bengal, Code 19', 'Buyer (if other than consignee) RN ENGINEERING WORKS 141_ IN KORI BOSH LAN SALKIA HOWRAH GSTHNHUIN 1BAMVPSOOZZP1ZB State Name West Bengal, Code 19']\n",
      "*************************************************************************************************************\n",
      "August Purchase_page-0007.jpg\n",
      "C:/Users/Mula Ram/NLP/in/invoice_data/August Purchase_page-0007.jpg\n"
     ]
    },
    {
     "name": "stderr",
     "output_type": "stream",
     "text": [
      "CUDA not available - defaulting to CPU. Note: This module is much faster with a GPU.\n"
     ]
    },
    {
     "name": "stdout",
     "output_type": "stream",
     "text": [
      "['RELIABLE STEELS 135/25/M/5 GIRISH GHOSH ROAD BELURMATH HOWRAH GSTINIUIN: 9ACVPJ8583G1ZU State Name West Bengal, Code 19 Contact 09433049990']\n",
      "['RELIABLE STEELS 135/25/M/5 GIRISH GHOSH ROAD BELURMATH HOWRAH GSTINIUIN: 9ACVPJ8583G1ZU State Name West Bengal, Code 19 Contact 09433049990', 'Consignee RNENGINEERING WORKS 14/1 TINKARI NAT BOSE LANE, HOWRAH GSTINIUIN 19AMVPSOO22P1ZB State Name West Bengal Code 19']\n",
      "['RELIABLE STEELS 135/25/M/5 GIRISH GHOSH ROAD BELURMATH HOWRAH GSTINIUIN: 9ACVPJ8583G1ZU State Name West Bengal, Code 19 Contact 09433049990', 'Consignee RNENGINEERING WORKS 14/1 TINKARI NAT BOSE LANE, HOWRAH GSTINIUIN 19AMVPSOO22P1ZB State Name West Bengal Code 19', 'Buyer (f other than consignee) RN,ENGINEERING WORKS 14/1 TINKARI NAT BOSE LANE_ HOWRAH GSTINIUIN 19AMVPSO02ZP1ZB State Name West Bengal, Code 19 Place of Supply West Bengal']\n",
      "*************************************************************************************************************\n",
      "August Purchase_page-0008.jpg\n",
      "C:/Users/Mula Ram/NLP/in/invoice_data/August Purchase_page-0008.jpg\n"
     ]
    },
    {
     "name": "stderr",
     "output_type": "stream",
     "text": [
      "CUDA not available - defaulting to CPU. Note: This module is much faster with a GPU.\n"
     ]
    },
    {
     "name": "stdout",
     "output_type": "stream",
     "text": [
      "['E. H. TAHER & Co 69n NETAJI SUBHAS ROAD, KOLKATA 700 00 10 PRINCEP STREFT KOLKATA 700 072 PHONE NO 033- 2243-3520/033-2212-8219 GSTINIUIN JAAAFF716502ZR State: Name VVest Bengal, Code 1 9 Mal ehtaher@gmal Co Buyet N. ENGINEERING WORKS 14/1, TINKORI NATH BOSE LANE; HOWRAH 711 106 GSTINIUIN 19AMVPSOO22P1ZB State Name West Bengal, Code 19']\n",
      "*************************************************************************************************************\n",
      "August Purchase_page-0009.jpg\n",
      "C:/Users/Mula Ram/NLP/in/invoice_data/August Purchase_page-0009.jpg\n"
     ]
    },
    {
     "name": "stderr",
     "output_type": "stream",
     "text": [
      "CUDA not available - defaulting to CPU. Note: This module is much faster with a GPU.\n"
     ]
    },
    {
     "name": "stdout",
     "output_type": "stream",
     "text": [
      "['(ISSUED UNDER SECTION 81 OF CENTRAL GOODS & SERVICE TAX ACT 2017) ORIGINAL FOR RECIPIENT / DUPLICATE FOR TRANSPORTER / TRIPLICATE FOR SUPPLIER Extra copy VIKASH UDYOG PROP JAI MATA DI COMMERCIAL PVT. LTD. 109/2, GIRISH GHOSH ROAD, BELURMATH, HOWRAH 711 202 PHONE 2655-8085   EITD : vikashudyog; [09@gmailcom CN NO USHO9WBZOOTPTC115188 GSTIN NO_ 19AABCJ84O9LIZS STATE COD WB (19) PAN No. AABCJ8409L Invoice No. VU/0O113/20-21 Moe of Transport BY ROAD Invoice Date 08/08/2020 Vehicle No :WB-2SC-3706 P.Order No VERBAL Date of Removal P.Order Date :08/08/2020 E-WAY Bill No 8814 1007 2998 DETAILS OF RECEIVER (BILLED TO ): R N ENGINEERING WORKS DETAILS OF CONSIGNEE (SHIPPED TO) R N ENGINEERING WORKS 14/1/9, TINKORI NAT BOSE LAN 14/1/9, TINKORI NATH BOSE HOWRAH - 6 LANE; HOWRAH - 6 GT No 19AMVPSOO2ZPIZB GT No 19AMVPSO022PIZB PAN No AMVPSO022P PAN No AMVPSOO2ZP STATE West Bengal STATE West Bengal STATE COD 19 STATE COD 19']\n",
      "['(ISSUED UNDER SECTION 81 OF CENTRAL GOODS & SERVICE TAX ACT 2017) ORIGINAL FOR RECIPIENT / DUPLICATE FOR TRANSPORTER / TRIPLICATE FOR SUPPLIER Extra copy VIKASH UDYOG PROP JAI MATA DI COMMERCIAL PVT. LTD. 109/2, GIRISH GHOSH ROAD, BELURMATH, HOWRAH 711 202 PHONE 2655-8085   EITD : vikashudyog; [09@gmailcom CN NO USHO9WBZOOTPTC115188 GSTIN NO_ 19AABCJ84O9LIZS STATE COD WB (19) PAN No. AABCJ8409L Invoice No. VU/0O113/20-21 Moe of Transport BY ROAD Invoice Date 08/08/2020 Vehicle No :WB-2SC-3706 P.Order No VERBAL Date of Removal P.Order Date :08/08/2020 E-WAY Bill No 8814 1007 2998 DETAILS OF RECEIVER (BILLED TO ): R N ENGINEERING WORKS DETAILS OF CONSIGNEE (SHIPPED TO) R N ENGINEERING WORKS 14/1/9, TINKORI NAT BOSE LAN 14/1/9, TINKORI NATH BOSE HOWRAH - 6 LANE; HOWRAH - 6 GT No 19AMVPSOO2ZPIZB GT No 19AMVPSO022PIZB PAN No AMVPSO022P PAN No AMVPSOO2ZP STATE West Bengal STATE West Bengal STATE COD 19 STATE COD 19', 'FOR   VIKASH UDYoG PROP JAI MATA DI COMMERCLAL PVT. LTD pTuN']\n",
      "*************************************************************************************************************\n",
      "August Purchase_page-0010.jpg\n",
      "C:/Users/Mula Ram/NLP/in/invoice_data/August Purchase_page-0010.jpg\n"
     ]
    },
    {
     "name": "stderr",
     "output_type": "stream",
     "text": [
      "CUDA not available - defaulting to CPU. Note: This module is much faster with a GPU.\n"
     ]
    },
    {
     "name": "stdout",
     "output_type": "stream",
     "text": [
      "360\n",
      "['Address LLLL2 Znkezi Nelh Bose [on He@dah_ZLILO6']\n",
      "['Address LLLL2 Znkezi Nelh Bose [on He@dah_ZLILO6', \"L.G.S.T.@ C.G.S T.@ 9% 2042.|/0 BANK DETAIL S.G.S.T.@ 9% 20y2 . 1d Bank Name BANK OF INDIA TOTAL TAX AMOUNT 4084120 Branch GHUSURI; HOWRAH-711107 Rounded Off 20 IFSC BKIDO004280_ TOTAL Amount AFTER TA 26742 00 Al No 428030110000045 E.&0.E. For PALIWAL STEEL & STRIPS ORIGINAL-BUYER'S COPY TERMS & CONDITIONS 91e{ 1) Payment within 20 Days from SELLER'S COPY the date of supply: Arjh TRANSPORTER'S COPY 2) Subject to Howrah Jurisdiction_ dowral Authorized Signatory Ioel~  14 ~Ovo |%6 2& 0-m\"]\n",
      "*************************************************************************************************************\n",
      "August Purchase_page-0011.jpg\n",
      "C:/Users/Mula Ram/NLP/in/invoice_data/August Purchase_page-0011.jpg\n"
     ]
    },
    {
     "name": "stderr",
     "output_type": "stream",
     "text": [
      "CUDA not available - defaulting to CPU. Note: This module is much faster with a GPU.\n"
     ]
    },
    {
     "name": "stdout",
     "output_type": "stream",
     "text": [
      "364\n",
      "['Address Lebla Znkz Nal Befg Cope Houeh 71406']\n",
      "['Address Lebla Znkz Nal Befg Cope Houeh 71406', \"Irvoice Value (In Words) Total Amount Before Tax 2s6/kloo Rupees_Thili_ Zbouzed_lughynazed_lweolz  L.G.S.T.@ gs nlx C.G.S.T.@ 9% 2305,|3  BANK DETAIL S,G.S.T.@ 9% 230F/3 Bank Name BANK OF INDIA TOTAL TAXAMOUNT 46/0-170 Branch GHUSURI, HOWRAH-711107 Rounded Off #) 0. 30 IFSC BKIDOO0428O TOTAL Amount AFTER TAX 362281 60 Al No 428030110000045 E.&0.E. For PALIWAL STEEL & Strips ORIGINAL-BUYER'S COPY TERMS & CONDITIONS eel 1) Payment within 20 Days from SELLER'S COPY the date of supply: Mpz TRANSPORTER'S COPY 2) Subject to Howrah Jurisdiction_ Authorized Signatory ror.L 2 'Guu   ~eJN\"]\n",
      "*************************************************************************************************************\n",
      "August Purchase_page-0012.jpg\n",
      "C:/Users/Mula Ram/NLP/in/invoice_data/August Purchase_page-0012.jpg\n"
     ]
    },
    {
     "name": "stderr",
     "output_type": "stream",
     "text": [
      "CUDA not available - defaulting to CPU. Note: This module is much faster with a GPU.\n"
     ]
    },
    {
     "name": "stdout",
     "output_type": "stream",
     "text": [
      "['(ISSUED UNDER SECTION 81 OF CENTRAL GOODS & SERVICE TAX ACT 2017) ORIGINAL FOR RECIPIENT DUPLICATE FOR TRANSPORTER TRIPLICATE FOR SUPPLIER Extra copy VIKASH UDYOG PROP JAIMATA DI COMMERCIAL PVT. LTD 109/2, GIRISH GHOSH ROAD, BELURMATH, HOWRAH 711202 PHONE : 2655-8085, EMID vikashudyog 109@gmailcom CN NO_ USI1O9WBZOOTPTC115188 GSTIN NO 19AABCJ84O9LIZS STATE CODE WB (19) PAN No AABCJS4O9L Invoice No VU/00108/20-21 Moe of Transport BY ROAD Invoice Date 02/08/2020 Vehicle No. WB-11C-4257 POrder No VERBAL Dat of Rerloval :02/08/2020 POrder Date E-WAY Bill No. NA DETAILS OF RECEIVER (BILLED TO ); DETAILS OE CONSIGNEE (SHIPPED TO) RNENGINEERING WORKS R NENGINEERING WORKS 14/1/9, TINKORI NATH BOSE LANE, 14/1/9, TINKORI NAT BOSE LANE, HOWRAH - 6 HOWRAH - 6']\n",
      "['(ISSUED UNDER SECTION 81 OF CENTRAL GOODS & SERVICE TAX ACT 2017) ORIGINAL FOR RECIPIENT DUPLICATE FOR TRANSPORTER TRIPLICATE FOR SUPPLIER Extra copy VIKASH UDYOG PROP JAIMATA DI COMMERCIAL PVT. LTD 109/2, GIRISH GHOSH ROAD, BELURMATH, HOWRAH 711202 PHONE : 2655-8085, EMID vikashudyog 109@gmailcom CN NO_ USI1O9WBZOOTPTC115188 GSTIN NO 19AABCJ84O9LIZS STATE CODE WB (19) PAN No AABCJS4O9L Invoice No VU/00108/20-21 Moe of Transport BY ROAD Invoice Date 02/08/2020 Vehicle No. WB-11C-4257 POrder No VERBAL Dat of Rerloval :02/08/2020 POrder Date E-WAY Bill No. NA DETAILS OF RECEIVER (BILLED TO ); DETAILS OE CONSIGNEE (SHIPPED TO) RNENGINEERING WORKS R NENGINEERING WORKS 14/1/9, TINKORI NATH BOSE LANE, 14/1/9, TINKORI NAT BOSE LANE, HOWRAH - 6 HOWRAH - 6', 'GT No I9AMVPSOOZZPIZB PAN No AMVPSO022P STATE West Bengal STATE CODE 19']\n",
      "['(ISSUED UNDER SECTION 81 OF CENTRAL GOODS & SERVICE TAX ACT 2017) ORIGINAL FOR RECIPIENT DUPLICATE FOR TRANSPORTER TRIPLICATE FOR SUPPLIER Extra copy VIKASH UDYOG PROP JAIMATA DI COMMERCIAL PVT. LTD 109/2, GIRISH GHOSH ROAD, BELURMATH, HOWRAH 711202 PHONE : 2655-8085, EMID vikashudyog 109@gmailcom CN NO_ USI1O9WBZOOTPTC115188 GSTIN NO 19AABCJ84O9LIZS STATE CODE WB (19) PAN No AABCJS4O9L Invoice No VU/00108/20-21 Moe of Transport BY ROAD Invoice Date 02/08/2020 Vehicle No. WB-11C-4257 POrder No VERBAL Dat of Rerloval :02/08/2020 POrder Date E-WAY Bill No. NA DETAILS OF RECEIVER (BILLED TO ); DETAILS OE CONSIGNEE (SHIPPED TO) RNENGINEERING WORKS R NENGINEERING WORKS 14/1/9, TINKORI NATH BOSE LANE, 14/1/9, TINKORI NAT BOSE LANE, HOWRAH - 6 HOWRAH - 6', 'GT No I9AMVPSOOZZPIZB PAN No AMVPSO022P STATE West Bengal STATE CODE 19', 'GT No 19AMVPSOO2ZPIZB PAN No AMVPSOO22P STATE West Bengal STATE COD 19']\n",
      "*************************************************************************************************************\n",
      "August Purchase_page-0013.jpg\n",
      "C:/Users/Mula Ram/NLP/in/invoice_data/August Purchase_page-0013.jpg\n"
     ]
    },
    {
     "name": "stderr",
     "output_type": "stream",
     "text": [
      "CUDA not available - defaulting to CPU. Note: This module is much faster with a GPU.\n"
     ]
    },
    {
     "name": "stdout",
     "output_type": "stream",
     "text": [
      "['(ISSUED UNDER SECTION 31 OF CENTRAL GOODS & SERVICE TAX ACT 2017) ORIGINAL FOR RECIPIENT DUPLICATE FOR TRANSPORTER TRIPLICATE FOR SUPPLIER Extra copy VIKASH UDYoG PROP AI MATA DI COMMERCIAL PVT. LTD. 109/2, GIRISH GHOSH ROAD, BELURMATH, HOWRAH - 711 202 PHONE 2655-8085, E/ID vikashudyog;109@gmail.com CN NO U511O9WB2OOTPTC115188 GSTIN NO 19AABCJS4O9LIZS STATE CODE WB (19) PAN No AABCJ8409L Invoice No VU/00107/20-21 Moe of Transport BY ROAD Invoice Date 01/08/2020 Vehicle No :WB-41F-2170 POrder No. VERBAL Date of Removal :01/08/2020 P Order Date E-WAY Bill No :8611 0924 5183 DETAILS OF RECEIVER (BILLED TO ): DETAILS OF CONSIGNEE (SHIPPED TO) RN ENCINEERING WORKS RN ENGINEERING WORKS 14/1/9, TINKORI NAT BOSE LANE, 14/1/9, TINKORI NAT BOSE LANE; HOWRAH - 6 HOWRAH - 6']\n",
      "['(ISSUED UNDER SECTION 31 OF CENTRAL GOODS & SERVICE TAX ACT 2017) ORIGINAL FOR RECIPIENT DUPLICATE FOR TRANSPORTER TRIPLICATE FOR SUPPLIER Extra copy VIKASH UDYoG PROP AI MATA DI COMMERCIAL PVT. LTD. 109/2, GIRISH GHOSH ROAD, BELURMATH, HOWRAH - 711 202 PHONE 2655-8085, E/ID vikashudyog;109@gmail.com CN NO U511O9WB2OOTPTC115188 GSTIN NO 19AABCJS4O9LIZS STATE CODE WB (19) PAN No AABCJ8409L Invoice No VU/00107/20-21 Moe of Transport BY ROAD Invoice Date 01/08/2020 Vehicle No :WB-41F-2170 POrder No. VERBAL Date of Removal :01/08/2020 P Order Date E-WAY Bill No :8611 0924 5183 DETAILS OF RECEIVER (BILLED TO ): DETAILS OF CONSIGNEE (SHIPPED TO) RN ENCINEERING WORKS RN ENGINEERING WORKS 14/1/9, TINKORI NAT BOSE LANE, 14/1/9, TINKORI NAT BOSE LANE; HOWRAH - 6 HOWRAH - 6', 'GT No I9AMVPSO02ZPIZB PAN No AMVPSO022P STATE West Bengal STATE CODE 19']\n",
      "['(ISSUED UNDER SECTION 31 OF CENTRAL GOODS & SERVICE TAX ACT 2017) ORIGINAL FOR RECIPIENT DUPLICATE FOR TRANSPORTER TRIPLICATE FOR SUPPLIER Extra copy VIKASH UDYoG PROP AI MATA DI COMMERCIAL PVT. LTD. 109/2, GIRISH GHOSH ROAD, BELURMATH, HOWRAH - 711 202 PHONE 2655-8085, E/ID vikashudyog;109@gmail.com CN NO U511O9WB2OOTPTC115188 GSTIN NO 19AABCJS4O9LIZS STATE CODE WB (19) PAN No AABCJ8409L Invoice No VU/00107/20-21 Moe of Transport BY ROAD Invoice Date 01/08/2020 Vehicle No :WB-41F-2170 POrder No. VERBAL Date of Removal :01/08/2020 P Order Date E-WAY Bill No :8611 0924 5183 DETAILS OF RECEIVER (BILLED TO ): DETAILS OF CONSIGNEE (SHIPPED TO) RN ENCINEERING WORKS RN ENGINEERING WORKS 14/1/9, TINKORI NAT BOSE LANE, 14/1/9, TINKORI NAT BOSE LANE; HOWRAH - 6 HOWRAH - 6', 'GT No I9AMVPSO02ZPIZB PAN No AMVPSO022P STATE West Bengal STATE CODE 19', 'GT No [9AMVPSOOZZPIZB PAN No AMVPSOO22P STATE West Bengal STATE COD 19']\n",
      "*************************************************************************************************************\n",
      "August Purchase_page-0014.jpg\n",
      "C:/Users/Mula Ram/NLP/in/invoice_data/August Purchase_page-0014.jpg\n"
     ]
    },
    {
     "name": "stderr",
     "output_type": "stream",
     "text": [
      "CUDA not available - defaulting to CPU. Note: This module is much faster with a GPU.\n"
     ]
    },
    {
     "name": "stdout",
     "output_type": "stream",
     "text": [
      "[\"(ISSUED UNDER SECTION 31 QF CENTRAL GOODS & SERVICE TAX ACT 2017) ORIGINAL FOR RECIPIENT 'DUPLICATE FOR TRANSPORTER TRIPLICATE FOR SUPPLIER Extra cOpY VKASH UDYOG PROP JAIMATA DI COMMERCIAL PVT. LTD. 109/2, GIRISHI GHOSH ROAD, BELURMATH, HOWRAH 711.202 PHONE 2655-8085, EMID vikashudyog.109@gmail.com CN NO_ U511O9WB2OO7PTC115188 GSTIN NO_ 19AABCJ8409LIZS STATE CODE WB (19) PAN No AABCJS409L Invoice No VU/O0106/20-21 Moe of Transport BY ROAD Invoice Date 01/08/2020 Vehicle No :WB-25C-3706 POrder No. VERBAL Date of Removal :01/08/2020 POrder Date 1 | E-WAY Bill No :8211 0924 4076 DETAILS OF RECEIVER (BILLED TO ): DETALS OF CONSIGNEE (SHIPPED TO) R N ENGINEERING WORKS R N ENGINEERING WORKS 14/1/9, TINKORI NAT BOSE LANE; 14/1/9, TINKORI NAT BOSE LANE, HOWRAH HOWRAH - 6\"]\n",
      "[\"(ISSUED UNDER SECTION 31 QF CENTRAL GOODS & SERVICE TAX ACT 2017) ORIGINAL FOR RECIPIENT 'DUPLICATE FOR TRANSPORTER TRIPLICATE FOR SUPPLIER Extra cOpY VKASH UDYOG PROP JAIMATA DI COMMERCIAL PVT. LTD. 109/2, GIRISHI GHOSH ROAD, BELURMATH, HOWRAH 711.202 PHONE 2655-8085, EMID vikashudyog.109@gmail.com CN NO_ U511O9WB2OO7PTC115188 GSTIN NO_ 19AABCJ8409LIZS STATE CODE WB (19) PAN No AABCJS409L Invoice No VU/O0106/20-21 Moe of Transport BY ROAD Invoice Date 01/08/2020 Vehicle No :WB-25C-3706 POrder No. VERBAL Date of Removal :01/08/2020 POrder Date 1 | E-WAY Bill No :8211 0924 4076 DETAILS OF RECEIVER (BILLED TO ): DETALS OF CONSIGNEE (SHIPPED TO) R N ENGINEERING WORKS R N ENGINEERING WORKS 14/1/9, TINKORI NAT BOSE LANE; 14/1/9, TINKORI NAT BOSE LANE, HOWRAH HOWRAH - 6\", 'GT No 19AMVPSOO2ZPIZB PAN No AMVPSO022P STATE West Bengal STATE CODE 19']\n",
      "[\"(ISSUED UNDER SECTION 31 QF CENTRAL GOODS & SERVICE TAX ACT 2017) ORIGINAL FOR RECIPIENT 'DUPLICATE FOR TRANSPORTER TRIPLICATE FOR SUPPLIER Extra cOpY VKASH UDYOG PROP JAIMATA DI COMMERCIAL PVT. LTD. 109/2, GIRISHI GHOSH ROAD, BELURMATH, HOWRAH 711.202 PHONE 2655-8085, EMID vikashudyog.109@gmail.com CN NO_ U511O9WB2OO7PTC115188 GSTIN NO_ 19AABCJ8409LIZS STATE CODE WB (19) PAN No AABCJS409L Invoice No VU/O0106/20-21 Moe of Transport BY ROAD Invoice Date 01/08/2020 Vehicle No :WB-25C-3706 POrder No. VERBAL Date of Removal :01/08/2020 POrder Date 1 | E-WAY Bill No :8211 0924 4076 DETAILS OF RECEIVER (BILLED TO ): DETALS OF CONSIGNEE (SHIPPED TO) R N ENGINEERING WORKS R N ENGINEERING WORKS 14/1/9, TINKORI NAT BOSE LANE; 14/1/9, TINKORI NAT BOSE LANE, HOWRAH HOWRAH - 6\", 'GT No 19AMVPSOO2ZPIZB PAN No AMVPSO022P STATE West Bengal STATE CODE 19', 'GT No 19AMVPSOO2ZPIZB PAN No AMVPSOO22P STATE West Bengal STATE COD 19']\n",
      "[\"(ISSUED UNDER SECTION 31 QF CENTRAL GOODS & SERVICE TAX ACT 2017) ORIGINAL FOR RECIPIENT 'DUPLICATE FOR TRANSPORTER TRIPLICATE FOR SUPPLIER Extra cOpY VKASH UDYOG PROP JAIMATA DI COMMERCIAL PVT. LTD. 109/2, GIRISHI GHOSH ROAD, BELURMATH, HOWRAH 711.202 PHONE 2655-8085, EMID vikashudyog.109@gmail.com CN NO_ U511O9WB2OO7PTC115188 GSTIN NO_ 19AABCJ8409LIZS STATE CODE WB (19) PAN No AABCJS409L Invoice No VU/O0106/20-21 Moe of Transport BY ROAD Invoice Date 01/08/2020 Vehicle No :WB-25C-3706 POrder No. VERBAL Date of Removal :01/08/2020 POrder Date 1 | E-WAY Bill No :8211 0924 4076 DETAILS OF RECEIVER (BILLED TO ): DETALS OF CONSIGNEE (SHIPPED TO) R N ENGINEERING WORKS R N ENGINEERING WORKS 14/1/9, TINKORI NAT BOSE LANE; 14/1/9, TINKORI NAT BOSE LANE, HOWRAH HOWRAH - 6\", 'GT No 19AMVPSOO2ZPIZB PAN No AMVPSO022P STATE West Bengal STATE CODE 19', 'GT No 19AMVPSOO2ZPIZB PAN No AMVPSOO22P STATE West Bengal STATE COD 19', 'FOR   VIKASH UDYoG PROP JAIMATA DI #OMMTRCIAL PVT: TD']\n",
      "*************************************************************************************************************\n",
      "DECEMBER_page-0001.jpg\n",
      "C:/Users/Mula Ram/NLP/in/invoice_data/DECEMBER_page-0001.jpg\n"
     ]
    },
    {
     "name": "stderr",
     "output_type": "stream",
     "text": [
      "CUDA not available - defaulting to CPU. Note: This module is much faster with a GPU.\n"
     ]
    },
    {
     "name": "stdout",
     "output_type": "stream",
     "text": [
      "[\"Original Buyer's Copy ENGINEERINO Sellers Copy Transporter's Copy LOCO TECH ENGINEERING ice Makes & Suppliers, Steel Metal Job Works & Mechanical Engg Spare Parts & Fabrications. 99/2, NASKAR PARA ROAD, GHUSURI HOWRAH - 711107 Invoice No LTE/00063/20-21 Date 7/1/2021 Challan No Date Mobile 9038613020 Order No VERBAL Date E-mail: locotecheng@gmail.com Delivery Mode: RICKSHAW VN\"]\n",
      "*************************************************************************************************************\n",
      "DECEMBER_page-0002.jpg\n",
      "C:/Users/Mula Ram/NLP/in/invoice_data/DECEMBER_page-0002.jpg\n"
     ]
    },
    {
     "name": "stderr",
     "output_type": "stream",
     "text": [
      "CUDA not available - defaulting to CPU. Note: This module is much faster with a GPU.\n"
     ]
    },
    {
     "name": "stdout",
     "output_type": "stream",
     "text": [
      "['+ewx @kh -An%h 5n6.4  doecy #u']\n",
      "*************************************************************************************************************\n",
      "DECEMBER_page-0003.jpg\n",
      "C:/Users/Mula Ram/NLP/in/invoice_data/DECEMBER_page-0003.jpg\n"
     ]
    },
    {
     "name": "stderr",
     "output_type": "stream",
     "text": [
      "CUDA not available - defaulting to CPU. Note: This module is much faster with a GPU.\n"
     ]
    },
    {
     "name": "stdout",
     "output_type": "stream",
     "text": [
      "['(ISSUED UNDER SECTION 81 OE CENTRAL GOODS & SERVICE TAX ACT 2017) ORIGLVAL FOR RECIPIENT DUPLICATE FOR TRANSPORTER TRIPLICATE FOR SUPPLIER Extra copy VIKASH UDYOG PROP JAI MATA DI COMMERCIAL PVT. LTD. 109/2,GIRISH GHOSH ROAD, BELURMATH, HOWRAH 711 202 PHONE 0332655-8085, EHD vikashudyog 109@gmail.com CN NO U5109WB2OOTPTC115188 GSTIN  VO 19AABCJ8409LIZS STATE CODE WB 19) PAN No AABCJ8409L Invoice No VZ 00337/20-21 Moe of Transport BY ROAD Invoice Date 21/12/2020 Vehicle No WB-]C-4257 POrder No VERBAL Date of Removal {21/12/2020 POrder Date E-WAY Bill No DETAILS OF RECEIVER (BILLED TO ) RN ENGINEERING WORKS DETAILS OF CONSIGNEE (SHIPPED TO) RN ENGINEERING WORKS 14/1/9, TINKORI NATH BOSE LAN 14/1/9, TINKORI NAT BOSE LANE, HOWRAH - 6 HOWRAH - 6']\n",
      "['(ISSUED UNDER SECTION 81 OE CENTRAL GOODS & SERVICE TAX ACT 2017) ORIGLVAL FOR RECIPIENT DUPLICATE FOR TRANSPORTER TRIPLICATE FOR SUPPLIER Extra copy VIKASH UDYOG PROP JAI MATA DI COMMERCIAL PVT. LTD. 109/2,GIRISH GHOSH ROAD, BELURMATH, HOWRAH 711 202 PHONE 0332655-8085, EHD vikashudyog 109@gmail.com CN NO U5109WB2OOTPTC115188 GSTIN  VO 19AABCJ8409LIZS STATE CODE WB 19) PAN No AABCJ8409L Invoice No VZ 00337/20-21 Moe of Transport BY ROAD Invoice Date 21/12/2020 Vehicle No WB-]C-4257 POrder No VERBAL Date of Removal {21/12/2020 POrder Date E-WAY Bill No DETAILS OF RECEIVER (BILLED TO ) RN ENGINEERING WORKS DETAILS OF CONSIGNEE (SHIPPED TO) RN ENGINEERING WORKS 14/1/9, TINKORI NATH BOSE LAN 14/1/9, TINKORI NAT BOSE LANE, HOWRAH - 6 HOWRAH - 6', 'GT No 19AMVPSOO22PIZB PAN No AMVPSO022P STATE West Bengal STATE COD 19']\n",
      "['(ISSUED UNDER SECTION 81 OE CENTRAL GOODS & SERVICE TAX ACT 2017) ORIGLVAL FOR RECIPIENT DUPLICATE FOR TRANSPORTER TRIPLICATE FOR SUPPLIER Extra copy VIKASH UDYOG PROP JAI MATA DI COMMERCIAL PVT. LTD. 109/2,GIRISH GHOSH ROAD, BELURMATH, HOWRAH 711 202 PHONE 0332655-8085, EHD vikashudyog 109@gmail.com CN NO U5109WB2OOTPTC115188 GSTIN  VO 19AABCJ8409LIZS STATE CODE WB 19) PAN No AABCJ8409L Invoice No VZ 00337/20-21 Moe of Transport BY ROAD Invoice Date 21/12/2020 Vehicle No WB-]C-4257 POrder No VERBAL Date of Removal {21/12/2020 POrder Date E-WAY Bill No DETAILS OF RECEIVER (BILLED TO ) RN ENGINEERING WORKS DETAILS OF CONSIGNEE (SHIPPED TO) RN ENGINEERING WORKS 14/1/9, TINKORI NATH BOSE LAN 14/1/9, TINKORI NAT BOSE LANE, HOWRAH - 6 HOWRAH - 6', 'GT No 19AMVPSOO22PIZB PAN No AMVPSO022P STATE West Bengal STATE COD 19', 'GT No 19AMVPSO02ZPIZB PAN No AMVPSOO22P STATE West Bengal STATE COD 19']\n",
      "['(ISSUED UNDER SECTION 81 OE CENTRAL GOODS & SERVICE TAX ACT 2017) ORIGLVAL FOR RECIPIENT DUPLICATE FOR TRANSPORTER TRIPLICATE FOR SUPPLIER Extra copy VIKASH UDYOG PROP JAI MATA DI COMMERCIAL PVT. LTD. 109/2,GIRISH GHOSH ROAD, BELURMATH, HOWRAH 711 202 PHONE 0332655-8085, EHD vikashudyog 109@gmail.com CN NO U5109WB2OOTPTC115188 GSTIN  VO 19AABCJ8409LIZS STATE CODE WB 19) PAN No AABCJ8409L Invoice No VZ 00337/20-21 Moe of Transport BY ROAD Invoice Date 21/12/2020 Vehicle No WB-]C-4257 POrder No VERBAL Date of Removal {21/12/2020 POrder Date E-WAY Bill No DETAILS OF RECEIVER (BILLED TO ) RN ENGINEERING WORKS DETAILS OF CONSIGNEE (SHIPPED TO) RN ENGINEERING WORKS 14/1/9, TINKORI NATH BOSE LAN 14/1/9, TINKORI NAT BOSE LANE, HOWRAH - 6 HOWRAH - 6', 'GT No 19AMVPSOO22PIZB PAN No AMVPSO022P STATE West Bengal STATE COD 19', 'GT No 19AMVPSO02ZPIZB PAN No AMVPSOO22P STATE West Bengal STATE COD 19', 'FOR   VIKASH UDYoG PROP JAI MATA HI CQMMERCIAL PVT: LTD']\n",
      "*************************************************************************************************************\n",
      "DECEMBER_page-0004.jpg\n",
      "C:/Users/Mula Ram/NLP/in/invoice_data/DECEMBER_page-0004.jpg\n"
     ]
    },
    {
     "name": "stderr",
     "output_type": "stream",
     "text": [
      "CUDA not available - defaulting to CPU. Note: This module is much faster with a GPU.\n"
     ]
    },
    {
     "name": "stdout",
     "output_type": "stream",
     "text": [
      "375\n",
      "['Address LLLo_TinAozi Natb Bose Lone Hoccaab 7Ule6']\n",
      "['Address LLLo_TinAozi Natb Bose Lone Hoccaab 7Ule6', \"LLALLPsL22ELZB Xode of Transportation _ Read Vehicle No.4_@ZLE 072S Date of Supply JD 222e22_Piace of Supply Hecoaah SLN_ DESCRIPTion HSNSAC Qnty: Weight Rate (r) AMOUNT () H' R' & kecl (ttinh siges ) F2c0 3.3Jem P; Lqctcl: 16s130 co peam  $ ,\"]\n",
      "['Address LLLo_TinAozi Natb Bose Lone Hoccaab 7Ule6', \"LLALLPsL22ELZB Xode of Transportation _ Read Vehicle No.4_@ZLE 072S Date of Supply JD 222e22_Piace of Supply Hecoaah SLN_ DESCRIPTion HSNSAC Qnty: Weight Rate (r) AMOUNT () H' R' & kecl (ttinh siges ) F2c0 3.3Jem P; Lqctcl: 16s130 co peam  $ ,\", \"L.G.S.T.@ C.G.S.T.@ 9% 14&l # S.G.S.T.@ 9% BANK DETAIL 1yo&:7e Bank Name BANK OF INDIA , TOTAL TAX Amount 39723./40 Branch GHUSURI, HOWRAH-711107 Rounded Off 0-i0 IFSC BKIDOO04280, TOTAL AMOUNT AFTER TAX 'qlssdo Al No: 428030110000045 & 0. E. For PALIWAL STEEL & STRIPS ORIGINAL-BUYER'S COPY TERMS & CONDITIONS 1) Payment within 20 Days from SELLER'S COPY 4pzl the date of supply: TRANSPORTER'S COPY 2) Subject to Howrah Jurisdiction_ Authorized Signatory\"]\n",
      "*************************************************************************************************************\n",
      "DECEMBER_page-0005.jpg\n",
      "C:/Users/Mula Ram/NLP/in/invoice_data/DECEMBER_page-0005.jpg\n"
     ]
    },
    {
     "name": "stderr",
     "output_type": "stream",
     "text": [
      "CUDA not available - defaulting to CPU. Note: This module is much faster with a GPU.\n"
     ]
    },
    {
     "name": "stdout",
     "output_type": "stream",
     "text": [
      "*************************************************************************************************************\n",
      "DECEMBER_page-0006.jpg\n",
      "C:/Users/Mula Ram/NLP/in/invoice_data/DECEMBER_page-0006.jpg\n"
     ]
    },
    {
     "name": "stderr",
     "output_type": "stream",
     "text": [
      "CUDA not available - defaulting to CPU. Note: This module is much faster with a GPU.\n"
     ]
    },
    {
     "name": "stdout",
     "output_type": "stream",
     "text": [
      "56\n",
      "['Address 14/1/19, TIKONI NAT BOSE LAN HOWRAH-711106 State WEST BENGAL State Code 19 GSTIN 19AMVPSOOZZPIZB']\n",
      "*************************************************************************************************************\n",
      "DECEMBER_page-0007.jpg\n",
      "C:/Users/Mula Ram/NLP/in/invoice_data/DECEMBER_page-0007.jpg\n"
     ]
    },
    {
     "name": "stderr",
     "output_type": "stream",
     "text": [
      "CUDA not available - defaulting to CPU. Note: This module is much faster with a GPU.\n"
     ]
    },
    {
     "name": "stdout",
     "output_type": "stream",
     "text": [
      "['NC - G66']\n",
      "*************************************************************************************************************\n",
      "DECEMBER_page-0008.jpg\n",
      "C:/Users/Mula Ram/NLP/in/invoice_data/DECEMBER_page-0008.jpg\n"
     ]
    },
    {
     "name": "stderr",
     "output_type": "stream",
     "text": [
      "CUDA not available - defaulting to CPU. Note: This module is much faster with a GPU.\n"
     ]
    },
    {
     "name": "stdout",
     "output_type": "stream",
     "text": [
      "['INDO WHEELS PVT LTD 35,JAGAT BANERJEE GHAT ROAD SHALIMAR CAL DEPOT HOWRAH-711102 Ph-033-2678-0144/9830047530 E-MAILIndowheels2012@gmail Con GSTiNIUIN: 9AAACISAA4D1ZR State Name West Bengal Code 19 CIN: USO102WB 997PtC083044 Consignee RN ENGG WORKS 14/1 TINKORI NATH BOSE LANE, SALKIA, Howrah, West Bengal 711106 9231537261 GSTINIUIN 19AMVPSO02ZP1ZB State Name West Bengal_ Code 19']\n",
      "['INDO WHEELS PVT LTD 35,JAGAT BANERJEE GHAT ROAD SHALIMAR CAL DEPOT HOWRAH-711102 Ph-033-2678-0144/9830047530 E-MAILIndowheels2012@gmail Con GSTiNIUIN: 9AAACISAA4D1ZR State Name West Bengal Code 19 CIN: USO102WB 997PtC083044 Consignee RN ENGG WORKS 14/1 TINKORI NATH BOSE LANE, SALKIA, Howrah, West Bengal 711106 9231537261 GSTINIUIN 19AMVPSO02ZP1ZB State Name West Bengal_ Code 19', 'Buyer (if other than consignee) RNENGG_ WORKS 14/1 TINKORI NAT BOSE LANE, SALKIA, Howrah; West Bengal, 711106 9231537261 GSTINIUIN 19AMVPSOO22P1ZB State Name West Bengal, Code 19']\n",
      "*************************************************************************************************************\n",
      "DECEMBER_page-0009.jpg\n",
      "C:/Users/Mula Ram/NLP/in/invoice_data/DECEMBER_page-0009.jpg\n"
     ]
    },
    {
     "name": "stderr",
     "output_type": "stream",
     "text": [
      "CUDA not available - defaulting to CPU. Note: This module is much faster with a GPU.\n"
     ]
    },
    {
     "name": "stdout",
     "output_type": "stream",
     "text": [
      "455\n",
      "[\"Address : (4la-TnKuni-Natk-Base_lone  Address:14/1 Tinkuxi -faselse Salkua 5 ~Hotuxh: 414406' Salks CS Hokuna L 41106 State Gest_ 1ena &/ State Code 9 State :@xSF: ( State Code AyRIc GSTIN JLAMLE 8.092.p1Z13 GSTIN 49 02220170 S. DESCRIPTION OF GOODS HS WEIGHT RATE AMOUNT No CODE Kg: Gm_ Rs @R Sheet #29 sotol* lhesys 2 461231 Rmt\"]\n",
      "[\"Address : (4la-TnKuni-Natk-Base_lone  Address:14/1 Tinkuxi -faselse Salkua 5 ~Hotuxh: 414406' Salks CS Hokuna L 41106 State Gest_ 1ena &/ State Code 9 State :@xSF: ( State Code AyRIc GSTIN JLAMLE 8.092.p1Z13 GSTIN 49 02220170 S. DESCRIPTION OF GOODS HS WEIGHT RATE AMOUNT No CODE Kg: Gm_ Rs @R Sheet #29 sotol* lhesys 2 461231 Rmt\", 'AD SGST % APD IGST % Total Invoice Amount in Words :  uxe kACMity#thess- Total Tax Amount 44302 Ecxr_humolack duxxd} EX Nlexlt Rounded Off Total Amount 29042S DECLARATION GT on Reverse Charge Certified that the particulars given are true and correct and the amount represent additional consideration E & 0.E the price actually charged and that there is no flow directly from the buyer For SHYAM LALL & CO_']\n",
      "*************************************************************************************************************\n",
      "DECEMBER_page-0010.jpg\n",
      "C:/Users/Mula Ram/NLP/in/invoice_data/DECEMBER_page-0010.jpg\n"
     ]
    },
    {
     "name": "stderr",
     "output_type": "stream",
     "text": [
      "CUDA not available - defaulting to CPU. Note: This module is much faster with a GPU.\n"
     ]
    },
    {
     "name": "stdout",
     "output_type": "stream",
     "text": [
      "['petails of Receiver (Billed To) RNENGINEERING WORKS 14/1 Tinkori nath bose lane Howrah-7111O6 WEST BENGAL State Code 19 GT NO 19AMVPSOOg2P1ZB INVOICE NO 62 INVOICE DT: 03-12-2020 Po No: VERBAL']\n",
      "['petails of Receiver (Billed To) RNENGINEERING WORKS 14/1 Tinkori nath bose lane Howrah-7111O6 WEST BENGAL State Code 19 GT NO 19AMVPSOOg2P1ZB INVOICE NO 62 INVOICE DT: 03-12-2020 Po No: VERBAL', 'Details of Consignee (Shipped to): RNENGINEERING WORKS 14/1 Tinkori nath bose lane Howrah-711106 WEST BENGAL State Code 19 GST NO 19AMVPS0022P1ZB TRANSPORT NAME LR No LR DT: GT NO']\n",
      "['petails of Receiver (Billed To) RNENGINEERING WORKS 14/1 Tinkori nath bose lane Howrah-7111O6 WEST BENGAL State Code 19 GT NO 19AMVPSOOg2P1ZB INVOICE NO 62 INVOICE DT: 03-12-2020 Po No: VERBAL', 'Details of Consignee (Shipped to): RNENGINEERING WORKS 14/1 Tinkori nath bose lane Howrah-711106 WEST BENGAL State Code 19 GST NO 19AMVPS0022P1ZB TRANSPORT NAME LR No LR DT: GT NO', 'Lorry no - WB 11E4061 UOM Rate Amount']\n",
      "*************************************************************************************************************\n",
      "DECEMBER_page-0011.jpg\n",
      "C:/Users/Mula Ram/NLP/in/invoice_data/DECEMBER_page-0011.jpg\n"
     ]
    },
    {
     "name": "stderr",
     "output_type": "stream",
     "text": [
      "CUDA not available - defaulting to CPU. Note: This module is much faster with a GPU.\n"
     ]
    },
    {
     "name": "stdout",
     "output_type": "stream",
     "text": [
      "*************************************************************************************************************\n",
      "DECEMBER_page-0012.jpg\n",
      "C:/Users/Mula Ram/NLP/in/invoice_data/DECEMBER_page-0012.jpg\n"
     ]
    },
    {
     "name": "stderr",
     "output_type": "stream",
     "text": [
      "CUDA not available - defaulting to CPU. Note: This module is much faster with a GPU.\n"
     ]
    },
    {
     "name": "stdout",
     "output_type": "stream",
     "text": [
      "*************************************************************************************************************\n",
      "DECEMBER_page-0013.jpg\n",
      "C:/Users/Mula Ram/NLP/in/invoice_data/DECEMBER_page-0013.jpg\n"
     ]
    },
    {
     "name": "stderr",
     "output_type": "stream",
     "text": [
      "CUDA not available - defaulting to CPU. Note: This module is much faster with a GPU.\n"
     ]
    },
    {
     "name": "stdout",
     "output_type": "stream",
     "text": [
      "[\"JAI MATA DI GT INVOICE (ISSUED UNDER SECTION 81 OF CENTRAL GOODS & SERVICE TAX ACT 2017) ORICINAL FOR RECIPIENT / DUPLICATE FOR TRANSPORTER TRIPLICATE FOR SUPPLIER / Extra copy VKASH UDYOG PROP JAIMATA DI COMMERCIAL PT LTD. 109/PHCIRISH GHOSH ROAD BELURMATH; HOWRAH PHONE : 0332655-8085 711 202 EMD vikashudyog: CNN NO 109@gmail.com U51lO9WB2OOTPTCii5] 88 GSTIN NO. 19AABCJ84O9LIZS STATE CODE WB 19) PAN No Inroice No VU/00300/20-21 AABCJ8409L Invoice Date 02/12/2020 Moe of Transport BY ROAD POrder No VERBAL Vehicle No WB-4IF-2170 POrder Date Date of Removal :02/12/2020 DETAILS OE RECEIVER (BILLED To ): E-WAY Bill No '8211 2831 6020 RN ENGINEERING WORKS DETAILS OE CONSIGNEE (SHIPPED TO) 1419, TINKORI NATH BOSE LANE, RN ENGINEERING WORKS HOWRAH - 6 14/1/9, TINKORI NATH BOSE LANE, HOWRAH - 6 GT No I9AMVPSO02ZPIZB PAN No AMVPSO022P GT No 19AMVPSO022PIZB STATE West Bengal PAN No AMVPSO022P STATE COD 19 STATE West Bengal STATE COD 19 SRL DESCRIPTION No: HSN CODE QTY RTE RIOFF (WT) PE MIT AMOUNT Being the cost of H R COIL (CUT TO PCS) 7208 9.605 46750.00| 449033.75\"]\n",
      "[\"JAI MATA DI GT INVOICE (ISSUED UNDER SECTION 81 OF CENTRAL GOODS & SERVICE TAX ACT 2017) ORICINAL FOR RECIPIENT / DUPLICATE FOR TRANSPORTER TRIPLICATE FOR SUPPLIER / Extra copy VKASH UDYOG PROP JAIMATA DI COMMERCIAL PT LTD. 109/PHCIRISH GHOSH ROAD BELURMATH; HOWRAH PHONE : 0332655-8085 711 202 EMD vikashudyog: CNN NO 109@gmail.com U51lO9WB2OOTPTCii5] 88 GSTIN NO. 19AABCJ84O9LIZS STATE CODE WB 19) PAN No Inroice No VU/00300/20-21 AABCJ8409L Invoice Date 02/12/2020 Moe of Transport BY ROAD POrder No VERBAL Vehicle No WB-4IF-2170 POrder Date Date of Removal :02/12/2020 DETAILS OE RECEIVER (BILLED To ): E-WAY Bill No '8211 2831 6020 RN ENGINEERING WORKS DETAILS OE CONSIGNEE (SHIPPED TO) 1419, TINKORI NATH BOSE LANE, RN ENGINEERING WORKS HOWRAH - 6 14/1/9, TINKORI NATH BOSE LANE, HOWRAH - 6 GT No I9AMVPSO02ZPIZB PAN No AMVPSO022P GT No 19AMVPSO022PIZB STATE West Bengal PAN No AMVPSO022P STATE COD 19 STATE West Bengal STATE COD 19 SRL DESCRIPTION No: HSN CODE QTY RTE RIOFF (WT) PE MIT AMOUNT Being the cost of H R COIL (CUT TO PCS) 7208 9.605 46750.00| 449033.75\", 'Note 1AIl payments should be made by crossed AIC Payce payable at Howrah Cheque/Draft Interest will be charged 24% PA. ifbill is not paid within 30 from Invoice date days 3 . Subject to Howrah Jurisdiction  4. Bank Details HDFC BANK LTD , Branch LILUAH AC No 50200005788310, IFSC Code : HDFCO0OOS3 L']\n",
      "[\"JAI MATA DI GT INVOICE (ISSUED UNDER SECTION 81 OF CENTRAL GOODS & SERVICE TAX ACT 2017) ORICINAL FOR RECIPIENT / DUPLICATE FOR TRANSPORTER TRIPLICATE FOR SUPPLIER / Extra copy VKASH UDYOG PROP JAIMATA DI COMMERCIAL PT LTD. 109/PHCIRISH GHOSH ROAD BELURMATH; HOWRAH PHONE : 0332655-8085 711 202 EMD vikashudyog: CNN NO 109@gmail.com U51lO9WB2OOTPTCii5] 88 GSTIN NO. 19AABCJ84O9LIZS STATE CODE WB 19) PAN No Inroice No VU/00300/20-21 AABCJ8409L Invoice Date 02/12/2020 Moe of Transport BY ROAD POrder No VERBAL Vehicle No WB-4IF-2170 POrder Date Date of Removal :02/12/2020 DETAILS OE RECEIVER (BILLED To ): E-WAY Bill No '8211 2831 6020 RN ENGINEERING WORKS DETAILS OE CONSIGNEE (SHIPPED TO) 1419, TINKORI NATH BOSE LANE, RN ENGINEERING WORKS HOWRAH - 6 14/1/9, TINKORI NATH BOSE LANE, HOWRAH - 6 GT No I9AMVPSO02ZPIZB PAN No AMVPSO022P GT No 19AMVPSO022PIZB STATE West Bengal PAN No AMVPSO022P STATE COD 19 STATE West Bengal STATE COD 19 SRL DESCRIPTION No: HSN CODE QTY RTE RIOFF (WT) PE MIT AMOUNT Being the cost of H R COIL (CUT TO PCS) 7208 9.605 46750.00| 449033.75\", 'Note 1AIl payments should be made by crossed AIC Payce payable at Howrah Cheque/Draft Interest will be charged 24% PA. ifbill is not paid within 30 from Invoice date days 3 . Subject to Howrah Jurisdiction  4. Bank Details HDFC BANK LTD , Branch LILUAH AC No 50200005788310, IFSC Code : HDFCO0OOS3 L', 'FOR   VIKASH UDYOG PROP JAI MATA DIEoMMEHCIAL PVT. LTD']\n",
      "*************************************************************************************************************\n",
      "Invoice (1)_page-0001.jpg\n",
      "C:/Users/Mula Ram/NLP/in/invoice_data/Invoice (1)_page-0001.jpg\n"
     ]
    },
    {
     "name": "stderr",
     "output_type": "stream",
     "text": [
      "CUDA not available - defaulting to CPU. Note: This module is much faster with a GPU.\n"
     ]
    },
    {
     "name": "stdout",
     "output_type": "stream",
     "text": [
      "['Ambuja Cement Limited ACL WH-Dankuni Ambuja Cement Limited Dankuni Clo Ram Pravesh Sharma Bonde Bill Dankuni( Warehouse 712311 Supplying State West Bengal Supplying State Code 19 GSTIN 19AAACGOS69P1Z4 Order No & Date 2807527941 24.07.2020 Sold_ToParty: 9121009591 Mob 9433070969 DEEP BUILDERS 34/2 BELGHACHIA ROAD PO-LLLUAH LILUAH LILUAH [HWH] HOWRAH 711204 State:West Bengal State Code:19 GSTIN UD: 19ALOPS6310EIZW']\n",
      "['Ambuja Cement Limited ACL WH-Dankuni Ambuja Cement Limited Dankuni Clo Ram Pravesh Sharma Bonde Bill Dankuni( Warehouse 712311 Supplying State West Bengal Supplying State Code 19 GSTIN 19AAACGOS69P1Z4 Order No & Date 2807527941 24.07.2020 Sold_ToParty: 9121009591 Mob 9433070969 DEEP BUILDERS 34/2 BELGHACHIA ROAD PO-LLLUAH LILUAH LILUAH [HWH] HOWRAH 711204 State:West Bengal State Code:19 GSTIN UD: 19ALOPS6310EIZW', 'For   Ambuja Cement Limited Sigadiba SSanxat']\n",
      "215\n",
      "['Ambuja Cement Limited ACL WH-Dankuni Ambuja Cement Limited Dankuni Clo Ram Pravesh Sharma Bonde Bill Dankuni( Warehouse 712311 Supplying State West Bengal Supplying State Code 19 GSTIN 19AAACGOS69P1Z4 Order No & Date 2807527941 24.07.2020 Sold_ToParty: 9121009591 Mob 9433070969 DEEP BUILDERS 34/2 BELGHACHIA ROAD PO-LLLUAH LILUAH LILUAH [HWH] HOWRAH 711204 State:West Bengal State Code:19 GSTIN UD: 19ALOPS6310EIZW', 'For   Ambuja Cement Limited Sigadiba SSanxat', 'Address - P. 0.Ambujanagar, Taluk Kodinar, Dist Gr Somath Gujnt Pin- 362715 PAN: AAACGOS69P CIN: L26942GJI98IPLC004717']\n",
      "*************************************************************************************************************\n",
      "Invoice (2)_page-0001.jpg\n",
      "C:/Users/Mula Ram/NLP/in/invoice_data/Invoice (2)_page-0001.jpg\n"
     ]
    },
    {
     "name": "stderr",
     "output_type": "stream",
     "text": [
      "CUDA not available - defaulting to CPU. Note: This module is much faster with a GPU.\n"
     ]
    },
    {
     "name": "stdout",
     "output_type": "stream",
     "text": [
      "['Ambuja Cement Limited ACL WH-Dankuni Ambuja Cement Limited Dankuni Clo Ram Pravesh Sharma Bonde Bill Dankuni( Warehouse 712311 Supplying State West Bengal Supplying State Code 19 GSTIN 19AAACGOS69P1Z4 Order No & Date 2807527941 24.07.2020 Sold_ToParty: 9121009591 Mob 9433070969 DEEP BUILDERS 34/2 BELGHACHIA ROAD PO-LLLUAH LILUAH LILUAH [HWH] HOWRAH 711204 State:West Bengal State Code:19 GSTIN UD: 19ALOPS6310EIZW']\n",
      "['Ambuja Cement Limited ACL WH-Dankuni Ambuja Cement Limited Dankuni Clo Ram Pravesh Sharma Bonde Bill Dankuni( Warehouse 712311 Supplying State West Bengal Supplying State Code 19 GSTIN 19AAACGOS69P1Z4 Order No & Date 2807527941 24.07.2020 Sold_ToParty: 9121009591 Mob 9433070969 DEEP BUILDERS 34/2 BELGHACHIA ROAD PO-LLLUAH LILUAH LILUAH [HWH] HOWRAH 711204 State:West Bengal State Code:19 GSTIN UD: 19ALOPS6310EIZW', 'For   Ambuja Cement Limited Sigadiba SSanxat']\n",
      "215\n",
      "['Ambuja Cement Limited ACL WH-Dankuni Ambuja Cement Limited Dankuni Clo Ram Pravesh Sharma Bonde Bill Dankuni( Warehouse 712311 Supplying State West Bengal Supplying State Code 19 GSTIN 19AAACGOS69P1Z4 Order No & Date 2807527941 24.07.2020 Sold_ToParty: 9121009591 Mob 9433070969 DEEP BUILDERS 34/2 BELGHACHIA ROAD PO-LLLUAH LILUAH LILUAH [HWH] HOWRAH 711204 State:West Bengal State Code:19 GSTIN UD: 19ALOPS6310EIZW', 'For   Ambuja Cement Limited Sigadiba SSanxat', 'Address - P. 0.Ambujanagar, Taluk Kodinar, Dist Gr Somath Gujnt Pin- 362715 PAN: AAACGOS69P CIN: L26942GJI98IPLC004717']\n",
      "*************************************************************************************************************\n",
      "Invoice (3)_page-0001.jpg\n",
      "C:/Users/Mula Ram/NLP/in/invoice_data/Invoice (3)_page-0001.jpg\n"
     ]
    },
    {
     "name": "stderr",
     "output_type": "stream",
     "text": [
      "CUDA not available - defaulting to CPU. Note: This module is much faster with a GPU.\n"
     ]
    },
    {
     "name": "stdout",
     "output_type": "stream",
     "text": [
      "['Ambuja Cement Limited ACL WH-Dankuni Ambuja Cement Limited Dankuni Clo Ram Pravesh Sharma Bonde Bill Dankuni( Warehouse 712311 Supplying State West Bengal Supplying State Code 19 GSTIN 19AAACGOS69P1Z4 Order No & Date 2807527941 24.07.2020 Sold_ToParty: 9121009591 Mob 9433070969 DEEP BUILDERS 34/2 BELGHACHIA ROAD PO-LLLUAH LILUAH LILUAH [HWH] HOWRAH 711204 State:West Bengal State Code:19 GSTIN UD: 19ALOPS6310EIZW']\n",
      "['Ambuja Cement Limited ACL WH-Dankuni Ambuja Cement Limited Dankuni Clo Ram Pravesh Sharma Bonde Bill Dankuni( Warehouse 712311 Supplying State West Bengal Supplying State Code 19 GSTIN 19AAACGOS69P1Z4 Order No & Date 2807527941 24.07.2020 Sold_ToParty: 9121009591 Mob 9433070969 DEEP BUILDERS 34/2 BELGHACHIA ROAD PO-LLLUAH LILUAH LILUAH [HWH] HOWRAH 711204 State:West Bengal State Code:19 GSTIN UD: 19ALOPS6310EIZW', 'For   Ambuja Cement Limited Sigadiba SSanxat']\n",
      "215\n",
      "['Ambuja Cement Limited ACL WH-Dankuni Ambuja Cement Limited Dankuni Clo Ram Pravesh Sharma Bonde Bill Dankuni( Warehouse 712311 Supplying State West Bengal Supplying State Code 19 GSTIN 19AAACGOS69P1Z4 Order No & Date 2807527941 24.07.2020 Sold_ToParty: 9121009591 Mob 9433070969 DEEP BUILDERS 34/2 BELGHACHIA ROAD PO-LLLUAH LILUAH LILUAH [HWH] HOWRAH 711204 State:West Bengal State Code:19 GSTIN UD: 19ALOPS6310EIZW', 'For   Ambuja Cement Limited Sigadiba SSanxat', 'Address - P. 0.Ambujanagar, Taluk Kodinar, Dist Gr Somath Gujnt Pin- 362715 PAN: AAACGOS69P CIN: L26942GJI98IPLC004717']\n",
      "*************************************************************************************************************\n",
      "Invoice_page-0001.jpg\n",
      "C:/Users/Mula Ram/NLP/in/invoice_data/Invoice_page-0001.jpg\n"
     ]
    },
    {
     "name": "stderr",
     "output_type": "stream",
     "text": [
      "CUDA not available - defaulting to CPU. Note: This module is much faster with a GPU.\n"
     ]
    },
    {
     "name": "stdout",
     "output_type": "stream",
     "text": [
      "['Ambuja Cement Limited ACL WH-Dankuni Ambuja Cement Limited Dankuni Clo Ram Pravesh Sharma Bonde Bill Dankuni( Warehouse 712311 Supplying State West Bengal Supplying State Code 19 GSTIN 19AAACGOS69P1Z4 Order No & Date 2807527941 24.07.2020 Sold_ToParty: 9121009591 Mob 9433070969 DEEP BUILDERS 34/2 BELGHACHIA ROAD PO-LLLUAH LILUAH LILUAH [HWH] HOWRAH 711204 State:West Bengal State Code:19 GSTIN UD: 19ALOPS6310EIZW']\n",
      "['Ambuja Cement Limited ACL WH-Dankuni Ambuja Cement Limited Dankuni Clo Ram Pravesh Sharma Bonde Bill Dankuni( Warehouse 712311 Supplying State West Bengal Supplying State Code 19 GSTIN 19AAACGOS69P1Z4 Order No & Date 2807527941 24.07.2020 Sold_ToParty: 9121009591 Mob 9433070969 DEEP BUILDERS 34/2 BELGHACHIA ROAD PO-LLLUAH LILUAH LILUAH [HWH] HOWRAH 711204 State:West Bengal State Code:19 GSTIN UD: 19ALOPS6310EIZW', 'For   Ambuja Cement Limited Sigadiba SSanxat']\n",
      "215\n",
      "['Ambuja Cement Limited ACL WH-Dankuni Ambuja Cement Limited Dankuni Clo Ram Pravesh Sharma Bonde Bill Dankuni( Warehouse 712311 Supplying State West Bengal Supplying State Code 19 GSTIN 19AAACGOS69P1Z4 Order No & Date 2807527941 24.07.2020 Sold_ToParty: 9121009591 Mob 9433070969 DEEP BUILDERS 34/2 BELGHACHIA ROAD PO-LLLUAH LILUAH LILUAH [HWH] HOWRAH 711204 State:West Bengal State Code:19 GSTIN UD: 19ALOPS6310EIZW', 'For   Ambuja Cement Limited Sigadiba SSanxat', 'Address - P. 0.Ambujanagar, Taluk Kodinar, Dist Gr Somath Gujnt Pin- 362715 PAN: AAACGOS69P CIN: L26942GJI98IPLC004717']\n",
      "*************************************************************************************************************\n",
      "Purchase February_page-0001.jpg\n",
      "C:/Users/Mula Ram/NLP/in/invoice_data/Purchase February_page-0001.jpg\n"
     ]
    },
    {
     "name": "stderr",
     "output_type": "stream",
     "text": [
      "CUDA not available - defaulting to CPU. Note: This module is much faster with a GPU.\n"
     ]
    },
    {
     "name": "stdout",
     "output_type": "stream",
     "text": [
      "['MA SARADA STEELS FACTORY HOWRAH: 33.34,36/9, DASARATH GHOSH LANE OFFICE 101 104,DESH RAN SASMAL ROADHOWRAH-71110  GS TINIUIN: 19ABAFS1528C1ZI State Name West Bengal Code 19 ~Mail masarda steels@gmall cm Consignee R.N; ENGINEERING WORKS 14/1 TIN KORI BOSH LANE, SALKIA, HOWRAH 7713 1102 GSTINIUIN 19AMVPSOOZZPIZB State Name West Bengal Code 19 Buyer (if other than consignee) RN; ENGINEERING WORKS 14/1. TIN KORI BOSH LANE SALKIA, HOWRAH -711102 GSTINIUIN 19AMVPSOO2ZPIZB State Name West Bengal, Code 19']\n",
      "*************************************************************************************************************\n",
      "Purchase February_page-0002.jpg\n",
      "C:/Users/Mula Ram/NLP/in/invoice_data/Purchase February_page-0002.jpg\n"
     ]
    },
    {
     "name": "stderr",
     "output_type": "stream",
     "text": [
      "CUDA not available - defaulting to CPU. Note: This module is much faster with a GPU.\n"
     ]
    },
    {
     "name": "stdout",
     "output_type": "stream",
     "text": [
      "['(ISSUED UNDER SECTION 31 OF CENTRAL GOODS & SERVICE TA ACT 2017) ORIGINAL FOR RECIPIENT DUFLICATE FOR TRANSPORTER TRIPLICATE FOR SUPPLIER Extra copy VIKASH UDYOG PROP JAIMATA DL COMMERCIAL PVT. LTD 109/2, GIRISH GHOSH ROAD, BELURMATH, HOWRAH 711202 PHONE 0332655-8085, E/ID vikashudyog: 109@gmail.com CN NO USHOOWBZOOTPTC415I88 GSTIN NO 19AABCJS4OOLIZS STATE COD WB (19 PAN No. AABCJ84O9L Invoice No VU/00392/20-21 Moe of Transport BY ROAD Invoice Date 05/02/2021 Vehicle No WB-4IF-2170 P Order No. VERBAL Date of Rcmoval :05/02/2021 POrder Date E-WAY Bill No :8411.3983 3895 DETAILS OF RECEIVER (BILLED TO DETAILS OF CONSIGNEE (SHIPPED TO) ; RN ENGINEERING WORKS R N ENGINEERING WORKS 14/1/9, TINKORI NAT BOSE LANE, 14/1/9, TINKORI NAT BOSE LANE, HOWRAH - 6 HOWRAH']\n",
      "['(ISSUED UNDER SECTION 31 OF CENTRAL GOODS & SERVICE TA ACT 2017) ORIGINAL FOR RECIPIENT DUFLICATE FOR TRANSPORTER TRIPLICATE FOR SUPPLIER Extra copy VIKASH UDYOG PROP JAIMATA DL COMMERCIAL PVT. LTD 109/2, GIRISH GHOSH ROAD, BELURMATH, HOWRAH 711202 PHONE 0332655-8085, E/ID vikashudyog: 109@gmail.com CN NO USHOOWBZOOTPTC415I88 GSTIN NO 19AABCJS4OOLIZS STATE COD WB (19 PAN No. AABCJ84O9L Invoice No VU/00392/20-21 Moe of Transport BY ROAD Invoice Date 05/02/2021 Vehicle No WB-4IF-2170 P Order No. VERBAL Date of Rcmoval :05/02/2021 POrder Date E-WAY Bill No :8411.3983 3895 DETAILS OF RECEIVER (BILLED TO DETAILS OF CONSIGNEE (SHIPPED TO) ; RN ENGINEERING WORKS R N ENGINEERING WORKS 14/1/9, TINKORI NAT BOSE LANE, 14/1/9, TINKORI NAT BOSE LANE, HOWRAH - 6 HOWRAH', 'GT No I9AMVPSOO2ZPIZB PAN No AMVPSOO22P STATE West Bengal STATE COD 19']\n",
      "['(ISSUED UNDER SECTION 31 OF CENTRAL GOODS & SERVICE TA ACT 2017) ORIGINAL FOR RECIPIENT DUFLICATE FOR TRANSPORTER TRIPLICATE FOR SUPPLIER Extra copy VIKASH UDYOG PROP JAIMATA DL COMMERCIAL PVT. LTD 109/2, GIRISH GHOSH ROAD, BELURMATH, HOWRAH 711202 PHONE 0332655-8085, E/ID vikashudyog: 109@gmail.com CN NO USHOOWBZOOTPTC415I88 GSTIN NO 19AABCJS4OOLIZS STATE COD WB (19 PAN No. AABCJ84O9L Invoice No VU/00392/20-21 Moe of Transport BY ROAD Invoice Date 05/02/2021 Vehicle No WB-4IF-2170 P Order No. VERBAL Date of Rcmoval :05/02/2021 POrder Date E-WAY Bill No :8411.3983 3895 DETAILS OF RECEIVER (BILLED TO DETAILS OF CONSIGNEE (SHIPPED TO) ; RN ENGINEERING WORKS R N ENGINEERING WORKS 14/1/9, TINKORI NAT BOSE LANE, 14/1/9, TINKORI NAT BOSE LANE, HOWRAH - 6 HOWRAH', 'GT No I9AMVPSOO2ZPIZB PAN No AMVPSOO22P STATE West Bengal STATE COD 19', 'GST No 19AMVPSO02ZPIZB PAN No AMVPSO022P STATE West Bengal STATE COD 19']\n",
      "['(ISSUED UNDER SECTION 31 OF CENTRAL GOODS & SERVICE TA ACT 2017) ORIGINAL FOR RECIPIENT DUFLICATE FOR TRANSPORTER TRIPLICATE FOR SUPPLIER Extra copy VIKASH UDYOG PROP JAIMATA DL COMMERCIAL PVT. LTD 109/2, GIRISH GHOSH ROAD, BELURMATH, HOWRAH 711202 PHONE 0332655-8085, E/ID vikashudyog: 109@gmail.com CN NO USHOOWBZOOTPTC415I88 GSTIN NO 19AABCJS4OOLIZS STATE COD WB (19 PAN No. AABCJ84O9L Invoice No VU/00392/20-21 Moe of Transport BY ROAD Invoice Date 05/02/2021 Vehicle No WB-4IF-2170 P Order No. VERBAL Date of Rcmoval :05/02/2021 POrder Date E-WAY Bill No :8411.3983 3895 DETAILS OF RECEIVER (BILLED TO DETAILS OF CONSIGNEE (SHIPPED TO) ; RN ENGINEERING WORKS R N ENGINEERING WORKS 14/1/9, TINKORI NAT BOSE LANE, 14/1/9, TINKORI NAT BOSE LANE, HOWRAH - 6 HOWRAH', 'GT No I9AMVPSOO2ZPIZB PAN No AMVPSOO22P STATE West Bengal STATE COD 19', 'GST No 19AMVPSO02ZPIZB PAN No AMVPSO022P STATE West Bengal STATE COD 19', 'Note 1. All payments should be made by crossed AIC Payee ChequelDraft payable at Howrah 2. Interest will be charged @ 24% PA if bill is not paid within 30 days from Invoice date 3 . Subject to Howrah Jurisdiction 4. Bank Details HDFC BANK LTD , Branch LILUAH AIC No 50200005788310, IFSC Code HDFC0000S3 [']\n",
      "['(ISSUED UNDER SECTION 31 OF CENTRAL GOODS & SERVICE TA ACT 2017) ORIGINAL FOR RECIPIENT DUFLICATE FOR TRANSPORTER TRIPLICATE FOR SUPPLIER Extra copy VIKASH UDYOG PROP JAIMATA DL COMMERCIAL PVT. LTD 109/2, GIRISH GHOSH ROAD, BELURMATH, HOWRAH 711202 PHONE 0332655-8085, E/ID vikashudyog: 109@gmail.com CN NO USHOOWBZOOTPTC415I88 GSTIN NO 19AABCJS4OOLIZS STATE COD WB (19 PAN No. AABCJ84O9L Invoice No VU/00392/20-21 Moe of Transport BY ROAD Invoice Date 05/02/2021 Vehicle No WB-4IF-2170 P Order No. VERBAL Date of Rcmoval :05/02/2021 POrder Date E-WAY Bill No :8411.3983 3895 DETAILS OF RECEIVER (BILLED TO DETAILS OF CONSIGNEE (SHIPPED TO) ; RN ENGINEERING WORKS R N ENGINEERING WORKS 14/1/9, TINKORI NAT BOSE LANE, 14/1/9, TINKORI NAT BOSE LANE, HOWRAH - 6 HOWRAH', 'GT No I9AMVPSOO2ZPIZB PAN No AMVPSOO22P STATE West Bengal STATE COD 19', 'GST No 19AMVPSO02ZPIZB PAN No AMVPSO022P STATE West Bengal STATE COD 19', 'Note 1. All payments should be made by crossed AIC Payee ChequelDraft payable at Howrah 2. Interest will be charged @ 24% PA if bill is not paid within 30 days from Invoice date 3 . Subject to Howrah Jurisdiction 4. Bank Details HDFC BANK LTD , Branch LILUAH AIC No 50200005788310, IFSC Code HDFC0000S3 [', 'FOR   VIKASH UDYOG PROP JAI MATA DL CDMMERCLAL PVT: LTD']\n",
      "*************************************************************************************************************\n",
      "Purchase February_page-0003.jpg\n",
      "C:/Users/Mula Ram/NLP/in/invoice_data/Purchase February_page-0003.jpg\n"
     ]
    },
    {
     "name": "stderr",
     "output_type": "stream",
     "text": [
      "CUDA not available - defaulting to CPU. Note: This module is much faster with a GPU.\n"
     ]
    },
    {
     "name": "stdout",
     "output_type": "stream",
     "text": [
      "[\"SELLER'S COPY TRANSPORTER'S COPY ORIGINAL FOR BUYER'S Mob 9874394550 Mob 9883248504 Al subject to Howrah Jurisdiction TAX INVOICE CM CHALLAN SHREE RAM STEEL CORPORAUTION ME TA MERCHANTS & GENERAL ORDER SUPPLIERS NW & OLD IRON Howrah-711 101, West Bengal State Code-19 Office 129, Belilious Road (Rodol Road (ROOmNo. 26), Howrah-71i 101 Godown 129, Belilious Road\"]\n",
      "[\"SELLER'S COPY TRANSPORTER'S COPY ORIGINAL FOR BUYER'S Mob 9874394550 Mob 9883248504 Al subject to Howrah Jurisdiction TAX INVOICE CM CHALLAN SHREE RAM STEEL CORPORAUTION ME TA MERCHANTS & GENERAL ORDER SUPPLIERS NW & OLD IRON Howrah-711 101, West Bengal State Code-19 Office 129, Belilious Road (Rodol Road (ROOmNo. 26), Howrah-71i 101 Godown 129, Belilious Road\", 'PAN No ABKFSZGGOP GSTIN 19ABKFSZGGOPAZE 139 20 - 21 Tax Invoice No Date 6.2 21']\n",
      "[\"SELLER'S COPY TRANSPORTER'S COPY ORIGINAL FOR BUYER'S Mob 9874394550 Mob 9883248504 Al subject to Howrah Jurisdiction TAX INVOICE CM CHALLAN SHREE RAM STEEL CORPORAUTION ME TA MERCHANTS & GENERAL ORDER SUPPLIERS NW & OLD IRON Howrah-711 101, West Bengal State Code-19 Office 129, Belilious Road (Rodol Road (ROOmNo. 26), Howrah-71i 101 Godown 129, Belilious Road\", 'PAN No ABKFSZGGOP GSTIN 19ABKFSZGGOPAZE 139 20 - 21 Tax Invoice No Date 6.2 21', 'Delivery Charge 12 00 60 Total 56 331 e0 CGST@ % 5070  SGST@ % 5070 0 Sity Sin Ieun A bykud%evestt Rupees IGST@ % Ohe BUL Round Of PLEASE PA BY AC PAYEE CHEQUE ONLY Grand Total 664 U 1 Bank Details_ E: & 0 E CENTRAL BANK OF INDIA Narasingha Dutta Collage Howrah-711101 Wac : C8735205630 No 1795205030 Alc: subject to Howrah Jurisdiction. For Shree Ram Steel Corporation All ~02-2 | ha Nv 0| 8 10 3 & ']\n",
      "*************************************************************************************************************\n",
      "Purchase February_page-0004.jpg\n",
      "C:/Users/Mula Ram/NLP/in/invoice_data/Purchase February_page-0004.jpg\n"
     ]
    },
    {
     "name": "stderr",
     "output_type": "stream",
     "text": [
      "CUDA not available - defaulting to CPU. Note: This module is much faster with a GPU.\n"
     ]
    },
    {
     "name": "stdout",
     "output_type": "stream",
     "text": [
      "['MA SARADA FACTORY STEELS 33,34,36/9, DASARATH GHOSH LAN HOWRAH-71~ OFFICE 101 104,DESH RAN SASMAL ROAD HOWRAH-71110T GSTINIUIN: 19ABAFS1528C121 State Name West Bengal, Code 19 E-Mail masarda steels@gmail cm Consignee RN: ENGINEERING WORKS 14/1_ IN KORI BOSH LANE; SALKIA, HOWRAH \"711102 GSTINIUIN 19AMVPSOO22PIZB State Name West Bengal, Code 19']\n",
      "['MA SARADA FACTORY STEELS 33,34,36/9, DASARATH GHOSH LAN HOWRAH-71~ OFFICE 101 104,DESH RAN SASMAL ROAD HOWRAH-71110T GSTINIUIN: 19ABAFS1528C121 State Name West Bengal, Code 19 E-Mail masarda steels@gmail cm Consignee RN: ENGINEERING WORKS 14/1_ IN KORI BOSH LANE; SALKIA, HOWRAH \"711102 GSTINIUIN 19AMVPSOO22PIZB State Name West Bengal, Code 19', 'Buyer (if other than consignee) RN ENGINEERING WORKS 14/1 _ TIN KORI BOSH LANE_ SALKIA, HOWRAH -71- 1102 GSTINIUIN 19AMVPSOOZZPIZB State Name West Bengal Code 19']\n",
      "*************************************************************************************************************\n",
      "Purchase February_page-0005.jpg\n",
      "C:/Users/Mula Ram/NLP/in/invoice_data/Purchase February_page-0005.jpg\n"
     ]
    },
    {
     "name": "stderr",
     "output_type": "stream",
     "text": [
      "CUDA not available - defaulting to CPU. Note: This module is much faster with a GPU.\n"
     ]
    },
    {
     "name": "stdout",
     "output_type": "stream",
     "text": [
      "*************************************************************************************************************\n",
      "Purchase February_page-0006.jpg\n",
      "C:/Users/Mula Ram/NLP/in/invoice_data/Purchase February_page-0006.jpg\n"
     ]
    },
    {
     "name": "stderr",
     "output_type": "stream",
     "text": [
      "CUDA not available - defaulting to CPU. Note: This module is much faster with a GPU.\n"
     ]
    },
    {
     "name": "stdout",
     "output_type": "stream",
     "text": [
      "['Details of Consignee (Shipped to): RNENGINEERING WORKS 14/1 Tinkori nath bose lane Howrah-711106 WEST BENGAL State Code 19 GT NO 19AMVPSO022PIZB TRANSPORT MAME LR No: LR DT: GST NO Dispatch Through Lony no - WB 11E4061 HS Code aty UOM Rate Amount 7208 2640.00 KGS: 54.00 142560.00']\n",
      "*************************************************************************************************************\n",
      "Purchase February_page-0007.jpg\n",
      "C:/Users/Mula Ram/NLP/in/invoice_data/Purchase February_page-0007.jpg\n"
     ]
    },
    {
     "name": "stderr",
     "output_type": "stream",
     "text": [
      "CUDA not available - defaulting to CPU. Note: This module is much faster with a GPU.\n"
     ]
    },
    {
     "name": "stdout",
     "output_type": "stream",
     "text": [
      "[\"TA InvoiCE Cum CHALLAN Devshar Invoice No Retail Pvt; Ltd, 121_ J N Mukherjee Road DRPL/2020-21/830 Plot No 12814, Ghusuri, Howrah 711107 Delivery Note M-933 111473 SSTIN UIN: {BAACCDG186B1ZF State 19 Supplier's Ref Name West Bengal, Code CIN; U5/109WBZOOGPTC11319 E-Mail devshar retail@gmal cm Buyer'$ Order No. Consignee RN_ Engineering Works Despatch Document No 14/1, Teenkudinath Bose Lane Howrah-711101 Despatched Ihrough GSTINIUIN 19AMVPSOO22P1ZB State Name West Bengal, Code 19 3 VA Terms of Delivery EX-GODOWN\"]\n",
      "[\"TA InvoiCE Cum CHALLAN Devshar Invoice No Retail Pvt; Ltd, 121_ J N Mukherjee Road DRPL/2020-21/830 Plot No 12814, Ghusuri, Howrah 711107 Delivery Note M-933 111473 SSTIN UIN: {BAACCDG186B1ZF State 19 Supplier's Ref Name West Bengal, Code CIN; U5/109WBZOOGPTC11319 E-Mail devshar retail@gmal cm Buyer'$ Order No. Consignee RN_ Engineering Works Despatch Document No 14/1, Teenkudinath Bose Lane Howrah-711101 Despatched Ihrough GSTINIUIN 19AMVPSOO22P1ZB State Name West Bengal, Code 19 3 VA Terms of Delivery EX-GODOWN\", 'Buyer (if other han consignee) RN.Engineering Works 14/1, Teenkudinath Bose Lane Howrah-711101 GSTINIUIN 19AMVPSOO2ZP1ZB State Name West Bengal, Code 19']\n",
      "[\"TA InvoiCE Cum CHALLAN Devshar Invoice No Retail Pvt; Ltd, 121_ J N Mukherjee Road DRPL/2020-21/830 Plot No 12814, Ghusuri, Howrah 711107 Delivery Note M-933 111473 SSTIN UIN: {BAACCDG186B1ZF State 19 Supplier's Ref Name West Bengal, Code CIN; U5/109WBZOOGPTC11319 E-Mail devshar retail@gmal cm Buyer'$ Order No. Consignee RN_ Engineering Works Despatch Document No 14/1, Teenkudinath Bose Lane Howrah-711101 Despatched Ihrough GSTINIUIN 19AMVPSOO22P1ZB State Name West Bengal, Code 19 3 VA Terms of Delivery EX-GODOWN\", 'Buyer (if other han consignee) RN.Engineering Works 14/1, Teenkudinath Bose Lane Howrah-711101 GSTINIUIN 19AMVPSOO2ZP1ZB State Name West Bengal, Code 19', \"Company's VT TIN 19723303038 Company's CS No Company's Bank Details 19723303232 Buyers VA TIN Bank Name 19691390038 The South Indian Bank Ltd Company's PAN AJc No AACCD618GB 0459073000001310 Branch & IS Code LILUAH; HOWRAH & SIBLO000459 Declaration We declare that this invoice shows the actual price of the goods for Devshar Retail Pvt Ltd. described and that all particular are true and correct  Authorised Signatory This is a Computer Generated Invoice Vua 0c *\"]\n",
      "*************************************************************************************************************\n",
      "Purchase February_page-0008.jpg\n",
      "C:/Users/Mula Ram/NLP/in/invoice_data/Purchase February_page-0008.jpg\n"
     ]
    },
    {
     "name": "stderr",
     "output_type": "stream",
     "text": [
      "CUDA not available - defaulting to CPU. Note: This module is much faster with a GPU.\n"
     ]
    },
    {
     "name": "stdout",
     "output_type": "stream",
     "text": [
      "['Phone (033) 2655-5575 Original Recipient Subject to Howrah Jurisdiction only Duplicate for Transporter Triplicate for Supplier Chhaparia Brothers Iron & Steel Dealers and General Order Suppliers 109/2/2, GIRISH GHOSH ROAD, BELURMATH HOWRAH GSTIN 71] 202 19ACJPAO769RIZO both (O) represents zero State Code 19 Moe of Transportation By Road Serial No of Invoice CBI 23 2 2 Vehicle No. k( L ( C - 3i+ Date of Invoice X7-02 - 2021, Date & Time of Supply 15 -0 2 ~ 2o2 [ Details of Receiver Billed to Details of Consignee Shipped to Name r( En66 ha (Uc > Q0 N Name ErG . Loec)']\n",
      "3\n",
      "['Phone (033) 2655-5575 Original Recipient Subject to Howrah Jurisdiction only Duplicate for Transporter Triplicate for Supplier Chhaparia Brothers Iron & Steel Dealers and General Order Suppliers 109/2/2, GIRISH GHOSH ROAD, BELURMATH HOWRAH GSTIN 71] 202 19ACJPAO769RIZO both (O) represents zero State Code 19 Moe of Transportation By Road Serial No of Invoice CBI 23 2 2 Vehicle No. k( L ( C - 3i+ Date of Invoice X7-02 - 2021, Date & Time of Supply 15 -0 2 ~ 2o2 [ Details of Receiver Billed to Details of Consignee Shipped to Name r( En66 ha (Uc > Q0 N Name ErG . Loec)', 'Address 77 9 Le Net (oc Dddct dsl +n - (']\n",
      "['Phone (033) 2655-5575 Original Recipient Subject to Howrah Jurisdiction only Duplicate for Transporter Triplicate for Supplier Chhaparia Brothers Iron & Steel Dealers and General Order Suppliers 109/2/2, GIRISH GHOSH ROAD, BELURMATH HOWRAH GSTIN 71] 202 19ACJPAO769RIZO both (O) represents zero State Code 19 Moe of Transportation By Road Serial No of Invoice CBI 23 2 2 Vehicle No. k( L ( C - 3i+ Date of Invoice X7-02 - 2021, Date & Time of Supply 15 -0 2 ~ 2o2 [ Details of Receiver Billed to Details of Consignee Shipped to Name r( En66 ha (Uc > Q0 N Name ErG . Loec)', 'Address 77 9 Le Net (oc Dddct dsl +n - (', 'su4l6a 7-&; Add : IGST % Rupees (in words) , S}+ Alc) Nnlg TCS T T_p N  HA ? Total Value 6 9398 (=l6d Exs Lo 8 Round Off Acla <+-ko Terms & Condition TOTAL RS_ 693982-9 Goods once sold will not be taken back or exchanged Payment to be made by Ac payee Cheque RTGS NEFT For CHHAPARIA BROTHERS Delayed payment will be charged 18% p.a. extra Seller is not responsible for any loss or damage of goods in transit Authofifed Signatory']\n",
      "*************************************************************************************************************\n",
      "Purchase February_page-0009.jpg\n",
      "C:/Users/Mula Ram/NLP/in/invoice_data/Purchase February_page-0009.jpg\n"
     ]
    },
    {
     "name": "stderr",
     "output_type": "stream",
     "text": [
      "CUDA not available - defaulting to CPU. Note: This module is much faster with a GPU.\n"
     ]
    },
    {
     "name": "stdout",
     "output_type": "stream",
     "text": [
      "415\n",
      "['Address (4l+ikaumNc&Bo{ Address l4lHn lumiteHh Ibak < Hexnz Leme_Scxuiy:_Keux lonc ScC 49 State KICSE Echa R State Code : [9 State Ucst Ongc  ( State Code 11AmVPS 00.22 P4z GSTIN (LnmV p<ee220428 GSTIN HS WEIGHT AMOUNT SI DESCRIPTION OF GOODS RATE CODE Kg: Gm_ Rs_ No HQCiBCcutFopes) 7z 8234 Ka sacovg Socs?2 PimK']\n",
      "*************************************************************************************************************\n",
      "Purchase February_page-0010.jpg\n",
      "C:/Users/Mula Ram/NLP/in/invoice_data/Purchase February_page-0010.jpg\n"
     ]
    },
    {
     "name": "stderr",
     "output_type": "stream",
     "text": [
      "CUDA not available - defaulting to CPU. Note: This module is much faster with a GPU.\n"
     ]
    },
    {
     "name": "stdout",
     "output_type": "stream",
     "text": [
      "431\n",
      "['Address (4l Hnkeccwj IC Ha Bo f € Address 14/ fnlee) Nce fl1 bee < Lone Salte |Ceeexl_< Lna Scl Vtc ououlI- ( State Wes HcHJecl state Code 11 State : Cest Gwso State Code J9 GSTIN IL4mV PSQ022 PAzB GSTIN Jaamv 012 0420 Si No DESCRIPTION OF GOODS HS WEIGHT CODE RTE AMOUnT Kg Gm Ra H-ACou ( cu++oP4p ) 720% 537$ K Gloo 329095 kmt']\n",
      "*************************************************************************************************************\n",
      "Purchase Tax Invoice July,2020_page-0001.jpg\n",
      "C:/Users/Mula Ram/NLP/in/invoice_data/Purchase Tax Invoice July,2020_page-0001.jpg\n"
     ]
    },
    {
     "name": "stderr",
     "output_type": "stream",
     "text": [
      "CUDA not available - defaulting to CPU. Note: This module is much faster with a GPU.\n"
     ]
    },
    {
     "name": "stdout",
     "output_type": "stream",
     "text": [
      "[\"GSI INVOICE Original for Buyer BAIJNATH & SNS 41, HOUSE OF ALLOY STEEL 22 , STRAND ROAD, KOLKATA - 1,Ph_ 2230-2777 , 2243-4349 email baijnath kolkata@gmail cm GSTIN 19AADFB7OISRZZO, PAN No AADFBZOISR Invoice No Transport Mode Taxi_ Invoice Date Vehicle Number Order No. exbe Date of Supply Order Date Place of Supply Buyer's Details Shipping Details (Place of Supply Ws_ I L UiL Ws_ Ezginee2i2] Mdle_Jbarehal Howscas 1302 GSTIN LIAIRPP 88I5ELZM_ GSTIN Product Description HS Quantity Rate Amount Code Rs.\"]\n",
      "[\"GSI INVOICE Original for Buyer BAIJNATH & SNS 41, HOUSE OF ALLOY STEEL 22 , STRAND ROAD, KOLKATA - 1,Ph_ 2230-2777 , 2243-4349 email baijnath kolkata@gmail cm GSTIN 19AADFB7OISRZZO, PAN No AADFBZOISR Invoice No Transport Mode Taxi_ Invoice Date Vehicle Number Order No. exbe Date of Supply Order Date Place of Supply Buyer's Details Shipping Details (Place of Supply Ws_ I L UiL Ws_ Ezginee2i2] Mdle_Jbarehal Howscas 1302 GSTIN LIAIRPP 88I5ELZM_ GSTIN Product Description HS Quantity Rate Amount Code Rs.\", 'Terms & Conditions Goods once sold cannot ba refunded without our approval Our responsiblity ceases Mnc goods  leave Our godown Please pay by RTGS, NEF or Nc Payee Cheque only:']\n",
      "*************************************************************************************************************\n",
      "Purchase Tax Invoice July,2020_page-0002.jpg\n",
      "C:/Users/Mula Ram/NLP/in/invoice_data/Purchase Tax Invoice July,2020_page-0002.jpg\n"
     ]
    },
    {
     "name": "stderr",
     "output_type": "stream",
     "text": [
      "CUDA not available - defaulting to CPU. Note: This module is much faster with a GPU.\n"
     ]
    },
    {
     "name": "stdout",
     "output_type": "stream",
     "text": [
      "[\"GSI INVQICE Original for Buyer BAIJNATH & SNS 41, HOUSE OF ALLOY STEEL 22 , STRAND ROAD, KOLKATA - 1,Ph_ 2230-2777 ,2243-4349 email baijnath kolkata@gmail cm GSTIN 19AADFB7OISRZZO, PAN No AADFBZOISR Invoice No Transport Moe Taxi_ Invoice Date Vehicle Number Order No. bel Date of Supply Order Date Place of Supply Buyer's Details Shipping Details (Place of Supply) Ms_ I L_ UniL Ws_ Ezginee2i2] Mdle_Jborehal Howscas 1302 GSTIN LIAIRPP 88I5ELZM_ GSTIN Product Description HS Quantity Rate Amount Code Rs.\"]\n",
      "[\"GSI INVQICE Original for Buyer BAIJNATH & SNS 41, HOUSE OF ALLOY STEEL 22 , STRAND ROAD, KOLKATA - 1,Ph_ 2230-2777 ,2243-4349 email baijnath kolkata@gmail cm GSTIN 19AADFB7OISRZZO, PAN No AADFBZOISR Invoice No Transport Moe Taxi_ Invoice Date Vehicle Number Order No. bel Date of Supply Order Date Place of Supply Buyer's Details Shipping Details (Place of Supply) Ms_ I L_ UniL Ws_ Ezginee2i2] Mdle_Jborehal Howscas 1302 GSTIN LIAIRPP 88I5ELZM_ GSTIN Product Description HS Quantity Rate Amount Code Rs.\", 'Rupees_ Nen;= ExbE+uc  Elebl DeliveryICutting Charge byodstez ILS OK Taxable Total Bank Details Bank Details Add CGST @ 9% Bank Name UNITED BANK OF INDIA Bank Name STATE BANK OF INDIA Add SGST @ 9% Branch Kolkata Branch 0084 Branch N.S. Road Alc: No 0084050003821 Alc: No. 11107795325 Add : IGST 18% IFSC UTBIOCAL107 IFSC SBINOOO0144 Rounded Off +F']\n",
      "[\"GSI INVQICE Original for Buyer BAIJNATH & SNS 41, HOUSE OF ALLOY STEEL 22 , STRAND ROAD, KOLKATA - 1,Ph_ 2230-2777 ,2243-4349 email baijnath kolkata@gmail cm GSTIN 19AADFB7OISRZZO, PAN No AADFBZOISR Invoice No Transport Moe Taxi_ Invoice Date Vehicle Number Order No. bel Date of Supply Order Date Place of Supply Buyer's Details Shipping Details (Place of Supply) Ms_ I L_ UniL Ws_ Ezginee2i2] Mdle_Jborehal Howscas 1302 GSTIN LIAIRPP 88I5ELZM_ GSTIN Product Description HS Quantity Rate Amount Code Rs.\", 'Rupees_ Nen;= ExbE+uc  Elebl DeliveryICutting Charge byodstez ILS OK Taxable Total Bank Details Bank Details Add CGST @ 9% Bank Name UNITED BANK OF INDIA Bank Name STATE BANK OF INDIA Add SGST @ 9% Branch Kolkata Branch 0084 Branch N.S. Road Alc: No 0084050003821 Alc: No. 11107795325 Add : IGST 18% IFSC UTBIOCAL107 IFSC SBINOOO0144 Rounded Off +F', 'Terms & Conditions Goods once sold cannot be refunded without our approval Our responsiblity cease cnce goods  leave Our godown Please pay by RTGS, NEF or Nc Payee Cheque only:']\n",
      "*************************************************************************************************************\n",
      "Purchase Tax Invoice July,2020_page-0003.jpg\n",
      "C:/Users/Mula Ram/NLP/in/invoice_data/Purchase Tax Invoice July,2020_page-0003.jpg\n"
     ]
    },
    {
     "name": "stderr",
     "output_type": "stream",
     "text": [
      "CUDA not available - defaulting to CPU. Note: This module is much faster with a GPU.\n"
     ]
    },
    {
     "name": "stdout",
     "output_type": "stream",
     "text": [
      "[\"GSIINVOICE Original for Buyer BAIJNATH & SONS 43 HOUSE OF ALLOY STEEL 22, STRAND ROAD, KOLKATA - 1, Ph: 2230-2777 ,2243-4349 e-mail baijnath kolkata@gmail co GSTIN 19AADFB7OISR2ZO, PAN No: AADFBZOISR Invoice No 43 Transport Mode Py TASI_ Invoice Date 0C 032020 _ Vehicle Number Wg196BoEC Order No. VerbaL_ Date of Supply Order Date Place of Supply Buyer's Details Shipping Details (Place of Supply) Ws_ LL UneL Ms Exgineerirg Middle_thoxehat Ady towrah H302 GSTIN 19AJRPE g815ELZM GSTIN : Product Description HSN Quantity Rate Amount Code Rs_\"]\n",
      "[\"GSIINVOICE Original for Buyer BAIJNATH & SONS 43 HOUSE OF ALLOY STEEL 22, STRAND ROAD, KOLKATA - 1, Ph: 2230-2777 ,2243-4349 e-mail baijnath kolkata@gmail co GSTIN 19AADFB7OISR2ZO, PAN No: AADFBZOISR Invoice No 43 Transport Mode Py TASI_ Invoice Date 0C 032020 _ Vehicle Number Wg196BoEC Order No. VerbaL_ Date of Supply Order Date Place of Supply Buyer's Details Shipping Details (Place of Supply) Ws_ LL UneL Ms Exgineerirg Middle_thoxehat Ady towrah H302 GSTIN 19AJRPE g815ELZM GSTIN : Product Description HSN Quantity Rate Amount Code Rs_\", 'Rupees_ Tzeen thueu_ Ee DeliveryICutting Charge hymed 232 0 Taxable Total TSESp2 Bank Details Bank Details Add CGST @ 9% [05Lks Bank Name UNITED BANK OF INDIA Bank Name STATE BANK OF INDIA N.S Road Add SGST @ 9% Branch Kolkata Branch 0084 Branch LoSLles Alc No. 0084050003621 Alc: No. 11107795325 Add IGST @ 18% IFSC UTBIOCAL1O7 IFSC SBINOO00144 Rounded Off +F- 30 AL SUBJECT To KOLKATA JURISDICTION Grand Total 378862 Terms & Conditions For  SONS Goods once sold cannot be refunded without our approval . Our responsibility ceases Tex\"HrJanw& once goods leave our godown: Please pay by RTGS, NEF or Alc Payee Cheque oly: Authorised Signatory']\n",
      "*************************************************************************************************************\n",
      "Purchase Tax Invoice July,2020_page-0004.jpg\n",
      "C:/Users/Mula Ram/NLP/in/invoice_data/Purchase Tax Invoice July,2020_page-0004.jpg\n"
     ]
    },
    {
     "name": "stderr",
     "output_type": "stream",
     "text": [
      "CUDA not available - defaulting to CPU. Note: This module is much faster with a GPU.\n"
     ]
    },
    {
     "name": "stdout",
     "output_type": "stream",
     "text": [
      "166\n",
      "['ADDRESS MANICKPUR,DELTA MILL,SANKRAIL, HOWRAH 711313 GT IN19AQOPN1034F1ZU [NVOICENO: 01/0712021 PRODUCT NAME DATE QF ISSUE: 06-07-2020 AGANSTWIONO: ORDER NO DATE QF SUPPLY  ORDER DATE  PLACE QF SUPPLY: ISTATB: EST BENGAL CODB- 19 BILL TO PARTY SHIP TO PARTY L ENGINEERING UNIT L ENGINEERING UNIT MIDDLE JHORTHAT,JHOREHAT MIDDLE JHORTHAT,JHOREHAT SANKRAIL, HOWRAH 711302 SANKRAILHOWRAH 711302']\n",
      "['ADDRESS MANICKPUR,DELTA MILL,SANKRAIL, HOWRAH 711313 GT IN19AQOPN1034F1ZU [NVOICENO: 01/0712021 PRODUCT NAME DATE QF ISSUE: 06-07-2020 AGANSTWIONO: ORDER NO DATE QF SUPPLY  ORDER DATE  PLACE QF SUPPLY: ISTATB: EST BENGAL CODB- 19 BILL TO PARTY SHIP TO PARTY L ENGINEERING UNIT L ENGINEERING UNIT MIDDLE JHORTHAT,JHOREHAT MIDDLE JHORTHAT,JHOREHAT SANKRAIL, HOWRAH 711302 SANKRAILHOWRAH 711302', 'GT NO 19AJRPP8815E1ZM STATE  WEST BENGAL']\n",
      "['ADDRESS MANICKPUR,DELTA MILL,SANKRAIL, HOWRAH 711313 GT IN19AQOPN1034F1ZU [NVOICENO: 01/0712021 PRODUCT NAME DATE QF ISSUE: 06-07-2020 AGANSTWIONO: ORDER NO DATE QF SUPPLY  ORDER DATE  PLACE QF SUPPLY: ISTATB: EST BENGAL CODB- 19 BILL TO PARTY SHIP TO PARTY L ENGINEERING UNIT L ENGINEERING UNIT MIDDLE JHORTHAT,JHOREHAT MIDDLE JHORTHAT,JHOREHAT SANKRAIL, HOWRAH 711302 SANKRAILHOWRAH 711302', 'GT NO 19AJRPP8815E1ZM STATE  WEST BENGAL', 'TOTAL 41220 00 FREIGHT & DELIVERY CHARGE TOTAL AMOUNT BEFORE TA 41220.00 ADD- CGST @ 9% 3709.80 AD - SGST 9% 3709.80 ADD:- IGST @ 18% TOTAL TAX AMOUNT 7419.60 ROUND OFF 0.40 TOTAL AMQUNT AFTER TAX 48640.00 E&OE MS DIMOND ENGINEERING WORKS']\n",
      "*************************************************************************************************************\n",
      "Purchase Tax Invoice July,2020_page-0005.jpg\n",
      "C:/Users/Mula Ram/NLP/in/invoice_data/Purchase Tax Invoice July,2020_page-0005.jpg\n"
     ]
    },
    {
     "name": "stderr",
     "output_type": "stream",
     "text": [
      "CUDA not available - defaulting to CPU. Note: This module is much faster with a GPU.\n"
     ]
    },
    {
     "name": "stdout",
     "output_type": "stream",
     "text": [
      "['4@,apv CGST 9/. 3600 Rupees in Words Seven thausend sGsT @ 9/, 3CoD1 Folkecked  to On 1 IGST Total GST 720 Round Off AN INTEREST @ 12% ER ANNUM WILL Be CHARGED IF THE PAYMENT NOT EFFECTED WTHIN 30 DAYS: Gross Value 47200 An intimation pertaining to stortage & defects will have Received by E&0 E to send within 30 days on receipt of materials and there after no approach of the sorts will be entertained Al matters are subject to Kolkata Jurisdiction. For ISEAT GAR']\n",
      "*************************************************************************************************************\n",
      "Purchase Tax Invoice July,2020_page-0006.jpg\n",
      "C:/Users/Mula Ram/NLP/in/invoice_data/Purchase Tax Invoice July,2020_page-0006.jpg\n"
     ]
    },
    {
     "name": "stderr",
     "output_type": "stream",
     "text": [
      "CUDA not available - defaulting to CPU. Note: This module is much faster with a GPU.\n"
     ]
    },
    {
     "name": "stdout",
     "output_type": "stream",
     "text": [
      "200\n",
      "['Address Middle_WerehakHewah~JL396 B \"s GSTIN No JAATRPRRLELZM Yours Order No Date']\n",
      "*************************************************************************************************************\n",
      "Purchase Tax Invoice July,2020_page-0007.jpg\n",
      "C:/Users/Mula Ram/NLP/in/invoice_data/Purchase Tax Invoice July,2020_page-0007.jpg\n"
     ]
    },
    {
     "name": "stderr",
     "output_type": "stream",
     "text": [
      "CUDA not available - defaulting to CPU. Note: This module is much faster with a GPU.\n"
     ]
    },
    {
     "name": "stdout",
     "output_type": "stream",
     "text": [
      "639\n",
      "['Address fddzJhoxcke€ Address HelRak_11L392 _ State WELBENGL Code _ [2 State Code GSTIN Teee S5E_ZOc GSTIN Purchase Order No Purchase Order Date SI DESCRIPTION OF GOODSI SERVICE HS Quantity Rate AMOUNT No Code Rs S__ Row 7222 222 -[cv|[9c 42294 O0 kSxm']\n",
      "*************************************************************************************************************\n",
      "Purchase Tax Invoice June,2020_page-0001.jpg\n",
      "C:/Users/Mula Ram/NLP/in/invoice_data/Purchase Tax Invoice June,2020_page-0001.jpg\n"
     ]
    },
    {
     "name": "stderr",
     "output_type": "stream",
     "text": [
      "CUDA not available - defaulting to CPU. Note: This module is much faster with a GPU.\n"
     ]
    },
    {
     "name": "stdout",
     "output_type": "stream",
     "text": [
      "640\n",
      "['Address midde_Jeechat_ Address HLLRAu 1W302 State WESI_BENGL Code L9 State Code GSTIN Ji@JRCEABI5E42m_ GSTIN Purchase Order No Purchase Order Date Si DESCRIPTION OF GOODSI SERVICE HS Quantity Rate AMOUNT No Code Rs. s.$ Ramd(304) +222 35.00 22 4+6 07 KIam']\n",
      "*************************************************************************************************************\n",
      "Purchase Tax Invoice June,2020_page-0002.jpg\n",
      "C:/Users/Mula Ram/NLP/in/invoice_data/Purchase Tax Invoice June,2020_page-0002.jpg\n"
     ]
    },
    {
     "name": "stderr",
     "output_type": "stream",
     "text": [
      "CUDA not available - defaulting to CPU. Note: This module is much faster with a GPU.\n"
     ]
    },
    {
     "name": "stdout",
     "output_type": "stream",
     "text": [
      "164\n",
      "['ADDRESS ~SANKRAIL CHAMPATALA, SANKRAIL, HOWRAH 711313 GT IN19AGCPN1293J125 INVOICE NO: [0108/20-21 PRODUCT NAME DATE OFISSUE: 08-06-2020 AGAINSTWIONO: ORDER NO : DATE QF SUPPLY   ORDER DATE: PLACE QF SUPPLY: [TATE WEST BENGAL CODB 19 BILL TO PARTY SHIP TO PARTY LENGINEERING UNIT L ENGINEERING UNIT MIDDLE JHORTHAT,JHOREHAT MIDDLE JHORTHAT,JHOREHAT SANKRAIL,HOWRAH 711302 SANKRAIL,HOWRAH 711302']\n",
      "['ADDRESS ~SANKRAIL CHAMPATALA, SANKRAIL, HOWRAH 711313 GT IN19AGCPN1293J125 INVOICE NO: [0108/20-21 PRODUCT NAME DATE OFISSUE: 08-06-2020 AGAINSTWIONO: ORDER NO : DATE QF SUPPLY   ORDER DATE: PLACE QF SUPPLY: [TATE WEST BENGAL CODB 19 BILL TO PARTY SHIP TO PARTY LENGINEERING UNIT L ENGINEERING UNIT MIDDLE JHORTHAT,JHOREHAT MIDDLE JHORTHAT,JHOREHAT SANKRAIL,HOWRAH 711302 SANKRAIL,HOWRAH 711302', '19AJRPP8815E1ZM WEST BENGAL CODE -']\n",
      "['ADDRESS ~SANKRAIL CHAMPATALA, SANKRAIL, HOWRAH 711313 GT IN19AGCPN1293J125 INVOICE NO: [0108/20-21 PRODUCT NAME DATE OFISSUE: 08-06-2020 AGAINSTWIONO: ORDER NO : DATE QF SUPPLY   ORDER DATE: PLACE QF SUPPLY: [TATE WEST BENGAL CODB 19 BILL TO PARTY SHIP TO PARTY LENGINEERING UNIT L ENGINEERING UNIT MIDDLE JHORTHAT,JHOREHAT MIDDLE JHORTHAT,JHOREHAT SANKRAIL,HOWRAH 711302 SANKRAIL,HOWRAH 711302', '19AJRPP8815E1ZM WEST BENGAL CODE -', 'TOTAL 22300.00 FREIGHT & DELIVERY CHARGE TOTAL AMOUNT BEFORE TA 22300.00 ADD:- CGST @ 9% 2007.00 AD - SGST 9% 2007.00 ADD:- IGST 18% TOTAL TA AMOUNT 4014.00 ROUND OFR  TOTAL AMQUNT AFTER TA 2631400 E& OE S B ENGINEERING COMPANY']\n",
      "*************************************************************************************************************\n",
      "Purchase Tax Invoice June,2020_page-0003.jpg\n",
      "C:/Users/Mula Ram/NLP/in/invoice_data/Purchase Tax Invoice June,2020_page-0003.jpg\n"
     ]
    },
    {
     "ename": "FileNotFoundError",
     "evalue": "No such file: 'C:\\Users\\Mula Ram\\NLP\\in\\invoice_data\\Purchase Tax Invoice June,2020_page-0003.jpg'",
     "output_type": "error",
     "traceback": [
      "\u001b[1;31m---------------------------------------------------------------------------\u001b[0m",
      "\u001b[1;31mFileNotFoundError\u001b[0m                         Traceback (most recent call last)",
      "Input \u001b[1;32mIn [51]\u001b[0m, in \u001b[0;36m<cell line: 7>\u001b[1;34m()\u001b[0m\n\u001b[0;32m      9\u001b[0m IMAGE_PATH \u001b[38;5;241m=\u001b[39m \u001b[38;5;124m'\u001b[39m\u001b[38;5;124mC:/Users/Mula Ram/NLP/in/invoice_data/\u001b[39m\u001b[38;5;124m'\u001b[39m \u001b[38;5;241m+\u001b[39m IMAGE_PATH\n\u001b[0;32m     10\u001b[0m \u001b[38;5;28mprint\u001b[39m(IMAGE_PATH)\n\u001b[1;32m---> 11\u001b[0m extracted \u001b[38;5;241m=\u001b[39m extract_address_complete(IMAGE_PATH)\n\u001b[0;32m     12\u001b[0m \u001b[38;5;28mprint\u001b[39m(\u001b[38;5;124m'\u001b[39m\u001b[38;5;124m*************************************************************************************************************\u001b[39m\u001b[38;5;124m'\u001b[39m)\n",
      "Input \u001b[1;32mIn [38]\u001b[0m, in \u001b[0;36mextract_address_complete\u001b[1;34m(result)\u001b[0m\n\u001b[0;32m      1\u001b[0m \u001b[38;5;28;01mdef\u001b[39;00m \u001b[38;5;21mextract_address_complete\u001b[39m(result):\n\u001b[0;32m      2\u001b[0m     reader \u001b[38;5;241m=\u001b[39m easyocr\u001b[38;5;241m.\u001b[39mReader([\u001b[38;5;124m'\u001b[39m\u001b[38;5;124men\u001b[39m\u001b[38;5;124m'\u001b[39m])\n\u001b[1;32m----> 3\u001b[0m     result \u001b[38;5;241m=\u001b[39m \u001b[43mreader\u001b[49m\u001b[38;5;241;43m.\u001b[39;49m\u001b[43mreadtext\u001b[49m\u001b[43m(\u001b[49m\u001b[43mIMAGE_PATH\u001b[49m\u001b[43m,\u001b[49m\u001b[43m \u001b[49m\u001b[43mdecoder\u001b[49m\u001b[38;5;241;43m=\u001b[39;49m\u001b[43m \u001b[49m\u001b[38;5;124;43m'\u001b[39;49m\u001b[38;5;124;43mwordbeamsearch\u001b[39;49m\u001b[38;5;124;43m'\u001b[39;49m\u001b[43m,\u001b[49m\u001b[43m \u001b[49m\u001b[43mparagraph\u001b[49m\u001b[38;5;241;43m=\u001b[39;49m\u001b[38;5;124;43m\"\u001b[39;49m\u001b[38;5;124;43mTrue\u001b[39;49m\u001b[38;5;124;43m\"\u001b[39;49m\u001b[43m)\u001b[49m\n\u001b[0;32m      5\u001b[0m     ADDRESS_REG \u001b[38;5;241m=\u001b[39m re\u001b[38;5;241m.\u001b[39mcompile(\u001b[38;5;124mr\u001b[39m\u001b[38;5;124m'\u001b[39m\u001b[38;5;124m[\u001b[39m\u001b[38;5;124m\\\u001b[39m\u001b[38;5;124ms](Andhra Pradesh)?(Arunachal Pradesh)?(Assam)?(Bihar)?(Chhattisgarh)?(Goa)?(Gujarat)?(Haryana)?(Himachal Pradesh)?(Jharkhand)?(Karnataka)?(Kerala)?(Madhya Pradesh)?(Maharashtra)?(Manipur)?(Meghalaya)?(Mizoram)?(Nagaland)?(Odisha)?(Punjab)?(Rajasthan)?(Sikkim)?(Tamil Nadu)?(Telangana)?(Tripura)?(Uttar Pradesh)?(Uttarakhand)?(West Bengal)?(Andaman and Nicobar Islands)?(Chandigarh)?(Dadra & Nagar Haveli and Daman & Diu)?(Delhi)?(Jammu and Kashmir)?(Lakshadweep)?(Puducherry)?(Ladakh)?[,-]?[\u001b[39m\u001b[38;5;124m\\\u001b[39m\u001b[38;5;124ms]\u001b[39m\u001b[38;5;124m'\u001b[39m, re\u001b[38;5;241m.\u001b[39mIGNORECASE)\n\u001b[0;32m      6\u001b[0m     list_address \u001b[38;5;241m=\u001b[39m []\n",
      "File \u001b[1;32m~\\NLP\\in\\lib\\site-packages\\easyocr\\easyocr.py:383\u001b[0m, in \u001b[0;36mReader.readtext\u001b[1;34m(self, image, decoder, beamWidth, batch_size, workers, allowlist, blocklist, detail, rotation_info, paragraph, min_size, contrast_ths, adjust_contrast, filter_ths, text_threshold, low_text, link_threshold, canvas_size, mag_ratio, slope_ths, ycenter_ths, height_ths, width_ths, y_ths, x_ths, add_margin, output_format)\u001b[0m\n\u001b[0;32m    371\u001b[0m \u001b[38;5;28;01mdef\u001b[39;00m \u001b[38;5;21mreadtext\u001b[39m(\u001b[38;5;28mself\u001b[39m, image, decoder \u001b[38;5;241m=\u001b[39m \u001b[38;5;124m'\u001b[39m\u001b[38;5;124mgreedy\u001b[39m\u001b[38;5;124m'\u001b[39m, beamWidth\u001b[38;5;241m=\u001b[39m \u001b[38;5;241m5\u001b[39m, batch_size \u001b[38;5;241m=\u001b[39m \u001b[38;5;241m1\u001b[39m,\\\n\u001b[0;32m    372\u001b[0m              workers \u001b[38;5;241m=\u001b[39m \u001b[38;5;241m0\u001b[39m, allowlist \u001b[38;5;241m=\u001b[39m \u001b[38;5;28;01mNone\u001b[39;00m, blocklist \u001b[38;5;241m=\u001b[39m \u001b[38;5;28;01mNone\u001b[39;00m, detail \u001b[38;5;241m=\u001b[39m \u001b[38;5;241m1\u001b[39m,\\\n\u001b[0;32m    373\u001b[0m              rotation_info \u001b[38;5;241m=\u001b[39m \u001b[38;5;28;01mNone\u001b[39;00m, paragraph \u001b[38;5;241m=\u001b[39m \u001b[38;5;28;01mFalse\u001b[39;00m, min_size \u001b[38;5;241m=\u001b[39m \u001b[38;5;241m20\u001b[39m,\\\n\u001b[1;32m   (...)\u001b[0m\n\u001b[0;32m    377\u001b[0m              slope_ths \u001b[38;5;241m=\u001b[39m \u001b[38;5;241m0.1\u001b[39m, ycenter_ths \u001b[38;5;241m=\u001b[39m \u001b[38;5;241m0.5\u001b[39m, height_ths \u001b[38;5;241m=\u001b[39m \u001b[38;5;241m0.5\u001b[39m,\\\n\u001b[0;32m    378\u001b[0m              width_ths \u001b[38;5;241m=\u001b[39m \u001b[38;5;241m0.5\u001b[39m, y_ths \u001b[38;5;241m=\u001b[39m \u001b[38;5;241m0.5\u001b[39m, x_ths \u001b[38;5;241m=\u001b[39m \u001b[38;5;241m1.0\u001b[39m, add_margin \u001b[38;5;241m=\u001b[39m \u001b[38;5;241m0.1\u001b[39m, output_format\u001b[38;5;241m=\u001b[39m\u001b[38;5;124m'\u001b[39m\u001b[38;5;124mstandard\u001b[39m\u001b[38;5;124m'\u001b[39m):\n\u001b[0;32m    379\u001b[0m     \u001b[38;5;124;03m'''\u001b[39;00m\n\u001b[0;32m    380\u001b[0m \u001b[38;5;124;03m    Parameters:\u001b[39;00m\n\u001b[0;32m    381\u001b[0m \u001b[38;5;124;03m    image: file path or numpy-array or a byte stream object\u001b[39;00m\n\u001b[0;32m    382\u001b[0m \u001b[38;5;124;03m    '''\u001b[39;00m\n\u001b[1;32m--> 383\u001b[0m     img, img_cv_grey \u001b[38;5;241m=\u001b[39m \u001b[43mreformat_input\u001b[49m\u001b[43m(\u001b[49m\u001b[43mimage\u001b[49m\u001b[43m)\u001b[49m\n\u001b[0;32m    385\u001b[0m     horizontal_list, free_list \u001b[38;5;241m=\u001b[39m \u001b[38;5;28mself\u001b[39m\u001b[38;5;241m.\u001b[39mdetect(img, min_size, text_threshold,\\\n\u001b[0;32m    386\u001b[0m                                              low_text, link_threshold,\\\n\u001b[0;32m    387\u001b[0m                                              canvas_size, mag_ratio,\\\n\u001b[0;32m    388\u001b[0m                                              slope_ths, ycenter_ths,\\\n\u001b[0;32m    389\u001b[0m                                              height_ths,width_ths,\\\n\u001b[0;32m    390\u001b[0m                                              add_margin, \u001b[38;5;28;01mFalse\u001b[39;00m)\n\u001b[0;32m    391\u001b[0m     \u001b[38;5;66;03m# get the 1st result from hor & free list as self.detect returns a list of depth 3\u001b[39;00m\n",
      "File \u001b[1;32m~\\NLP\\in\\lib\\site-packages\\easyocr\\utils.py:699\u001b[0m, in \u001b[0;36mreformat_input\u001b[1;34m(image)\u001b[0m\n\u001b[0;32m    697\u001b[0m         img_cv_grey \u001b[38;5;241m=\u001b[39m cv2\u001b[38;5;241m.\u001b[39mimread(image, cv2\u001b[38;5;241m.\u001b[39mIMREAD_GRAYSCALE)\n\u001b[0;32m    698\u001b[0m         image \u001b[38;5;241m=\u001b[39m os\u001b[38;5;241m.\u001b[39mpath\u001b[38;5;241m.\u001b[39mexpanduser(image)\n\u001b[1;32m--> 699\u001b[0m     img \u001b[38;5;241m=\u001b[39m \u001b[43mloadImage\u001b[49m\u001b[43m(\u001b[49m\u001b[43mimage\u001b[49m\u001b[43m)\u001b[49m  \u001b[38;5;66;03m# can accept URL\u001b[39;00m\n\u001b[0;32m    700\u001b[0m \u001b[38;5;28;01melif\u001b[39;00m \u001b[38;5;28mtype\u001b[39m(image) \u001b[38;5;241m==\u001b[39m \u001b[38;5;28mbytes\u001b[39m:\n\u001b[0;32m    701\u001b[0m     nparr \u001b[38;5;241m=\u001b[39m np\u001b[38;5;241m.\u001b[39mfrombuffer(image, np\u001b[38;5;241m.\u001b[39muint8)\n",
      "File \u001b[1;32m~\\NLP\\in\\lib\\site-packages\\easyocr\\imgproc.py:12\u001b[0m, in \u001b[0;36mloadImage\u001b[1;34m(img_file)\u001b[0m\n\u001b[0;32m     11\u001b[0m \u001b[38;5;28;01mdef\u001b[39;00m \u001b[38;5;21mloadImage\u001b[39m(img_file):\n\u001b[1;32m---> 12\u001b[0m     img \u001b[38;5;241m=\u001b[39m \u001b[43mio\u001b[49m\u001b[38;5;241;43m.\u001b[39;49m\u001b[43mimread\u001b[49m\u001b[43m(\u001b[49m\u001b[43mimg_file\u001b[49m\u001b[43m)\u001b[49m           \u001b[38;5;66;03m# RGB order\u001b[39;00m\n\u001b[0;32m     13\u001b[0m     \u001b[38;5;28;01mif\u001b[39;00m img\u001b[38;5;241m.\u001b[39mshape[\u001b[38;5;241m0\u001b[39m] \u001b[38;5;241m==\u001b[39m \u001b[38;5;241m2\u001b[39m: img \u001b[38;5;241m=\u001b[39m img[\u001b[38;5;241m0\u001b[39m]\n\u001b[0;32m     14\u001b[0m     \u001b[38;5;28;01mif\u001b[39;00m \u001b[38;5;28mlen\u001b[39m(img\u001b[38;5;241m.\u001b[39mshape) \u001b[38;5;241m==\u001b[39m \u001b[38;5;241m2\u001b[39m : img \u001b[38;5;241m=\u001b[39m cv2\u001b[38;5;241m.\u001b[39mcvtColor(img, cv2\u001b[38;5;241m.\u001b[39mCOLOR_GRAY2RGB)\n",
      "File \u001b[1;32m~\\NLP\\in\\lib\\site-packages\\skimage\\io\\_io.py:53\u001b[0m, in \u001b[0;36mimread\u001b[1;34m(fname, as_gray, plugin, **plugin_args)\u001b[0m\n\u001b[0;32m     50\u001b[0m         plugin \u001b[38;5;241m=\u001b[39m \u001b[38;5;124m'\u001b[39m\u001b[38;5;124mtifffile\u001b[39m\u001b[38;5;124m'\u001b[39m\n\u001b[0;32m     52\u001b[0m \u001b[38;5;28;01mwith\u001b[39;00m file_or_url_context(fname) \u001b[38;5;28;01mas\u001b[39;00m fname:\n\u001b[1;32m---> 53\u001b[0m     img \u001b[38;5;241m=\u001b[39m call_plugin(\u001b[38;5;124m'\u001b[39m\u001b[38;5;124mimread\u001b[39m\u001b[38;5;124m'\u001b[39m, fname, plugin\u001b[38;5;241m=\u001b[39mplugin, \u001b[38;5;241m*\u001b[39m\u001b[38;5;241m*\u001b[39mplugin_args)\n\u001b[0;32m     55\u001b[0m \u001b[38;5;28;01mif\u001b[39;00m \u001b[38;5;129;01mnot\u001b[39;00m \u001b[38;5;28mhasattr\u001b[39m(img, \u001b[38;5;124m'\u001b[39m\u001b[38;5;124mndim\u001b[39m\u001b[38;5;124m'\u001b[39m):\n\u001b[0;32m     56\u001b[0m     \u001b[38;5;28;01mreturn\u001b[39;00m img\n",
      "File \u001b[1;32m~\\NLP\\in\\lib\\site-packages\\skimage\\io\\manage_plugins.py:207\u001b[0m, in \u001b[0;36mcall_plugin\u001b[1;34m(kind, *args, **kwargs)\u001b[0m\n\u001b[0;32m    203\u001b[0m     \u001b[38;5;28;01mexcept\u001b[39;00m \u001b[38;5;167;01mIndexError\u001b[39;00m:\n\u001b[0;32m    204\u001b[0m         \u001b[38;5;28;01mraise\u001b[39;00m \u001b[38;5;167;01mRuntimeError\u001b[39;00m(\u001b[38;5;124m'\u001b[39m\u001b[38;5;124mCould not find the plugin \u001b[39m\u001b[38;5;124m\"\u001b[39m\u001b[38;5;132;01m%s\u001b[39;00m\u001b[38;5;124m\"\u001b[39m\u001b[38;5;124m for \u001b[39m\u001b[38;5;132;01m%s\u001b[39;00m\u001b[38;5;124m.\u001b[39m\u001b[38;5;124m'\u001b[39m \u001b[38;5;241m%\u001b[39m\n\u001b[0;32m    205\u001b[0m                            (plugin, kind))\n\u001b[1;32m--> 207\u001b[0m \u001b[38;5;28;01mreturn\u001b[39;00m func(\u001b[38;5;241m*\u001b[39margs, \u001b[38;5;241m*\u001b[39m\u001b[38;5;241m*\u001b[39mkwargs)\n",
      "File \u001b[1;32m~\\NLP\\in\\lib\\site-packages\\skimage\\io\\_plugins\\imageio_plugin.py:10\u001b[0m, in \u001b[0;36mimread\u001b[1;34m(*args, **kwargs)\u001b[0m\n\u001b[0;32m      8\u001b[0m \u001b[38;5;129m@wraps\u001b[39m(imageio_imread)\n\u001b[0;32m      9\u001b[0m \u001b[38;5;28;01mdef\u001b[39;00m \u001b[38;5;21mimread\u001b[39m(\u001b[38;5;241m*\u001b[39margs, \u001b[38;5;241m*\u001b[39m\u001b[38;5;241m*\u001b[39mkwargs):\n\u001b[1;32m---> 10\u001b[0m     \u001b[38;5;28;01mreturn\u001b[39;00m np\u001b[38;5;241m.\u001b[39masarray(imageio_imread(\u001b[38;5;241m*\u001b[39margs, \u001b[38;5;241m*\u001b[39m\u001b[38;5;241m*\u001b[39mkwargs))\n",
      "File \u001b[1;32m~\\NLP\\in\\lib\\site-packages\\imageio\\core\\functions.py:265\u001b[0m, in \u001b[0;36mimread\u001b[1;34m(uri, format, **kwargs)\u001b[0m\n\u001b[0;32m    260\u001b[0m     \u001b[38;5;28;01mraise\u001b[39;00m \u001b[38;5;167;01mTypeError\u001b[39;00m(\n\u001b[0;32m    261\u001b[0m         \u001b[38;5;124m'\u001b[39m\u001b[38;5;124mInvalid keyword argument \u001b[39m\u001b[38;5;124m\"\u001b[39m\u001b[38;5;124mmode\u001b[39m\u001b[38;5;124m\"\u001b[39m\u001b[38;5;124m, \u001b[39m\u001b[38;5;124m'\u001b[39m \u001b[38;5;124m'\u001b[39m\u001b[38;5;124mperhaps you mean \u001b[39m\u001b[38;5;124m\"\u001b[39m\u001b[38;5;124mpilmode\u001b[39m\u001b[38;5;124m\"\u001b[39m\u001b[38;5;124m?\u001b[39m\u001b[38;5;124m'\u001b[39m\n\u001b[0;32m    262\u001b[0m     )\n\u001b[0;32m    264\u001b[0m \u001b[38;5;66;03m# Get reader and read first\u001b[39;00m\n\u001b[1;32m--> 265\u001b[0m reader \u001b[38;5;241m=\u001b[39m read(uri, \u001b[38;5;28mformat\u001b[39m, \u001b[38;5;124m\"\u001b[39m\u001b[38;5;124mi\u001b[39m\u001b[38;5;124m\"\u001b[39m, \u001b[38;5;241m*\u001b[39m\u001b[38;5;241m*\u001b[39mkwargs)\n\u001b[0;32m    266\u001b[0m \u001b[38;5;28;01mwith\u001b[39;00m reader:\n\u001b[0;32m    267\u001b[0m     \u001b[38;5;28;01mreturn\u001b[39;00m reader\u001b[38;5;241m.\u001b[39mget_data(\u001b[38;5;241m0\u001b[39m)\n",
      "File \u001b[1;32m~\\NLP\\in\\lib\\site-packages\\imageio\\core\\functions.py:172\u001b[0m, in \u001b[0;36mget_reader\u001b[1;34m(uri, format, mode, **kwargs)\u001b[0m\n\u001b[0;32m    149\u001b[0m \u001b[38;5;124;03m\"\"\" get_reader(uri, format=None, mode='?', **kwargs)\u001b[39;00m\n\u001b[0;32m    150\u001b[0m \n\u001b[0;32m    151\u001b[0m \u001b[38;5;124;03mReturns a :class:`.Reader` object which can be used to read data\u001b[39;00m\n\u001b[1;32m   (...)\u001b[0m\n\u001b[0;32m    168\u001b[0m \u001b[38;5;124;03m    to see what arguments are available for a particular format.\u001b[39;00m\n\u001b[0;32m    169\u001b[0m \u001b[38;5;124;03m\"\"\"\u001b[39;00m\n\u001b[0;32m    171\u001b[0m \u001b[38;5;66;03m# Create request object\u001b[39;00m\n\u001b[1;32m--> 172\u001b[0m request \u001b[38;5;241m=\u001b[39m Request(uri, \u001b[38;5;124m\"\u001b[39m\u001b[38;5;124mr\u001b[39m\u001b[38;5;124m\"\u001b[39m \u001b[38;5;241m+\u001b[39m mode, \u001b[38;5;241m*\u001b[39m\u001b[38;5;241m*\u001b[39mkwargs)\n\u001b[0;32m    174\u001b[0m \u001b[38;5;66;03m# Get format\u001b[39;00m\n\u001b[0;32m    175\u001b[0m \u001b[38;5;28;01mif\u001b[39;00m \u001b[38;5;28mformat\u001b[39m \u001b[38;5;129;01mis\u001b[39;00m \u001b[38;5;129;01mnot\u001b[39;00m \u001b[38;5;28;01mNone\u001b[39;00m:\n",
      "File \u001b[1;32m~\\NLP\\in\\lib\\site-packages\\imageio\\core\\request.py:124\u001b[0m, in \u001b[0;36mRequest.__init__\u001b[1;34m(self, uri, mode, **kwargs)\u001b[0m\n\u001b[0;32m    121\u001b[0m     \u001b[38;5;28;01mraise\u001b[39;00m \u001b[38;5;167;01mValueError\u001b[39;00m(\u001b[38;5;124m'\u001b[39m\u001b[38;5;124mRequest requires mode[1] to be in \u001b[39m\u001b[38;5;124m\"\u001b[39m\u001b[38;5;124miIvV?\u001b[39m\u001b[38;5;124m\"\u001b[39m\u001b[38;5;124m'\u001b[39m)\n\u001b[0;32m    123\u001b[0m \u001b[38;5;66;03m# Parse what was given\u001b[39;00m\n\u001b[1;32m--> 124\u001b[0m \u001b[38;5;28;43mself\u001b[39;49m\u001b[38;5;241;43m.\u001b[39;49m\u001b[43m_parse_uri\u001b[49m\u001b[43m(\u001b[49m\u001b[43muri\u001b[49m\u001b[43m)\u001b[49m\n\u001b[0;32m    126\u001b[0m \u001b[38;5;66;03m# Set extension\u001b[39;00m\n\u001b[0;32m    127\u001b[0m \u001b[38;5;28;01mif\u001b[39;00m \u001b[38;5;28mself\u001b[39m\u001b[38;5;241m.\u001b[39m_filename \u001b[38;5;129;01mis\u001b[39;00m \u001b[38;5;129;01mnot\u001b[39;00m \u001b[38;5;28;01mNone\u001b[39;00m:\n",
      "File \u001b[1;32m~\\NLP\\in\\lib\\site-packages\\imageio\\core\\request.py:260\u001b[0m, in \u001b[0;36mRequest._parse_uri\u001b[1;34m(self, uri)\u001b[0m\n\u001b[0;32m    257\u001b[0m \u001b[38;5;28;01mif\u001b[39;00m is_read_request:\n\u001b[0;32m    258\u001b[0m     \u001b[38;5;66;03m# Reading: check that the file exists (but is allowed a dir)\u001b[39;00m\n\u001b[0;32m    259\u001b[0m     \u001b[38;5;28;01mif\u001b[39;00m \u001b[38;5;129;01mnot\u001b[39;00m os\u001b[38;5;241m.\u001b[39mpath\u001b[38;5;241m.\u001b[39mexists(fn):\n\u001b[1;32m--> 260\u001b[0m         \u001b[38;5;28;01mraise\u001b[39;00m \u001b[38;5;167;01mFileNotFoundError\u001b[39;00m(\u001b[38;5;124m\"\u001b[39m\u001b[38;5;124mNo such file: \u001b[39m\u001b[38;5;124m'\u001b[39m\u001b[38;5;132;01m%s\u001b[39;00m\u001b[38;5;124m'\u001b[39m\u001b[38;5;124m\"\u001b[39m \u001b[38;5;241m%\u001b[39m fn)\n\u001b[0;32m    261\u001b[0m \u001b[38;5;28;01melse\u001b[39;00m:\n\u001b[0;32m    262\u001b[0m     \u001b[38;5;66;03m# Writing: check that the directory to write to does exist\u001b[39;00m\n\u001b[0;32m    263\u001b[0m     dn \u001b[38;5;241m=\u001b[39m os\u001b[38;5;241m.\u001b[39mpath\u001b[38;5;241m.\u001b[39mdirname(fn)\n",
      "\u001b[1;31mFileNotFoundError\u001b[0m: No such file: 'C:\\Users\\Mula Ram\\NLP\\in\\invoice_data\\Purchase Tax Invoice June,2020_page-0003.jpg'"
     ]
    }
   ],
   "source": [
    "#source_dir = 'C:/Users/Mula Ram/NLP/in/fwdinvoicesample/invoices'\n",
    "source_dir = 'C:/Users/Mula Ram/NLP/in/invoice_data'\n",
    "\n",
    "listoffiles = os.listdir(source_dir)\n",
    "#listoffiles = listoffiles[:10]\n",
    "#for (root,dirs,IMAGE_PATH) in os.walk(source_dir):\n",
    "for IMAGE_PATH in listoffiles:\n",
    "    print(IMAGE_PATH)\n",
    "    IMAGE_PATH = 'C:/Users/Mula Ram/NLP/in/invoice_data/' + IMAGE_PATH\n",
    "    print(IMAGE_PATH)\n",
    "    extracted = extract_address_complete(IMAGE_PATH)\n",
    "    print('*************************************************************************************************************')"
   ]
  },
  {
   "cell_type": "code",
   "execution_count": 26,
   "metadata": {},
   "outputs": [
    {
     "data": {
      "text/plain": [
       "8"
      ]
     },
     "execution_count": 26,
     "metadata": {},
     "output_type": "execute_result"
    }
   ],
   "source": [
    "s.index('Address')"
   ]
  },
  {
   "cell_type": "code",
   "execution_count": null,
   "metadata": {},
   "outputs": [],
   "source": [
    "IMAGE_PATH1 = 'C:/Users/Mula Ram/Downloads/fwdinvoicesample/ensto bill-1 001.jpg'\n",
    "reader1 = easyocr.Reader(['en'])\n",
    "result1 = reader.readtext(IMAGE_PATH, decoder= 'wordbeamsearch', paragraph=\"True\")\n",
    "result1"
   ]
  },
  {
   "cell_type": "code",
   "execution_count": null,
   "metadata": {
    "id": "xY-j4QCq-AqV"
   },
   "outputs": [],
   "source": [
    "top_left = tuple(result[0][0][0])\n",
    "bottom_right = tuple(result[0][0][2])\n",
    "text = result[0][1]\n",
    "font = cv2.FONT_HERSHEY_SIMPLEX"
   ]
  },
  {
   "cell_type": "code",
   "execution_count": null,
   "metadata": {
    "id": "PGdtI4wX-AqW"
   },
   "outputs": [],
   "source": [
    "img = cv2.imread(IMAGE_PATH)\n",
    "img = cv2.rectangle(img,top_left,bottom_right,(0,255,0),3)\n",
    "img = cv2.putText(img,text,bottom_right, font, 0.5,(0,255,0),2,cv2.LINE_AA)\n",
    "plt.figure(figsize=(10,10))\n",
    "plt.imshow(img)\n",
    "plt.show()"
   ]
  },
  {
   "cell_type": "code",
   "execution_count": null,
   "metadata": {
    "colab": {
     "base_uri": "https://localhost:8080/"
    },
    "id": "FKWfglGG-AqW",
    "outputId": "77e71a42-c0d0-4de5-ef6d-5c03e11b4bd2"
   },
   "outputs": [],
   "source": [
    "# IMAGE_PATH = 'sign.png'\n",
    "reader = easyocr.Reader(['en'], gpu=False)\n",
    "result = reader.readtext(IMAGE_PATH)\n",
    "result"
   ]
  },
  {
   "cell_type": "code",
   "execution_count": null,
   "metadata": {
    "id": "rl4QKmTh-AqW"
   },
   "outputs": [],
   "source": [
    "top_left = tuple(result[0][0][0])\n",
    "bottom_right = tuple(result[0][0][2])\n",
    "text = result[0][1]\n",
    "font = cv2.FONT_HERSHEY_SIMPLEX"
   ]
  },
  {
   "cell_type": "code",
   "execution_count": null,
   "metadata": {
    "colab": {
     "base_uri": "https://localhost:8080/",
     "height": 500
    },
    "id": "1Aa6fAwy-AqX",
    "outputId": "a42a36ad-a9ff-4478-b4f9-97f8f30adf5b"
   },
   "outputs": [],
   "source": [
    "img = cv2.imread('/content/IJCIS-12-2-1575-g002.png')\n",
    "img = cv2.rectangle(img,top_left,bottom_right,(0,255,0),3)\n",
    "img = cv2.putText(img,text,top_left, font, 0.5,(0,0,255),2,cv2.LINE_AA)\n",
    "plt.figure(figsize=(10,10))\n",
    "plt.imshow(img)\n",
    "plt.show()"
   ]
  },
  {
   "cell_type": "code",
   "execution_count": null,
   "metadata": {
    "colab": {
     "base_uri": "https://localhost:8080/",
     "height": 500
    },
    "id": "sJkEilI7-AqX",
    "outputId": "04fadb1a-745f-46cd-f4ad-a7fef76a7488"
   },
   "outputs": [],
   "source": [
    "img = cv2.imread('C:/Users/Mula Ram/Downloads/fwdinvoicesample/ensto bill-1 001.jpg')\n",
    "img= cv2.resize(img, (1500, 1500))\n",
    "reader = easyocr.Reader(['en'])\n",
    "result = reader.readtext(img, decoder= 'wordbeamsearch', paragraph=\"True\")\n",
    "result\n",
    "spacer = 100\n",
    "for detection in result: \n",
    "    top_left = tuple(detection[0][0])\n",
    "    bottom_right = tuple(detection[0][2])\n",
    "    text = detection[1]\n",
    "    img = cv2.rectangle(img,top_left,bottom_right,(0,255,0),3)\n",
    "    img = cv2.putText(img,text,(20,spacer), font, 0.5,(0,255,0),2,cv2.LINE_AA)\n",
    "    spacer+=15\n",
    "\n",
    "plt.figure(figsize=(10,10))\n",
    "plt.imshow(img)\n",
    "plt.show()"
   ]
  },
  {
   "cell_type": "code",
   "execution_count": null,
   "metadata": {},
   "outputs": [],
   "source": [
    "img = cv2.imread('C:/Users/Mula Ram/Downloads/fwdinvoicesample/ensto bill-1 001.jpg')\n",
    "img= cv2.resize(img, (1500, 1500))\n",
    "for detection in result: \n",
    "    top_left = tuple(detection[0][0])\n",
    "    bottom_right = tuple(detection[0][2])\n",
    "    text = detection[1]\n",
    "    img = cv2.rectangle(img,top_left,bottom_right,(0,255,0),3)\n",
    "    #img = cv2.putText(img,text,(20,spacer), font, 0.5,(0,255,0),2,cv2.LINE_AA)\n",
    "    spacer+=15\n",
    "\n",
    "plt.figure(figsize=(10,10))\n",
    "plt.imshow(img)\n",
    "plt.show()"
   ]
  },
  {
   "cell_type": "code",
   "execution_count": null,
   "metadata": {},
   "outputs": [],
   "source": [
    "cv2.imwrite(\"download.jpg\",img)"
   ]
  },
  {
   "cell_type": "code",
   "execution_count": null,
   "metadata": {},
   "outputs": [],
   "source": [
    "img = cv2.imread('C:/Users/Mula Ram/Downloads/fwdinvoicesample/invoices/0001.jpg')\n",
    "img= cv2.resize(img, (1500, 1500))\n",
    "reader = easyocr.Reader(['en'])\n",
    "result = reader.readtext(img, decoder= 'wordbeamsearch', paragraph=\"True\")\n",
    "result\n",
    "spacer = 100\n",
    "for detection in result: \n",
    "    top_left = tuple(detection[0][0])\n",
    "    bottom_right = tuple(detection[0][2])\n",
    "    text = detection[1]\n",
    "    img = cv2.rectangle(img,top_left,bottom_right,(0,255,0),3)\n",
    "    #img = cv2.putText(img,text,(20,spacer), font, 0.5,(0,255,0),2,cv2.LINE_AA)\n",
    "    spacer+=15\n",
    "\n",
    "plt.figure(figsize=(10,10))\n",
    "plt.imshow(img)\n",
    "plt.show()"
   ]
  },
  {
   "cell_type": "code",
   "execution_count": null,
   "metadata": {},
   "outputs": [],
   "source": [
    "cv2.imwrite(\"download2.jpg\",img)"
   ]
  },
  {
   "cell_type": "code",
   "execution_count": null,
   "metadata": {},
   "outputs": [],
   "source": []
  }
 ],
 "metadata": {
  "colab": {
   "name": "EasyOCR.ipynb",
   "provenance": []
  },
  "kernelspec": {
   "display_name": "Python 3 (ipykernel)",
   "language": "python",
   "name": "python3"
  },
  "language_info": {
   "codemirror_mode": {
    "name": "ipython",
    "version": 3
   },
   "file_extension": ".py",
   "mimetype": "text/x-python",
   "name": "python",
   "nbconvert_exporter": "python",
   "pygments_lexer": "ipython3",
   "version": "3.9.10"
  },
  "varInspector": {
   "cols": {
    "lenName": 16,
    "lenType": 16,
    "lenVar": 40
   },
   "kernels_config": {
    "python": {
     "delete_cmd_postfix": "",
     "delete_cmd_prefix": "del ",
     "library": "var_list.py",
     "varRefreshCmd": "print(var_dic_list())"
    },
    "r": {
     "delete_cmd_postfix": ") ",
     "delete_cmd_prefix": "rm(",
     "library": "var_list.r",
     "varRefreshCmd": "cat(var_dic_list()) "
    }
   },
   "types_to_exclude": [
    "module",
    "function",
    "builtin_function_or_method",
    "instance",
    "_Feature"
   ],
   "window_display": false
  }
 },
 "nbformat": 4,
 "nbformat_minor": 1
}
